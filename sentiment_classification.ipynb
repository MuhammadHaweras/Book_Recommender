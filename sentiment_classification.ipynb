{
 "cells": [
  {
   "cell_type": "markdown",
   "metadata": {},
   "source": [
    "# Sentiment Classification\n",
    "<hr style=\"border:1px solid #ccc\">\n",
    "\n",
    "## 👨‍💻 Author: **Muhammad Haweras**\n",
    "\n",
    "[![LinkedIn](https://img.shields.io/badge/LinkedIn-blue?logo=linkedin&logoColor=white)](https://www.linkedin.com/in/muhammad-haweras-7aa6b11b2/)\n",
    "[![GitHub](https://img.shields.io/badge/GitHub-100000?logo=github&logoColor=white)](https://github.com/MuhammadHaweras)\n",
    "\n",
    "<hr style=\"border:1px solid #ccc\">"
   ]
  },
  {
   "cell_type": "code",
   "execution_count": 1,
   "metadata": {},
   "outputs": [],
   "source": [
    "import pandas as pd\n",
    "import numpy as np\n",
    "\n",
    "books = pd.read_csv('books_with_categories.csv')"
   ]
  },
  {
   "cell_type": "markdown",
   "metadata": {},
   "source": [
    "## 🧠 Emotion Classification Using Hugging Face Transformers\n",
    "\n",
    "We use a pre-trained model from Hugging Face to detect emotions in book descriptions, reviews, or user queries.\n",
    "\n",
    "### 📦 Model Used:\n",
    "- **Model Name:** `j-hartmann/emotion-english-distilroberta-base`\n",
    "- **Task:** Text Classification (Multiclass Emotion Detection)\n",
    "- **Library:** 🤗 `transformers`"
   ]
  },
  {
   "cell_type": "code",
   "execution_count": 2,
   "metadata": {},
   "outputs": [
    {
     "name": "stderr",
     "output_type": "stream",
     "text": [
      "c:\\ProgramData\\miniconda3\\envs\\gen_agentic_ai\\Lib\\site-packages\\tqdm\\auto.py:21: TqdmWarning: IProgress not found. Please update jupyter and ipywidgets. See https://ipywidgets.readthedocs.io/en/stable/user_install.html\n",
      "  from .autonotebook import tqdm as notebook_tqdm\n",
      "Device set to use cpu\n",
      "c:\\ProgramData\\miniconda3\\envs\\gen_agentic_ai\\Lib\\site-packages\\transformers\\pipelines\\text_classification.py:106: UserWarning: `return_all_scores` is now deprecated,  if want a similar functionality use `top_k=None` instead of `return_all_scores=True` or `top_k=1` instead of `return_all_scores=False`.\n",
      "  warnings.warn(\n"
     ]
    },
    {
     "data": {
      "text/plain": [
       "[[{'label': 'anger', 'score': 0.0026656261179596186},\n",
       "  {'label': 'disgust', 'score': 0.0023874042090028524},\n",
       "  {'label': 'fear', 'score': 0.001878292765468359},\n",
       "  {'label': 'joy', 'score': 0.9024726748466492},\n",
       "  {'label': 'neutral', 'score': 0.013338812626898289},\n",
       "  {'label': 'sadness', 'score': 0.002289959928020835},\n",
       "  {'label': 'surprise', 'score': 0.07496729493141174}]]"
      ]
     },
     "execution_count": 2,
     "metadata": {},
     "output_type": "execute_result"
    }
   ],
   "source": [
    "from transformers import pipeline\n",
    "classifier = pipeline(\"text-classification\", model=\"j-hartmann/emotion-english-distilroberta-base\", return_all_scores=True)\n",
    "\n",
    "classifier(\"I love this book! It's amazing and the characters are so well developed.\")\n"
   ]
  },
  {
   "cell_type": "code",
   "execution_count": 5,
   "metadata": {},
   "outputs": [
    {
     "data": {
      "text/plain": [
       "[[{'label': 'anger', 'score': 0.009156374260783195},\n",
       "  {'label': 'disgust', 'score': 0.002628477755934},\n",
       "  {'label': 'fear', 'score': 0.06816229224205017},\n",
       "  {'label': 'joy', 'score': 0.04794258251786232},\n",
       "  {'label': 'neutral', 'score': 0.14038607478141785},\n",
       "  {'label': 'sadness', 'score': 0.0021221644710749388},\n",
       "  {'label': 'surprise', 'score': 0.729602038860321}],\n",
       " [{'label': 'anger', 'score': 0.040478240698575974},\n",
       "  {'label': 'disgust', 'score': 0.27359139919281006},\n",
       "  {'label': 'fear', 'score': 0.0068790484219789505},\n",
       "  {'label': 'joy', 'score': 0.10908306390047073},\n",
       "  {'label': 'neutral', 'score': 0.44937077164649963},\n",
       "  {'label': 'sadness', 'score': 0.09362738579511642},\n",
       "  {'label': 'surprise', 'score': 0.02697017788887024}],\n",
       " [{'label': 'anger', 'score': 0.011031894013285637},\n",
       "  {'label': 'disgust', 'score': 0.04342266544699669},\n",
       "  {'label': 'fear', 'score': 0.014084087684750557},\n",
       "  {'label': 'joy', 'score': 0.014211485162377357},\n",
       "  {'label': 'neutral', 'score': 0.6462157964706421},\n",
       "  {'label': 'sadness', 'score': 0.24273352324962616},\n",
       "  {'label': 'surprise', 'score': 0.028300534933805466}],\n",
       " [{'label': 'anger', 'score': 0.03219093754887581},\n",
       "  {'label': 'disgust', 'score': 0.008431830443441868},\n",
       "  {'label': 'fear', 'score': 0.9281681180000305},\n",
       "  {'label': 'joy', 'score': 0.0010455821175128222},\n",
       "  {'label': 'neutral', 'score': 0.01280868798494339},\n",
       "  {'label': 'sadness', 'score': 0.008756876923143864},\n",
       "  {'label': 'surprise', 'score': 0.008597906678915024}],\n",
       " [{'label': 'anger', 'score': 0.0018428912153467536},\n",
       "  {'label': 'disgust', 'score': 0.006480599287897348},\n",
       "  {'label': 'fear', 'score': 0.005393992643803358},\n",
       "  {'label': 'joy', 'score': 0.0017338789766654372},\n",
       "  {'label': 'neutral', 'score': 0.015104157850146294},\n",
       "  {'label': 'sadness', 'score': 0.9671575427055359},\n",
       "  {'label': 'surprise', 'score': 0.0022869419772177935}],\n",
       " [{'label': 'anger', 'score': 0.005024963989853859},\n",
       "  {'label': 'disgust', 'score': 0.03771700710058212},\n",
       "  {'label': 'fear', 'score': 0.0005423057591542602},\n",
       "  {'label': 'joy', 'score': 0.9327982664108276},\n",
       "  {'label': 'neutral', 'score': 0.015891820192337036},\n",
       "  {'label': 'sadness', 'score': 0.006444503553211689},\n",
       "  {'label': 'surprise', 'score': 0.0015812061028555036}],\n",
       " [{'label': 'anger', 'score': 0.004821305628865957},\n",
       "  {'label': 'disgust', 'score': 0.006512218154966831},\n",
       "  {'label': 'fear', 'score': 0.0035290149971842766},\n",
       "  {'label': 'joy', 'score': 0.6528709530830383},\n",
       "  {'label': 'neutral', 'score': 0.25427451729774475},\n",
       "  {'label': 'sadness', 'score': 0.009908993728458881},\n",
       "  {'label': 'surprise', 'score': 0.06808296591043472}],\n",
       " [{'label': 'anger', 'score': 0.06413355469703674},\n",
       "  {'label': 'disgust', 'score': 0.10400658845901489},\n",
       "  {'label': 'fear', 'score': 0.05136274918913841},\n",
       "  {'label': 'joy', 'score': 0.040564365684986115},\n",
       "  {'label': 'neutral', 'score': 0.5494772791862488},\n",
       "  {'label': 'sadness', 'score': 0.11169009655714035},\n",
       "  {'label': 'surprise', 'score': 0.07876544445753098}]]"
      ]
     },
     "execution_count": 5,
     "metadata": {},
     "output_type": "execute_result"
    }
   ],
   "source": [
    "sentences = classifier(books[\"description\"][0].split(\".\"))\n",
    "sentences"
   ]
  },
  {
   "cell_type": "code",
   "execution_count": 6,
   "metadata": {},
   "outputs": [],
   "source": [
    "sentences = books['description'][0].split(\".\")\n",
    "predictions = classifier(sentences)"
   ]
  },
  {
   "cell_type": "code",
   "execution_count": 7,
   "metadata": {},
   "outputs": [
    {
     "data": {
      "text/plain": [
       "'A NOVEL THAT READERS and critics have been eagerly anticipating for over a decade, Gilead is an astonishingly imagined story of remarkable lives'"
      ]
     },
     "execution_count": 7,
     "metadata": {},
     "output_type": "execute_result"
    }
   ],
   "source": [
    "sentences[0]"
   ]
  },
  {
   "cell_type": "code",
   "execution_count": 8,
   "metadata": {},
   "outputs": [
    {
     "data": {
      "text/plain": [
       "[{'label': 'anger', 'score': 0.009156374260783195},\n",
       " {'label': 'disgust', 'score': 0.002628477755934},\n",
       " {'label': 'fear', 'score': 0.06816229224205017},\n",
       " {'label': 'joy', 'score': 0.04794258251786232},\n",
       " {'label': 'neutral', 'score': 0.14038607478141785},\n",
       " {'label': 'sadness', 'score': 0.0021221644710749388},\n",
       " {'label': 'surprise', 'score': 0.729602038860321}]"
      ]
     },
     "execution_count": 8,
     "metadata": {},
     "output_type": "execute_result"
    }
   ],
   "source": [
    "predictions[0]"
   ]
  },
  {
   "cell_type": "code",
   "execution_count": 9,
   "metadata": {},
   "outputs": [
    {
     "data": {
      "text/plain": [
       "' Told in John Ames’s joyous, rambling voice that finds beauty, humour and truth in the smallest of life’s details, Gilead is a song of celebration and acceptance of the best and the worst the world has to offer'"
      ]
     },
     "execution_count": 9,
     "metadata": {},
     "output_type": "execute_result"
    }
   ],
   "source": [
    "sentences[5]"
   ]
  },
  {
   "cell_type": "code",
   "execution_count": 10,
   "metadata": {},
   "outputs": [
    {
     "data": {
      "text/plain": [
       "[{'label': 'anger', 'score': 0.005024963989853859},\n",
       " {'label': 'disgust', 'score': 0.03771700710058212},\n",
       " {'label': 'fear', 'score': 0.0005423057591542602},\n",
       " {'label': 'joy', 'score': 0.9327982664108276},\n",
       " {'label': 'neutral', 'score': 0.015891820192337036},\n",
       " {'label': 'sadness', 'score': 0.006444503553211689},\n",
       " {'label': 'surprise', 'score': 0.0015812061028555036}]"
      ]
     },
     "execution_count": 10,
     "metadata": {},
     "output_type": "execute_result"
    }
   ],
   "source": [
    "predictions[5]"
   ]
  },
  {
   "cell_type": "code",
   "execution_count": 11,
   "metadata": {},
   "outputs": [
    {
     "data": {
      "text/plain": [
       "[{'label': 'surprise', 'score': 0.729602038860321},\n",
       " {'label': 'sadness', 'score': 0.0021221644710749388},\n",
       " {'label': 'neutral', 'score': 0.14038607478141785},\n",
       " {'label': 'joy', 'score': 0.04794258251786232},\n",
       " {'label': 'fear', 'score': 0.06816229224205017},\n",
       " {'label': 'disgust', 'score': 0.002628477755934},\n",
       " {'label': 'anger', 'score': 0.009156374260783195}]"
      ]
     },
     "execution_count": 11,
     "metadata": {},
     "output_type": "execute_result"
    }
   ],
   "source": [
    "sorted(predictions[0], key=lambda x: x['label'], reverse=True)"
   ]
  },
  {
   "cell_type": "markdown",
   "metadata": {},
   "source": [
    "## 🎭 Emotion Scoring for Book Descriptions\n",
    "\n",
    "To enhance our book recommender system with **emotional intelligence**, we analyze each book's description using a pre-trained Hugging Face emotion classifier.\n",
    "\n",
    "---\n",
    "\n",
    "### 🧠 Emotion Model\n",
    "\n",
    "Our model classifies text into the following **7 emotional categories**:\n",
    "\n",
    "- `anger`\n",
    "- `disgust`\n",
    "- `fear`\n",
    "- `joy`\n",
    "- `neutral`\n",
    "- `sadness`\n",
    "- `surprise`\n",
    "\n",
    "---\n",
    "\n",
    "### ⚙️ How It Works:\n",
    "\n",
    "1. **Split descriptions** by sentences using `\".\"`.\n",
    "2. **Predict emotion scores** for each sentence using the Hugging Face pipeline.\n",
    "3. **Aggregate scores** across sentences and select the **maximum score** for each emotion.\n",
    "4. **Store results** in a pandas DataFrame, with one row per book."
   ]
  },
  {
   "cell_type": "code",
   "execution_count": 12,
   "metadata": {},
   "outputs": [],
   "source": [
    "emotion_labels = [\"anger\", \"disgust\", \"fear\", \"joy\", \"neutral\", \"sadness\", \"surprise\"]\n",
    "isbns = []\n",
    "\n",
    "emotion_scores = {label: [] for label in emotion_labels}\n",
    "\n",
    "def calculate_max_emotion_scores(predictions):\n",
    "  per_emotion_scores = {label: [] for label in emotion_labels}\n",
    "  for prediction in predictions:\n",
    "      sorted_prediction = sorted(prediction, key=lambda x: x['label'], reverse=True)\n",
    "      for index,label in enumerate(emotion_labels):\n",
    "        per_emotion_scores[label].append(sorted_prediction[index]['score'])\n",
    "  \n",
    "  return {label: np.max(scores) for label, scores in per_emotion_scores.items()}"
   ]
  },
  {
   "cell_type": "code",
   "execution_count": 13,
   "metadata": {},
   "outputs": [],
   "source": [
    "for i in range(10):\n",
    "  isbn = books[\"isbn13\"][i]\n",
    "  isbns.append(isbn)\n",
    "  predictions = classifier(books[\"description\"][i].split(\".\"))\n",
    "  max_emotion_scores = calculate_max_emotion_scores(predictions)\n",
    "\t\n",
    "  for label in emotion_labels:\n",
    "\t  emotion_scores[label].append(max_emotion_scores[label])"
   ]
  },
  {
   "cell_type": "code",
   "execution_count": 14,
   "metadata": {},
   "outputs": [
    {
     "data": {
      "text/plain": [
       "{'anger': np.float64(0.07876544445753098),\n",
       " 'disgust': np.float64(0.11169009655714035),\n",
       " 'fear': np.float64(0.8603721857070923),\n",
       " 'joy': np.float64(0.040564365684986115),\n",
       " 'neutral': np.float64(0.05136274918913841),\n",
       " 'sadness': np.float64(0.17792704701423645),\n",
       " 'surprise': np.float64(0.06413355469703674)}"
      ]
     },
     "execution_count": 14,
     "metadata": {},
     "output_type": "execute_result"
    }
   ],
   "source": [
    "max_emotion_scores"
   ]
  },
  {
   "cell_type": "code",
   "execution_count": 15,
   "metadata": {},
   "outputs": [],
   "source": [
    "emotion_labels = [\"anger\", \"disgust\", \"fear\", \"joy\", \"neutral\", \"sadness\", \"surprise\"]\n",
    "isbns = []\n",
    "\n",
    "emotion_scores = {label: [] for label in emotion_labels}\n",
    "\n",
    "for i in range(len(books)):\n",
    "  isbn = books[\"isbn13\"][i]\n",
    "  isbns.append(isbn)\n",
    "  predictions = classifier(books[\"description\"][i].split(\".\"))\n",
    "  max_emotion_scores = calculate_max_emotion_scores(predictions)\n",
    "\t\n",
    "  for label in emotion_labels:\n",
    "\t  emotion_scores[label].append(max_emotion_scores[label])"
   ]
  },
  {
   "cell_type": "code",
   "execution_count": 16,
   "metadata": {},
   "outputs": [],
   "source": [
    "emotions_df = pd.DataFrame(emotion_scores)\n",
    "emotions_df[\"isbn13\"] = isbns"
   ]
  },
  {
   "cell_type": "code",
   "execution_count": 17,
   "metadata": {},
   "outputs": [
    {
     "data": {
      "application/vnd.microsoft.datawrangler.viewer.v0+json": {
       "columns": [
        {
         "name": "index",
         "rawType": "int64",
         "type": "integer"
        },
        {
         "name": "anger",
         "rawType": "float64",
         "type": "float"
        },
        {
         "name": "disgust",
         "rawType": "float64",
         "type": "float"
        },
        {
         "name": "fear",
         "rawType": "float64",
         "type": "float"
        },
        {
         "name": "joy",
         "rawType": "float64",
         "type": "float"
        },
        {
         "name": "neutral",
         "rawType": "float64",
         "type": "float"
        },
        {
         "name": "sadness",
         "rawType": "float64",
         "type": "float"
        },
        {
         "name": "surprise",
         "rawType": "float64",
         "type": "float"
        },
        {
         "name": "isbn13",
         "rawType": "int64",
         "type": "integer"
        }
       ],
       "ref": "c6c18274-7fea-4ea9-bef3-12d6dfd7f070",
       "rows": [
        [
         "0",
         "0.729602038860321",
         "0.9671575427055359",
         "0.6462157964706421",
         "0.9327982664108276",
         "0.9281681180000305",
         "0.27359139919281006",
         "0.06413355469703674",
         "9780002005883"
        ],
        [
         "1",
         "0.2525460422039032",
         "0.11169009655714035",
         "0.8879395127296448",
         "0.7044221758842468",
         "0.9425276517868042",
         "0.3482847809791565",
         "0.6126194000244141",
         "9780002261982"
        ],
        [
         "2",
         "0.07876544445753098",
         "0.11169009655714035",
         "0.5494772791862488",
         "0.7672382593154907",
         "0.9723208546638489",
         "0.10400658845901489",
         "0.06413355469703674",
         "9780006178736"
        ],
        [
         "3",
         "0.07876544445753098",
         "0.11169009655714035",
         "0.7326847910881042",
         "0.2518813908100128",
         "0.36070606112480164",
         "0.1507224589586258",
         "0.35148441791534424",
         "9780006280897"
        ],
        [
         "4",
         "0.07876544445753098",
         "0.47588005661964417",
         "0.8843898177146912",
         "0.040564365684986115",
         "0.09504339843988419",
         "0.18449527025222778",
         "0.08141238987445831",
         "9780006280934"
        ],
        [
         "5",
         "0.2719033658504486",
         "0.11169009655714035",
         "0.621392011642456",
         "0.043375786393880844",
         "0.05136274918913841",
         "0.7271749377250671",
         "0.23222465813159943",
         "9780006380832"
        ],
        [
         "6",
         "0.07876544445753098",
         "0.40800145268440247",
         "0.71219402551651",
         "0.8725655674934387",
         "0.7474274635314941",
         "0.155854731798172",
         "0.5381842255592346",
         "9780006470229"
        ],
        [
         "7",
         "0.23448672890663147",
         "0.8202825784683228",
         "0.5494772791862488",
         "0.040564365684986115",
         "0.40449756383895874",
         "0.10400658845901489",
         "0.06413355469703674",
         "9780006472612"
        ],
        [
         "8",
         "0.13561387360095978",
         "0.35446134209632874",
         "0.840289294719696",
         "0.040564365684986115",
         "0.9155240654945374",
         "0.279481440782547",
         "0.3006700873374939",
         "9780006482079"
        ],
        [
         "9",
         "0.07876544445753098",
         "0.11169009655714035",
         "0.8603721857070923",
         "0.040564365684986115",
         "0.05136274918913841",
         "0.17792704701423645",
         "0.06413355469703674",
         "9780006483014"
        ],
        [
         "10",
         "0.1644577980041504",
         "0.16030177474021912",
         "0.9092972278594971",
         "0.3680686056613922",
         "0.05136274918913841",
         "0.10400658845901489",
         "0.06413355469703674",
         "9780006483892"
        ],
        [
         "11",
         "0.07876544445753098",
         "0.3921929597854614",
         "0.5494772791862488",
         "0.040564365684986115",
         "0.9296880960464478",
         "0.28044357895851135",
         "0.6115754246711731",
         "9780006483908"
        ],
        [
         "12",
         "0.07876544445753098",
         "0.1225416287779808",
         "0.7147122025489807",
         "0.5042048692703247",
         "0.9810059070587158",
         "0.12920480966567993",
         "0.10621577501296997",
         "9780006486145"
        ],
        [
         "13",
         "0.24593259394168854",
         "0.8562016487121582",
         "0.568445086479187",
         "0.9055340886116028",
         "0.9486446976661682",
         "0.10400658845901489",
         "0.06413355469703674",
         "9780006490456"
        ],
        [
         "14",
         "0.8030908703804016",
         "0.8412134051322937",
         "0.5494772791862488",
         "0.5094079971313477",
         "0.9536263942718506",
         "0.11641597747802734",
         "0.07239261269569397",
         "9780006496434"
        ],
        [
         "15",
         "0.006833171471953392",
         "0.802915096282959",
         "0.05131058394908905",
         "0.003585195168852806",
         "0.8122829794883728",
         "0.025357723236083984",
         "0.09586355835199356",
         "9780006496878"
        ],
        [
         "16",
         "0.07876544445753098",
         "0.17530888319015503",
         "0.5494772791862488",
         "0.040564365684986115",
         "0.05136274918913841",
         "0.4797843396663666",
         "0.16215920448303223",
         "9780006496892"
        ],
        [
         "17",
         "0.07876544445753098",
         "0.11169009655714035",
         "0.5494772791862488",
         "0.7202290892601013",
         "0.05136274918913841",
         "0.10400658845901489",
         "0.06413355469703674",
         "9780006496922"
        ],
        [
         "18",
         "0.07876544445753098",
         "0.11169009655714035",
         "0.5681985020637512",
         "0.5504210591316223",
         "0.9767546057701111",
         "0.15716733038425446",
         "0.08193834871053696",
         "9780006498865"
        ],
        [
         "19",
         "0.07876544445753098",
         "0.42946523427963257",
         "0.6362951993942261",
         "0.9299788475036621",
         "0.8174952268600464",
         "0.1628391593694687",
         "0.22346067428588867",
         "9780006499169"
        ],
        [
         "20",
         "0.07876544445753098",
         "0.11169009655714035",
         "0.5494772791862488",
         "0.7975159287452698",
         "0.28617826104164124",
         "0.1776582896709442",
         "0.10715208202600479",
         "9780006499268"
        ],
        [
         "21",
         "0.07876544445753098",
         "0.11169009655714035",
         "0.9142771363258362",
         "0.302297443151474",
         "0.05136274918913841",
         "0.10400658845901489",
         "0.06413355469703674",
         "9780006499626"
        ],
        [
         "22",
         "0.12096074968576431",
         "0.11169009655714035",
         "0.5494772791862488",
         "0.040564365684986115",
         "0.44905394315719604",
         "0.10400658845901489",
         "0.06413355469703674",
         "9780006511489"
        ],
        [
         "23",
         "0.15049396455287933",
         "0.9307991862297058",
         "0.9616523385047913",
         "0.05518997088074684",
         "0.05136274918913841",
         "0.10849268734455109",
         "0.06413355469703674",
         "9780006512677"
        ],
        [
         "24",
         "0.07876544445753098",
         "0.13589173555374146",
         "0.6422688364982605",
         "0.040564365684986115",
         "0.46005839109420776",
         "0.36927008628845215",
         "0.3963673412799835",
         "9780006513087"
        ],
        [
         "25",
         "0.07876544445753098",
         "0.6343038082122803",
         "0.5494772791862488",
         "0.040564365684986115",
         "0.9283062815666199",
         "0.3996865153312683",
         "0.06472674012184143",
         "9780006514640"
        ],
        [
         "26",
         "0.07876544445753098",
         "0.11169009655714035",
         "0.8442509770393372",
         "0.056479163467884064",
         "0.05136274918913841",
         "0.10400658845901489",
         "0.06413355469703674",
         "9780006514855"
        ],
        [
         "27",
         "0.07876544445753098",
         "0.11169009655714035",
         "0.8765934109687805",
         "0.040564365684986115",
         "0.05136274918913841",
         "0.6641562581062317",
         "0.06413355469703674",
         "9780006545866"
        ],
        [
         "28",
         "0.07876544445753098",
         "0.11169009655714035",
         "0.8819836378097534",
         "0.040564365684986115",
         "0.05136274918913841",
         "0.10400658845901489",
         "0.06413355469703674",
         "9780006551393"
        ],
        [
         "29",
         "0.9140843749046326",
         "0.11444579064846039",
         "0.9274669289588928",
         "0.8569725751876831",
         "0.3450963795185089",
         "0.10400658845901489",
         "0.3029329776763916",
         "9780006551812"
        ],
        [
         "30",
         "0.2883046567440033",
         "0.8887989521026611",
         "0.7794243693351746",
         "0.9748926162719727",
         "0.05136274918913841",
         "0.10400658845901489",
         "0.06683336943387985",
         "9780006646006"
        ],
        [
         "31",
         "0.07876544445753098",
         "0.11169009655714035",
         "0.8397762179374695",
         "0.8682594299316406",
         "0.05136274918913841",
         "0.10400658845901489",
         "0.06413355469703674",
         "9780006754893"
        ],
        [
         "32",
         "0.07987632602453232",
         "0.11169009655714035",
         "0.890285849571228",
         "0.161948099732399",
         "0.07440406084060669",
         "0.1116592288017273",
         "0.06413355469703674",
         "9780007105045"
        ],
        [
         "33",
         "0.1569865494966507",
         "0.9618617296218872",
         "0.5494772791862488",
         "0.5923796892166138",
         "0.5913390517234802",
         "0.10400658845901489",
         "0.06413355469703674",
         "9780007111503"
        ],
        [
         "34",
         "0.19602583348751068",
         "0.5748463273048401",
         "0.5494772791862488",
         "0.05037759989500046",
         "0.9815183281898499",
         "0.21034248173236847",
         "0.16889671981334686",
         "9780007113804"
        ],
        [
         "35",
         "0.07876544445753098",
         "0.11169009655714035",
         "0.8274372816085815",
         "0.1480959802865982",
         "0.05136274918913841",
         "0.10400658845901489",
         "0.06413355469703674",
         "9780007116263"
        ],
        [
         "36",
         "0.7217777371406555",
         "0.3949844241142273",
         "0.5494772791862488",
         "0.8506215214729309",
         "0.2401478886604309",
         "0.10400658845901489",
         "0.06413355469703674",
         "9780007117536"
        ],
        [
         "37",
         "0.8589659333229065",
         "0.35776039958000183",
         "0.8067114949226379",
         "0.040564365684986115",
         "0.6172564029693604",
         "0.9439833760261536",
         "0.06413355469703674",
         "9780007119332"
        ],
        [
         "38",
         "0.07876544445753098",
         "0.3571644723415375",
         "0.5494772791862488",
         "0.040564365684986115",
         "0.16644327342510223",
         "0.8118630051612854",
         "0.07910331338644028",
         "9780007119356"
        ],
        [
         "39",
         "0.07876544445753098",
         "0.11169009655714035",
         "0.5494772791862488",
         "0.040564365684986115",
         "0.478281170129776",
         "0.11242026090621948",
         "0.11856545507907867",
         "9780007120680"
        ],
        [
         "40",
         "0.07876544445753098",
         "0.11169009655714035",
         "0.5494772791862488",
         "0.040564365684986115",
         "0.9716712832450867",
         "0.9243180751800537",
         "0.06413355469703674",
         "9780007120697"
        ],
        [
         "41",
         "0.7217147350311279",
         "0.48474571108818054",
         "0.5494772791862488",
         "0.040564365684986115",
         "0.2281619906425476",
         "0.7633082270622253",
         "0.5636677145957947",
         "9780007120819"
        ],
        [
         "42",
         "0.17490288615226746",
         "0.11214655637741089",
         "0.666576623916626",
         "0.5314645171165466",
         "0.6189485788345337",
         "0.10400658845901489",
         "0.9171826839447021",
         "9780007120864"
        ],
        [
         "43",
         "0.8089162707328796",
         "0.7694327235221863",
         "0.5494772791862488",
         "0.040564365684986115",
         "0.9811945557594299",
         "0.10400658845901489",
         "0.06835687160491943",
         "9780007120871"
        ],
        [
         "44",
         "0.9811505675315857",
         "0.4966561496257782",
         "0.5494772791862488",
         "0.15622080862522125",
         "0.6984622478485107",
         "0.10400658845901489",
         "0.22059981524944305",
         "9780007120963"
        ],
        [
         "45",
         "0.07876544445753098",
         "0.7698876261711121",
         "0.8118928670883179",
         "0.13721953332424164",
         "0.9769625663757324",
         "0.10400658845901489",
         "0.06413355469703674",
         "9780007120987"
        ],
        [
         "46",
         "0.07876544445753098",
         "0.4357062578201294",
         "0.5494772791862488",
         "0.040564365684986115",
         "0.9729418158531189",
         "0.9395877122879028",
         "0.6101735234260559",
         "9780007121007"
        ],
        [
         "47",
         "0.10517027229070663",
         "0.9378604888916016",
         "0.18382570147514343",
         "0.04078751802444458",
         "0.5727619528770447",
         "0.025494715198874474",
         "0.07324790954589844",
         "9780007121014"
        ],
        [
         "48",
         "0.22485843300819397",
         "0.48677757382392883",
         "0.5956207513809204",
         "0.37548142671585083",
         "0.7716313600540161",
         "0.21827532351016998",
         "0.2480485588312149",
         "9780007121021"
        ],
        [
         "49",
         "0.7972229719161987",
         "0.11169009655714035",
         "0.7894565463066101",
         "0.040564365684986115",
         "0.5289809703826904",
         "0.4465881884098053",
         "0.23507268726825714",
         "9780007121106"
        ]
       ],
       "shape": {
        "columns": 8,
        "rows": 5693
       }
      },
      "text/html": [
       "<div>\n",
       "<style scoped>\n",
       "    .dataframe tbody tr th:only-of-type {\n",
       "        vertical-align: middle;\n",
       "    }\n",
       "\n",
       "    .dataframe tbody tr th {\n",
       "        vertical-align: top;\n",
       "    }\n",
       "\n",
       "    .dataframe thead th {\n",
       "        text-align: right;\n",
       "    }\n",
       "</style>\n",
       "<table border=\"1\" class=\"dataframe\">\n",
       "  <thead>\n",
       "    <tr style=\"text-align: right;\">\n",
       "      <th></th>\n",
       "      <th>anger</th>\n",
       "      <th>disgust</th>\n",
       "      <th>fear</th>\n",
       "      <th>joy</th>\n",
       "      <th>neutral</th>\n",
       "      <th>sadness</th>\n",
       "      <th>surprise</th>\n",
       "      <th>isbn13</th>\n",
       "    </tr>\n",
       "  </thead>\n",
       "  <tbody>\n",
       "    <tr>\n",
       "      <th>0</th>\n",
       "      <td>0.729602</td>\n",
       "      <td>0.967158</td>\n",
       "      <td>0.646216</td>\n",
       "      <td>0.932798</td>\n",
       "      <td>0.928168</td>\n",
       "      <td>0.273591</td>\n",
       "      <td>0.064134</td>\n",
       "      <td>9780002005883</td>\n",
       "    </tr>\n",
       "    <tr>\n",
       "      <th>1</th>\n",
       "      <td>0.252546</td>\n",
       "      <td>0.111690</td>\n",
       "      <td>0.887940</td>\n",
       "      <td>0.704422</td>\n",
       "      <td>0.942528</td>\n",
       "      <td>0.348285</td>\n",
       "      <td>0.612619</td>\n",
       "      <td>9780002261982</td>\n",
       "    </tr>\n",
       "    <tr>\n",
       "      <th>2</th>\n",
       "      <td>0.078765</td>\n",
       "      <td>0.111690</td>\n",
       "      <td>0.549477</td>\n",
       "      <td>0.767238</td>\n",
       "      <td>0.972321</td>\n",
       "      <td>0.104007</td>\n",
       "      <td>0.064134</td>\n",
       "      <td>9780006178736</td>\n",
       "    </tr>\n",
       "    <tr>\n",
       "      <th>3</th>\n",
       "      <td>0.078765</td>\n",
       "      <td>0.111690</td>\n",
       "      <td>0.732685</td>\n",
       "      <td>0.251881</td>\n",
       "      <td>0.360706</td>\n",
       "      <td>0.150722</td>\n",
       "      <td>0.351484</td>\n",
       "      <td>9780006280897</td>\n",
       "    </tr>\n",
       "    <tr>\n",
       "      <th>4</th>\n",
       "      <td>0.078765</td>\n",
       "      <td>0.475880</td>\n",
       "      <td>0.884390</td>\n",
       "      <td>0.040564</td>\n",
       "      <td>0.095043</td>\n",
       "      <td>0.184495</td>\n",
       "      <td>0.081412</td>\n",
       "      <td>9780006280934</td>\n",
       "    </tr>\n",
       "    <tr>\n",
       "      <th>...</th>\n",
       "      <td>...</td>\n",
       "      <td>...</td>\n",
       "      <td>...</td>\n",
       "      <td>...</td>\n",
       "      <td>...</td>\n",
       "      <td>...</td>\n",
       "      <td>...</td>\n",
       "      <td>...</td>\n",
       "    </tr>\n",
       "    <tr>\n",
       "      <th>5688</th>\n",
       "      <td>0.227765</td>\n",
       "      <td>0.111690</td>\n",
       "      <td>0.883198</td>\n",
       "      <td>0.400263</td>\n",
       "      <td>0.051363</td>\n",
       "      <td>0.114383</td>\n",
       "      <td>0.064134</td>\n",
       "      <td>9788173031014</td>\n",
       "    </tr>\n",
       "    <tr>\n",
       "      <th>5689</th>\n",
       "      <td>0.057625</td>\n",
       "      <td>0.066685</td>\n",
       "      <td>0.375754</td>\n",
       "      <td>0.947779</td>\n",
       "      <td>0.339218</td>\n",
       "      <td>0.009929</td>\n",
       "      <td>0.009997</td>\n",
       "      <td>9788179921623</td>\n",
       "    </tr>\n",
       "    <tr>\n",
       "      <th>5690</th>\n",
       "      <td>0.078765</td>\n",
       "      <td>0.368111</td>\n",
       "      <td>0.951104</td>\n",
       "      <td>0.759456</td>\n",
       "      <td>0.459268</td>\n",
       "      <td>0.104007</td>\n",
       "      <td>0.064134</td>\n",
       "      <td>9788185300535</td>\n",
       "    </tr>\n",
       "    <tr>\n",
       "      <th>5691</th>\n",
       "      <td>0.078765</td>\n",
       "      <td>0.111690</td>\n",
       "      <td>0.915193</td>\n",
       "      <td>0.958549</td>\n",
       "      <td>0.051363</td>\n",
       "      <td>0.104007</td>\n",
       "      <td>0.064134</td>\n",
       "      <td>9789027712059</td>\n",
       "    </tr>\n",
       "    <tr>\n",
       "      <th>5692</th>\n",
       "      <td>0.078765</td>\n",
       "      <td>0.111690</td>\n",
       "      <td>0.549477</td>\n",
       "      <td>0.991484</td>\n",
       "      <td>0.051363</td>\n",
       "      <td>0.104007</td>\n",
       "      <td>0.064134</td>\n",
       "      <td>9789042003408</td>\n",
       "    </tr>\n",
       "  </tbody>\n",
       "</table>\n",
       "<p>5693 rows × 8 columns</p>\n",
       "</div>"
      ],
      "text/plain": [
       "         anger   disgust      fear       joy   neutral   sadness  surprise  \\\n",
       "0     0.729602  0.967158  0.646216  0.932798  0.928168  0.273591  0.064134   \n",
       "1     0.252546  0.111690  0.887940  0.704422  0.942528  0.348285  0.612619   \n",
       "2     0.078765  0.111690  0.549477  0.767238  0.972321  0.104007  0.064134   \n",
       "3     0.078765  0.111690  0.732685  0.251881  0.360706  0.150722  0.351484   \n",
       "4     0.078765  0.475880  0.884390  0.040564  0.095043  0.184495  0.081412   \n",
       "...        ...       ...       ...       ...       ...       ...       ...   \n",
       "5688  0.227765  0.111690  0.883198  0.400263  0.051363  0.114383  0.064134   \n",
       "5689  0.057625  0.066685  0.375754  0.947779  0.339218  0.009929  0.009997   \n",
       "5690  0.078765  0.368111  0.951104  0.759456  0.459268  0.104007  0.064134   \n",
       "5691  0.078765  0.111690  0.915193  0.958549  0.051363  0.104007  0.064134   \n",
       "5692  0.078765  0.111690  0.549477  0.991484  0.051363  0.104007  0.064134   \n",
       "\n",
       "             isbn13  \n",
       "0     9780002005883  \n",
       "1     9780002261982  \n",
       "2     9780006178736  \n",
       "3     9780006280897  \n",
       "4     9780006280934  \n",
       "...             ...  \n",
       "5688  9788173031014  \n",
       "5689  9788179921623  \n",
       "5690  9788185300535  \n",
       "5691  9789027712059  \n",
       "5692  9789042003408  \n",
       "\n",
       "[5693 rows x 8 columns]"
      ]
     },
     "execution_count": 17,
     "metadata": {},
     "output_type": "execute_result"
    }
   ],
   "source": [
    "emotions_df"
   ]
  },
  {
   "cell_type": "markdown",
   "metadata": {},
   "source": [
    "## 🔗 Merging Emotion Scores with Book Metadata\n",
    "\n",
    "After computing the emotion scores for each book, we merge them with the original `books` dataset using the common key `isbn13`.\n",
    "\n",
    "---\n",
    "\n"
   ]
  },
  {
   "cell_type": "code",
   "execution_count": 18,
   "metadata": {},
   "outputs": [],
   "source": [
    "books = pd.merge(books, emotions_df, on=\"isbn13\")"
   ]
  },
  {
   "cell_type": "code",
   "execution_count": 19,
   "metadata": {},
   "outputs": [],
   "source": [
    "books.to_csv('books_with_emotions.csv', index=False)"
   ]
  }
 ],
 "metadata": {
  "kernelspec": {
   "display_name": "gen_agentic_ai",
   "language": "python",
   "name": "python3"
  },
  "language_info": {
   "codemirror_mode": {
    "name": "ipython",
    "version": 3
   },
   "file_extension": ".py",
   "mimetype": "text/x-python",
   "name": "python",
   "nbconvert_exporter": "python",
   "pygments_lexer": "ipython3",
   "version": "3.13.5"
  }
 },
 "nbformat": 4,
 "nbformat_minor": 2
}
