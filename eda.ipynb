{
 "cells": [
  {
   "cell_type": "markdown",
   "metadata": {},
   "source": [
    "# 📚 LLM Book Recommender System\n",
    "<hr style=\"border:1px solid #ccc\">\n",
    "\n",
    "## 👨‍💻 Author: **Muhammad Haweras**\n",
    "\n",
    "[![LinkedIn](https://img.shields.io/badge/LinkedIn-blue?logo=linkedin&logoColor=white)](https://www.linkedin.com/in/muhammad-haweras-7aa6b11b2/)\n",
    "[![GitHub](https://img.shields.io/badge/GitHub-100000?logo=github&logoColor=white)](https://github.com/MuhammadHaweras)\n",
    "\n",
    "<hr style=\"border:1px solid #ccc\">\n",
    "\n",
    "### 📊 About the Dataset\n",
    "\n",
    "🔗 **Dataset Link:** [7K Books with Metadata](https://www.kaggle.com/datasets/dylanjcastillo/7k-books-with-metadata)\n",
    "\n",
    "---\n",
    "\n",
    "### 📘 **Columns:**\n",
    "\n",
    "| Column Name       | Description                                         |\n",
    "|-------------------|-----------------------------------------------------|\n",
    "| `isbn13`          | 📖 ISBN-13 Identifier                               |\n",
    "| `isbn10`          | 🔢 ISBN-10 Identifier                               |\n",
    "| `title`           | 📕 Title of the book                                |\n",
    "| `subtitle`        | 📓 Subtitle of the book (if any)                    |\n",
    "| `authors`         | ✍️ Authors of the book (separated by `;`)           |\n",
    "| `categories`      | 🗂️ Book genres/categories (separated by `;`)         |\n",
    "| `thumbnail`       | 🖼️ URL to book cover image                          |\n",
    "| `description`     | 🧾 Summary or description of the book               |\n",
    "| `published_year`  | 📅 Year the book was published                      |\n",
    "| `average_rating`  | ⭐ Average rating from Goodreads                     |\n",
    "| `num_pages`       | 📄 Total number of pages                            |\n",
    "| `ratings_count`   | 📈 Total number of ratings received on Goodreads    |\n",
    "\n",
    "---\n",
    "\n",
    "### 🙏 Acknowledgements\n",
    "\n",
    "> This dataset is built upon the **Goodreads-books** dataset originally compiled by **Soumik** and further enhanced by **Dylan Castillo**.\n",
    "\n",
    "---\n",
    "\n",
    "<style>\n",
    "table {\n",
    "    border-collapse: collapse;\n",
    "}\n",
    "th, td {\n",
    "    padding: 8px 12px;\n",
    "}\n",
    "</style>\n"
   ]
  },
  {
   "cell_type": "markdown",
   "metadata": {},
   "source": [
    "## Importing Libraries\n"
   ]
  },
  {
   "cell_type": "code",
   "execution_count": 35,
   "metadata": {},
   "outputs": [],
   "source": [
    "import numpy as np\n",
    "import pandas as pd\n",
    "import matplotlib.pyplot as plt\n",
    "import seaborn as sns"
   ]
  },
  {
   "cell_type": "markdown",
   "metadata": {},
   "source": [
    "### Loading the Dataset"
   ]
  },
  {
   "cell_type": "code",
   "execution_count": 36,
   "metadata": {},
   "outputs": [
    {
     "data": {
      "application/vnd.microsoft.datawrangler.viewer.v0+json": {
       "columns": [
        {
         "name": "index",
         "rawType": "int64",
         "type": "integer"
        },
        {
         "name": "isbn13",
         "rawType": "int64",
         "type": "integer"
        },
        {
         "name": "isbn10",
         "rawType": "object",
         "type": "string"
        },
        {
         "name": "title",
         "rawType": "object",
         "type": "string"
        },
        {
         "name": "subtitle",
         "rawType": "object",
         "type": "unknown"
        },
        {
         "name": "authors",
         "rawType": "object",
         "type": "string"
        },
        {
         "name": "categories",
         "rawType": "object",
         "type": "string"
        },
        {
         "name": "thumbnail",
         "rawType": "object",
         "type": "string"
        },
        {
         "name": "description",
         "rawType": "object",
         "type": "string"
        },
        {
         "name": "published_year",
         "rawType": "float64",
         "type": "float"
        },
        {
         "name": "average_rating",
         "rawType": "float64",
         "type": "float"
        },
        {
         "name": "num_pages",
         "rawType": "float64",
         "type": "float"
        },
        {
         "name": "ratings_count",
         "rawType": "float64",
         "type": "float"
        }
       ],
       "ref": "56beebfa-bbd9-4bd7-8302-e8ca311b1089",
       "rows": [
        [
         "0",
         "9780002005883",
         "0002005883",
         "Gilead",
         null,
         "Marilynne Robinson",
         "Fiction",
         "http://books.google.com/books/content?id=KQZCPgAACAAJ&printsec=frontcover&img=1&zoom=1&source=gbs_api",
         "A NOVEL THAT READERS and critics have been eagerly anticipating for over a decade, Gilead is an astonishingly imagined story of remarkable lives. John Ames is a preacher, the son of a preacher and the grandson (both maternal and paternal) of preachers. It’s 1956 in Gilead, Iowa, towards the end of the Reverend Ames’s life, and he is absorbed in recording his family’s story, a legacy for the young son he will never see grow up. Haunted by his grandfather’s presence, John tells of the rift between his grandfather and his father: the elder, an angry visionary who fought for the abolitionist cause, and his son, an ardent pacifist. He is troubled, too, by his prodigal namesake, Jack (John Ames) Boughton, his best friend’s lost son who returns to Gilead searching for forgiveness and redemption. Told in John Ames’s joyous, rambling voice that finds beauty, humour and truth in the smallest of life’s details, Gilead is a song of celebration and acceptance of the best and the worst the world has to offer. At its heart is a tale of the sacred bonds between fathers and sons, pitch-perfect in style and story, set to dazzle critics and readers alike.",
         "2004.0",
         "3.85",
         "247.0",
         "361.0"
        ],
        [
         "1",
         "9780002261982",
         "0002261987",
         "Spider's Web",
         "A Novel",
         "Charles Osborne;Agatha Christie",
         "Detective and mystery stories",
         "http://books.google.com/books/content?id=gA5GPgAACAAJ&printsec=frontcover&img=1&zoom=1&source=gbs_api",
         "A new 'Christie for Christmas' -- a full-length novel adapted from her acclaimed play by Charles Osborne Following BLACK COFFEE and THE UNEXPECTED GUEST comes the final Agatha Christie play novelisation, bringing her superb storytelling to a new legion of fans. Clarissa, the wife of a Foreign Office diplomat, is given to daydreaming. 'Supposing I were to come down one morning and find a dead body in the library, what should I do?' she muses. Clarissa has her chance to find out when she discovers a body in the drawing-room of her house in Kent. Desperate to dispose of the body before her husband comes home with an important foreign politician, Clarissa persuades her three house guests to become accessories and accomplices. It seems that the murdered man was not unknown to certain members of the house party (but which ones?), and the search begins for the murderer and the motive, while at the same time trying to persuade a police inspector that there has been no murder at all... SPIDER'S WEB was written in 1954 specifically for Margaret Lockwood and opened first at the Theatre Royal Nottingham before moving to the Savoy Theatre in London on 14 December 1954. With THE MOUSETRAP and WI",
         "2000.0",
         "3.83",
         "241.0",
         "5164.0"
        ],
        [
         "2",
         "9780006163831",
         "0006163831",
         "The One Tree",
         null,
         "Stephen R. Donaldson",
         "American fiction",
         "http://books.google.com/books/content?id=OmQawwEACAAJ&printsec=frontcover&img=1&zoom=1&source=gbs_api",
         "Volume Two of Stephen Donaldson's acclaimed second trilogy featuing the compelling anti-hero Thomas Covenant.",
         "1982.0",
         "3.97",
         "479.0",
         "172.0"
        ],
        [
         "3",
         "9780006178736",
         "0006178731",
         "Rage of angels",
         null,
         "Sidney Sheldon",
         "Fiction",
         "http://books.google.com/books/content?id=FKo2TgANz74C&printsec=frontcover&img=1&zoom=1&source=gbs_api",
         "A memorable, mesmerizing heroine Jennifer -- brilliant, beautiful, an attorney on the way up until the Mafia's schemes win her the hatred of an implacable enemy -- and a love more destructive than hate. A dangerous, dramatic world The Dark Arena of organized crime and flashbulb lit courtrooms where ambitious prosecutors begin their climb to political power.",
         "1993.0",
         "3.93",
         "512.0",
         "29532.0"
        ],
        [
         "4",
         "9780006280897",
         "0006280897",
         "The Four Loves",
         null,
         "Clive Staples Lewis",
         "Christian life",
         "http://books.google.com/books/content?id=XhQ5XsFcpGIC&printsec=frontcover&img=1&zoom=1&source=gbs_api",
         "Lewis' work on the nature of love divides love into four categories; Affection, Friendship, Eros and Charity. The first three come naturally to humanity. Charity, however, the Gift-love of God, is divine, and without this supernatural love, the natural loves become distorted and even dangerous.",
         "2002.0",
         "4.15",
         "170.0",
         "33684.0"
        ]
       ],
       "shape": {
        "columns": 12,
        "rows": 5
       }
      },
      "text/html": [
       "<div>\n",
       "<style scoped>\n",
       "    .dataframe tbody tr th:only-of-type {\n",
       "        vertical-align: middle;\n",
       "    }\n",
       "\n",
       "    .dataframe tbody tr th {\n",
       "        vertical-align: top;\n",
       "    }\n",
       "\n",
       "    .dataframe thead th {\n",
       "        text-align: right;\n",
       "    }\n",
       "</style>\n",
       "<table border=\"1\" class=\"dataframe\">\n",
       "  <thead>\n",
       "    <tr style=\"text-align: right;\">\n",
       "      <th></th>\n",
       "      <th>isbn13</th>\n",
       "      <th>isbn10</th>\n",
       "      <th>title</th>\n",
       "      <th>subtitle</th>\n",
       "      <th>authors</th>\n",
       "      <th>categories</th>\n",
       "      <th>thumbnail</th>\n",
       "      <th>description</th>\n",
       "      <th>published_year</th>\n",
       "      <th>average_rating</th>\n",
       "      <th>num_pages</th>\n",
       "      <th>ratings_count</th>\n",
       "    </tr>\n",
       "  </thead>\n",
       "  <tbody>\n",
       "    <tr>\n",
       "      <th>0</th>\n",
       "      <td>9780002005883</td>\n",
       "      <td>0002005883</td>\n",
       "      <td>Gilead</td>\n",
       "      <td>NaN</td>\n",
       "      <td>Marilynne Robinson</td>\n",
       "      <td>Fiction</td>\n",
       "      <td>http://books.google.com/books/content?id=KQZCPgAACAAJ&amp;printsec=frontcover&amp;img=1&amp;zoom=1&amp;source=gbs_api</td>\n",
       "      <td>A NOVEL THAT READERS and critics have been eagerly anticipating for over a decade, Gilead is an astonishingly imagined story of remarkable lives. John Ames is a preacher, the son of a preacher and the grandson (both maternal and paternal) of preachers. It’s 1956 in Gilead, Iowa, towards the end of the Reverend Ames’s life, and he is absorbed in recording his family’s story, a legacy for the young son he will never see grow up. Haunted by his grandfather’s presence, John tells of the rift between his grandfather and his father: the elder, an angry visionary who fought for the abolitionist cause, and his son, an ardent pacifist. He is troubled, too, by his prodigal namesake, Jack (John Ames) Boughton, his best friend’s lost son who returns to Gilead searching for forgiveness and redemption. Told in John Ames’s joyous, rambling voice that finds beauty, humour and truth in the smallest of life’s details, Gilead is a song of celebration and acceptance of the best and the worst the world...</td>\n",
       "      <td>2004.0</td>\n",
       "      <td>3.85</td>\n",
       "      <td>247.0</td>\n",
       "      <td>361.0</td>\n",
       "    </tr>\n",
       "    <tr>\n",
       "      <th>1</th>\n",
       "      <td>9780002261982</td>\n",
       "      <td>0002261987</td>\n",
       "      <td>Spider's Web</td>\n",
       "      <td>A Novel</td>\n",
       "      <td>Charles Osborne;Agatha Christie</td>\n",
       "      <td>Detective and mystery stories</td>\n",
       "      <td>http://books.google.com/books/content?id=gA5GPgAACAAJ&amp;printsec=frontcover&amp;img=1&amp;zoom=1&amp;source=gbs_api</td>\n",
       "      <td>A new 'Christie for Christmas' -- a full-length novel adapted from her acclaimed play by Charles Osborne Following BLACK COFFEE and THE UNEXPECTED GUEST comes the final Agatha Christie play novelisation, bringing her superb storytelling to a new legion of fans. Clarissa, the wife of a Foreign Office diplomat, is given to daydreaming. 'Supposing I were to come down one morning and find a dead body in the library, what should I do?' she muses. Clarissa has her chance to find out when she discovers a body in the drawing-room of her house in Kent. Desperate to dispose of the body before her husband comes home with an important foreign politician, Clarissa persuades her three house guests to become accessories and accomplices. It seems that the murdered man was not unknown to certain members of the house party (but which ones?), and the search begins for the murderer and the motive, while at the same time trying to persuade a police inspector that there has been no murder at all... SPID...</td>\n",
       "      <td>2000.0</td>\n",
       "      <td>3.83</td>\n",
       "      <td>241.0</td>\n",
       "      <td>5164.0</td>\n",
       "    </tr>\n",
       "    <tr>\n",
       "      <th>2</th>\n",
       "      <td>9780006163831</td>\n",
       "      <td>0006163831</td>\n",
       "      <td>The One Tree</td>\n",
       "      <td>NaN</td>\n",
       "      <td>Stephen R. Donaldson</td>\n",
       "      <td>American fiction</td>\n",
       "      <td>http://books.google.com/books/content?id=OmQawwEACAAJ&amp;printsec=frontcover&amp;img=1&amp;zoom=1&amp;source=gbs_api</td>\n",
       "      <td>Volume Two of Stephen Donaldson's acclaimed second trilogy featuing the compelling anti-hero Thomas Covenant.</td>\n",
       "      <td>1982.0</td>\n",
       "      <td>3.97</td>\n",
       "      <td>479.0</td>\n",
       "      <td>172.0</td>\n",
       "    </tr>\n",
       "    <tr>\n",
       "      <th>3</th>\n",
       "      <td>9780006178736</td>\n",
       "      <td>0006178731</td>\n",
       "      <td>Rage of angels</td>\n",
       "      <td>NaN</td>\n",
       "      <td>Sidney Sheldon</td>\n",
       "      <td>Fiction</td>\n",
       "      <td>http://books.google.com/books/content?id=FKo2TgANz74C&amp;printsec=frontcover&amp;img=1&amp;zoom=1&amp;source=gbs_api</td>\n",
       "      <td>A memorable, mesmerizing heroine Jennifer -- brilliant, beautiful, an attorney on the way up until the Mafia's schemes win her the hatred of an implacable enemy -- and a love more destructive than hate. A dangerous, dramatic world The Dark Arena of organized crime and flashbulb lit courtrooms where ambitious prosecutors begin their climb to political power.</td>\n",
       "      <td>1993.0</td>\n",
       "      <td>3.93</td>\n",
       "      <td>512.0</td>\n",
       "      <td>29532.0</td>\n",
       "    </tr>\n",
       "    <tr>\n",
       "      <th>4</th>\n",
       "      <td>9780006280897</td>\n",
       "      <td>0006280897</td>\n",
       "      <td>The Four Loves</td>\n",
       "      <td>NaN</td>\n",
       "      <td>Clive Staples Lewis</td>\n",
       "      <td>Christian life</td>\n",
       "      <td>http://books.google.com/books/content?id=XhQ5XsFcpGIC&amp;printsec=frontcover&amp;img=1&amp;zoom=1&amp;source=gbs_api</td>\n",
       "      <td>Lewis' work on the nature of love divides love into four categories; Affection, Friendship, Eros and Charity. The first three come naturally to humanity. Charity, however, the Gift-love of God, is divine, and without this supernatural love, the natural loves become distorted and even dangerous.</td>\n",
       "      <td>2002.0</td>\n",
       "      <td>4.15</td>\n",
       "      <td>170.0</td>\n",
       "      <td>33684.0</td>\n",
       "    </tr>\n",
       "  </tbody>\n",
       "</table>\n",
       "</div>"
      ],
      "text/plain": [
       "          isbn13      isbn10           title subtitle  \\\n",
       "0  9780002005883  0002005883          Gilead      NaN   \n",
       "1  9780002261982  0002261987    Spider's Web  A Novel   \n",
       "2  9780006163831  0006163831    The One Tree      NaN   \n",
       "3  9780006178736  0006178731  Rage of angels      NaN   \n",
       "4  9780006280897  0006280897  The Four Loves      NaN   \n",
       "\n",
       "                           authors                     categories  \\\n",
       "0               Marilynne Robinson                        Fiction   \n",
       "1  Charles Osborne;Agatha Christie  Detective and mystery stories   \n",
       "2             Stephen R. Donaldson               American fiction   \n",
       "3                   Sidney Sheldon                        Fiction   \n",
       "4              Clive Staples Lewis                 Christian life   \n",
       "\n",
       "                                                                                               thumbnail  \\\n",
       "0  http://books.google.com/books/content?id=KQZCPgAACAAJ&printsec=frontcover&img=1&zoom=1&source=gbs_api   \n",
       "1  http://books.google.com/books/content?id=gA5GPgAACAAJ&printsec=frontcover&img=1&zoom=1&source=gbs_api   \n",
       "2  http://books.google.com/books/content?id=OmQawwEACAAJ&printsec=frontcover&img=1&zoom=1&source=gbs_api   \n",
       "3  http://books.google.com/books/content?id=FKo2TgANz74C&printsec=frontcover&img=1&zoom=1&source=gbs_api   \n",
       "4  http://books.google.com/books/content?id=XhQ5XsFcpGIC&printsec=frontcover&img=1&zoom=1&source=gbs_api   \n",
       "\n",
       "                                                                                                                                                                                                                                                                                                                                                                                                                                                                                                                                                                                                                                                                                                                                                                                                                                                                                                                                                                                                                               description  \\\n",
       "0  A NOVEL THAT READERS and critics have been eagerly anticipating for over a decade, Gilead is an astonishingly imagined story of remarkable lives. John Ames is a preacher, the son of a preacher and the grandson (both maternal and paternal) of preachers. It’s 1956 in Gilead, Iowa, towards the end of the Reverend Ames’s life, and he is absorbed in recording his family’s story, a legacy for the young son he will never see grow up. Haunted by his grandfather’s presence, John tells of the rift between his grandfather and his father: the elder, an angry visionary who fought for the abolitionist cause, and his son, an ardent pacifist. He is troubled, too, by his prodigal namesake, Jack (John Ames) Boughton, his best friend’s lost son who returns to Gilead searching for forgiveness and redemption. Told in John Ames’s joyous, rambling voice that finds beauty, humour and truth in the smallest of life’s details, Gilead is a song of celebration and acceptance of the best and the worst the world...   \n",
       "1  A new 'Christie for Christmas' -- a full-length novel adapted from her acclaimed play by Charles Osborne Following BLACK COFFEE and THE UNEXPECTED GUEST comes the final Agatha Christie play novelisation, bringing her superb storytelling to a new legion of fans. Clarissa, the wife of a Foreign Office diplomat, is given to daydreaming. 'Supposing I were to come down one morning and find a dead body in the library, what should I do?' she muses. Clarissa has her chance to find out when she discovers a body in the drawing-room of her house in Kent. Desperate to dispose of the body before her husband comes home with an important foreign politician, Clarissa persuades her three house guests to become accessories and accomplices. It seems that the murdered man was not unknown to certain members of the house party (but which ones?), and the search begins for the murderer and the motive, while at the same time trying to persuade a police inspector that there has been no murder at all... SPID...   \n",
       "2                                                                                                                                                                                                                                                                                                                                                                                                                                                                                                                                                                                                                                                                                                                                                                                                                                                                                                                            Volume Two of Stephen Donaldson's acclaimed second trilogy featuing the compelling anti-hero Thomas Covenant.   \n",
       "3                                                                                                                                                                                                                                                                                                                                                                                                                                                                                                                                                                                                                                                                  A memorable, mesmerizing heroine Jennifer -- brilliant, beautiful, an attorney on the way up until the Mafia's schemes win her the hatred of an implacable enemy -- and a love more destructive than hate. A dangerous, dramatic world The Dark Arena of organized crime and flashbulb lit courtrooms where ambitious prosecutors begin their climb to political power.   \n",
       "4                                                                                                                                                                                                                                                                                                                                                                                                                                                                                                                                                                                                                                                                                                                                  Lewis' work on the nature of love divides love into four categories; Affection, Friendship, Eros and Charity. The first three come naturally to humanity. Charity, however, the Gift-love of God, is divine, and without this supernatural love, the natural loves become distorted and even dangerous.   \n",
       "\n",
       "   published_year  average_rating  num_pages  ratings_count  \n",
       "0          2004.0            3.85      247.0          361.0  \n",
       "1          2000.0            3.83      241.0         5164.0  \n",
       "2          1982.0            3.97      479.0          172.0  \n",
       "3          1993.0            3.93      512.0        29532.0  \n",
       "4          2002.0            4.15      170.0        33684.0  "
      ]
     },
     "execution_count": 36,
     "metadata": {},
     "output_type": "execute_result"
    }
   ],
   "source": [
    "df = pd.read_csv('books.csv')\n",
    "df.head()"
   ]
  },
  {
   "cell_type": "markdown",
   "metadata": {},
   "source": [
    "### Exploring Data\n",
    "<hr>"
   ]
  },
  {
   "cell_type": "code",
   "execution_count": 37,
   "metadata": {},
   "outputs": [
    {
     "data": {
      "text/plain": [
       "(6810, 12)"
      ]
     },
     "execution_count": 37,
     "metadata": {},
     "output_type": "execute_result"
    }
   ],
   "source": [
    "df.shape"
   ]
  },
  {
   "cell_type": "code",
   "execution_count": 38,
   "metadata": {},
   "outputs": [
    {
     "name": "stdout",
     "output_type": "stream",
     "text": [
      "<class 'pandas.core.frame.DataFrame'>\n",
      "RangeIndex: 6810 entries, 0 to 6809\n",
      "Data columns (total 12 columns):\n",
      " #   Column          Non-Null Count  Dtype  \n",
      "---  ------          --------------  -----  \n",
      " 0   isbn13          6810 non-null   int64  \n",
      " 1   isbn10          6810 non-null   object \n",
      " 2   title           6810 non-null   object \n",
      " 3   subtitle        2381 non-null   object \n",
      " 4   authors         6738 non-null   object \n",
      " 5   categories      6711 non-null   object \n",
      " 6   thumbnail       6481 non-null   object \n",
      " 7   description     6548 non-null   object \n",
      " 8   published_year  6804 non-null   float64\n",
      " 9   average_rating  6767 non-null   float64\n",
      " 10  num_pages       6767 non-null   float64\n",
      " 11  ratings_count   6767 non-null   float64\n",
      "dtypes: float64(4), int64(1), object(7)\n",
      "memory usage: 638.6+ KB\n"
     ]
    }
   ],
   "source": [
    "df.info()"
   ]
  },
  {
   "cell_type": "code",
   "execution_count": 39,
   "metadata": {},
   "outputs": [
    {
     "data": {
      "application/vnd.microsoft.datawrangler.viewer.v0+json": {
       "columns": [
        {
         "name": "index",
         "rawType": "object",
         "type": "string"
        },
        {
         "name": "isbn13",
         "rawType": "float64",
         "type": "float"
        },
        {
         "name": "published_year",
         "rawType": "float64",
         "type": "float"
        },
        {
         "name": "average_rating",
         "rawType": "float64",
         "type": "float"
        },
        {
         "name": "num_pages",
         "rawType": "float64",
         "type": "float"
        },
        {
         "name": "ratings_count",
         "rawType": "float64",
         "type": "float"
        }
       ],
       "ref": "aa74dc2f-7e6e-4ccb-9fb6-9123043aa54d",
       "rows": [
        [
         "count",
         "6810.0",
         "6804.0",
         "6767.0",
         "6767.0",
         "6767.0"
        ],
        [
         "mean",
         "9780676621541.416",
         "1998.6303644914756",
         "3.933283582089552",
         "348.1810255652431",
         "21069.09989655682"
        ],
        [
         "std",
         "606891056.586608",
         "10.484257160082675",
         "0.33135160616178727",
         "242.37678264542123",
         "137620.6786468924"
        ],
        [
         "min",
         "9780002005883.0",
         "1853.0",
         "0.0",
         "0.0",
         "0.0"
        ],
        [
         "25%",
         "9780330341506.0",
         "1996.0",
         "3.77",
         "208.0",
         "159.0"
        ],
        [
         "50%",
         "9780553108095.5",
         "2002.0",
         "3.96",
         "304.0",
         "1018.0"
        ],
        [
         "75%",
         "9780809982553.5",
         "2005.0",
         "4.13",
         "420.0",
         "5992.5"
        ],
        [
         "max",
         "9789042003408.0",
         "2019.0",
         "5.0",
         "3342.0",
         "5629932.0"
        ]
       ],
       "shape": {
        "columns": 5,
        "rows": 8
       }
      },
      "text/html": [
       "<div>\n",
       "<style scoped>\n",
       "    .dataframe tbody tr th:only-of-type {\n",
       "        vertical-align: middle;\n",
       "    }\n",
       "\n",
       "    .dataframe tbody tr th {\n",
       "        vertical-align: top;\n",
       "    }\n",
       "\n",
       "    .dataframe thead th {\n",
       "        text-align: right;\n",
       "    }\n",
       "</style>\n",
       "<table border=\"1\" class=\"dataframe\">\n",
       "  <thead>\n",
       "    <tr style=\"text-align: right;\">\n",
       "      <th></th>\n",
       "      <th>isbn13</th>\n",
       "      <th>published_year</th>\n",
       "      <th>average_rating</th>\n",
       "      <th>num_pages</th>\n",
       "      <th>ratings_count</th>\n",
       "    </tr>\n",
       "  </thead>\n",
       "  <tbody>\n",
       "    <tr>\n",
       "      <th>count</th>\n",
       "      <td>6.810000e+03</td>\n",
       "      <td>6804.000000</td>\n",
       "      <td>6767.000000</td>\n",
       "      <td>6767.000000</td>\n",
       "      <td>6.767000e+03</td>\n",
       "    </tr>\n",
       "    <tr>\n",
       "      <th>mean</th>\n",
       "      <td>9.780677e+12</td>\n",
       "      <td>1998.630364</td>\n",
       "      <td>3.933284</td>\n",
       "      <td>348.181026</td>\n",
       "      <td>2.106910e+04</td>\n",
       "    </tr>\n",
       "    <tr>\n",
       "      <th>std</th>\n",
       "      <td>6.068911e+08</td>\n",
       "      <td>10.484257</td>\n",
       "      <td>0.331352</td>\n",
       "      <td>242.376783</td>\n",
       "      <td>1.376207e+05</td>\n",
       "    </tr>\n",
       "    <tr>\n",
       "      <th>min</th>\n",
       "      <td>9.780002e+12</td>\n",
       "      <td>1853.000000</td>\n",
       "      <td>0.000000</td>\n",
       "      <td>0.000000</td>\n",
       "      <td>0.000000e+00</td>\n",
       "    </tr>\n",
       "    <tr>\n",
       "      <th>25%</th>\n",
       "      <td>9.780330e+12</td>\n",
       "      <td>1996.000000</td>\n",
       "      <td>3.770000</td>\n",
       "      <td>208.000000</td>\n",
       "      <td>1.590000e+02</td>\n",
       "    </tr>\n",
       "    <tr>\n",
       "      <th>50%</th>\n",
       "      <td>9.780553e+12</td>\n",
       "      <td>2002.000000</td>\n",
       "      <td>3.960000</td>\n",
       "      <td>304.000000</td>\n",
       "      <td>1.018000e+03</td>\n",
       "    </tr>\n",
       "    <tr>\n",
       "      <th>75%</th>\n",
       "      <td>9.780810e+12</td>\n",
       "      <td>2005.000000</td>\n",
       "      <td>4.130000</td>\n",
       "      <td>420.000000</td>\n",
       "      <td>5.992500e+03</td>\n",
       "    </tr>\n",
       "    <tr>\n",
       "      <th>max</th>\n",
       "      <td>9.789042e+12</td>\n",
       "      <td>2019.000000</td>\n",
       "      <td>5.000000</td>\n",
       "      <td>3342.000000</td>\n",
       "      <td>5.629932e+06</td>\n",
       "    </tr>\n",
       "  </tbody>\n",
       "</table>\n",
       "</div>"
      ],
      "text/plain": [
       "             isbn13  published_year  average_rating    num_pages  \\\n",
       "count  6.810000e+03     6804.000000     6767.000000  6767.000000   \n",
       "mean   9.780677e+12     1998.630364        3.933284   348.181026   \n",
       "std    6.068911e+08       10.484257        0.331352   242.376783   \n",
       "min    9.780002e+12     1853.000000        0.000000     0.000000   \n",
       "25%    9.780330e+12     1996.000000        3.770000   208.000000   \n",
       "50%    9.780553e+12     2002.000000        3.960000   304.000000   \n",
       "75%    9.780810e+12     2005.000000        4.130000   420.000000   \n",
       "max    9.789042e+12     2019.000000        5.000000  3342.000000   \n",
       "\n",
       "       ratings_count  \n",
       "count   6.767000e+03  \n",
       "mean    2.106910e+04  \n",
       "std     1.376207e+05  \n",
       "min     0.000000e+00  \n",
       "25%     1.590000e+02  \n",
       "50%     1.018000e+03  \n",
       "75%     5.992500e+03  \n",
       "max     5.629932e+06  "
      ]
     },
     "execution_count": 39,
     "metadata": {},
     "output_type": "execute_result"
    }
   ],
   "source": [
    "df.describe()"
   ]
  },
  {
   "cell_type": "code",
   "execution_count": 40,
   "metadata": {},
   "outputs": [
    {
     "data": {
      "application/vnd.microsoft.datawrangler.viewer.v0+json": {
       "columns": [
        {
         "name": "index",
         "rawType": "object",
         "type": "string"
        },
        {
         "name": "0",
         "rawType": "int64",
         "type": "integer"
        }
       ],
       "ref": "9495b98d-baa4-432b-ab25-c1d548f0b979",
       "rows": [
        [
         "isbn13",
         "0"
        ],
        [
         "isbn10",
         "0"
        ],
        [
         "title",
         "0"
        ],
        [
         "subtitle",
         "4429"
        ],
        [
         "authors",
         "72"
        ],
        [
         "categories",
         "99"
        ],
        [
         "thumbnail",
         "329"
        ],
        [
         "description",
         "262"
        ],
        [
         "published_year",
         "6"
        ],
        [
         "average_rating",
         "43"
        ],
        [
         "num_pages",
         "43"
        ],
        [
         "ratings_count",
         "43"
        ]
       ],
       "shape": {
        "columns": 1,
        "rows": 12
       }
      },
      "text/plain": [
       "isbn13               0\n",
       "isbn10               0\n",
       "title                0\n",
       "subtitle          4429\n",
       "authors             72\n",
       "categories          99\n",
       "thumbnail          329\n",
       "description        262\n",
       "published_year       6\n",
       "average_rating      43\n",
       "num_pages           43\n",
       "ratings_count       43\n",
       "dtype: int64"
      ]
     },
     "execution_count": 40,
     "metadata": {},
     "output_type": "execute_result"
    }
   ],
   "source": [
    "df.isnull().sum()"
   ]
  },
  {
   "cell_type": "code",
   "execution_count": 41,
   "metadata": {},
   "outputs": [
    {
     "name": "stdout",
     "output_type": "stream",
     "text": [
      "subtitle          65.04 %\n",
      "thumbnail          4.83 %\n",
      "description        3.85 %\n",
      "categories         1.45 %\n",
      "authors            1.06 %\n",
      "average_rating     0.63 %\n",
      "ratings_count      0.63 %\n",
      "num_pages          0.63 %\n",
      "published_year     0.09 %\n",
      "title               0.0 %\n",
      "isbn13              0.0 %\n",
      "isbn10              0.0 %\n",
      "dtype: object\n"
     ]
    }
   ],
   "source": [
    "missing_percentage = (df.isnull().sum() / len(df)) * 100\n",
    "missing_percentage_sorted = missing_percentage.sort_values(ascending=False)\n",
    "\n",
    "print(missing_percentage_sorted.round(2).astype(str) + ' %')"
   ]
  },
  {
   "cell_type": "code",
   "execution_count": 42,
   "metadata": {},
   "outputs": [
    {
     "data": {
      "image/png": "[encoded data removed]",
      "text/plain": [
       "<Figure size 1600x600 with 2 Axes>"
      ]
     },
     "metadata": {},
     "output_type": "display_data"
    }
   ],
   "source": [
    "plt.figure(figsize=(16, 6))\n",
    "sns.heatmap(df.isnull(), cbar=True, yticklabels=False, cmap='viridis')\n",
    "plt.title('Missing Values Heatmap')\n",
    "plt.show()"
   ]
  },
  {
   "cell_type": "markdown",
   "metadata": {},
   "source": [
    "### Observation:\n",
    "* Subtitle is mostly missing\n",
    "* Last three columns (`average_rating`, `num_pages` and `ratings_count`) have same patterns of missing values i.e\n",
    "\tif observation in one of these three columns is missing, it is missing in all these columns."
   ]
  },
  {
   "cell_type": "markdown",
   "metadata": {},
   "source": [
    "## Feature Engineering"
   ]
  },
  {
   "cell_type": "code",
   "execution_count": 43,
   "metadata": {},
   "outputs": [],
   "source": [
    "df[\"missing_description\"] = np.where(df[\"description\"].isnull(), 1, 0) # 0 for missing, 1 for not missing\n",
    "\n",
    "from datetime import datetime\n",
    "current_year = datetime.now().year\n",
    "df[\"book_age\"] = current_year - df[\"published_year\"]"
   ]
  },
  {
   "cell_type": "code",
   "execution_count": 44,
   "metadata": {},
   "outputs": [],
   "source": [
    "imp_columns = ['num_pages', 'missing_description', 'average_rating', 'book_age']"
   ]
  },
  {
   "cell_type": "code",
   "execution_count": 45,
   "metadata": {},
   "outputs": [
    {
     "data": {
      "image/png": "[encoded data removed]",
      "text/plain": [
       "<Figure size 1600x800 with 2 Axes>"
      ]
     },
     "metadata": {},
     "output_type": "display_data"
    }
   ],
   "source": [
    "correlation_matrix = df[imp_columns].corr(method='spearman')\n",
    "\n",
    "# Plot correlation heatmap\n",
    "plt.figure(figsize=(16, 8))\n",
    "sns.heatmap(correlation_matrix, annot=True, cmap='coolwarm', linewidths=0.5, fmt='.2f')\n",
    "plt.title('Correlation Matrix of Numeric Features')\n",
    "plt.tight_layout()\n",
    "plt.show()\n"
   ]
  },
  {
   "cell_type": "markdown",
   "metadata": {},
   "source": [
    "### Observation:\n",
    "* There is no clear correlationof `missing description` with other columns"
   ]
  },
  {
   "cell_type": "code",
   "execution_count": 46,
   "metadata": {},
   "outputs": [
    {
     "data": {
      "application/vnd.microsoft.datawrangler.viewer.v0+json": {
       "columns": [
        {
         "name": "index",
         "rawType": "int64",
         "type": "integer"
        },
        {
         "name": "isbn13",
         "rawType": "int64",
         "type": "integer"
        },
        {
         "name": "isbn10",
         "rawType": "object",
         "type": "string"
        },
        {
         "name": "title",
         "rawType": "object",
         "type": "string"
        },
        {
         "name": "subtitle",
         "rawType": "object",
         "type": "unknown"
        },
        {
         "name": "authors",
         "rawType": "object",
         "type": "unknown"
        },
        {
         "name": "categories",
         "rawType": "object",
         "type": "unknown"
        },
        {
         "name": "thumbnail",
         "rawType": "object",
         "type": "unknown"
        },
        {
         "name": "description",
         "rawType": "object",
         "type": "unknown"
        },
        {
         "name": "published_year",
         "rawType": "float64",
         "type": "float"
        },
        {
         "name": "average_rating",
         "rawType": "float64",
         "type": "float"
        },
        {
         "name": "num_pages",
         "rawType": "float64",
         "type": "float"
        },
        {
         "name": "ratings_count",
         "rawType": "float64",
         "type": "float"
        },
        {
         "name": "missing_description",
         "rawType": "int64",
         "type": "integer"
        },
        {
         "name": "book_age",
         "rawType": "float64",
         "type": "float"
        }
       ],
       "ref": "e348d3fb-8e11-4b59-a21e-6efca6398397",
       "rows": [
        [
         "37",
         "9780006906018",
         "000690601X",
         "The Princess of the Chalet School",
         null,
         "Elinor Mary Brent-Dyer",
         "Juvenile Fiction",
         "http://books.google.com/books/content?id=EJcQPwAACAAJ&printsec=frontcover&img=1&zoom=1&source=gbs_api",
         null,
         "2000.0",
         "4.1",
         "159.0",
         "446.0",
         "1",
         "25.0"
        ],
        [
         "60",
         "9780007127740",
         "000712774X",
         "The illustrated man",
         null,
         "Ray Bradbury",
         "Fiction",
         "http://books.google.com/books/content?id=kePqlVft1bQC&printsec=frontcover&img=1&zoom=1&source=gbs_api",
         null,
         "2002.0",
         "4.14",
         "186.0",
         "56781.0",
         "1",
         "23.0"
        ],
        [
         "99",
         "9780020442806",
         "0020442807",
         "The Chronicles of Narnia: Lion, the witch and the wardrobe",
         null,
         "Clive Staples Lewis",
         "Fairy tales",
         null,
         null,
         "1978.0",
         "4.26",
         "1425.0",
         "1446.0",
         "1",
         "47.0"
        ],
        [
         "102",
         "9780023513206",
         "0023513209",
         "Reason in History",
         "A General Introduction to the Philosophy of History",
         "Georg Wilhelm Friedrich Hegel",
         "Philosophy",
         "http://books.google.com/books/content?id=BCvcYQEACAAJ&printsec=frontcover&img=1&zoom=1&source=gbs_api",
         null,
         "1953.0",
         "3.64",
         "95.0",
         "430.0",
         "1",
         "72.0"
        ],
        [
         "105",
         "9780026995016",
         "0026995018",
         "Spandau",
         "The Secret Diaries",
         "Albert Speer",
         "History",
         null,
         null,
         "1976.0",
         "4.12",
         "463.0",
         "6.0",
         "1",
         "49.0"
        ],
        [
         "453",
         "9780061750588",
         "0061750581",
         "The Pursuit of Happyness",
         null,
         "Chris Gardner",
         "Biography & Autobiography",
         "http://books.google.com/books/content?id=xUVtpmQZlZUC&printsec=frontcover&img=1&zoom=1&edge=curl&source=gbs_api",
         "The astounding yet true rags-to-riches saga of a homeless father who raised and cared for his son on the mean streets of San Francisco and went on to become a crown prince of Wall Street At the age of twenty, Milwaukee native Chris Gardner, just out of the Navy, arrived in San Francisco to pursue a promising career in medicine. Considered a prodigy in scientific research, he surprised everyone and himself by setting his sights on the competitive world of high finance. Yet no sooner had he landed an entry-level position at a prestigious firm than Gardner found himself caught in a web of incredibly challenging circumstances that left him as part of the city's working homeless and with a toddler son. Motivated by the promise he made to himself as a fatherless child to never abandon his own children, the two spent almost a year moving among shelters, \"HO-tels,\" soup lines, and even sleeping in the public restroom of a subway station. Never giving in to despair, Gardner made an astonishing transformation from being part of the city's invisible poor to being a powerful player in its financial district. More than a memoir of Gardner's financial success, this is the story of a man who breaks his own family's cycle of men abandoning their children. Mythic, triumphant, and unstintingly honest, The Pursuit of Happyness conjures heroes like Horatio Alger and Antwone Fisher, and appeals to the very essence of the American Dream.",
         "2009.0",
         null,
         null,
         null,
         "0",
         "16.0"
        ],
        [
         "454",
         "9780061796067",
         "0061796069",
         "What A Lady Wants",
         null,
         "Victoria Alexander",
         "Fiction",
         "http://books.google.com/books/content?id=ms8Sxy_sfEEC&printsec=frontcover&img=1&zoom=1&source=gbs_api",
         "One bachelor down . . . three more to go. Four most desirable gentlemen have wagered one shilling apiece and a bottle of cognac that will go to the last unmarried man standing . . . Nigel Cavendish knows he'll marry one day, but hopefully that day is many years—and many women—in the future! Until then, the handsome, unrepentant rake intends to enjoy life's pleasures to the fullest! From the moment Lady Felicity Melville spies the adventurous scoundrel climbing from a neighbor's window—with his comely conquest's husband in hot pursuit—she knows Nigel is the answer to her prayers . . . with a little reformation, of course! Felicity craves excitement and who in all of London is more exciting than the infamous Mr. Cavendish? So what's a girl to do but hatch a scheme to win what she so fervently desires. But her plan works too well when a game of chance and an errant pistol shot abruptly make them husband and wife—but in a way neither wanted. Now Felicity has to prove to her wayward husband that she's the only woman he could ever want . . . or need!",
         "2009.0",
         null,
         null,
         null,
         "0",
         "16.0"
        ],
        [
         "455",
         "9780061796777",
         "0061796778",
         "A Little Bit Wicked",
         null,
         "Victoria Alexander",
         "Fiction",
         "http://books.google.com/books/content?id=KPM0TYF7DNgC&printsec=frontcover&img=1&zoom=1&edge=curl&source=gbs_api",
         "Who will be the last unmarried man standing? No man in his right mind would want to get married, but every duke, earl, and viscount knows that a fellow must do his duty in the end. So four of London's most desirable gentlemen make a wager—the prize going to the one who remains unwed the longest. Gideon Pearsall, Viscount Warton, thinks he has a fair shot at winning. After all, he's managed to enjoy the favors of many a lady while resisting the parson's noose. Even when he's stopped dead in his tracks by the most scandalous woman in all of London—Judith, Lady Chester—he vows to have her bedded but never wedded. Beautiful, and more than a little bit naughty, Judith has always kept herself within the bounds of respectability, even while playing by her own rules. And the experience has taught her to avoid marriage. She has no desire to resist Warton's hot kisses, and his tempting touch is impossible to ignore. But soon both Judith and Gideon can't help but wonder . . . is it possible to be a little bit wicked and still follow your heart?",
         "2009.0",
         null,
         null,
         null,
         "0",
         "16.0"
        ],
        [
         "456",
         "9780061833076",
         "006183307X",
         "The Wit and Wisdom of Winston Churchill",
         "A Treasury of More than 1000 Quotations",
         "James C. Humes",
         "History",
         "http://books.google.com/books/content?id=00d_C6Yf9m0C&printsec=frontcover&img=1&zoom=1&edge=curl&source=gbs_api",
         "An extremely entertaining compendium of bon mots, anecdotes, and trivia about Winston Churchill from a leading Churchill lecturer and performer -- useful for speakers, students, of history, and World War II buffs, as well as general readers.",
         "2009.0",
         null,
         null,
         null,
         "0",
         "16.0"
        ],
        [
         "457",
         "9780061843181",
         "0061843180",
         "Sleep, Pale Sister",
         null,
         "Joanne Harris",
         "Fiction",
         "http://books.google.com/books/content?id=BLSAth-7Re8C&printsec=frontcover&img=1&zoom=1&edge=curl&source=gbs_api",
         "Before the sweet delight of Chocolat, before the heady concoction that is Blackberry Wine, and before the tart pleasures of Five Quarters of the Orange, bestselling author Joanne Harris wrote Sleep, Pale Sister -- a gothic tourde-force that recalls the powerfully dark sensibility of her novel Holy Fools. Originally published in 1994 -- and never before available in the United States -- Sleep, Pale Sister is a hypnotically atmospheric story set in nineteenth century London. When puritanical artist Henry Chester sees delicate child beauty Effie, he makes her his favorite model and, before long, his bride. But Henry, volatile and repressed, is in love with an ideal. Passive, docile, and asexual, the woman he projects onto Effie is far from the woman she really is. And when Effie begins to discover the murderous depths of Henry's hypocrisy, her latent passion will rise to the surface. Sleep, Pale Sister combines the ethereal beauty of a Pre-Raphaelite painting with a chilling high gothic tale and is a testament to Harris's brimming cornucopia of talents. This P.S. edition features an extra 16 pages of insights into the book, including author interviews, recommended reading, and more.",
         "2009.0",
         null,
         null,
         null,
         "0",
         "16.0"
        ],
        [
         "458",
         "9780061954597",
         "0061954594",
         "Midnighters #2: Touching Darkness",
         null,
         "Scott Westerfeld",
         "Young Adult Fiction",
         "http://books.google.com/books/content?id=GZa3um9f9NoC&printsec=frontcover&img=1&zoom=1&edge=curl&source=gbs_api",
         "This is the second book in New York Times bestselling author Scott Westerfeld’s Midnighters series. As the Midnighters search for the truth about the secret hour, they uncover terrifying mysteries woven into the very fabric of Bixby’s history, and a conspiracy that touches the world of daylight. This time Jessica Day is not the only Midnighter in mortal danger, and if the group can’t find a way to come together, they could lose one of their own . . . forever. Touching Darkness is the second book in the Midnighters trilogy, from the New York Times bestselling author of the Uglies series.",
         "2009.0",
         null,
         null,
         null,
         "0",
         "16.0"
        ],
        [
         "459",
         "9780061968464",
         "0061968463",
         "The Queen of Attolia",
         null,
         "Megan Whalen Turner",
         "Young Adult Fiction",
         "http://books.google.com/books/content?id=VW96Cr2twbQC&printsec=frontcover&img=1&zoom=1&edge=curl&source=gbs_api",
         "Discover the world of the Queen’s Thief New York Times-bestselling author Megan Whalen Turner’s entrancing and award-winning Queen’s Thief novels bring to life the world of the epics and feature one of the most charismatic and incorrigible characters of fiction, Eugenides the thief. Megan Whalen Turner’s Queen’s Thief novels are rich with political machinations and intrigue, battles lost and won, dangerous journeys, divine intervention, power, passion, revenge, and deception. Perfect for fans of Leigh Bardugo, Marie Lu, Patrick Rothfuss, and George R. R. Martin. The brilliant thief Eugenides has visited the Queen of Attolia’s palace one too many times, leaving small tokens and then departing unseen. When his final excursion does not go as planned, he is captured by the ruthless queen. The Queen’s Thief novels have been praised by writers, critics, reviewers, and fans and have been honored with glowing reviews, “best of” citations, and numerous awards, including the Los Angeles Times Book Prize, a Newbery Honor, the Andre Norton Award shortlist, and the Mythopoeic Fantasy Award. Discover and rediscover the stand-alone companions, The Queen of Attolia, The King of Attolia, A Conspiracy of Kings, and Thick as Thieves, all epic novels set in the world of the Queen’s Thief. A Booklist Top 10 Fantasy Books for Youth ALA Popular Paperbacks for Young Adults A New York Public Library Book for the Teen Age Parent’s Choice Gold Award A Bulletin of the Center for Children’s Books Blue Ribbon Book “The Queen’s Thief books awe and inspire me. They have the feel of a secret, discovered history of real but forgotten lands. The plot-craft is peerless, the revelations stunning, and the characters flawed, cunning, heartbreaking, exceptional. Megan Whalen Turner’s books have a permanent spot on my favorites shelf, with space waiting for more books to come.”—Laini Taylor, New York Times-bestselling author of the Daughter of Smoke and Bone novels and Strange the Dreamer \"Unforgettable characters, plot twists that will make your head spin, a world rendered in elegant detail—you will fall in love with every page of these stories. Megan Whalen Turner writes vivid, immersive, heartbreaking fantasy that will leave you desperate to return to Attolia again and again.\"—Leigh Bardugo, New York Times-bestselling author of the The Grisha Trilogy and Six of Crows “Megan Whalen Turner proves to be one of the brightest creative talents. With each book, she continues to add new levels and new luster to her sparkling imagination.”—Lloyd Alexander, Newbery Medalist and National Book Award-winning author of The Chronicles of Prydain “Readers will be spellbound.”—Kirkus Reviews (starred review) “Turner’s storytelling is so sure that readers will want to go along with her—and discover whatever it is that Eugenides will do next.”—Publishers Weekly (starred review) “[An] intense read . . . thoroughly involving and wholly satisfying on all fronts.”—The Horn Book (starred review)",
         "2009.0",
         null,
         null,
         null,
         "0",
         "16.0"
        ],
        [
         "460",
         "9780061977664",
         "0061977667",
         "The Collected Poetry of Nikki Giovanni",
         "1968-1998",
         "Nikki Giovanni",
         "Poetry",
         "http://books.google.com/books/content?id=nCgrT6bx0Y8C&printsec=frontcover&img=1&zoom=1&edge=curl&source=gbs_api",
         "This omnibus covers Nikki Giovanni's complete work of poetry from 1967–1983. THE COLLECTED POETRY OF NIKKI GIOVANNI will include the complete volumes of five adult books of poetry: Black Feeling Black Talk/Black Judgement, My House, The Women and the Men, Cotton Candy on a Rainy Day, and Those Who Ride the Night Winds. Nikki self–published her first book Black Feeling, Black Talk/BlackJudgement in 1969, selling 10,000 copies; William Morrow published in 1970. Know for its iconic revolutionary phrases, it is heralded as one of the most important volumes of modern African–American poetry and is considered the seminal volume of Nikki's body of work. My House (Morrow 1972) marks a new dimension in tone and philosphy––This is Giovanni's first foray into the autobiographical. In The Women and the Men (Morrow 1975), Nikki displays her compassion for the people, things and places she has encountered––She reveres the ordinary and is in search of the extraordinary. Cotton Candy on a Rainy Day (Morrow 1978) is one of the most poignant and introspective of all Giovanni's collections. These poems chronicle the drastic change that took place during the 1970s––when the dreams of the Civil Rights era seemed to have evaporated. Those Who Ride the Night Winds (Morrow 1983) is devoted to \"the day trippers and midnight cowboys,\" the ones who have devoted their lives to pushing the limits of the human condition and shattered the constraints of the stautus quo.",
         "2009.0",
         null,
         null,
         null,
         "0",
         "16.0"
        ],
        [
         "461",
         "9780061999420",
         "0061999423",
         "Sugarplums and Scandal",
         null,
         "Dana Cameron;Mary Daheim;Lori Avocato;Kerrelyn Sparks;Suzanne Macpherson;Cait London",
         "Fiction",
         "http://books.google.com/books/content?id=hcTOj-A6C70C&printsec=frontcover&img=1&zoom=1&edge=curl&source=gbs_api",
         "SUGARPLUMS AND SCANDAL brings together the best of romance and mystery in one delightful collection of Christmas tales. In the expert hands of six of Avon's best storytellers, the holiday season takes on an air of love and scandalous surprises! Filled with Christmas miracles, romance, and suspense, this will make the perfect gift for both romance and mystery fans. Each author brings their own unique voice and characters to the collection, as well as their fan followings. All I Want For Christmas is My Two Front Teeth – Lori Avocato The Lords of Misrule – Dana Cameron The Ghost of Christmas Passed – Mary Daheim Partners in Crime – Cait London Holly Go Lightly – Suzanne Macpherson A Very Vampy Christmas – Kerrelyn Sparks",
         "2010.0",
         null,
         null,
         null,
         "0",
         "15.0"
        ],
        [
         "462",
         "9780062032720",
         "0062032720",
         "How to Buy, Sell, and Profit on eBay",
         "Kick-Start Your Home-Based Business in Just Thirty Days",
         "Adam Ginsberg",
         "Business & Economics",
         "http://books.google.com/books/content?id=eNq_KlqjJdwC&printsec=frontcover&img=1&zoom=1&edge=curl&source=gbs_api",
         "A lively insider's guide to starting a successful small business selling items old and new on eBay, written with personal anecdotes, well–kept secrets, and insider tips by Adam Ginsberg, eBay's most successful private salesperson. This is the insider's guide to making money on eBay. Adam Ginsberg is the most successful seller on eBay, moving around a million dollars' worth of merchandise every month. Not only will he impart his personal secrets on how to sell on eBay –learned through years of experience – and his tips on expanding your small business using eBay as a global market, but he'll also give fun side–notes and anecdotes, keeping the book lively and making it a fun and interesting read. This book will be a must–have for all current and aspiring eBay sellers, all small–business owners, and anyone who wants to learn how to start a million–dollar company.",
         "2010.0",
         null,
         null,
         null,
         "0",
         "15.0"
        ],
        [
         "485",
         "9780064405461",
         "006440546X",
         "Betsy and Joe",
         null,
         "Maud Hart Lovelace",
         "Juvenile Fiction",
         "http://books.google.com/books/content?id=fPnLzAEACAAJ&printsec=frontcover&img=1&zoom=1&source=gbs_api",
         null,
         "1995.0",
         "4.31",
         "336.0",
         "4411.0",
         "1",
         "30.0"
        ],
        [
         "528",
         "9780071608916",
         "0071608915",
         "Goodman & Gilman's The Pharmacological Basis of Therapeutics, Eleventh Edition",
         null,
         "Laurence Brunton;John Lazo;Keith Parker",
         "Medical",
         "http://books.google.com/books/content?id=PtWdBgnQdjMC&printsec=frontcover&img=1&zoom=1&source=gbs_api",
         "The undisputed leader in medical pharmacology, without equal. Updated to reflect all critical new developments in drug action and drug-disease interaction. This is the “desert island” book of all medical pharmacology—if you can own just one pharmacology book, this is it.",
         "2005.0",
         null,
         null,
         null,
         "0",
         "20.0"
        ],
        [
         "531",
         "9780073250359",
         "007325035X",
         "Heat and Mass Transfer",
         "A Practical Approach",
         "Yunus A. Çengel",
         "Heat",
         "http://books.google.com/books/content?id=K_ybSQAACAAJ&printsec=frontcover&img=1&zoom=1&source=gbs_api",
         null,
         "2006.0",
         "4.16",
         "901.0",
         "182.0",
         "1",
         "19.0"
        ],
        [
         "533",
         "9780091520809",
         "0091520800",
         "My Sweet-orange Tree",
         null,
         "José Mauro de Vasconcelos",
         "Juvenile Nonfiction",
         "http://books.google.com/books/content?id=A8_uAAAAMAAJ&printsec=frontcover&img=1&zoom=1&source=gbs_api",
         null,
         "1983.0",
         "4.39",
         "166.0",
         "49.0",
         "1",
         "42.0"
        ],
        [
         "644",
         "9780140042320",
         "0140042326",
         "The Pearl",
         "The Red Pony ; Ill. by Wesley Dennis ; [both By] John Steinbeck",
         "John Steinbeck",
         null,
         null,
         null,
         "1987.0",
         "3.64",
         "181.0",
         "1431.0",
         "1",
         "38.0"
        ],
        [
         "646",
         "9780140059021",
         "0140059024",
         "Wodehouse on crime",
         null,
         null,
         null,
         "http://books.google.com/books/content?id=YrZrAQAACAAJ&printsec=frontcover&img=1&zoom=1&source=gbs_api",
         null,
         "1981.0",
         "4.39",
         "557.0",
         "3143.0",
         "1",
         "44.0"
        ],
        [
         "649",
         "9780140093148",
         "0140093141",
         "I, Claudius and Claudius the God",
         null,
         "Robert Graves",
         "Autobiographical fiction",
         "http://books.google.com/books/content?id=0NW1swEACAAJ&printsec=frontcover&img=1&zoom=1&source=gbs_api",
         null,
         "1986.0",
         "4.43",
         "839.0",
         "2422.0",
         "1",
         "39.0"
        ],
        [
         "650",
         "9780140097313",
         "0140097317",
         "The New York Trilogy",
         "Ghosts",
         "Paul Auster",
         null,
         null,
         null,
         "1987.0",
         "3.79",
         "203.0",
         "11696.0",
         "1",
         "38.0"
        ],
        [
         "662",
         "9780140137989",
         "014013798X",
         "Case Histories I",
         "\"Dora\" and \"Little Hans\"",
         "Sigmund Freud",
         "Child analysis",
         "http://books.google.com/books/content?id=FhAVQgAACAAJ&printsec=frontcover&img=1&zoom=1&source=gbs_api",
         null,
         "1990.0",
         "3.74",
         "331.0",
         "33.0",
         "1",
         "35.0"
        ],
        [
         "674",
         "9780140153170",
         "0140153179",
         "ALEXANDRIA QUARTET",
         "JUSTINE/BALTHAZAR/MOUNTOLIVE/CLEA/BOXED SET",
         "LAWRENCE DURRELL",
         null,
         "http://books.google.com/books/content?id=kmQtYAAACAAJ&printsec=frontcover&img=1&zoom=1&source=gbs_api",
         null,
         "1991.0",
         "4.17",
         "884.0",
         "9842.0",
         "1",
         "34.0"
        ],
        [
         "825",
         "9780140446425",
         "0140446427",
         "What is Art?",
         null,
         "Leo Tolstoy;Richard Pevear;Larissa Volokhonsky",
         "Art",
         "http://books.google.com/books/content?id=N7kyx0y1yYYC&printsec=frontcover&img=1&zoom=1&source=gbs_api",
         null,
         "1995.0",
         "3.7",
         "230.0",
         "120.0",
         "1",
         "30.0"
        ],
        [
         "884",
         "9780141023663",
         "014102366X",
         "About a Boy",
         null,
         "Nick Hornby",
         null,
         null,
         "Screenplay, revised primarily in April, through June 2001.",
         "2000.0",
         null,
         null,
         null,
         "0",
         "25.0"
        ],
        [
         "909",
         "9780141184890",
         "0141184892",
         "The Subterraneans",
         null,
         "Jack Kerouac",
         "Fiction",
         "http://books.google.com/books/content?id=ywb_NCoRlzQC&printsec=frontcover&img=1&zoom=1&source=gbs_api",
         null,
         "2001.0",
         "3.68",
         "192.0",
         "416.0",
         "1",
         "24.0"
        ],
        [
         "1114",
         "9780156030205",
         "0156030209",
         "Book Club",
         "Life of Pi (7 Copies).",
         "Yann Martel",
         null,
         null,
         null,
         null,
         "3.9",
         "401.0",
         "4242.0",
         "1",
         null
        ],
        [
         "1133",
         "9780156260350",
         "0156260352",
         "The Diary of Anaïs Nin",
         "1966-1974",
         "Anaïs Nin",
         "Biography & Autobiography",
         null,
         null,
         "1980.0",
         "4.16",
         "384.0",
         "315.0",
         "1",
         "45.0"
        ],
        [
         "1165",
         "9780160729942",
         "0160729947",
         "More Readings from One Man's Wilderness",
         "The Journals of Richard L. Proenneke, 1974-1980",
         "Richard Proenneke",
         "Frontier and pioneer life",
         "http://books.google.com/books/content?id=X9tPvAEACAAJ&printsec=frontcover&img=1&zoom=1&source=gbs_api",
         null,
         "2005.0",
         "4.42",
         "496.0",
         "231.0",
         "1",
         "20.0"
        ],
        [
         "1270",
         "9780201068948",
         "020106894X",
         "Thermodynamics, Kinetic Theory, and Statistical Thermodynamics",
         null,
         "Francis Weston Sears;Gerhard Ludwig Salinger",
         "Kinetic theory of gases",
         null,
         null,
         "1975.0",
         "4.32",
         "454.0",
         "38.0",
         "1",
         "50.0"
        ],
        [
         "1290",
         "9780226307640",
         "0226307646",
         "Complete Greek Tragedies",
         null,
         "David Grene;Richmond Lattimore",
         null,
         "http://books.google.com/books/content?id=fboSxwEACAAJ&printsec=frontcover&img=1&zoom=1&source=gbs_api",
         null,
         "1942.0",
         "4.11",
         "358.0",
         "75.0",
         "1",
         "83.0"
        ],
        [
         "1296",
         "9780226307862",
         "0226307867",
         "The Complete Greek Tragedies",
         null,
         "David Grene;Richmond Lattimore",
         null,
         "http://books.google.com/books/content?id=5kcjzAEACAAJ&printsec=frontcover&img=1&zoom=1&source=gbs_api",
         null,
         "1973.0",
         "4.14",
         "254.0",
         "4952.0",
         "1",
         "52.0"
        ],
        [
         "1301",
         "9780226348186",
         "0226348180",
         "The Progressive Historians--Turner, Beard, Parrington",
         null,
         "Richard Hofstadter",
         "History",
         null,
         null,
         "1979.0",
         "3.86",
         "498.0",
         "34.0",
         "1",
         "46.0"
        ],
        [
         "1309",
         "9780226731513",
         "0226731510",
         "Mystical Poems of Rumi Translated",
         null,
         "Jalāl al-Dīn Rūmī (Maulana);A. J. Arberry",
         null,
         "http://books.google.com/books/content?id=UkipswEACAAJ&printsec=frontcover&img=1&zoom=1&source=gbs_api",
         null,
         "1968.0",
         "4.32",
         "208.0",
         "112.0",
         "1",
         "57.0"
        ],
        [
         "1316",
         "9780231085076",
         "0231085079",
         "Discovering Plato",
         null,
         "Alexandre Koyre",
         null,
         null,
         null,
         "1960.0",
         "3.26",
         "118.0",
         "7.0",
         "1",
         "65.0"
        ],
        [
         "1328",
         "9780233000114",
         "0233000119",
         "Remembering JFK",
         "Intimate and Unseen Photographs of the Kennedys",
         "Jacques Lowe;Hugh Sidey",
         "Presidents",
         "http://books.google.com/books/content?id=q-a-AQAACAAJ&printsec=frontcover&img=1&zoom=1&source=gbs_api",
         null,
         "2003.0",
         "4.34",
         "432.0",
         "9.0",
         "1",
         "22.0"
        ],
        [
         "1336",
         "9780246136671",
         "0246136677",
         "The Dark Descent",
         null,
         "David G. Hartwell",
         "Horror tales, English",
         null,
         null,
         "1990.0",
         "4.11",
         "304.0",
         "2.0",
         "1",
         "35.0"
        ],
        [
         "1409",
         "9780307001467",
         "0307001466",
         "75 Years of Little Golden Books: 1942-2017",
         "A Commemorative Set of 12 Best-loved Books",
         "Margaret Wise Brown;Ruth Krauss;Richard Scarry;Dennis R. Shealy;Kathryn Jackson;Byron Jackson;Janette Sebring Lowrey;Gertrude Crampton;Jane Werner Watson",
         "Animals",
         null,
         null,
         "2017.0",
         "4.23",
         "24.0",
         "1047.0",
         "1",
         "8.0"
        ],
        [
         "1428",
         "9780307290465",
         "0307290468",
         "The Civil War",
         "A Narrative",
         "Shelby Foote",
         "United States",
         null,
         "\"Foote's comprehensive history of the Civil War includes three compelling volumes: Fort Sumter to Perryville, Fredericksburg to Meridian, and Red River to Appomattox\"--Publisher description.",
         null,
         "4.53",
         "2934.0",
         "6406.0",
         "0",
         null
        ],
        [
         "1687",
         "9780330239455",
         "0330239457",
         "The Little Prince",
         null,
         "Antoine de Saint-Exupéry;Katherine Woods",
         "Children's literature, French",
         null,
         null,
         "1974.0",
         "4.3",
         "96.0",
         "50.0",
         "1",
         "51.0"
        ],
        [
         "1688",
         "9780330250696",
         "0330250698",
         "The Thirteenth Tribe",
         "The Khazar Empire and Its Heritage",
         "Arthur Koestler",
         "Jews",
         null,
         null,
         "1977.0",
         "3.91",
         "224.0",
         "9.0",
         "1",
         "48.0"
        ],
        [
         "1693",
         "9780330303316",
         "0330303317",
         "The African Trilogy",
         null,
         "Chinua Achebe",
         "English fiction",
         "http://books.google.com/books/content?id=a0J4QgAACAAJ&printsec=frontcover&img=1&zoom=1&source=gbs_api",
         null,
         "1988.0",
         "4.28",
         "560.0",
         "237.0",
         "1",
         "37.0"
        ],
        [
         "1736",
         "9780333187623",
         "0333187628",
         "Ragtime",
         null,
         "E. L. Doctorow",
         "Fiction",
         "http://books.google.com/books/content?id=usBIcVWgkTQC&printsec=frontcover&img=1&zoom=1&source=gbs_api",
         null,
         "1975.0",
         "3.88",
         "270.0",
         "57.0",
         "1",
         "50.0"
        ],
        [
         "1742",
         "9780340491683",
         "034049168X",
         "The Walls of Spyte",
         null,
         "Dave Morris;Oliver Johnson;Jamie Thomson;Russ Nicholson;Geoff Wingate",
         null,
         null,
         null,
         "1988.0",
         "4.33",
         "304.0",
         "22.0",
         "1",
         "37.0"
        ],
        [
         "1765",
         "9780345020321",
         "0345020324",
         "A Fish Dinner in Memison",
         null,
         "Eric Rucker Eddison",
         null,
         null,
         null,
         "1970.0",
         "3.87",
         "190.0",
         "30.0",
         "1",
         "55.0"
        ],
        [
         "1766",
         "9780345246882",
         "0345246888",
         "Tales of the Cthulhu Mythos",
         null,
         "Howard Phillips Lovecraft",
         "Horror tales",
         null,
         null,
         "1975.0",
         "4.2",
         "241.0",
         "20.0",
         "1",
         "50.0"
        ],
        [
         "1768",
         "9780345253590",
         "0345253590",
         "The best of Philip K. Dick",
         null,
         "Philip K. Dick",
         "Fiction",
         "http://books.google.com/books/content?id=93J5ancJm7kC&printsec=frontcover&img=1&zoom=1&source=gbs_api",
         null,
         "1977.0",
         "4.22",
         "450.0",
         "614.0",
         "1",
         "48.0"
        ],
        [
         "1775",
         "9780345321381",
         "0345321383",
         "Bridge of Birds",
         "A Novel of an Ancient China that Never was",
         "Barry Hughart;E. E. \"Doc\" Smith;Joel Rosenbreg;Kathryn Lance;Lin Carter",
         null,
         "http://books.google.com/books/content?id=MA7dEqtib-QC&printsec=frontcover&img=1&zoom=1&source=gbs_api",
         null,
         "1985.0",
         "4.29",
         "278.0",
         "8786.0",
         "1",
         "40.0"
        ]
       ],
       "shape": {
        "columns": 14,
        "rows": 303
       }
      },
      "text/html": [
       "<div>\n",
       "<style scoped>\n",
       "    .dataframe tbody tr th:only-of-type {\n",
       "        vertical-align: middle;\n",
       "    }\n",
       "\n",
       "    .dataframe tbody tr th {\n",
       "        vertical-align: top;\n",
       "    }\n",
       "\n",
       "    .dataframe thead th {\n",
       "        text-align: right;\n",
       "    }\n",
       "</style>\n",
       "<table border=\"1\" class=\"dataframe\">\n",
       "  <thead>\n",
       "    <tr style=\"text-align: right;\">\n",
       "      <th></th>\n",
       "      <th>isbn13</th>\n",
       "      <th>isbn10</th>\n",
       "      <th>title</th>\n",
       "      <th>subtitle</th>\n",
       "      <th>authors</th>\n",
       "      <th>categories</th>\n",
       "      <th>thumbnail</th>\n",
       "      <th>description</th>\n",
       "      <th>published_year</th>\n",
       "      <th>average_rating</th>\n",
       "      <th>num_pages</th>\n",
       "      <th>ratings_count</th>\n",
       "      <th>missing_description</th>\n",
       "      <th>book_age</th>\n",
       "    </tr>\n",
       "  </thead>\n",
       "  <tbody>\n",
       "    <tr>\n",
       "      <th>37</th>\n",
       "      <td>9780006906018</td>\n",
       "      <td>000690601X</td>\n",
       "      <td>The Princess of the Chalet School</td>\n",
       "      <td>NaN</td>\n",
       "      <td>Elinor Mary Brent-Dyer</td>\n",
       "      <td>Juvenile Fiction</td>\n",
       "      <td>http://books.google.com/books/content?id=EJcQPwAACAAJ&amp;printsec=frontcover&amp;img=1&amp;zoom=1&amp;source=gbs_api</td>\n",
       "      <td>NaN</td>\n",
       "      <td>2000.0</td>\n",
       "      <td>4.10</td>\n",
       "      <td>159.0</td>\n",
       "      <td>446.0</td>\n",
       "      <td>1</td>\n",
       "      <td>25.0</td>\n",
       "    </tr>\n",
       "    <tr>\n",
       "      <th>60</th>\n",
       "      <td>9780007127740</td>\n",
       "      <td>000712774X</td>\n",
       "      <td>The illustrated man</td>\n",
       "      <td>NaN</td>\n",
       "      <td>Ray Bradbury</td>\n",
       "      <td>Fiction</td>\n",
       "      <td>http://books.google.com/books/content?id=kePqlVft1bQC&amp;printsec=frontcover&amp;img=1&amp;zoom=1&amp;source=gbs_api</td>\n",
       "      <td>NaN</td>\n",
       "      <td>2002.0</td>\n",
       "      <td>4.14</td>\n",
       "      <td>186.0</td>\n",
       "      <td>56781.0</td>\n",
       "      <td>1</td>\n",
       "      <td>23.0</td>\n",
       "    </tr>\n",
       "    <tr>\n",
       "      <th>99</th>\n",
       "      <td>9780020442806</td>\n",
       "      <td>0020442807</td>\n",
       "      <td>The Chronicles of Narnia: Lion, the witch and the wardrobe</td>\n",
       "      <td>NaN</td>\n",
       "      <td>Clive Staples Lewis</td>\n",
       "      <td>Fairy tales</td>\n",
       "      <td>NaN</td>\n",
       "      <td>NaN</td>\n",
       "      <td>1978.0</td>\n",
       "      <td>4.26</td>\n",
       "      <td>1425.0</td>\n",
       "      <td>1446.0</td>\n",
       "      <td>1</td>\n",
       "      <td>47.0</td>\n",
       "    </tr>\n",
       "    <tr>\n",
       "      <th>102</th>\n",
       "      <td>9780023513206</td>\n",
       "      <td>0023513209</td>\n",
       "      <td>Reason in History</td>\n",
       "      <td>A General Introduction to the Philosophy of History</td>\n",
       "      <td>Georg Wilhelm Friedrich Hegel</td>\n",
       "      <td>Philosophy</td>\n",
       "      <td>http://books.google.com/books/content?id=BCvcYQEACAAJ&amp;printsec=frontcover&amp;img=1&amp;zoom=1&amp;source=gbs_api</td>\n",
       "      <td>NaN</td>\n",
       "      <td>1953.0</td>\n",
       "      <td>3.64</td>\n",
       "      <td>95.0</td>\n",
       "      <td>430.0</td>\n",
       "      <td>1</td>\n",
       "      <td>72.0</td>\n",
       "    </tr>\n",
       "    <tr>\n",
       "      <th>105</th>\n",
       "      <td>9780026995016</td>\n",
       "      <td>0026995018</td>\n",
       "      <td>Spandau</td>\n",
       "      <td>The Secret Diaries</td>\n",
       "      <td>Albert Speer</td>\n",
       "      <td>History</td>\n",
       "      <td>NaN</td>\n",
       "      <td>NaN</td>\n",
       "      <td>1976.0</td>\n",
       "      <td>4.12</td>\n",
       "      <td>463.0</td>\n",
       "      <td>6.0</td>\n",
       "      <td>1</td>\n",
       "      <td>49.0</td>\n",
       "    </tr>\n",
       "    <tr>\n",
       "      <th>...</th>\n",
       "      <td>...</td>\n",
       "      <td>...</td>\n",
       "      <td>...</td>\n",
       "      <td>...</td>\n",
       "      <td>...</td>\n",
       "      <td>...</td>\n",
       "      <td>...</td>\n",
       "      <td>...</td>\n",
       "      <td>...</td>\n",
       "      <td>...</td>\n",
       "      <td>...</td>\n",
       "      <td>...</td>\n",
       "      <td>...</td>\n",
       "      <td>...</td>\n",
       "    </tr>\n",
       "    <tr>\n",
       "      <th>6787</th>\n",
       "      <td>9783464371640</td>\n",
       "      <td>3464371646</td>\n",
       "      <td>About a Boy</td>\n",
       "      <td>NaN</td>\n",
       "      <td>Nick Hornby</td>\n",
       "      <td>NaN</td>\n",
       "      <td>http://books.google.com/books/content?id=PuDYwAEACAAJ&amp;printsec=frontcover&amp;img=1&amp;zoom=1&amp;source=gbs_api</td>\n",
       "      <td>NaN</td>\n",
       "      <td>2002.0</td>\n",
       "      <td>3.80</td>\n",
       "      <td>256.0</td>\n",
       "      <td>155.0</td>\n",
       "      <td>1</td>\n",
       "      <td>23.0</td>\n",
       "    </tr>\n",
       "    <tr>\n",
       "      <th>6788</th>\n",
       "      <td>9783540292128</td>\n",
       "      <td>3540292128</td>\n",
       "      <td>Enzyme-Catalyzed Synthesis of Polymers</td>\n",
       "      <td>NaN</td>\n",
       "      <td>Shiro Kobayashi;Helmut Ritter;David Kaplan</td>\n",
       "      <td>Science</td>\n",
       "      <td>http://books.google.com/books/content?id=WXOym0xs3vYC&amp;printsec=frontcover&amp;img=1&amp;zoom=1&amp;edge=curl&amp;source=gbs_api</td>\n",
       "      <td>NaN</td>\n",
       "      <td>2006.0</td>\n",
       "      <td>0.00</td>\n",
       "      <td>254.0</td>\n",
       "      <td>0.0</td>\n",
       "      <td>1</td>\n",
       "      <td>19.0</td>\n",
       "    </tr>\n",
       "    <tr>\n",
       "      <th>6798</th>\n",
       "      <td>9787506435673</td>\n",
       "      <td>7506435675</td>\n",
       "      <td>Good Fight</td>\n",
       "      <td>NaN</td>\n",
       "      <td>Judd Winick;Matthew Clark</td>\n",
       "      <td>Juvenile Fiction</td>\n",
       "      <td>http://books.google.com/books/content?id=xGPZAQAACAAJ&amp;printsec=frontcover&amp;img=1&amp;zoom=1&amp;source=gbs_api</td>\n",
       "      <td>Presents the adventures of a new group of heroes, including Grace, a bouncer working at a metahuman club; cyborg girl Indigo; Thunder, the mass-changing daughter of Black Lightning, and the shape shifter, Metamorpho.</td>\n",
       "      <td>2007.0</td>\n",
       "      <td>NaN</td>\n",
       "      <td>NaN</td>\n",
       "      <td>NaN</td>\n",
       "      <td>0</td>\n",
       "      <td>18.0</td>\n",
       "    </tr>\n",
       "    <tr>\n",
       "      <th>6806</th>\n",
       "      <td>9788185944609</td>\n",
       "      <td>8185944601</td>\n",
       "      <td>Secrets Of The Heart</td>\n",
       "      <td>NaN</td>\n",
       "      <td>Khalil Gibran</td>\n",
       "      <td>Mysticism</td>\n",
       "      <td>http://books.google.com/books/content?id=XcrVpL1byOkC&amp;printsec=frontcover&amp;img=1&amp;zoom=1&amp;source=gbs_api</td>\n",
       "      <td>NaN</td>\n",
       "      <td>1993.0</td>\n",
       "      <td>4.08</td>\n",
       "      <td>74.0</td>\n",
       "      <td>324.0</td>\n",
       "      <td>1</td>\n",
       "      <td>32.0</td>\n",
       "    </tr>\n",
       "    <tr>\n",
       "      <th>6807</th>\n",
       "      <td>9788445074879</td>\n",
       "      <td>8445074873</td>\n",
       "      <td>Fahrenheit 451</td>\n",
       "      <td>NaN</td>\n",
       "      <td>Ray Bradbury</td>\n",
       "      <td>Book burning</td>\n",
       "      <td>NaN</td>\n",
       "      <td>NaN</td>\n",
       "      <td>2004.0</td>\n",
       "      <td>3.98</td>\n",
       "      <td>186.0</td>\n",
       "      <td>5733.0</td>\n",
       "      <td>1</td>\n",
       "      <td>21.0</td>\n",
       "    </tr>\n",
       "  </tbody>\n",
       "</table>\n",
       "<p>303 rows × 14 columns</p>\n",
       "</div>"
      ],
      "text/plain": [
       "             isbn13      isbn10  \\\n",
       "37    9780006906018  000690601X   \n",
       "60    9780007127740  000712774X   \n",
       "99    9780020442806  0020442807   \n",
       "102   9780023513206  0023513209   \n",
       "105   9780026995016  0026995018   \n",
       "...             ...         ...   \n",
       "6787  9783464371640  3464371646   \n",
       "6788  9783540292128  3540292128   \n",
       "6798  9787506435673  7506435675   \n",
       "6806  9788185944609  8185944601   \n",
       "6807  9788445074879  8445074873   \n",
       "\n",
       "                                                           title  \\\n",
       "37                             The Princess of the Chalet School   \n",
       "60                                           The illustrated man   \n",
       "99    The Chronicles of Narnia: Lion, the witch and the wardrobe   \n",
       "102                                            Reason in History   \n",
       "105                                                      Spandau   \n",
       "...                                                          ...   \n",
       "6787                                                 About a Boy   \n",
       "6788                      Enzyme-Catalyzed Synthesis of Polymers   \n",
       "6798                                                  Good Fight   \n",
       "6806                                        Secrets Of The Heart   \n",
       "6807                                              Fahrenheit 451   \n",
       "\n",
       "                                                 subtitle  \\\n",
       "37                                                    NaN   \n",
       "60                                                    NaN   \n",
       "99                                                    NaN   \n",
       "102   A General Introduction to the Philosophy of History   \n",
       "105                                    The Secret Diaries   \n",
       "...                                                   ...   \n",
       "6787                                                  NaN   \n",
       "6788                                                  NaN   \n",
       "6798                                                  NaN   \n",
       "6806                                                  NaN   \n",
       "6807                                                  NaN   \n",
       "\n",
       "                                         authors        categories  \\\n",
       "37                        Elinor Mary Brent-Dyer  Juvenile Fiction   \n",
       "60                                  Ray Bradbury           Fiction   \n",
       "99                           Clive Staples Lewis       Fairy tales   \n",
       "102                Georg Wilhelm Friedrich Hegel        Philosophy   \n",
       "105                                 Albert Speer           History   \n",
       "...                                          ...               ...   \n",
       "6787                                 Nick Hornby               NaN   \n",
       "6788  Shiro Kobayashi;Helmut Ritter;David Kaplan           Science   \n",
       "6798                   Judd Winick;Matthew Clark  Juvenile Fiction   \n",
       "6806                               Khalil Gibran         Mysticism   \n",
       "6807                                Ray Bradbury      Book burning   \n",
       "\n",
       "                                                                                                            thumbnail  \\\n",
       "37              http://books.google.com/books/content?id=EJcQPwAACAAJ&printsec=frontcover&img=1&zoom=1&source=gbs_api   \n",
       "60              http://books.google.com/books/content?id=kePqlVft1bQC&printsec=frontcover&img=1&zoom=1&source=gbs_api   \n",
       "99                                                                                                                NaN   \n",
       "102             http://books.google.com/books/content?id=BCvcYQEACAAJ&printsec=frontcover&img=1&zoom=1&source=gbs_api   \n",
       "105                                                                                                               NaN   \n",
       "...                                                                                                               ...   \n",
       "6787            http://books.google.com/books/content?id=PuDYwAEACAAJ&printsec=frontcover&img=1&zoom=1&source=gbs_api   \n",
       "6788  http://books.google.com/books/content?id=WXOym0xs3vYC&printsec=frontcover&img=1&zoom=1&edge=curl&source=gbs_api   \n",
       "6798            http://books.google.com/books/content?id=xGPZAQAACAAJ&printsec=frontcover&img=1&zoom=1&source=gbs_api   \n",
       "6806            http://books.google.com/books/content?id=XcrVpL1byOkC&printsec=frontcover&img=1&zoom=1&source=gbs_api   \n",
       "6807                                                                                                              NaN   \n",
       "\n",
       "                                                                                                                                                                                                                   description  \\\n",
       "37                                                                                                                                                                                                                         NaN   \n",
       "60                                                                                                                                                                                                                         NaN   \n",
       "99                                                                                                                                                                                                                         NaN   \n",
       "102                                                                                                                                                                                                                        NaN   \n",
       "105                                                                                                                                                                                                                        NaN   \n",
       "...                                                                                                                                                                                                                        ...   \n",
       "6787                                                                                                                                                                                                                       NaN   \n",
       "6788                                                                                                                                                                                                                       NaN   \n",
       "6798  Presents the adventures of a new group of heroes, including Grace, a bouncer working at a metahuman club; cyborg girl Indigo; Thunder, the mass-changing daughter of Black Lightning, and the shape shifter, Metamorpho.   \n",
       "6806                                                                                                                                                                                                                       NaN   \n",
       "6807                                                                                                                                                                                                                       NaN   \n",
       "\n",
       "      published_year  average_rating  num_pages  ratings_count  \\\n",
       "37            2000.0            4.10      159.0          446.0   \n",
       "60            2002.0            4.14      186.0        56781.0   \n",
       "99            1978.0            4.26     1425.0         1446.0   \n",
       "102           1953.0            3.64       95.0          430.0   \n",
       "105           1976.0            4.12      463.0            6.0   \n",
       "...              ...             ...        ...            ...   \n",
       "6787          2002.0            3.80      256.0          155.0   \n",
       "6788          2006.0            0.00      254.0            0.0   \n",
       "6798          2007.0             NaN        NaN            NaN   \n",
       "6806          1993.0            4.08       74.0          324.0   \n",
       "6807          2004.0            3.98      186.0         5733.0   \n",
       "\n",
       "      missing_description  book_age  \n",
       "37                      1      25.0  \n",
       "60                      1      23.0  \n",
       "99                      1      47.0  \n",
       "102                     1      72.0  \n",
       "105                     1      49.0  \n",
       "...                   ...       ...  \n",
       "6787                    1      23.0  \n",
       "6788                    1      19.0  \n",
       "6798                    0      18.0  \n",
       "6806                    1      32.0  \n",
       "6807                    1      21.0  \n",
       "\n",
       "[303 rows x 14 columns]"
      ]
     },
     "execution_count": 46,
     "metadata": {},
     "output_type": "execute_result"
    }
   ],
   "source": [
    "missing_data = df[(df[\"description\"].isna()) | \n",
    "\t\t\t\t\t(df[\"num_pages\"].isna()) | \n",
    "\t\t\t\t\t(df[\"average_rating\"].isna()) | \n",
    "\t\t\t\t\t(df[\"published_year\"].isna())]\n",
    "\n",
    "missing_data"
   ]
  },
  {
   "cell_type": "code",
   "execution_count": 47,
   "metadata": {},
   "outputs": [
    {
     "name": "stdout",
     "output_type": "stream",
     "text": [
      "Number of rows with missing values: 303\n",
      "Total number of rows: 6810\n",
      "Percentage of rows with missing values: 4.45%\n",
      "Missing in description: 262 rows (3.85%)\n",
      "Missing in num_pages: 43 rows (0.63%)\n",
      "Missing in average_rating: 43 rows (0.63%)\n",
      "Missing in published_year: 6 rows (0.09%)\n"
     ]
    }
   ],
   "source": [
    "missing_rows = missing_data.shape[0]\n",
    "\n",
    "total_rows = df.shape[0]\n",
    "\n",
    "percentage_missing = (missing_rows / total_rows) * 100\n",
    "\n",
    "print(f\"Number of rows with missing values: {missing_rows}\")\n",
    "print(f\"Total number of rows: {total_rows}\")\n",
    "print(f\"Percentage of rows with missing values: {percentage_missing:.2f}%\")\n",
    "\n",
    "columns_to_check = [\"description\", \"num_pages\", \"average_rating\", \"published_year\"]\n",
    "for column in columns_to_check:\n",
    "\tmissing_count = df[df[column].isna()].shape[0]\n",
    "\tpercentage = (missing_count / total_rows) * 100\n",
    "\tprint(f\"Missing in {column}: {missing_count} rows ({percentage:.2f}%)\")"
   ]
  },
  {
   "cell_type": "markdown",
   "metadata": {},
   "source": [
    "### Observation:\n",
    "\n",
    "* As missing values of columns `description`, `num_pages`, `average_rating` and \n",
    "\t`published_year` is less than 5 % (4.45 %) we can simply remove them."
   ]
  },
  {
   "cell_type": "code",
   "execution_count": 48,
   "metadata": {},
   "outputs": [],
   "source": [
    "cleaned_books = df[~(df[\"description\"].isna()) & \n",
    "\t\t\t\t\t~(df[\"num_pages\"].isna()) & \n",
    "\t\t\t\t\t~(df[\"average_rating\"].isna()) & \n",
    "\t\t\t\t\t~(df[\"published_year\"].isna())]"
   ]
  },
  {
   "cell_type": "code",
   "execution_count": 49,
   "metadata": {},
   "outputs": [
    {
     "data": {
      "text/plain": [
       "(6507, 14)"
      ]
     },
     "execution_count": 49,
     "metadata": {},
     "output_type": "execute_result"
    }
   ],
   "source": [
    "cleaned_books.shape"
   ]
  },
  {
   "cell_type": "markdown",
   "metadata": {},
   "source": [
    "* Let's explore categories column"
   ]
  },
  {
   "cell_type": "code",
   "execution_count": 50,
   "metadata": {},
   "outputs": [
    {
     "data": {
      "application/vnd.microsoft.datawrangler.viewer.v0+json": {
       "columns": [
        {
         "name": "index",
         "rawType": "int64",
         "type": "integer"
        },
        {
         "name": "categories",
         "rawType": "object",
         "type": "string"
        },
        {
         "name": "count",
         "rawType": "int64",
         "type": "integer"
        }
       ],
       "ref": "b500299b-3c11-44e3-a0b4-29057802101d",
       "rows": [
        [
         "0",
         "Fiction",
         "2523"
        ],
        [
         "1",
         "Juvenile Fiction",
         "534"
        ],
        [
         "2",
         "Biography & Autobiography",
         "391"
        ],
        [
         "3",
         "History",
         "258"
        ],
        [
         "4",
         "Literary Criticism",
         "164"
        ],
        [
         "5",
         "Philosophy",
         "154"
        ],
        [
         "6",
         "Comics & Graphic Novels",
         "152"
        ],
        [
         "7",
         "Religion",
         "136"
        ],
        [
         "8",
         "Drama",
         "126"
        ],
        [
         "9",
         "Juvenile Nonfiction",
         "114"
        ],
        [
         "10",
         "Poetry",
         "75"
        ],
        [
         "11",
         "Literary Collections",
         "70"
        ],
        [
         "12",
         "Science",
         "69"
        ],
        [
         "13",
         "Business & Economics",
         "66"
        ],
        [
         "14",
         "Social Science",
         "58"
        ],
        [
         "15",
         "Performing Arts",
         "49"
        ],
        [
         "16",
         "Cooking",
         "46"
        ],
        [
         "17",
         "Art",
         "45"
        ],
        [
         "18",
         "Body, Mind & Spirit",
         "44"
        ],
        [
         "19",
         "Travel",
         "43"
        ],
        [
         "20",
         "Computers",
         "42"
        ],
        [
         "21",
         "Psychology",
         "41"
        ],
        [
         "23",
         "Self-Help",
         "36"
        ],
        [
         "22",
         "Political Science",
         "36"
        ],
        [
         "24",
         "Family & Relationships",
         "34"
        ],
        [
         "26",
         "Health & Fitness",
         "32"
        ],
        [
         "25",
         "Humor",
         "32"
        ],
        [
         "27",
         "Language Arts & Disciplines",
         "31"
        ],
        [
         "29",
         "Children's stories",
         "27"
        ],
        [
         "28",
         "Education",
         "27"
        ],
        [
         "31",
         "Medical",
         "24"
        ],
        [
         "30",
         "Nature",
         "24"
        ],
        [
         "32",
         "Adventure stories",
         "22"
        ],
        [
         "34",
         "Games",
         "19"
        ],
        [
         "33",
         "Music",
         "19"
        ],
        [
         "35",
         "English fiction",
         "18"
        ],
        [
         "36",
         "Sports & Recreation",
         "17"
        ],
        [
         "37",
         "Detective and mystery stories",
         "16"
        ],
        [
         "38",
         "Fantasy fiction",
         "15"
        ],
        [
         "39",
         "American fiction",
         "14"
        ],
        [
         "40",
         "True Crime",
         "12"
        ],
        [
         "41",
         "Foreign Language Study",
         "12"
        ],
        [
         "42",
         "Reference",
         "11"
        ],
        [
         "44",
         "Photography",
         "11"
        ],
        [
         "43",
         "Law",
         "11"
        ],
        [
         "45",
         "Architecture",
         "10"
        ],
        [
         "46",
         "Science fiction",
         "9"
        ],
        [
         "47",
         "Crafts & Hobbies",
         "8"
        ],
        [
         "51",
         "Pets",
         "8"
        ],
        [
         "50",
         "Young Adult Fiction",
         "8"
        ]
       ],
       "shape": {
        "columns": 2,
        "rows": 531
       }
      },
      "text/html": [
       "<div>\n",
       "<style scoped>\n",
       "    .dataframe tbody tr th:only-of-type {\n",
       "        vertical-align: middle;\n",
       "    }\n",
       "\n",
       "    .dataframe tbody tr th {\n",
       "        vertical-align: top;\n",
       "    }\n",
       "\n",
       "    .dataframe thead th {\n",
       "        text-align: right;\n",
       "    }\n",
       "</style>\n",
       "<table border=\"1\" class=\"dataframe\">\n",
       "  <thead>\n",
       "    <tr style=\"text-align: right;\">\n",
       "      <th></th>\n",
       "      <th>categories</th>\n",
       "      <th>count</th>\n",
       "    </tr>\n",
       "  </thead>\n",
       "  <tbody>\n",
       "    <tr>\n",
       "      <th>0</th>\n",
       "      <td>Fiction</td>\n",
       "      <td>2523</td>\n",
       "    </tr>\n",
       "    <tr>\n",
       "      <th>1</th>\n",
       "      <td>Juvenile Fiction</td>\n",
       "      <td>534</td>\n",
       "    </tr>\n",
       "    <tr>\n",
       "      <th>2</th>\n",
       "      <td>Biography &amp; Autobiography</td>\n",
       "      <td>391</td>\n",
       "    </tr>\n",
       "    <tr>\n",
       "      <th>3</th>\n",
       "      <td>History</td>\n",
       "      <td>258</td>\n",
       "    </tr>\n",
       "    <tr>\n",
       "      <th>4</th>\n",
       "      <td>Literary Criticism</td>\n",
       "      <td>164</td>\n",
       "    </tr>\n",
       "    <tr>\n",
       "      <th>...</th>\n",
       "      <td>...</td>\n",
       "      <td>...</td>\n",
       "    </tr>\n",
       "    <tr>\n",
       "      <th>519</th>\n",
       "      <td>Aeronautics</td>\n",
       "      <td>1</td>\n",
       "    </tr>\n",
       "    <tr>\n",
       "      <th>518</th>\n",
       "      <td>Childbirth</td>\n",
       "      <td>1</td>\n",
       "    </tr>\n",
       "    <tr>\n",
       "      <th>517</th>\n",
       "      <td>Consumer behavior</td>\n",
       "      <td>1</td>\n",
       "    </tr>\n",
       "    <tr>\n",
       "      <th>516</th>\n",
       "      <td>Seduction</td>\n",
       "      <td>1</td>\n",
       "    </tr>\n",
       "    <tr>\n",
       "      <th>515</th>\n",
       "      <td>Conan (Fictitious character)</td>\n",
       "      <td>1</td>\n",
       "    </tr>\n",
       "  </tbody>\n",
       "</table>\n",
       "<p>531 rows × 2 columns</p>\n",
       "</div>"
      ],
      "text/plain": [
       "                       categories  count\n",
       "0                         Fiction   2523\n",
       "1                Juvenile Fiction    534\n",
       "2       Biography & Autobiography    391\n",
       "3                         History    258\n",
       "4              Literary Criticism    164\n",
       "..                            ...    ...\n",
       "519                   Aeronautics      1\n",
       "518                    Childbirth      1\n",
       "517             Consumer behavior      1\n",
       "516                     Seduction      1\n",
       "515  Conan (Fictitious character)      1\n",
       "\n",
       "[531 rows x 2 columns]"
      ]
     },
     "execution_count": 50,
     "metadata": {},
     "output_type": "execute_result"
    }
   ],
   "source": [
    "cleaned_books['categories'].value_counts().reset_index().sort_values(by='count', ascending=False)"
   ]
  },
  {
   "cell_type": "markdown",
   "metadata": {},
   "source": [
    "### Observation:\n",
    "* There are 531 unique categories which is too much."
   ]
  },
  {
   "cell_type": "code",
   "execution_count": 51,
   "metadata": {},
   "outputs": [
    {
     "data": {
      "application/vnd.plotly.v1+json": {
       "config": {
        "plotlyServerURL": "https://plot.ly"
       },
       "data": [
        {
         "hovertemplate": "category=%{x}<br>count=%{marker.color}<extra></extra>",
         "legendgroup": "",
         "marker": {
          "color": {
           "bdata": "2wkWAocBAgGkAJoAmACIAH4AcgBLAEYARQBCADoAMQAuAC0ALAArACoAKQAkACQAIgAgACAAHwAbABsAGAAYABYAEwATABIAEQAQAA8ADgAMAAwACwALAAsACgAJAAgACAAIAAgACAAHAAcABwAHAAcABwAHAAYABgAGAAYABgAGAAYABQAFAAUABQAFAAUABAAEAAQABAAEAAQABAAEAAQABAAEAAQAAwADAAMAAwADAAMAAwADAAMAAwADAAMAAwADAAMAAwADAAMAAwADAAMAAwADAAIAAgACAAIAAgACAAIAAgACAAIAAgACAAIAAgACAAIAAgACAAIAAgACAAIAAgACAAIAAgACAAIAAgACAAIAAgACAAIAAgACAAIAAgACAAIAAgACAAIAAgACAAIAAgACAAIAAgACAAIAAgABAAEAAQABAAEAAQABAAEAAQABAAEAAQABAAEAAQABAAEAAQABAAEAAQABAAEAAQABAAEAAQABAAEAAQABAAEAAQABAAEAAQABAAEAAQABAAEAAQABAAEAAQABAAEAAQABAAEAAQABAAEAAQABAAEAAQABAAEAAQABAAEAAQABAAEAAQABAAEAAQABAAEAAQABAAEAAQABAAEAAQABAAEAAQABAAEAAQABAAEAAQABAAEAAQABAAEAAQABAAEAAQABAAEAAQABAAEAAQABAAEAAQABAAEAAQABAAEAAQABAAEAAQABAAEAAQABAAEAAQABAAEAAQABAAEAAQABAAEAAQABAAEAAQABAAEAAQABAAEAAQABAAEAAQABAAEAAQABAAEAAQABAAEAAQABAAEAAQABAAEAAQABAAEAAQABAAEAAQABAAEAAQABAAEAAQABAAEAAQABAAEAAQABAAEAAQABAAEAAQABAAEAAQABAAEAAQABAAEAAQABAAEAAQABAAEAAQABAAEAAQABAAEAAQABAAEAAQABAAEAAQABAAEAAQABAAEAAQABAAEAAQABAAEAAQABAAEAAQABAAEAAQABAAEAAQABAAEAAQABAAEAAQABAAEAAQABAAEAAQABAAEAAQABAAEAAQABAAEAAQABAAEAAQABAAEAAQABAAEAAQABAAEAAQABAAEAAQABAAEAAQABAAEAAQABAAEAAQABAAEAAQABAAEAAQABAAEAAQABAAEAAQABAAEAAQABAAEAAQABAAEAAQABAAEAAQABAAEAAQABAAEAAQABAAEAAQABAAEAAQABAAEAAQABAAEAAQABAAEAAQABAAEAAQABAAEAAQABAAEAAQABAAEAAQABAAEAAQABAAEAAQABAAEAAQABAAEAAQABAAEAAQABAAEAAQABAAEAAQABAAEAAQABAAEAAQABAAEAAQABAAEAAQABAAEAAQABAAEAAQABAAEA",
           "dtype": "i2"
          },
          "coloraxis": "coloraxis",
          "pattern": {
           "shape": ""
          }
         },
         "name": "",
         "orientation": "v",
         "showlegend": false,
         "textposition": "auto",
         "type": "bar",
         "x": [
          "Fiction",
          "Juvenile Fiction",
          "Biography & Autobiography",
          "History",
          "Literary Criticism",
          "Philosophy",
          "Comics & Graphic Novels",
          "Religion",
          "Drama",
          "Juvenile Nonfiction",
          "Poetry",
          "Literary Collections",
          "Science",
          "Business & Economics",
          "Social Science",
          "Performing Arts",
          "Cooking",
          "Art",
          "Body, Mind & Spirit",
          "Travel",
          "Computers",
          "Psychology",
          "Political Science",
          "Self-Help",
          "Family & Relationships",
          "Humor",
          "Health & Fitness",
          "Language Arts & Disciplines",
          "Education",
          "Children's stories",
          "Nature",
          "Medical",
          "Adventure stories",
          "Music",
          "Games",
          "English fiction",
          "Sports & Recreation",
          "Detective and mystery stories",
          "Fantasy fiction",
          "American fiction",
          "True Crime",
          "Foreign Language Study",
          "Reference",
          "Law",
          "Photography",
          "Architecture",
          "Science fiction",
          "Crafts & Hobbies",
          "Authors, American",
          "Americans",
          "Young Adult Fiction",
          "Pets",
          "City and town life",
          "Games & Activities",
          "Mathematics",
          "England",
          "Fantasy",
          "Life on other planets",
          "Short stories",
          "Adultery",
          "American literature",
          "Design",
          "Discworld (Imaginary place)",
          "Gardening",
          "FICTION",
          "Families",
          "Bail bond agents",
          "Technology & Engineering",
          "Study Aids",
          "Baggins, Frodo (Fictitious character)",
          "London (England)",
          "British",
          "Great Britain",
          "Cosmology",
          "Domestic fiction",
          "Detective and mystery stories, English",
          "Authors, English",
          "Conduct of life",
          "Graphic novels",
          "Classical fiction",
          "Blind",
          "Boston (Mass.)",
          "House & Home",
          "Fantasy fiction, American",
          "Beowulf",
          "Authors",
          "Antiques & Collectibles",
          "Friendship",
          "BIOGRAPHY & AUTOBIOGRAPHY",
          "Humorous stories, English",
          "Bible",
          "Children's stories, English",
          "African Americans",
          "Botswana",
          "Fairy tales",
          "Fantasy fiction, English",
          "Horror tales",
          "Dreams",
          "Cats",
          "Cities and towns",
          "Brothers",
          "Boys",
          "Continental Op (Fictitious character)",
          "China",
          "Comic books, strips, etc",
          "Christian life",
          "Bibles",
          "Cowboys",
          "Alienation (Social psychology)",
          "Intelligence service",
          "Latin America",
          "Political science",
          "Christianity",
          "Japan",
          "College teachers",
          "Experimental fiction",
          "Folklore",
          "United States",
          "History, Modern",
          "Historical fiction",
          "Europe",
          "American poetry",
          "Belgians",
          "Australia",
          "Cookery",
          "Horror tales, American",
          "Christmas stories",
          "Short stories, American",
          "Man-woman relationships",
          "Dent, Arthur (Fictitious character)",
          "Los Angeles (Calif.)",
          "Children's poetry, American",
          "Children of the rich",
          "Bond, James (Fictitious character)",
          "Chocolate",
          "Capitalism",
          "Contests",
          "Finance, Personal",
          "Arctic regions",
          "Canada",
          "English language",
          "Christmas",
          "Ballet",
          "Family life",
          "Adventure fiction",
          "Alcoholics",
          "Australian fiction",
          "Arithmetic",
          "Crusades",
          "American wit and humor, Pictorial",
          "English drama",
          "JUVENILE FICTION",
          "Transportation",
          "Magic",
          "Arthurian romances",
          "Cancer",
          "Antiheroes",
          "Death",
          "English",
          "Science fiction, American",
          "Alzheimer's disease",
          "Comedy",
          "Anger",
          "Dangerously mentally ill",
          "Amis, Kingsley",
          "Slave insurrections",
          "Dublin (Ireland)",
          "Azerbaijan",
          "Authors, Arab",
          "Exorcism",
          "Authors, German",
          "Crime investigation",
          "Businesswomen",
          "Galicia (Spain : Region)",
          "Horror",
          "Social action",
          "Human behavior",
          "Gangs",
          "Badgers",
          "Atonement",
          "World War, 1914-1918",
          "Accidents",
          "Feature films [DVD]",
          "Demonology",
          "Egyptologists",
          "Bracelets",
          "Divorced women",
          "American essays",
          "Vietnam War, 1961-1975",
          "Parenthood",
          "Hallucinogenic drugs",
          "Fairy tales, English",
          "Characters and characteristics in motion pictures",
          "Emotional problems",
          "Business enterprises",
          "Cults",
          "Albigenses",
          "Existential psychotherapy",
          "Electrons",
          "Pigeons",
          "Ghost stories, American",
          "Igbo (African people)",
          "War",
          "Literature",
          "College attendance",
          "Amour - Ouvrages avant 1800",
          "English poetry",
          "High schools",
          "Obesity",
          "Canadian wit and humor",
          "Authors, Italian",
          "Confucianism",
          "Tobruk, Battles of, 1941-1942",
          "Sex",
          "French drama",
          "Czechoslovakia",
          "Men",
          "Novelists, American",
          "Argentine literature",
          "Experimental fiction, American",
          "American wit and humor",
          "Children of Holocaust survivors",
          "Jews",
          "Cabrillo, Juan (Fictitious character)",
          "Dead",
          "Dracula, Count (Fictitious character)",
          "Courtship",
          "Candy",
          "Curiosities and wonders",
          "First loves",
          "Agriculture",
          "Adult children",
          "Adirondack Mountains (N.Y.)",
          "Sea monsters",
          "Handicapped youth",
          "Mentally ill",
          "Repression (Psychology)",
          "Epidemics",
          "Literary Criticism & Collections",
          "Art museum curators",
          "Poets, Chilean",
          "Psychoanalysis and religion",
          "Zero (The number)",
          "Baggins, Bilbo (Fictitious character)",
          "Little, Stuart (Fictitious character)",
          "Babytime resource",
          "Greek drama (Tragedy)",
          "Erinyes (Greek mythology)",
          "Mormon fundamentalism",
          "Bosnia and Hercegovina",
          "Political leadership",
          "Catholics",
          "Diary fiction",
          "Egypt",
          "Conspiracies",
          "Brothers and sisters",
          "Banks and banking, British",
          "Rock musicians",
          "Community life",
          "Air pilots",
          "Abandoned mines",
          "Authors, Canadian",
          "New England",
          "Animal sanctuaries",
          "Adventure stories, English",
          "Germany",
          "Actresses",
          "Apartments",
          "Books",
          "Antislavery movements",
          "Paris (France)",
          "Autonomy (Psychology).",
          "Bombings",
          "India",
          "Murder",
          "Cocaine industry",
          "American Wit And Humour",
          "Vice-Presidents",
          "Apartheid",
          "Misogyny",
          "Popular culture",
          "Antisemitism",
          "Political fiction",
          "Auschwitz (Poland : Concentration camp)",
          "Amnesia",
          "Motion picture plays",
          "Human-alien encounters",
          "Bereavement",
          "Buddhism",
          "Dating (Social customs)",
          "Children's plays",
          "American drama",
          "Lecter, Hannibal (Fictitious character)",
          "Ryan, Jack (Fictitious character)",
          "Caterpillars",
          "Occult fiction",
          "Cooking, French",
          "France",
          "Adolescence",
          "Bullying",
          "Television",
          "Imperialism",
          "Queens",
          "Alanna (Fictitious character : Pierce)",
          "Stone age",
          "Ghost stories",
          "Elves",
          "Trials (Witchcraft)",
          "Horror stories",
          "Girls",
          "Babysitters Club (Imaginary organization)",
          "Diaries",
          "Animals, Mythical",
          "Marple, Jane (Fictitious character)",
          "Brewing",
          "Poirot, Hercule (Fictitious character)",
          "Arabic fiction",
          "Criminals",
          "Persian Gulf War, 1991",
          "Drenai (Imaginary place)",
          "Science fiction, English",
          "Detective and mystery stories, English.",
          "Science fiction, English.",
          "Blake, Anita (Fictitious character)",
          "Dominican Republic",
          "Allegories",
          "Mental illness",
          "Fantasy.",
          "Latin poetry",
          "Hitchhiking",
          "Civil law",
          "Czech fiction",
          "Airplane crash survival",
          "Amazon River Region",
          "Dysfunctional families",
          "Divorced people",
          "Manuscripts",
          "Apprentices",
          "Eretz Israel",
          "Imaginary wars and battles",
          "New York (State)",
          "Beresford, Tommy (Fictitious character)",
          "Cider house rules. (Motion picture)",
          "Ballet dancers",
          "Alternative histories (Fiction)",
          "Short stories, English",
          "Boarding schools",
          "Motion picture actors and actresses",
          "Apartment houses",
          "Male friendship",
          "Black humor (Literature)",
          "Mathematicians",
          "Englisch - Geschichte - Lyrik - Aufsatzsammlung",
          "Prisoners of war",
          "Czech Republic",
          "Poets, American",
          "Gambling",
          "Teenagers",
          "Bus travel",
          "Polish poetry",
          "Alcestis (Greek mythology)",
          "Love poetry",
          "Electronic books",
          "Espionage",
          "Ireland",
          "Sexual behavior surveys",
          "Aged women",
          "Family",
          "Indic fiction (English)",
          "Horror stories.",
          "Human cloning",
          "Acting",
          "Adult education",
          "Behavior",
          "Black Death",
          "Friendship in adolescence",
          "Interplanetary voyages",
          "Aboriginal Australians",
          "Angels",
          "Business women",
          "Psycho (Motion picture : 1960)",
          "Democracy",
          "Computer science",
          "Music trade",
          "Aubrey, Jack (Fictitious character)",
          "Animal sounds",
          "Essentialism (Philosophy)",
          "Clergy",
          "Provence (France)",
          "Sex customs",
          "African American men",
          "Boarding school-fiction",
          "Humorous fiction",
          "Businessmen",
          "City girl",
          "Blacks",
          "Language and languages",
          "Birds",
          "Love",
          "Explorers",
          "Archaeological expeditions",
          "Partition of decedents' estates",
          "Reducing diets",
          "Labrador retriever",
          "Country life",
          "Chrestomanci (Fictitious character)",
          "Photographers",
          "Dallas, Eve (Fictitious character)",
          "Confianza en sí mismo",
          "Cosmetics industry",
          "Bedtime",
          "Outlaws",
          "Hyland, Morn (Fictitious character)",
          "Aging",
          "Adventure stories, American",
          "Canterbury (England)",
          "Actors",
          "Kyoto (Japan)",
          "Film producers and directors",
          "Computer programmers",
          "Cornwall (England : County)",
          "Female friendship",
          "Chick lit",
          "Austria",
          "Crime investigations",
          "College stories",
          "Defectors",
          "Organized Crime",
          "Women terrorists",
          "87th Precinct (Imaginary place)",
          "African Americans in radio broadcasting",
          "Conner, Rainie (Fictitious character)",
          "Birthparents",
          "Abused wives",
          "Amyotrophic lateral sclerosis",
          "Benedictine monasteries",
          "Castle Rock (Me. : Imaginary place)",
          "Escapes",
          "Novelists, English",
          "Divorce",
          "Insane, Criminal and dangerous",
          "Christian saints",
          "Dragons",
          "Large print books",
          "Heroes",
          "Good and evil",
          "Dystopias",
          "Cambridge (Mass.)",
          "Battle, Superintendent (Fictitious character)",
          "Zoology",
          "Grandmothers",
          "Holt, Max (Fictitious character)",
          "Cellists",
          "Surealism",
          "Nanjing (Jiangsu Sheng, China)",
          "Book burning",
          "Humorous stories, American",
          "Yoknapatawpha County (Imaginary place)",
          "Illinois",
          "Bumppo, Natty (Fictitious character)",
          "Artists",
          "European fiction",
          "Physics",
          "Cookbooks",
          "Aeneas (Legendary character)",
          "Theology, Doctrinal",
          "Detective and mystery comic books, strips, etc",
          "Sea stories",
          "Animals, Treatment of",
          "Aircraft accidents",
          "Human-animal relationships",
          "Amish",
          "LITERARY CRITICISM",
          "Building laws",
          "Inventions",
          "English essays",
          "Botanique",
          "Autism",
          "Existentialism",
          "Audiobooks",
          "Communication in families",
          "African American plantation owners",
          "Costume",
          "Cerebrovascular disease",
          "Shipwrecks",
          "Black market",
          "Epic literature",
          "Astronomers",
          "Death (Fictitious character : Gaiman)",
          "Authors, Cuban",
          "Estados Unidos - Relaciones exteriores - 1945-1989",
          "Church work with the poor",
          "Actors and actresses",
          "Married people",
          "Assassins",
          "Gardens",
          "Butlers",
          "Humorous stories",
          "Ballets",
          "Physicists",
          "Napoleonic Wars, 1800-1815",
          "Christian fiction",
          "Gay men",
          "Meditation",
          "Spiritual life",
          "Minimal brain dysfunction in children",
          "People with social disabilities",
          "Boats and boating",
          "Adjustment (Psychology)",
          "Everest, Mount (China and Nepal)",
          "Amnesty",
          "Detective and mystery stories, American",
          "Africa, East",
          "Mothers and sons",
          "Nineteen ninety-eight, A.D.",
          "Conan (Fictitious character)",
          "Seduction",
          "Consumer behavior",
          "Childbirth",
          "Aeronautics",
          "Lisbon (Portugal)",
          "Disasters",
          "Bosnia and Herzegovina",
          "Mars (Planet)",
          "Essays",
          "Identity (Psychology)",
          "Courage",
          "Otherland (Imaginary place)",
          "Animals",
          "Children of divorced parents",
          "Catholic women"
         ],
         "xaxis": "x",
         "y": {
          "bdata": "2wkWAocBAgGkAJoAmACIAH4AcgBLAEYARQBCADoAMQAuAC0ALAArACoAKQAkACQAIgAgACAAHwAbABsAGAAYABYAEwATABIAEQAQAA8ADgAMAAwACwALAAsACgAJAAgACAAIAAgACAAHAAcABwAHAAcABwAHAAYABgAGAAYABgAGAAYABQAFAAUABQAFAAUABAAEAAQABAAEAAQABAAEAAQABAAEAAQAAwADAAMAAwADAAMAAwADAAMAAwADAAMAAwADAAMAAwADAAMAAwADAAMAAwADAAIAAgACAAIAAgACAAIAAgACAAIAAgACAAIAAgACAAIAAgACAAIAAgACAAIAAgACAAIAAgACAAIAAgACAAIAAgACAAIAAgACAAIAAgACAAIAAgACAAIAAgACAAIAAgACAAIAAgACAAIAAgABAAEAAQABAAEAAQABAAEAAQABAAEAAQABAAEAAQABAAEAAQABAAEAAQABAAEAAQABAAEAAQABAAEAAQABAAEAAQABAAEAAQABAAEAAQABAAEAAQABAAEAAQABAAEAAQABAAEAAQABAAEAAQABAAEAAQABAAEAAQABAAEAAQABAAEAAQABAAEAAQABAAEAAQABAAEAAQABAAEAAQABAAEAAQABAAEAAQABAAEAAQABAAEAAQABAAEAAQABAAEAAQABAAEAAQABAAEAAQABAAEAAQABAAEAAQABAAEAAQABAAEAAQABAAEAAQABAAEAAQABAAEAAQABAAEAAQABAAEAAQABAAEAAQABAAEAAQABAAEAAQABAAEAAQABAAEAAQABAAEAAQABAAEAAQABAAEAAQABAAEAAQABAAEAAQABAAEAAQABAAEAAQABAAEAAQABAAEAAQABAAEAAQABAAEAAQABAAEAAQABAAEAAQABAAEAAQABAAEAAQABAAEAAQABAAEAAQABAAEAAQABAAEAAQABAAEAAQABAAEAAQABAAEAAQABAAEAAQABAAEAAQABAAEAAQABAAEAAQABAAEAAQABAAEAAQABAAEAAQABAAEAAQABAAEAAQABAAEAAQABAAEAAQABAAEAAQABAAEAAQABAAEAAQABAAEAAQABAAEAAQABAAEAAQABAAEAAQABAAEAAQABAAEAAQABAAEAAQABAAEAAQABAAEAAQABAAEAAQABAAEAAQABAAEAAQABAAEAAQABAAEAAQABAAEAAQABAAEAAQABAAEAAQABAAEAAQABAAEAAQABAAEAAQABAAEAAQABAAEAAQABAAEAAQABAAEAAQABAAEAAQABAAEAAQABAAEAAQABAAEAAQABAAEAAQABAAEAAQABAAEAAQABAAEAAQABAAEAAQABAAEAAQABAAEAAQABAAEAAQABAAEAAQABAAEAAQABAAEAAQABAAEA",
          "dtype": "i2"
         },
         "yaxis": "y"
        }
       ],
       "layout": {
        "barmode": "relative",
        "coloraxis": {
         "colorbar": {
          "title": {
           "text": "count"
          }
         },
         "colorscale": [
          [
           0,
           "#440154"
          ],
          [
           0.1111111111111111,
           "#482878"
          ],
          [
           0.2222222222222222,
           "#3e4989"
          ],
          [
           0.3333333333333333,
           "#31688e"
          ],
          [
           0.4444444444444444,
           "#26828e"
          ],
          [
           0.5555555555555556,
           "#1f9e89"
          ],
          [
           0.6666666666666666,
           "#35b779"
          ],
          [
           0.7777777777777778,
           "#6ece58"
          ],
          [
           0.8888888888888888,
           "#b5de2b"
          ],
          [
           1,
           "#fde725"
          ]
         ]
        },
        "height": 600,
        "legend": {
         "tracegroupgap": 0
        },
        "margin": {
         "t": 60
        },
        "template": {
         "data": {
          "bar": [
           {
            "error_x": {
             "color": "#2a3f5f"
            },
            "error_y": {
             "color": "#2a3f5f"
            },
            "marker": {
             "line": {
              "color": "#E5ECF6",
              "width": 0.5
             },
             "pattern": {
              "fillmode": "overlay",
              "size": 10,
              "solidity": 0.2
             }
            },
            "type": "bar"
           }
          ],
          "barpolar": [
           {
            "marker": {
             "line": {
              "color": "#E5ECF6",
              "width": 0.5
             },
             "pattern": {
              "fillmode": "overlay",
              "size": 10,
              "solidity": 0.2
             }
            },
            "type": "barpolar"
           }
          ],
          "carpet": [
           {
            "aaxis": {
             "endlinecolor": "#2a3f5f",
             "gridcolor": "white",
             "linecolor": "white",
             "minorgridcolor": "white",
             "startlinecolor": "#2a3f5f"
            },
            "baxis": {
             "endlinecolor": "#2a3f5f",
             "gridcolor": "white",
             "linecolor": "white",
             "minorgridcolor": "white",
             "startlinecolor": "#2a3f5f"
            },
            "type": "carpet"
           }
          ],
          "choropleth": [
           {
            "colorbar": {
             "outlinewidth": 0,
             "ticks": ""
            },
            "type": "choropleth"
           }
          ],
          "contour": [
           {
            "colorbar": {
             "outlinewidth": 0,
             "ticks": ""
            },
            "colorscale": [
             [
              0,
              "#0d0887"
             ],
             [
              0.1111111111111111,
              "#46039f"
             ],
             [
              0.2222222222222222,
              "#7201a8"
             ],
             [
              0.3333333333333333,
              "#9c179e"
             ],
             [
              0.4444444444444444,
              "#bd3786"
             ],
             [
              0.5555555555555556,
              "#d8576b"
             ],
             [
              0.6666666666666666,
              "#ed7953"
             ],
             [
              0.7777777777777778,
              "#fb9f3a"
             ],
             [
              0.8888888888888888,
              "#fdca26"
             ],
             [
              1,
              "#f0f921"
             ]
            ],
            "type": "contour"
           }
          ],
          "contourcarpet": [
           {
            "colorbar": {
             "outlinewidth": 0,
             "ticks": ""
            },
            "type": "contourcarpet"
           }
          ],
          "heatmap": [
           {
            "colorbar": {
             "outlinewidth": 0,
             "ticks": ""
            },
            "colorscale": [
             [
              0,
              "#0d0887"
             ],
             [
              0.1111111111111111,
              "#46039f"
             ],
             [
              0.2222222222222222,
              "#7201a8"
             ],
             [
              0.3333333333333333,
              "#9c179e"
             ],
             [
              0.4444444444444444,
              "#bd3786"
             ],
             [
              0.5555555555555556,
              "#d8576b"
             ],
             [
              0.6666666666666666,
              "#ed7953"
             ],
             [
              0.7777777777777778,
              "#fb9f3a"
             ],
             [
              0.8888888888888888,
              "#fdca26"
             ],
             [
              1,
              "#f0f921"
             ]
            ],
            "type": "heatmap"
           }
          ],
          "histogram": [
           {
            "marker": {
             "pattern": {
              "fillmode": "overlay",
              "size": 10,
              "solidity": 0.2
             }
            },
            "type": "histogram"
           }
          ],
          "histogram2d": [
           {
            "colorbar": {
             "outlinewidth": 0,
             "ticks": ""
            },
            "colorscale": [
             [
              0,
              "#0d0887"
             ],
             [
              0.1111111111111111,
              "#46039f"
             ],
             [
              0.2222222222222222,
              "#7201a8"
             ],
             [
              0.3333333333333333,
              "#9c179e"
             ],
             [
              0.4444444444444444,
              "#bd3786"
             ],
             [
              0.5555555555555556,
              "#d8576b"
             ],
             [
              0.6666666666666666,
              "#ed7953"
             ],
             [
              0.7777777777777778,
              "#fb9f3a"
             ],
             [
              0.8888888888888888,
              "#fdca26"
             ],
             [
              1,
              "#f0f921"
             ]
            ],
            "type": "histogram2d"
           }
          ],
          "histogram2dcontour": [
           {
            "colorbar": {
             "outlinewidth": 0,
             "ticks": ""
            },
            "colorscale": [
             [
              0,
              "#0d0887"
             ],
             [
              0.1111111111111111,
              "#46039f"
             ],
             [
              0.2222222222222222,
              "#7201a8"
             ],
             [
              0.3333333333333333,
              "#9c179e"
             ],
             [
              0.4444444444444444,
              "#bd3786"
             ],
             [
              0.5555555555555556,
              "#d8576b"
             ],
             [
              0.6666666666666666,
              "#ed7953"
             ],
             [
              0.7777777777777778,
              "#fb9f3a"
             ],
             [
              0.8888888888888888,
              "#fdca26"
             ],
             [
              1,
              "#f0f921"
             ]
            ],
            "type": "histogram2dcontour"
           }
          ],
          "mesh3d": [
           {
            "colorbar": {
             "outlinewidth": 0,
             "ticks": ""
            },
            "type": "mesh3d"
           }
          ],
          "parcoords": [
           {
            "line": {
             "colorbar": {
              "outlinewidth": 0,
              "ticks": ""
             }
            },
            "type": "parcoords"
           }
          ],
          "pie": [
           {
            "automargin": true,
            "type": "pie"
           }
          ],
          "scatter": [
           {
            "fillpattern": {
             "fillmode": "overlay",
             "size": 10,
             "solidity": 0.2
            },
            "type": "scatter"
           }
          ],
          "scatter3d": [
           {
            "line": {
             "colorbar": {
              "outlinewidth": 0,
              "ticks": ""
             }
            },
            "marker": {
             "colorbar": {
              "outlinewidth": 0,
              "ticks": ""
             }
            },
            "type": "scatter3d"
           }
          ],
          "scattercarpet": [
           {
            "marker": {
             "colorbar": {
              "outlinewidth": 0,
              "ticks": ""
             }
            },
            "type": "scattercarpet"
           }
          ],
          "scattergeo": [
           {
            "marker": {
             "colorbar": {
              "outlinewidth": 0,
              "ticks": ""
             }
            },
            "type": "scattergeo"
           }
          ],
          "scattergl": [
           {
            "marker": {
             "colorbar": {
              "outlinewidth": 0,
              "ticks": ""
             }
            },
            "type": "scattergl"
           }
          ],
          "scattermap": [
           {
            "marker": {
             "colorbar": {
              "outlinewidth": 0,
              "ticks": ""
             }
            },
            "type": "scattermap"
           }
          ],
          "scattermapbox": [
           {
            "marker": {
             "colorbar": {
              "outlinewidth": 0,
              "ticks": ""
             }
            },
            "type": "scattermapbox"
           }
          ],
          "scatterpolar": [
           {
            "marker": {
             "colorbar": {
              "outlinewidth": 0,
              "ticks": ""
             }
            },
            "type": "scatterpolar"
           }
          ],
          "scatterpolargl": [
           {
            "marker": {
             "colorbar": {
              "outlinewidth": 0,
              "ticks": ""
             }
            },
            "type": "scatterpolargl"
           }
          ],
          "scatterternary": [
           {
            "marker": {
             "colorbar": {
              "outlinewidth": 0,
              "ticks": ""
             }
            },
            "type": "scatterternary"
           }
          ],
          "surface": [
           {
            "colorbar": {
             "outlinewidth": 0,
             "ticks": ""
            },
            "colorscale": [
             [
              0,
              "#0d0887"
             ],
             [
              0.1111111111111111,
              "#46039f"
             ],
             [
              0.2222222222222222,
              "#7201a8"
             ],
             [
              0.3333333333333333,
              "#9c179e"
             ],
             [
              0.4444444444444444,
              "#bd3786"
             ],
             [
              0.5555555555555556,
              "#d8576b"
             ],
             [
              0.6666666666666666,
              "#ed7953"
             ],
             [
              0.7777777777777778,
              "#fb9f3a"
             ],
             [
              0.8888888888888888,
              "#fdca26"
             ],
             [
              1,
              "#f0f921"
             ]
            ],
            "type": "surface"
           }
          ],
          "table": [
           {
            "cells": {
             "fill": {
              "color": "#EBF0F8"
             },
             "line": {
              "color": "white"
             }
            },
            "header": {
             "fill": {
              "color": "#C8D4E3"
             },
             "line": {
              "color": "white"
             }
            },
            "type": "table"
           }
          ]
         },
         "layout": {
          "annotationdefaults": {
           "arrowcolor": "#2a3f5f",
           "arrowhead": 0,
           "arrowwidth": 1
          },
          "autotypenumbers": "strict",
          "coloraxis": {
           "colorbar": {
            "outlinewidth": 0,
            "ticks": ""
           }
          },
          "colorscale": {
           "diverging": [
            [
             0,
             "#8e0152"
            ],
            [
             0.1,
             "#c51b7d"
            ],
            [
             0.2,
             "#de77ae"
            ],
            [
             0.3,
             "#f1b6da"
            ],
            [
             0.4,
             "#fde0ef"
            ],
            [
             0.5,
             "#f7f7f7"
            ],
            [
             0.6,
             "#e6f5d0"
            ],
            [
             0.7,
             "#b8e186"
            ],
            [
             0.8,
             "#7fbc41"
            ],
            [
             0.9,
             "#4d9221"
            ],
            [
             1,
             "#276419"
            ]
           ],
           "sequential": [
            [
             0,
             "#0d0887"
            ],
            [
             0.1111111111111111,
             "#46039f"
            ],
            [
             0.2222222222222222,
             "#7201a8"
            ],
            [
             0.3333333333333333,
             "#9c179e"
            ],
            [
             0.4444444444444444,
             "#bd3786"
            ],
            [
             0.5555555555555556,
             "#d8576b"
            ],
            [
             0.6666666666666666,
             "#ed7953"
            ],
            [
             0.7777777777777778,
             "#fb9f3a"
            ],
            [
             0.8888888888888888,
             "#fdca26"
            ],
            [
             1,
             "#f0f921"
            ]
           ],
           "sequentialminus": [
            [
             0,
             "#0d0887"
            ],
            [
             0.1111111111111111,
             "#46039f"
            ],
            [
             0.2222222222222222,
             "#7201a8"
            ],
            [
             0.3333333333333333,
             "#9c179e"
            ],
            [
             0.4444444444444444,
             "#bd3786"
            ],
            [
             0.5555555555555556,
             "#d8576b"
            ],
            [
             0.6666666666666666,
             "#ed7953"
            ],
            [
             0.7777777777777778,
             "#fb9f3a"
            ],
            [
             0.8888888888888888,
             "#fdca26"
            ],
            [
             1,
             "#f0f921"
            ]
           ]
          },
          "colorway": [
           "#636efa",
           "#EF553B",
           "#00cc96",
           "#ab63fa",
           "#FFA15A",
           "#19d3f3",
           "#FF6692",
           "#B6E880",
           "#FF97FF",
           "#FECB52"
          ],
          "font": {
           "color": "#2a3f5f"
          },
          "geo": {
           "bgcolor": "white",
           "lakecolor": "white",
           "landcolor": "#E5ECF6",
           "showlakes": true,
           "showland": true,
           "subunitcolor": "white"
          },
          "hoverlabel": {
           "align": "left"
          },
          "hovermode": "closest",
          "mapbox": {
           "style": "light"
          },
          "paper_bgcolor": "white",
          "plot_bgcolor": "#E5ECF6",
          "polar": {
           "angularaxis": {
            "gridcolor": "white",
            "linecolor": "white",
            "ticks": ""
           },
           "bgcolor": "#E5ECF6",
           "radialaxis": {
            "gridcolor": "white",
            "linecolor": "white",
            "ticks": ""
           }
          },
          "scene": {
           "xaxis": {
            "backgroundcolor": "#E5ECF6",
            "gridcolor": "white",
            "gridwidth": 2,
            "linecolor": "white",
            "showbackground": true,
            "ticks": "",
            "zerolinecolor": "white"
           },
           "yaxis": {
            "backgroundcolor": "#E5ECF6",
            "gridcolor": "white",
            "gridwidth": 2,
            "linecolor": "white",
            "showbackground": true,
            "ticks": "",
            "zerolinecolor": "white"
           },
           "zaxis": {
            "backgroundcolor": "#E5ECF6",
            "gridcolor": "white",
            "gridwidth": 2,
            "linecolor": "white",
            "showbackground": true,
            "ticks": "",
            "zerolinecolor": "white"
           }
          },
          "shapedefaults": {
           "line": {
            "color": "#2a3f5f"
           }
          },
          "ternary": {
           "aaxis": {
            "gridcolor": "white",
            "linecolor": "white",
            "ticks": ""
           },
           "baxis": {
            "gridcolor": "white",
            "linecolor": "white",
            "ticks": ""
           },
           "bgcolor": "#E5ECF6",
           "caxis": {
            "gridcolor": "white",
            "linecolor": "white",
            "ticks": ""
           }
          },
          "title": {
           "x": 0.05
          },
          "xaxis": {
           "automargin": true,
           "gridcolor": "white",
           "linecolor": "white",
           "ticks": "",
           "title": {
            "standoff": 15
           },
           "zerolinecolor": "white",
           "zerolinewidth": 2
          },
          "yaxis": {
           "automargin": true,
           "gridcolor": "white",
           "linecolor": "white",
           "ticks": "",
           "title": {
            "standoff": 15
           },
           "zerolinecolor": "white",
           "zerolinewidth": 2
          }
         }
        },
        "width": 1000,
        "xaxis": {
         "anchor": "y",
         "domain": [
          0,
          1
         ],
         "tickangle": -45,
         "title": {
          "text": "Category"
         }
        },
        "yaxis": {
         "anchor": "x",
         "domain": [
          0,
          1
         ],
         "title": {
          "text": "Number of Books"
         }
        }
       }
      }
     },
     "metadata": {},
     "output_type": "display_data"
    }
   ],
   "source": [
    "import plotly.express as px\n",
    "\n",
    "# Get the top 20 categories\n",
    "categories = cleaned_books['categories'].value_counts().reset_index()\n",
    "categories.columns = ['category', 'count']\n",
    "# Create the bar chart\n",
    "fig = px.bar(\n",
    "\tcategories, \n",
    "\tx='category', \n",
    "\ty='count',\n",
    "\tcolor='count',\n",
    "\tcolor_continuous_scale='viridis'\n",
    ")\n",
    "\n",
    "# Improve layout\n",
    "fig.update_layout(\n",
    "\txaxis_title='Category',\n",
    "\tyaxis_title='Number of Books',\n",
    "\txaxis_tickangle=-45,\n",
    "\theight=600,\n",
    "\twidth=1000\n",
    ")\n",
    "\n",
    "fig.show()"
   ]
  },
  {
   "cell_type": "markdown",
   "metadata": {},
   "source": [
    "## Observation: \n",
    "* `category` col has long tail problem. We need to normalize it.\n",
    "- But first let's have closer look on `description` column.We should consider removing very short descriptions,\n",
    "  as they often lack enough context to make accurate recommendations.\n"
   ]
  },
  {
   "cell_type": "code",
   "execution_count": 52,
   "metadata": {},
   "outputs": [
    {
     "name": "stderr",
     "output_type": "stream",
     "text": [
      "C:\\Users\\Administrator\\AppData\\Local\\Temp\\ipykernel_7836\\4283049229.py:1: SettingWithCopyWarning:\n",
      "\n",
      "\n",
      "A value is trying to be set on a copy of a slice from a DataFrame.\n",
      "Try using .loc[row_indexer,col_indexer] = value instead\n",
      "\n",
      "See the caveats in the documentation: https://pandas.pydata.org/pandas-docs/stable/user_guide/indexing.html#returning-a-view-versus-a-copy\n",
      "\n"
     ]
    }
   ],
   "source": [
    "cleaned_books['description_word_count'] = cleaned_books['description'].apply(lambda x: len(str(x).split()) if pd.notnull(x) else 0)"
   ]
  },
  {
   "cell_type": "code",
   "execution_count": 53,
   "metadata": {},
   "outputs": [
    {
     "data": {
      "application/vnd.microsoft.datawrangler.viewer.v0+json": {
       "columns": [
        {
         "name": "index",
         "rawType": "int64",
         "type": "integer"
        },
        {
         "name": "isbn13",
         "rawType": "int64",
         "type": "integer"
        },
        {
         "name": "isbn10",
         "rawType": "object",
         "type": "string"
        },
        {
         "name": "title",
         "rawType": "object",
         "type": "string"
        },
        {
         "name": "subtitle",
         "rawType": "object",
         "type": "unknown"
        },
        {
         "name": "authors",
         "rawType": "object",
         "type": "string"
        },
        {
         "name": "categories",
         "rawType": "object",
         "type": "string"
        },
        {
         "name": "thumbnail",
         "rawType": "object",
         "type": "string"
        },
        {
         "name": "description",
         "rawType": "object",
         "type": "string"
        },
        {
         "name": "published_year",
         "rawType": "float64",
         "type": "float"
        },
        {
         "name": "average_rating",
         "rawType": "float64",
         "type": "float"
        },
        {
         "name": "num_pages",
         "rawType": "float64",
         "type": "float"
        },
        {
         "name": "ratings_count",
         "rawType": "float64",
         "type": "float"
        },
        {
         "name": "missing_description",
         "rawType": "int64",
         "type": "integer"
        },
        {
         "name": "book_age",
         "rawType": "float64",
         "type": "float"
        },
        {
         "name": "description_word_count",
         "rawType": "int64",
         "type": "integer"
        }
       ],
       "ref": "3e828685-db00-466c-bb8c-64d3ea85b73d",
       "rows": [
        [
         "0",
         "9780002005883",
         "0002005883",
         "Gilead",
         null,
         "Marilynne Robinson",
         "Fiction",
         "http://books.google.com/books/content?id=KQZCPgAACAAJ&printsec=frontcover&img=1&zoom=1&source=gbs_api",
         "A NOVEL THAT READERS and critics have been eagerly anticipating for over a decade, Gilead is an astonishingly imagined story of remarkable lives. John Ames is a preacher, the son of a preacher and the grandson (both maternal and paternal) of preachers. It’s 1956 in Gilead, Iowa, towards the end of the Reverend Ames’s life, and he is absorbed in recording his family’s story, a legacy for the young son he will never see grow up. Haunted by his grandfather’s presence, John tells of the rift between his grandfather and his father: the elder, an angry visionary who fought for the abolitionist cause, and his son, an ardent pacifist. He is troubled, too, by his prodigal namesake, Jack (John Ames) Boughton, his best friend’s lost son who returns to Gilead searching for forgiveness and redemption. Told in John Ames’s joyous, rambling voice that finds beauty, humour and truth in the smallest of life’s details, Gilead is a song of celebration and acceptance of the best and the worst the world has to offer. At its heart is a tale of the sacred bonds between fathers and sons, pitch-perfect in style and story, set to dazzle critics and readers alike.",
         "2004.0",
         "3.85",
         "247.0",
         "361.0",
         "0",
         "21.0",
         "199"
        ],
        [
         "1",
         "9780002261982",
         "0002261987",
         "Spider's Web",
         "A Novel",
         "Charles Osborne;Agatha Christie",
         "Detective and mystery stories",
         "http://books.google.com/books/content?id=gA5GPgAACAAJ&printsec=frontcover&img=1&zoom=1&source=gbs_api",
         "A new 'Christie for Christmas' -- a full-length novel adapted from her acclaimed play by Charles Osborne Following BLACK COFFEE and THE UNEXPECTED GUEST comes the final Agatha Christie play novelisation, bringing her superb storytelling to a new legion of fans. Clarissa, the wife of a Foreign Office diplomat, is given to daydreaming. 'Supposing I were to come down one morning and find a dead body in the library, what should I do?' she muses. Clarissa has her chance to find out when she discovers a body in the drawing-room of her house in Kent. Desperate to dispose of the body before her husband comes home with an important foreign politician, Clarissa persuades her three house guests to become accessories and accomplices. It seems that the murdered man was not unknown to certain members of the house party (but which ones?), and the search begins for the murderer and the motive, while at the same time trying to persuade a police inspector that there has been no murder at all... SPIDER'S WEB was written in 1954 specifically for Margaret Lockwood and opened first at the Theatre Royal Nottingham before moving to the Savoy Theatre in London on 14 December 1954. With THE MOUSETRAP and WI",
         "2000.0",
         "3.83",
         "241.0",
         "5164.0",
         "0",
         "25.0",
         "205"
        ],
        [
         "2",
         "9780006163831",
         "0006163831",
         "The One Tree",
         null,
         "Stephen R. Donaldson",
         "American fiction",
         "http://books.google.com/books/content?id=OmQawwEACAAJ&printsec=frontcover&img=1&zoom=1&source=gbs_api",
         "Volume Two of Stephen Donaldson's acclaimed second trilogy featuing the compelling anti-hero Thomas Covenant.",
         "1982.0",
         "3.97",
         "479.0",
         "172.0",
         "0",
         "43.0",
         "14"
        ],
        [
         "3",
         "9780006178736",
         "0006178731",
         "Rage of angels",
         null,
         "Sidney Sheldon",
         "Fiction",
         "http://books.google.com/books/content?id=FKo2TgANz74C&printsec=frontcover&img=1&zoom=1&source=gbs_api",
         "A memorable, mesmerizing heroine Jennifer -- brilliant, beautiful, an attorney on the way up until the Mafia's schemes win her the hatred of an implacable enemy -- and a love more destructive than hate. A dangerous, dramatic world The Dark Arena of organized crime and flashbulb lit courtrooms where ambitious prosecutors begin their climb to political power.",
         "1993.0",
         "3.93",
         "512.0",
         "29532.0",
         "0",
         "32.0",
         "57"
        ],
        [
         "4",
         "9780006280897",
         "0006280897",
         "The Four Loves",
         null,
         "Clive Staples Lewis",
         "Christian life",
         "http://books.google.com/books/content?id=XhQ5XsFcpGIC&printsec=frontcover&img=1&zoom=1&source=gbs_api",
         "Lewis' work on the nature of love divides love into four categories; Affection, Friendship, Eros and Charity. The first three come naturally to humanity. Charity, however, the Gift-love of God, is divine, and without this supernatural love, the natural loves become distorted and even dangerous.",
         "2002.0",
         "4.15",
         "170.0",
         "33684.0",
         "0",
         "23.0",
         "45"
        ]
       ],
       "shape": {
        "columns": 15,
        "rows": 5
       }
      },
      "text/html": [
       "<div>\n",
       "<style scoped>\n",
       "    .dataframe tbody tr th:only-of-type {\n",
       "        vertical-align: middle;\n",
       "    }\n",
       "\n",
       "    .dataframe tbody tr th {\n",
       "        vertical-align: top;\n",
       "    }\n",
       "\n",
       "    .dataframe thead th {\n",
       "        text-align: right;\n",
       "    }\n",
       "</style>\n",
       "<table border=\"1\" class=\"dataframe\">\n",
       "  <thead>\n",
       "    <tr style=\"text-align: right;\">\n",
       "      <th></th>\n",
       "      <th>isbn13</th>\n",
       "      <th>isbn10</th>\n",
       "      <th>title</th>\n",
       "      <th>subtitle</th>\n",
       "      <th>authors</th>\n",
       "      <th>categories</th>\n",
       "      <th>thumbnail</th>\n",
       "      <th>description</th>\n",
       "      <th>published_year</th>\n",
       "      <th>average_rating</th>\n",
       "      <th>num_pages</th>\n",
       "      <th>ratings_count</th>\n",
       "      <th>missing_description</th>\n",
       "      <th>book_age</th>\n",
       "      <th>description_word_count</th>\n",
       "    </tr>\n",
       "  </thead>\n",
       "  <tbody>\n",
       "    <tr>\n",
       "      <th>0</th>\n",
       "      <td>9780002005883</td>\n",
       "      <td>0002005883</td>\n",
       "      <td>Gilead</td>\n",
       "      <td>NaN</td>\n",
       "      <td>Marilynne Robinson</td>\n",
       "      <td>Fiction</td>\n",
       "      <td>http://books.google.com/books/content?id=KQZCPgAACAAJ&amp;printsec=frontcover&amp;img=1&amp;zoom=1&amp;source=gbs_api</td>\n",
       "      <td>A NOVEL THAT READERS and critics have been eagerly anticipating for over a decade, Gilead is an astonishingly imagined story of remarkable lives. John Ames is a preacher, the son of a preacher and the grandson (both maternal and paternal) of preachers. It’s 1956 in Gilead, Iowa, towards the end of the Reverend Ames’s life, and he is absorbed in recording his family’s story, a legacy for the young son he will never see grow up. Haunted by his grandfather’s presence, John tells of the rift between his grandfather and his father: the elder, an angry visionary who fought for the abolitionist cause, and his son, an ardent pacifist. He is troubled, too, by his prodigal namesake, Jack (John Ames) Boughton, his best friend’s lost son who returns to Gilead searching for forgiveness and redemption. Told in John Ames’s joyous, rambling voice that finds beauty, humour and truth in the smallest of life’s details, Gilead is a song of celebration and acceptance of the best and the worst the world...</td>\n",
       "      <td>2004.0</td>\n",
       "      <td>3.85</td>\n",
       "      <td>247.0</td>\n",
       "      <td>361.0</td>\n",
       "      <td>0</td>\n",
       "      <td>21.0</td>\n",
       "      <td>199</td>\n",
       "    </tr>\n",
       "    <tr>\n",
       "      <th>1</th>\n",
       "      <td>9780002261982</td>\n",
       "      <td>0002261987</td>\n",
       "      <td>Spider's Web</td>\n",
       "      <td>A Novel</td>\n",
       "      <td>Charles Osborne;Agatha Christie</td>\n",
       "      <td>Detective and mystery stories</td>\n",
       "      <td>http://books.google.com/books/content?id=gA5GPgAACAAJ&amp;printsec=frontcover&amp;img=1&amp;zoom=1&amp;source=gbs_api</td>\n",
       "      <td>A new 'Christie for Christmas' -- a full-length novel adapted from her acclaimed play by Charles Osborne Following BLACK COFFEE and THE UNEXPECTED GUEST comes the final Agatha Christie play novelisation, bringing her superb storytelling to a new legion of fans. Clarissa, the wife of a Foreign Office diplomat, is given to daydreaming. 'Supposing I were to come down one morning and find a dead body in the library, what should I do?' she muses. Clarissa has her chance to find out when she discovers a body in the drawing-room of her house in Kent. Desperate to dispose of the body before her husband comes home with an important foreign politician, Clarissa persuades her three house guests to become accessories and accomplices. It seems that the murdered man was not unknown to certain members of the house party (but which ones?), and the search begins for the murderer and the motive, while at the same time trying to persuade a police inspector that there has been no murder at all... SPID...</td>\n",
       "      <td>2000.0</td>\n",
       "      <td>3.83</td>\n",
       "      <td>241.0</td>\n",
       "      <td>5164.0</td>\n",
       "      <td>0</td>\n",
       "      <td>25.0</td>\n",
       "      <td>205</td>\n",
       "    </tr>\n",
       "    <tr>\n",
       "      <th>2</th>\n",
       "      <td>9780006163831</td>\n",
       "      <td>0006163831</td>\n",
       "      <td>The One Tree</td>\n",
       "      <td>NaN</td>\n",
       "      <td>Stephen R. Donaldson</td>\n",
       "      <td>American fiction</td>\n",
       "      <td>http://books.google.com/books/content?id=OmQawwEACAAJ&amp;printsec=frontcover&amp;img=1&amp;zoom=1&amp;source=gbs_api</td>\n",
       "      <td>Volume Two of Stephen Donaldson's acclaimed second trilogy featuing the compelling anti-hero Thomas Covenant.</td>\n",
       "      <td>1982.0</td>\n",
       "      <td>3.97</td>\n",
       "      <td>479.0</td>\n",
       "      <td>172.0</td>\n",
       "      <td>0</td>\n",
       "      <td>43.0</td>\n",
       "      <td>14</td>\n",
       "    </tr>\n",
       "    <tr>\n",
       "      <th>3</th>\n",
       "      <td>9780006178736</td>\n",
       "      <td>0006178731</td>\n",
       "      <td>Rage of angels</td>\n",
       "      <td>NaN</td>\n",
       "      <td>Sidney Sheldon</td>\n",
       "      <td>Fiction</td>\n",
       "      <td>http://books.google.com/books/content?id=FKo2TgANz74C&amp;printsec=frontcover&amp;img=1&amp;zoom=1&amp;source=gbs_api</td>\n",
       "      <td>A memorable, mesmerizing heroine Jennifer -- brilliant, beautiful, an attorney on the way up until the Mafia's schemes win her the hatred of an implacable enemy -- and a love more destructive than hate. A dangerous, dramatic world The Dark Arena of organized crime and flashbulb lit courtrooms where ambitious prosecutors begin their climb to political power.</td>\n",
       "      <td>1993.0</td>\n",
       "      <td>3.93</td>\n",
       "      <td>512.0</td>\n",
       "      <td>29532.0</td>\n",
       "      <td>0</td>\n",
       "      <td>32.0</td>\n",
       "      <td>57</td>\n",
       "    </tr>\n",
       "    <tr>\n",
       "      <th>4</th>\n",
       "      <td>9780006280897</td>\n",
       "      <td>0006280897</td>\n",
       "      <td>The Four Loves</td>\n",
       "      <td>NaN</td>\n",
       "      <td>Clive Staples Lewis</td>\n",
       "      <td>Christian life</td>\n",
       "      <td>http://books.google.com/books/content?id=XhQ5XsFcpGIC&amp;printsec=frontcover&amp;img=1&amp;zoom=1&amp;source=gbs_api</td>\n",
       "      <td>Lewis' work on the nature of love divides love into four categories; Affection, Friendship, Eros and Charity. The first three come naturally to humanity. Charity, however, the Gift-love of God, is divine, and without this supernatural love, the natural loves become distorted and even dangerous.</td>\n",
       "      <td>2002.0</td>\n",
       "      <td>4.15</td>\n",
       "      <td>170.0</td>\n",
       "      <td>33684.0</td>\n",
       "      <td>0</td>\n",
       "      <td>23.0</td>\n",
       "      <td>45</td>\n",
       "    </tr>\n",
       "  </tbody>\n",
       "</table>\n",
       "</div>"
      ],
      "text/plain": [
       "          isbn13      isbn10           title subtitle  \\\n",
       "0  9780002005883  0002005883          Gilead      NaN   \n",
       "1  9780002261982  0002261987    Spider's Web  A Novel   \n",
       "2  9780006163831  0006163831    The One Tree      NaN   \n",
       "3  9780006178736  0006178731  Rage of angels      NaN   \n",
       "4  9780006280897  0006280897  The Four Loves      NaN   \n",
       "\n",
       "                           authors                     categories  \\\n",
       "0               Marilynne Robinson                        Fiction   \n",
       "1  Charles Osborne;Agatha Christie  Detective and mystery stories   \n",
       "2             Stephen R. Donaldson               American fiction   \n",
       "3                   Sidney Sheldon                        Fiction   \n",
       "4              Clive Staples Lewis                 Christian life   \n",
       "\n",
       "                                                                                               thumbnail  \\\n",
       "0  http://books.google.com/books/content?id=KQZCPgAACAAJ&printsec=frontcover&img=1&zoom=1&source=gbs_api   \n",
       "1  http://books.google.com/books/content?id=gA5GPgAACAAJ&printsec=frontcover&img=1&zoom=1&source=gbs_api   \n",
       "2  http://books.google.com/books/content?id=OmQawwEACAAJ&printsec=frontcover&img=1&zoom=1&source=gbs_api   \n",
       "3  http://books.google.com/books/content?id=FKo2TgANz74C&printsec=frontcover&img=1&zoom=1&source=gbs_api   \n",
       "4  http://books.google.com/books/content?id=XhQ5XsFcpGIC&printsec=frontcover&img=1&zoom=1&source=gbs_api   \n",
       "\n",
       "                                                                                                                                                                                                                                                                                                                                                                                                                                                                                                                                                                                                                                                                                                                                                                                                                                                                                                                                                                                                                               description  \\\n",
       "0  A NOVEL THAT READERS and critics have been eagerly anticipating for over a decade, Gilead is an astonishingly imagined story of remarkable lives. John Ames is a preacher, the son of a preacher and the grandson (both maternal and paternal) of preachers. It’s 1956 in Gilead, Iowa, towards the end of the Reverend Ames’s life, and he is absorbed in recording his family’s story, a legacy for the young son he will never see grow up. Haunted by his grandfather’s presence, John tells of the rift between his grandfather and his father: the elder, an angry visionary who fought for the abolitionist cause, and his son, an ardent pacifist. He is troubled, too, by his prodigal namesake, Jack (John Ames) Boughton, his best friend’s lost son who returns to Gilead searching for forgiveness and redemption. Told in John Ames’s joyous, rambling voice that finds beauty, humour and truth in the smallest of life’s details, Gilead is a song of celebration and acceptance of the best and the worst the world...   \n",
       "1  A new 'Christie for Christmas' -- a full-length novel adapted from her acclaimed play by Charles Osborne Following BLACK COFFEE and THE UNEXPECTED GUEST comes the final Agatha Christie play novelisation, bringing her superb storytelling to a new legion of fans. Clarissa, the wife of a Foreign Office diplomat, is given to daydreaming. 'Supposing I were to come down one morning and find a dead body in the library, what should I do?' she muses. Clarissa has her chance to find out when she discovers a body in the drawing-room of her house in Kent. Desperate to dispose of the body before her husband comes home with an important foreign politician, Clarissa persuades her three house guests to become accessories and accomplices. It seems that the murdered man was not unknown to certain members of the house party (but which ones?), and the search begins for the murderer and the motive, while at the same time trying to persuade a police inspector that there has been no murder at all... SPID...   \n",
       "2                                                                                                                                                                                                                                                                                                                                                                                                                                                                                                                                                                                                                                                                                                                                                                                                                                                                                                                            Volume Two of Stephen Donaldson's acclaimed second trilogy featuing the compelling anti-hero Thomas Covenant.   \n",
       "3                                                                                                                                                                                                                                                                                                                                                                                                                                                                                                                                                                                                                                                                  A memorable, mesmerizing heroine Jennifer -- brilliant, beautiful, an attorney on the way up until the Mafia's schemes win her the hatred of an implacable enemy -- and a love more destructive than hate. A dangerous, dramatic world The Dark Arena of organized crime and flashbulb lit courtrooms where ambitious prosecutors begin their climb to political power.   \n",
       "4                                                                                                                                                                                                                                                                                                                                                                                                                                                                                                                                                                                                                                                                                                                                  Lewis' work on the nature of love divides love into four categories; Affection, Friendship, Eros and Charity. The first three come naturally to humanity. Charity, however, the Gift-love of God, is divine, and without this supernatural love, the natural loves become distorted and even dangerous.   \n",
       "\n",
       "   published_year  average_rating  num_pages  ratings_count  \\\n",
       "0          2004.0            3.85      247.0          361.0   \n",
       "1          2000.0            3.83      241.0         5164.0   \n",
       "2          1982.0            3.97      479.0          172.0   \n",
       "3          1993.0            3.93      512.0        29532.0   \n",
       "4          2002.0            4.15      170.0        33684.0   \n",
       "\n",
       "   missing_description  book_age  description_word_count  \n",
       "0                    0      21.0                     199  \n",
       "1                    0      25.0                     205  \n",
       "2                    0      43.0                      14  \n",
       "3                    0      32.0                      57  \n",
       "4                    0      23.0                      45  "
      ]
     },
     "execution_count": 53,
     "metadata": {},
     "output_type": "execute_result"
    }
   ],
   "source": [
    "cleaned_books.head()"
   ]
  },
  {
   "cell_type": "code",
   "execution_count": 54,
   "metadata": {},
   "outputs": [
    {
     "data": {
      "application/vnd.plotly.v1+json": {
       "config": {
        "plotlyServerURL": "https://plot.ly"
       },
       "data": [
        {
         "bingroup": "x",
         "hovertemplate": "Word Count=%{x}<br>count=%{y}<extra></extra>",
         "legendgroup": "",
         "marker": {
          "color": "#636EFA",
          "pattern": {
           "shape": ""
          }
         },
         "name": "",
         "orientation": "v",
         "showlegend": false,
         "type": "histogram",
         "x": {
          "bdata": "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",
          "dtype": "i2"
         },
         "xaxis": "x",
         "yaxis": "y"
        },
        {
         "hovertemplate": "Word Count=%{x}<extra></extra>",
         "legendgroup": "",
         "marker": {
          "color": "#636EFA"
         },
         "name": "",
         "notched": true,
         "showlegend": false,
         "type": "box",
         "x": {
          "bdata": "xwDNAA4AOQAtAEsAAQBQAKAAHgASAAEAiAAuAB0AlwC7AMAAMwAuACEAHgBVAHoAPQApACkANwB3AH0ALQBGABAAKwDSAIEAGAANACYAWgBTACkAhwBfAFkAHgAwAFkAWwBbAEEAPABQAGQAUgBJABUALwAqAGUAPgCKAHAAKQAgACkAFwBMAQwAHQBXACoAWQBiAH8ABQAbAHEAXwDhABcADwANAEUA1gDIAMEAnwAPACYAZQCIAA4AEQAvAHQAQQANAEAAHAAFABMAIQBvACAAEwAOABsAUgBdAB4ANgCXAOgAWAAKAUQAJQAQAHgAeQATAEsAoAAiALwAGwAUAA8A2ACXACsAkgC0AIYAJQAmAHoAswB1AH8AJgAsADwAeAB/AH4AEwA9AQ4ANgDWAMkAfwB4AFEAvAAxAJ0AMACQAL4AtwDaADMA3wEUACMAFAAmABkAEgAhAE0AHgA7ALoArABzAHIAeQGcADUAMwBeAEMAVwB5ABkASgAmAPMAuwDNAL4AhQArALkAkAAsAJcAfwAnAUgBpwCVANUAKgAnADEA3gAZAYQAJQGGAD8BbgEbAKYAWAAsACYAugBkAMUAJQCzAAYBJQC5AH0AawB7AGAAWwCsAAcAkwC8ABoAQABdAHYAMgB1AFkAoQCdACAAcABhACMAJABHAAwArQBhAH0AeQB5AHAAMAAkALUAfQAnACEAdgBNAUEARgBjAFYAYAAxACQARAA/ACwAGQBdAMQB+gA/AJoAhgAnADEA8QAjACsAPQEQAEIAFQFwAIIAMgCIAM8AIABPABMAaQDKACoALQAjABEAIADcAMUAIACoADgAJAAcAB8AIAAVAI0AmQBiABMAGgB5ACwAEwAMABUAIQCVACUAhAAUABYAfQBkALEAfwAfALwAEAAXACgAJACsACcAhgB+ABcAOgAKAHoAUgBxAIUAXwAMAF0AqACeAZgAcgB9AGUAmQAdAKwATAB9AG8ATAAUAD4AMADCAB4AOgBtAB8AegBaAB8AJABcACYAGAAuAG8AJgGTAGsAfAAqAEsASQCXACEAGQCmAFMAIQBnAHsAfQB3AIgAaAAkAIEALAB0AHoAFwBvAJgA3AB6ABEAngCTAHQAcQAzAGsAGwFKAIUAIwBnAEoAowAnAF4ATACHAIQAbQAYADEAaQAjAFkA0gAmACYAbgASABYAHgAkACwApAA1ABgAGQAKAIkAeAAPAA4AJQBiAHIAXwB9AG0AJAAjABkAUwBeACoAEgB2AI8AKgA+ACsAYQAgACIAxwAfAEYAEQCKABgAkQBNACcAGgErACAARQCRAAgBfAB4AGgAqQC8AE0AQgEhABsAvQByAWUAxgBSAC8ANAAPAMkAYwCUANwAGgBrAKEAwgCHAGUAQQBVAK0AdQBtAGcASgArALgAYQCdAGIAngCvAG8A2wAyAGMArACPAGkAMQAtADkAHABFAEUAggA5ALoAlwBAAGcAZwAiAFoAQwA+AIkAVQBxAJoAIgA+AFwAggBQAH4AMwBgACwAegBmAE4AKQASACcAZgBbAA8ALgAvADwAhgBoAC4A/gBeAIIAawCYAC8AgABBAHQATgAuAEwAPwCNADYAXQA9ADUALQAaACkAHADkABEAdgDZADkASQBiAA8AYQBnABgACwB6ACIAQwBbAB8AEQAQABUAWwAxAEMAEQAjADEAMgAbACcARAAgAA8AeAAoABMAoQAiABwADQCTACEAJgAtACwABQAnABYAIwARADEADAAeAE0AagB7ABcAKwAhABMAGAAXABgAagAMABwAMwAbABwALwBAAB4AEAAyACUAXwAKABcAMgAkAJUAKAAPACYARwAtAC0AJgA8AHMAKwApACMANAAuAEgAUgBgACUAKQB4ABQAHQAqAFoAGgArACkAHQAcACIAAwAUAGsAhwAkADQASwAbAIIALQAWACcAIgALAEsAFAAgABsAIAAXABAAKQAEAAYADgCRAMIAAwAWADkAJQBtAIQAEAAdAKMAcQA0AAwASAAXACEAHABWAJIAcQB4AJcAgQCAAIwAHgCBAIYAdgARAH0ACQB+AG0AGwARABgAGQADAEwAEgATABoAMQBPAIMAbwBlAGgAUwAMAJUAewA7AJ4AIgBcACEAKQAjAB8ATwBeAF8AKQApACEACQATAA4ABwACAUAA+QAUAIQAEgATABsAFwAZAGUABABjAH0AJQASACUAGQAgACAAQQAkAEsAIgAdAFYANgBlADEAfgDKAAsBqAA5AS4AYQAWAZ8AOABhABQAGAAnABYAkgAXARsAoQAqAGYALAAtADEAEQBQABkADgBJAB4AIwAZATAAXwA+AD0AMAAwACYALAAjACEAYQAcABsAFgANAC0ALgA0AC0A3wB0ACoAGQAWAD8AJgAKADEAGQA4ADcAIQAuAG4ASwAEAA4AGgATAAkACQAOAHQAEgADAAQAJgAxACUAHQAXADEAIgADABUADgAPABoAJgArAD0AHwAUACMANwA2AB0AIwAfACsAKwAsAH4AJQBdACQAJwAcABwAIQAoABcAIgAZABwAJAAjABsAJgAWACYAJwAbACsAGQAsABgAFQASABAAFAAZACgAggAyAC8ARwAPADEAHwAeAI0AJgAcADAAJgAiAA8AJQA3ACIAVQCfABUAOwALADMAKgApACMAHQAzACEAHAAuACUALgB0ABMAEwAbACYAGgAfADkAAwA6AAQAMAAvACMABAAnAB0ADgAUAFgAGQBlACYAFwAgAB8AEAApACMAFwAXACUAFwAeACIALwAeACUAEAAXABsADgAZACMAGgAiABIADwAjAB0ANQAkAC8AEQAvACwAFAA7ACsAIwAdAKAAIgAmADsAJgAYACwAKAAlACsAGAAyADYAHAAsAC8AKAArACQAEAAVAB0AHABBAEEAOwAhADcAIQAtACMANAAjAB8AEwATABgAFgAhACMAEAAfABAAGgATABkAHgAOABYAGAAPACAAEAAMAA0ANAAVADMAHAAdAJAALwAIAIwAGgCjAFYAtAC/ACYAIAD9ADUAfwCtAKAAGwAgAOMAvwCsANAAAwGwABUAGQBXAA8AgAAfABEAFgClAKcAbACFAF4AogAcAEMAKQCbAF8AoABvAN4AhgAnADwANQC6AAcA2QDCABwAPQARAFAAJABZACIAEQAUABsAQgHQAK4BCwB8AGcAIQC5ABkAJAAOAHAA7wAcACgANQD5AHoAVQAVABoAEQAQABIAKgBLAH8BbwA2ABcASwEaANsAJQBCACwA+AAcAHEAMACAAOEAcwCuAOQAPAB+AIIARQAsAEgBmwBYAQ4AIgDnAOcAEQAdACAAMwAZAFgAPAE3ASsAGAAPABoA+gAuAKwBMADyAEQAkAAmAEcAwADiAC8AYgCdACEAQwA/ACAAigA+ACAAtgAiABwARwAdABwAFAC+AIIAMQAJAFcAGABAAAEAGwCjABwAIQAQABYAGgAcAJMAGwATAHwBjwC6AL8AFwCuAAgA1wCqAFAATABwAJsAFgBbAKQAvwB0ADAAdAANABoALgBRACkAtABAAH8ACAANACYAkQCQABEAOAAhAAgANgANACgAFAAMACwBvwBQAI8AIgBXAA8AGgB/ABwAGwAuAB0AIgAqACMAKgAkAEUAIAA2AEIAHwAnAJ8AHQASADUAMwAhACcAHQAdAAkAIQD5ABkAKAAnAA8AIgAQALUAlAAFADAAGwAzACYAHwAQACIARwAWAEAAFwAmAGgAbQA0ABkAGgAoAC4AUAAUACYAFwAjACQArgAlAGUAKgAhACkASwAgAPsAHAAqACAAMQBTABYAHAAXADQBHgARACQAlQArAHQAMgAeAC0AUgAjABoAkwCIAToB/AAVAC0AHwAVAB4AIAAnAC8AHgDcACUAJgA2ACcAIwAhACEALQB+AC8AHwAnACkAJwAQAIcAKQDkAEEAkwD1ABgALQAiACcACQCpACcAGwAYAAIAPgAwACcAKAAtACcALwAhAD4A2wA3AEkAFAAgACIAggAxAJ8AGwA1ACUAEQClACUAIwAhAIEAIwAbACMBKgArAKYAMwApALUAfwAcABwAKwAcACkAaQAdADwATwAgADYALAAjADAAJwAuACIAJwAzACgAJgAkAGEAGQAYAFgAAgAtAB8AIQAfACMAeAA5AEAAMQBlAJsAIQA7ACkAMQAxADsAIwAlADYAqQCPACgAtQCGABMAewAaAJMAewBpADkAqAA5AAwBIgAGAWEAEwCBADEAAQEdACEAPgAoADUAWADLAMIAIgCrACEATwA5AJEAFAB6ABIACwB9AHIAoQBHACkAgwCDABAAkQBfABIAEQCcAPIAGgATADoAewAbABQAgwAvADAAFQDIAKcALQDXAJoAbQAeADAAOAASACoASQBCAA8AywAnADcAWQCXADYAIgAdALMAJAAvACIAoQA7ADsAKgBVANMA8wAaAJIAqADJACIAigCxAFMAFAB3AGkAGABAABsATwAuAGYAIwAOACYAFQAVABAAfwCBACYArQA6AIwALQAoABEAHgANABAAnQAfABsAIACaAB0AJgA2AC4AIwAMAGAAEwAlAA0AKgARABYAEgAQADMAKgAwACAAGQApACsAFAAUADYAFgAjAF0AKwAiAB0AGAACABoAuwAmABkAKgATACEAJwAnADoAGgAdACkAGwAYACwAKQAaAD0ALQAbAB0APQAzAS4AcgAkACYAPwAnACEAIAAuABYAPwItABsAJAAoACoAJgD0ACEAJAA+ADIAHQAiACYAHgAfACYAFQAiADkAMgAoADgALAAyADIAKgAcACAAJgApAB8AJQAlAB4AFAA+AEAAGAA5ADEAIQAlACsAKQApAEAALAAoACsAKQAkACQAIwG4AA4AJAAnADUAJQBFADEARAAcAD4ARAAoAC4AJAAWADUAJAAkADwAHQAjADUAMAAjAAMBIwAzACIADwHpABMAfgBwAL0APAAuALYAJABoAGYAmQC8AMcAqwAoAIcApQBfABsAEAARAEcAVgBpADAAIAAnABAAEAAuAA8AJAAmACgAEAAlAAEAMQAnADIAKAAhAC4ADwBKABIATQBAACQALAAKAGgAMwAuAGwAJgA4ACYANgAeABsAKAAaACQALAAnACQAKABEAC0AHgAsACwAFgAOABQAoQAZABgASQAXACIAxwA3AIIAEgAjACAAjgBuACQAGAAhABIAGgBVABIAFQBkAFYALABcADoAlwA7ABgAKQA7ABoALQA5AEMAGAAVABoAIQAoADoAIAApAB0ADAAiAB4AGQAXAA8ACgA4ABQAKwAtAC4AKQAaAEIAKgADAEMAKgA1ACkAKgAwAC0AOQATAC8AJAAkACkAIgAyACEALAASADEAEwASABIAMAAxABoAJgAmACoAHgAuABwAJAAsAC0AMgAiACUAKgBFADUAIAAWACcAKQAQAA8AIwAPACIAJAAVABIAKgAQAB8AJAAMACYAswAiAFEAHwB8ABAAGAAuAC8AGABUACMAFgAeACoADgAWAB8AQQCBAEMAEgAdAA0AEAAeAA4AFwAYACcAIQAZABUAagAkABIAGQAdABMAmAAyAEwAFwBnAFIAbgBOARkAdwAiAKAAPQAmACMAKQC+AN4AcwAiALgALQAmACUAJgCAAKQAPQBvAJEAkQAzABgAkAB8AJkAbwBmAKIAIwAiAAsAFAAPAAsAHgAuABAAHAAOACoAIwARABMAHgAdAB8APwAMAEYAIAAhAB0AKQAcACkAJwAtACQAEQAWABUAJQAsADwANgAsABcAIgAaABUACwA/AD8AGgAmABkARwAVABcAMQAnACwAMABLACcAKwA6ADQAIQAlACEAFQArAB0AFwAfAB0ADQAaAA0AKQAeAD0AJgAXAC8ADwAbACIAFQAfACAAGQArAB8AIwAiACMAGwAfADIASQAnAJsADgCvAFsAkwAPACUAEAAUADMAEQAnAKUAQgAxAB8AHAAxACEAKQAZACIAMQAmAB4AFwAiAB4ACABCAAwAFAAcACYAIwAeADsAEQBnACUAIwA9AAQAJwAwABMAEQApABYAOwA0ABwACwARABsAGQAlABgAlgAeABgAFQASAC0AIgAnACAAEQAKABYAFAAaACMAIQAvAB0AIAAhACMAIwARADEAJAAlACAAIAAaAA0AEQAlACoALQAzADQAHgA2AC4AKAAbACAAEAAcAGUAIgAeAEQAGgAbABIAFAAnANMAFABCALcADAAOADIAIQAmAE8AKAANAA4AEAAoACEAOwAcAAgADgA+ABsAFgAdABcADwAbAGUAFwATABAAFgA0ACAAFwAMAAkADAAOABQAFAAcABgADgAdAA4AEAARAC8ABgAgAAcAKACVABgAJwAiAD4AIwA7ACAAFgAmABMAGgAQACcAEgA4ACUAQwAzADYALQAdAA8AFAAGAH8ARQAuACQAKQCKADEAGQAnABYAGABjAE0AJwBJAA8AFQAkAMoAHQAMABYAFwAXACEAFgArAEQAGgAoADIBJQANACsAGQApACEAHwAeACQAJQASACUAKAAlACcAJQAmABwAIwAnABsASQAhACQALQAqACEADQASAB8AHgAbACUAHQAkADQAJAAkADgAJQAeAC0AHAAiADAAKAAfACMALwAhACYAKAAvACEAKwAsAB8AHQAIACwAJgAgACYALQANAC4AHwA7AC4AJwAiACAALgArACMAJgAmACUAOAAxAC8AKgAoAB8AJwAqACoAKAAoACoAJQAYAD0AHgAlAJEAGwD9ABQAFQB6ACQAIgCtAB8ABQAlABEAMQApABwAKAALASsAMAAiABoAJQAiABUAHAAnABkAGAAqAB0AFwApADQAfQB2AA8AGAAlAAMBLQAPABIAIwAXACEAGgAiACoAKwAgAAoBHgAmABMAHAASACgAGgAWAAcAHwAdAAwAEAEcABwAGgAgAB8AZwAoAA4AGgAnACwAKwAbAB0AHgAiACAAEQAiAE0AUAB5ADIAOgAyAA0AHAAOABcAIAAcACYAJgBBABoAKQAwACQAIwA8ACQAFQAlACMAIgAjACIAIwAgACcAKAAoACUAGwAZACMALgAoACwAJQAtACQAGQAbAB0AFgAdAEAAIwAWABkAGgAgABwAIQArACgAIQAkACgACwAPABoAKAAmABIAFQAXAHYADQAXACUAHQAUACAAGQAjACQAKAAhACYAKgAvABsAJgAmACsAPwAgADcALwAnAC0ANwAeAB4AIwAfABwAIQAUACQAIAAVAC4AGgAqACIAIAAeAHsAIQBIAFoAJQAcAJwAGgAeACUARwEzACUAIwAmAKMAFgAiAJYAlwC7AEQAIACSAKwAJABDAEoAVwBUAJQAkgBuAGAAHgAlADQAdACvAFgALQClALgAHgC1AHoA0wAhABsAbACQABUAPwBGAKQAGQAuAIAAaQC7ACQAeQChAJcADwAYADkAJwApABkAIQAjABkAiAAqADIAIAAmACAAKQAkABYAOgAYACQAMwABADsAEQCqAA8AJgAfAAsAJwBhABMAIgAPABsAFABgACYAIQBvADUAKgAFACoAJQAYACgAGgAUAJoAEAArABoAGAAaAAwAGAAlABsAJgAlABwAFgAXACIAMgA+AA8AHAAtACcAJAAjADUAHAAbAEQAHQAtABkAHwAzAC4ALgAlACwAHAAsACsAFwAQAB4AIAAuACYAMQAvACkAJwAHADMAJQA9AC4AMAAlACQAIAAhACcAKwAkAB0AFwAlAB0AHAAuAB0AEwATABIAFwAQABsAKQAfAB4AGwAfACEAIAApACEADwAtABUAAwAzABcAJwAfACYAHQAlABQAFwAXABYAHQAfABoAIAAiABgADwATABwASQAkACoAHwAWABcAGAAfABkAEgAhABUAHgAiACAAJAAhAC8AIAAtAB8AJgA4AA4AJwCXABEAIQDMAKMAEACNABgAHABCALwAzAFSADwAJQBcACMAswAaAHEA7AC7ANUA+ABBACUAqwAPAeIAjwDUABgA+gBIAMMAdQABAZAAMgE2AMsAjQAZAA0AEwAUAA8AGQATABQARwAWAK8AkAAyAB0AGAAyABgANgAxAJ0AGQAcACEAGQAQADEADwAyABgALwAeABsAQwAZAK4AEwAbACIANwAJAA8AFAASAB8AFQBOADUAGQAOAB8AIAAZAGUANgAxABkANgAUAK8AOAAjABYAHQAVAKwAEwCzABUAIQDcABEAIAAqAC8AHgAeACYAJAAPACMAJAAaABsAJgApACAAHQAsAA0AJwAOAIMAKAAnABUAKgATAAwAywAfAB4ACgAZACEAJQAgACgAGwA8ANQAHAARABsAHAAIAEAADgATAA0APQAQABkAFwAnAJcABwCfABMAPQBnAIEAGwBUAA8AlQAfACUAFQAaAGsAHwCBAB8AMwAWABAAUQAMAA8AFgClAJEAGgAPAA8AfQAWABAAdACZABkAeAANABgAGgAoAAsAVgCHAFMADgA5AAkAEgALAFwACwAMAEcACAAQAA8AFQAOAAkAFABEAA4AYQALAEoADQAjAC8AIAAkABoANwBsAH0AcgABAFAAkAAbAC8AtQDSAFwATwBiADYAygChAGcAYgBjALIARgC6ACcAaQC5AFUAgACFACcApwAsACsAPABhAJEATwAfABwALwAdABQALgAoADYAGgArABoADwAZACEATgAoACcAGgAfACAAIwALACYABAAXADQAJAAcAAwAKQAbAIIAIgACABwAFQAZABQAGwAUABkAKAARACUAIgAfAA4A0wC9ACcAKQBeAB8AGwAoACYAKAAcAFgAEwAbABUAIQAbACUAJAAxACQAGwAgAC4AGwAkACUAKQAmAB8AJAAuABcAOAAyAB4AKgB+ADIAGgAfACMAXwATACcAKgAjABsAHQAVAB4AGwAeAA4AJgAhAB8AJAAgAC4AJwAUACYAHwAhABkAEwAfACMALAAaACYAJAAiABQAJwAgACAAKAAqACwALAAqACQAKAAuADIAQQAsADUAJQAoACUAKQAkADoAMgAyADgAHwAkACgAIgA6ACEAKAA0AB8AIwD+ACIANgAUACQALQApAL8AIwBsAMsA4gC4AHYANwCqAHMAJAAeACIAXQAYACkAMwAvABIAGACIABMAMgA3AE4ALQAfADEAqQAdAH8AIgAhAFIAXADQABkATABuAD4AAwBWAEIAzwA/AEwADQB+AIAALAAQADAAUAAWAGkAfgCXAHQAFwB1AG8ARQBcAGEAEwAlABsAaQAEAF0ATgAvAAIABgAsAF8ABwAcABcAlQAOABUAEgAXACMAHQAVAB4AFgAYABsAHwAYACUAGAAOABgAFQAWABEADgAcABwAGQAhABgAJwAkABwAWwDLAEQAHwAaABwALAATARcAFwAQABkAbgAmAAsAJwAUABcAEwAiAA8AFgAVAIAAGAAfAGYApQCHAH0AEQAZAEQAKQCwAAQBEwAOADAAHwAgAF8AHQBiAHkAHwAmABYAEQA2ACIAaAAYAB0AIQAaAA8AGgAmADsAJQArAB4AKQAsABcAGAAlACUAEQA5ACAAJwCOADsAQAAjAA4AGwAmACUAFAAkACMAHwAfACsAJAAmAAgAQgAlACMAHAAoAC4AHwBkACsAcgASABkARQAYAGgAngBlADEANAAWADkAOwAoABYAMQAHAAsAKAATAO0AOgAwAFQAJgAcACUA8gDdABMAkgAYACUAIQBwAIMAIAAuAB8AmwBUABEAIwAdADAAJgAPABsAHQAjAEsAtAAtABEAHQBFABoAHgCdAL0AHQCKAIEAFwCtAAQAwgAOACkAHAAnAA4AIQAOAF0AGAAeABwAHAAUACUAGgAVAB0ANQAUAHAAGQAlACgAJAAdABgAfgA4ABcAGQAlACQAJAAqACkACwAXADcAGAAhACcAIQAmACQBFwBNAB4AOwB0AC8BEgA+ABYAKgANACIAJAANABgACgAVABYAGQDAAMMATgEzAJMBMQArACYA3ACVAB0AFQAPAB0ADAAeAA0AEADnADAAggAoAAwAFAA0ACEAHQAQAAwAAwAQACsAEAAgADMAHAAWAAwAHQAeACMAJwAjABMAFgAbABgADgAcACAAFgASABkAGwANABMAJAASABIAFgASABIAGgAXACgAHgAXACkAIQBsAAoAHAAQABQAFwAqAHsAEAAjACYAJAAjADoAJwARACMAFgA5ABkAJAAkAA8ADwAMABEAEgAbACUAfAA5ACgAeAAhACgAGwAaABcAFwAWACcAIAAgABQALwAbACIAFwAkACgASgEoACMAIAAnAC8AIAAfACcAIgAhABcAEQAdACUAHgAcABIAJwAaABQAGAAMAA8AFAAjAB4AGAAFABMAVwAWAPgAIAAOAGEAFQARAHMAbQIeAAwACQBxAG8ADAAVAJ8AGQBjABsAEQBxAF8AGwBDAEEAQwAoABQA9QATACMAZAApABkAEgAdACAAFQAMABgAiwAwABsACwAPAB0AoQARACEAEACfADEAxwB6ACEAHgAVANkAyQGYAyEB+ABsAH8AKQAbACcBugAVAVgAaQD7AGMA4gDRAEUA6wArAfAAzABDACAAEwAiAHIAYQB0ABsAJQAQAHIAqAAcACAAIQAJADQANwC/ABQAIgAbABkAIwAqABQAogAgABMAIgBkAHwAGwCqAHEAGACbABEAHgAPABQACwASADkADAFQAE0AMADpAJoAIwA2AUABIwBDAN8AIwB4ABUAGQAgAAoAGAAMAGkADQArACIAjwBGAFEAYwAsAGEAJwAeACcAIwClAKQAKwAuAIQADwAPAQMAQwAwAFQAfQAfABkAIQAnABsANgBxAHQAMAAbABwA0gCPAMIApgAIAIgAegAbAAsAGgAPACQABQANAFoAFQAmAB4AgQAQABwAJgANACAAFQAkAMsAIAAeACUAHAAMADwAlgAOACUAGgBJAGEAIACyAK0AHQAlAJkAywBHAOUAGACVACYAGQAkADUA3gAnACMAHgChAC4ALwAcAD0AKwB6ACsBJQApASMAGgAvALkA8QAlADAADwHRAEMA7QAnAOYAJQAiACcAKwA/AMcAEwAoAJsAHQCEACQAIQAyADAAJAAjANsALQAvAHoACAAkAI0ALAAWABkAMAAmACcATwARADMAzQARACgAqQAYACUAHQA6ACgAYQBqAIUAdQCaACkAQAA1ABYAHwAqADMAGwA3AEsAJAAVAN8AvwAnADAAogAkADIAwQDfAJ4AEwAfABYAFgA1AB8A2gAmAdsAHABIAEkAEgDuABYAEgAfACoAmgAVABQAIQAgABsAJAAwAOkAdwDYAA4BfwDAAB8AJQAgAAwACwBTAEIAYQAuADcAJQAZACMAVACwAKYAbQArATYAJQAyAGUAfgAVAF8AYACaAI0AhAAdAJoAiAAMABQAIAAqAF8AQgBeACEAEQAMAB0AEQAZAFAAIwA6AFgAcgAXABAAPQBaAHIABgDVAB0ACQAeAG0AJgBIACQAOACMAD0AVwEoAC0AJwCZADEAYQAsAKkAeQAoAAoAIgCBAKsAggCtAJ0AaAB7AEAAeQBkAZUAagBGADsAjQAGAHQAVABoAD4AigAdAA0AJAAYADAAgABVAD4AmwBOAGwALACzAK0AhwB8AIUAPABOAHgAiQCtABsAJgA0ABUAMgAoACEAIwApACIANwAZAAsAKQAWABwANAAQACQADwAMABAANAAnACMAEgAiACkA8wAQAB8AZAAgAJUAGAASAA8AFQAYABYAFQAmABgAGwCTABsAKQBDACgAegBBAG0AFQAUABoAKgBHABoAHwAUABsAIgAfABUALwAoACwAKAApACMAFgAXABMAFgAlACUAFAARAEYAQAAlAB0AEQAoACMBnwAnAMEAWQGqAFYBmQAbALcAwgC+AKoA1QDQAPIAywDbAKsAtgDBAOEAIwApADkALQAYADEAYQCBACMALAA1ACAAOgAwADsAOQABAY0ALQBBACoALAAmACQAJgAsANMAEwAdADAALQAnACgAMQAsAB8AHgAqAKgAMwASAPYAxACFATkAFwBrACwAmgAbACoALgAhACcAZQAUACgAEgAdABIAHgAlACUAOQApACwA9wA2ACMAJAAkADMAIQAhAB8ALAA7ADEAKAAjACcAOQAxAK4AvAC0ACQAIQATACsAGwArACkAKABpABMAHwAQAAwAJgArACQAPwAfAB8AHwAeADQADAAhAJMAbwDdAA8ACwCSABkAZQDeAD8ABgCyACQANwAhADEAKgAgADAACgAsABoAJAC4AC8AIwClADIAKwApACQAMAAvACgATQAoAEAAQQBAADQAVgA2AEgAagB/AF8AUgAhABwAKQAkADsARgAoACEAFAAqABwAFACVABAALQAOAAsAFwBpAKoAGgBcADEAbgChAAIAMAAgAC8ALgATACUAGgAbABgAMwAdABAAIgAnALsAUQCYAHwAdACtACIAFgAgABMAEAAVABIAJQARABUAEQATAAsAGwAZADMAMQANAB4AFQBaACQANgAxABQAKAApASQAFgClAAkACwAQAJQACAAyAA0AQAAzAB4AGQAkACgAHwAWACgAFwAsABgAowAiAB8AVAAmAC0AIAAPABoAJwCFABsAOQAlAAoAagAWABEANwD9AHEAkwAoAMEAjAAGAB8ADQAQAaQAEAAXAA8ADwA1ABoAKAAgABYAFAAlAJUAEgABAKcAmAAXABQAHAAbAB4AJwAUABoAwwA4ABIAHwCOACcAIQAmAC4APwArAC4AKAAWABAAGwAjABoAPwAOABsAFgAPAB0BogA1ADQABQDXAHwAKwAhACIAEQBeAIwAIwAqAKEAoQAUAC8ACABFAC4AGAAfACIANgAxACsAXQAJAHUAFQA3ABQAHQDcACQAAQAXABEAIAAtACcABgBaAA4AVwAaABwAhAAkACcAhQBWAKkAsQB6ADAAHwAoAAoAEQAiAD4AFQAeAGoATwASABMA5AA2ABwAJAA2ADIADgARABoAPgABABsAIgB/AEIADwAQAIEAEwA2ABAAEwALABkAgQAYAJ4AFgAXADAAFgAeABQALQAnAEAAAwARABoAEgAuADQAHgApAC4AGACSASAAOgAjABYAFQBTAFUAGAAtABIAJgAlACoAHwAdACIAIQCWAJ4AOwAeADUADgAoAB0ANQAtACIAJAAYAB8AOQATAB0AEgAPACMAJAAoAC0AHwAlACkAIAAQACkAHwBAADIAMgA5ACUAGgAlACoAMgAsACEAKAAlACMAIwAmADoANgArABwAHgA9AAEAHQEBAMEAhQDYAJMA2gAzACAAGQAjAHcAcgA7ACwAGAAhABAADAD0ADcApgCpALUAFQAnADcAMQAuACMALQAqADMAnAALAKEAKgCRAJsAogDCAIYAtgAYAKAAxQDMAD0AOQAqAC4AFwApACsAJgAuACoALQBAAP0AHAARABEAKQAhABEAMQATAAwAGQAZACUAIgAfACgA2gAgADYAiQCOAIoAIwBPAJEAcgAXAE8AAwAHAPYAkgA0ADoANQA6ABwAKQBOAB0AJwDYABMAoAAVAA4ADgAWAFwAFwAmACIAJQAaADgAHQAXADgAHQBAACUAKgAPABkAGwATACsAJQAqADAAHwAXAC8AIAAbACIAQwAcACEAHQAKABkAIQAeACAADAAuACgAKQAkACEAcQAbAA0AHwASABIADwBdAAkAGgBgAB0ADAAVAEsAIAAfAIwAMAAXAEAACwA6AA4AHAAdADUANAASABQAEgASABIAIQAdACUATwBeAEEADgAVABUAIwA2ADMAMwAoABAAEwAaABYAJwA8ABoAKgDlAAoAFwAnABsALABZABwAPAAUADQAEQB1AGUBDgAoACAAFwCmAAcABwAKAAcARQA+ABQAgwCZABwAtgASAIcAeQAjAAgABAAlABEAFwAtABIANgAKARMAGgAxAAEAHgAZABoAQAAmACQAKQAiACsAHwAbACkAEQAdABYAfgAWABMAvgBSAB0AEgAcABIA7wAyASsAIQAkACQAoAAvAAsAMQAbAFMAIQCEAKAAtABQAKIA4gDYABcAaAAnAA0AWwAMARsAHgAuAAgAJgBRAFQAKAAkAAoAFAAcADgAUAAWABkAjACUAccBHAAtAIEAawAVAA8AFQAVABMAEgABAAACuAEbAAoAJAAVAGAAGABpABwAGgAGAAYAYABRABIAiwAfAB0ADQA9AJgAHADZABgACQCvAKwASADBADoAewA4AHMAeAAdAB4AKgCbAB4ANgAyACEAUQACAA8AMgFCARMASgAMAGYAhAA8AXsAHgB8AAYACwAPALMAowAyAEQANQAxACcAGAAPAB8AJgAsAB4AEQAnAC8AIQAeADcAKQAkAB4AIQAkAC4AMQApACUAJAAnADUAHwBCADoAJwATACkAJgAhACEAKgAmACcAJwAnACYAKAAdAB4AOQAgACQAHQAiACYAKwApADkANQAyACUAQwAdAC8AFwAXABwAHAA/ACQAHwA6AD0AHwCSAC8ALwAnACIAPwA0ADUAMgBCAEEAEgAaACoAKAAqADAAHwAlACcAJAA+ACIAJgASACEANwArACkAIAA1ACcAKAAjACMAIAAfACMAKwAaAC4AKgARADgAHAA5ACgACQBRADcAJAAiACAAGwBiACcAHwAjADkAKwCAAEABIwAyACkAHQCfAB4AGgAkACkADgAZACAAGwAUABwA1gAkACAAFAApACEBWACHAJIAVwBwAG0AigBZAJcAnwATACAAQwAHAEwAQgBCAEIAQgBCAEIAMgAZABkASACnAGwAwAFzAScAHAAWABwAJwAhABMAPgA+AM0AngC6AD0AOgAdAFgAOwD5ACUAPAAWALEA0QAjAJwAFACRACkAJgBuACsAZwAhACgANQCkABYADgArACcAEAB+ACAAZwAoAJgAwQARACEAGwBUARUAZQAeADIATgDxAGcBJgAmACEAfgAoABYAYABhAJwAGAA0AGQAKgBkAGMAOwA1ACwANAAYAEsAggA3AKwALAArADEAPABgAD4AKgA6AA4AdwAkAIMATAAWABUAKgCkAMIAgACSAIsADwAhADwAKgAuACgAKAAjACgAZgCAAJYAWAAuAD8AIwAbAFUAagAUAA8APQAaANcADQF9ABQADQAyAKQAFABBACQAIABGABAAEgAQAC0AFAAlADQACAAmARoAvwCBABMAJgChALgAKQAlAA0AGwAdABsAJAAaACkATwATACAAIAAXAFoACgAjABEAZQBMAA0AEAA5AA4AWQA+ABwAdgAmAC4AEAADACkAQQCXABUAswD0ALgAbAAjAGoAOwBwAKMAnAApALEAKgAoAJQADwAmABkAFQBwAEwAEgA9AHUAFwAlAIUAEgCvAEAAMAASAAEBpgAtANcARQCPACYAEAANADYAEwBLADMAWwBWAO8AOgBLABQAnACDAAwAsQAaACAAPABjACgAPQASABIAHgBeACYAAwAmAEEAogCfANkAYwAJACUAEgAdADIAQABFADkA1QAnAFIASgAkABwANwAfAA8AHAAiABMAFQAmACoADwApAF0AUwA1AAIAGwAkACoAHwAjACsAxgAxACoAQwAUAB0AGwBLADcABgHyADIAJQAZABEAFwAPAFsASQBAABYAQQAVABQAGgAgAEMAGQAhABoAEgAQAB0AKwDmABkACgDeAV4AWAAjAHcARgCxAIkAqQAqACQAHwAiACMAigDVABkAGAAVALgAmADEADkAkQCJADYAOgA4ACMAKgAqACYAKgAvAJEAIAAmACMAFgA8ADcAHwAgAPUAAgEgACQACwAQABIAIQAqACsAKgAgAC0AigAXABwAMQAQAC4ATwBVAC4AvwAdADMAGQAgAB8AjwAeABkAGQBXAT0AJQAGAS4AKgAdAJQAwgBNACYAJgAzAPAAGgCuAJEAIQCEAFMAhQCcACkAFwAcACkAHgCdAOgAlwAHACYAHQDTAHIATQAYALIAXQAaAB8AGAAbACEAHQAgACIAHADaAFEAMQDlAKYAGgA6ALYAGQAjABAAPAABAB8ADwAvACMAfwCfABoAUQAwACAAewBmAIoAPACGAF0AuQAQAHoAXACMAOUAmgATALgBCwAXABoAKQAiAB8ATwEaAAQAGQAhAFAAYwElAB4AlgAwAGUARwAgACwANQArAEAAHwA5ABEALAAqACEAKgAiABcAFQAoADgAKgCrADcAAgGTALwAwwB2AH4AJwCZAHkAnABrABYAQAATABIAEwAaABYAMgAiABkA+QAfAA4ADgAOACUAFgAvADIANwApAC8AIQDOACQAXwA6ABMAigA7ACYAOwAgAIMAOwAeABoAJgA1AB4ALwB/ALMAGgBVACYANQDRAGgAVAAwAAEAlwAoAGUACQCBAG4AyACGAIoAswCnAGgAJAAYAHUAKgAxABMAWQBZACMACgAjAFIAEwAcABsANgAuAB4ADwAfACUAbAAsAGIADQBsABwAJACFAK4AXQAlAE4AogApACcALwCwABkAKAAXAHcAJQA6AAEACgBLACAAygAMAIUAIwA+ANkA7wCkABYABABoAMYAdwCyAB4A2wA/ACQAkgA0AFEAtgCjAG0AmQCZADAAWQCoAE0AWgCjAJsAkABaAEkAXQAwAEsATwBQACkAGgASAGAAJABJACEAHwCPADMAMQAyAGgAXwBnAFMAMwApAMMA2QD4AKAAQABEAA8AEAALACUALgAXABUAYAA0AA4AXQAfASIAOwARAEYBDgASADYANAAbACYA7gBhAJkADgDeABEADQAyABoAhgDUAE4AUgDJAMoAGQBqAEgAgwC3AD0AwgExAIsAXAAPAC8AEwATALYANABkADcAmwAjABQAJgAvAAMAMgALAIcAawIQAJ4AawAFAI0AnQAWABIAWACnADsALQAiADwADAASABAAOQAUALQAAQAQAC0AIgAHABMAHAAPADIARwDIACwANwAXABgAPAFXAP8ALAA3ADUAJQAnABwAGAAfADoAHAAWACwAQQAdAEwABQAXABEAHABlACkAvQAVABoADwAoAC8AWQApAJ0AdQAxAB8ADABSAGQAHgCtAMwAFQARAJoAFwBLADkAdQA1AAEACQBeACkAIQAzACgAIAE/AHUArgD1ABQA",
          "dtype": "i2"
         },
         "xaxis": "x2",
         "yaxis": "y2"
        }
       ],
       "layout": {
        "bargap": 0.05,
        "barmode": "relative",
        "height": 500,
        "legend": {
         "tracegroupgap": 0
        },
        "template": {
         "data": {
          "bar": [
           {
            "error_x": {
             "color": "#2a3f5f"
            },
            "error_y": {
             "color": "#2a3f5f"
            },
            "marker": {
             "line": {
              "color": "#E5ECF6",
              "width": 0.5
             },
             "pattern": {
              "fillmode": "overlay",
              "size": 10,
              "solidity": 0.2
             }
            },
            "type": "bar"
           }
          ],
          "barpolar": [
           {
            "marker": {
             "line": {
              "color": "#E5ECF6",
              "width": 0.5
             },
             "pattern": {
              "fillmode": "overlay",
              "size": 10,
              "solidity": 0.2
             }
            },
            "type": "barpolar"
           }
          ],
          "carpet": [
           {
            "aaxis": {
             "endlinecolor": "#2a3f5f",
             "gridcolor": "white",
             "linecolor": "white",
             "minorgridcolor": "white",
             "startlinecolor": "#2a3f5f"
            },
            "baxis": {
             "endlinecolor": "#2a3f5f",
             "gridcolor": "white",
             "linecolor": "white",
             "minorgridcolor": "white",
             "startlinecolor": "#2a3f5f"
            },
            "type": "carpet"
           }
          ],
          "choropleth": [
           {
            "colorbar": {
             "outlinewidth": 0,
             "ticks": ""
            },
            "type": "choropleth"
           }
          ],
          "contour": [
           {
            "colorbar": {
             "outlinewidth": 0,
             "ticks": ""
            },
            "colorscale": [
             [
              0,
              "#0d0887"
             ],
             [
              0.1111111111111111,
              "#46039f"
             ],
             [
              0.2222222222222222,
              "#7201a8"
             ],
             [
              0.3333333333333333,
              "#9c179e"
             ],
             [
              0.4444444444444444,
              "#bd3786"
             ],
             [
              0.5555555555555556,
              "#d8576b"
             ],
             [
              0.6666666666666666,
              "#ed7953"
             ],
             [
              0.7777777777777778,
              "#fb9f3a"
             ],
             [
              0.8888888888888888,
              "#fdca26"
             ],
             [
              1,
              "#f0f921"
             ]
            ],
            "type": "contour"
           }
          ],
          "contourcarpet": [
           {
            "colorbar": {
             "outlinewidth": 0,
             "ticks": ""
            },
            "type": "contourcarpet"
           }
          ],
          "heatmap": [
           {
            "colorbar": {
             "outlinewidth": 0,
             "ticks": ""
            },
            "colorscale": [
             [
              0,
              "#0d0887"
             ],
             [
              0.1111111111111111,
              "#46039f"
             ],
             [
              0.2222222222222222,
              "#7201a8"
             ],
             [
              0.3333333333333333,
              "#9c179e"
             ],
             [
              0.4444444444444444,
              "#bd3786"
             ],
             [
              0.5555555555555556,
              "#d8576b"
             ],
             [
              0.6666666666666666,
              "#ed7953"
             ],
             [
              0.7777777777777778,
              "#fb9f3a"
             ],
             [
              0.8888888888888888,
              "#fdca26"
             ],
             [
              1,
              "#f0f921"
             ]
            ],
            "type": "heatmap"
           }
          ],
          "histogram": [
           {
            "marker": {
             "pattern": {
              "fillmode": "overlay",
              "size": 10,
              "solidity": 0.2
             }
            },
            "type": "histogram"
           }
          ],
          "histogram2d": [
           {
            "colorbar": {
             "outlinewidth": 0,
             "ticks": ""
            },
            "colorscale": [
             [
              0,
              "#0d0887"
             ],
             [
              0.1111111111111111,
              "#46039f"
             ],
             [
              0.2222222222222222,
              "#7201a8"
             ],
             [
              0.3333333333333333,
              "#9c179e"
             ],
             [
              0.4444444444444444,
              "#bd3786"
             ],
             [
              0.5555555555555556,
              "#d8576b"
             ],
             [
              0.6666666666666666,
              "#ed7953"
             ],
             [
              0.7777777777777778,
              "#fb9f3a"
             ],
             [
              0.8888888888888888,
              "#fdca26"
             ],
             [
              1,
              "#f0f921"
             ]
            ],
            "type": "histogram2d"
           }
          ],
          "histogram2dcontour": [
           {
            "colorbar": {
             "outlinewidth": 0,
             "ticks": ""
            },
            "colorscale": [
             [
              0,
              "#0d0887"
             ],
             [
              0.1111111111111111,
              "#46039f"
             ],
             [
              0.2222222222222222,
              "#7201a8"
             ],
             [
              0.3333333333333333,
              "#9c179e"
             ],
             [
              0.4444444444444444,
              "#bd3786"
             ],
             [
              0.5555555555555556,
              "#d8576b"
             ],
             [
              0.6666666666666666,
              "#ed7953"
             ],
             [
              0.7777777777777778,
              "#fb9f3a"
             ],
             [
              0.8888888888888888,
              "#fdca26"
             ],
             [
              1,
              "#f0f921"
             ]
            ],
            "type": "histogram2dcontour"
           }
          ],
          "mesh3d": [
           {
            "colorbar": {
             "outlinewidth": 0,
             "ticks": ""
            },
            "type": "mesh3d"
           }
          ],
          "parcoords": [
           {
            "line": {
             "colorbar": {
              "outlinewidth": 0,
              "ticks": ""
             }
            },
            "type": "parcoords"
           }
          ],
          "pie": [
           {
            "automargin": true,
            "type": "pie"
           }
          ],
          "scatter": [
           {
            "fillpattern": {
             "fillmode": "overlay",
             "size": 10,
             "solidity": 0.2
            },
            "type": "scatter"
           }
          ],
          "scatter3d": [
           {
            "line": {
             "colorbar": {
              "outlinewidth": 0,
              "ticks": ""
             }
            },
            "marker": {
             "colorbar": {
              "outlinewidth": 0,
              "ticks": ""
             }
            },
            "type": "scatter3d"
           }
          ],
          "scattercarpet": [
           {
            "marker": {
             "colorbar": {
              "outlinewidth": 0,
              "ticks": ""
             }
            },
            "type": "scattercarpet"
           }
          ],
          "scattergeo": [
           {
            "marker": {
             "colorbar": {
              "outlinewidth": 0,
              "ticks": ""
             }
            },
            "type": "scattergeo"
           }
          ],
          "scattergl": [
           {
            "marker": {
             "colorbar": {
              "outlinewidth": 0,
              "ticks": ""
             }
            },
            "type": "scattergl"
           }
          ],
          "scattermap": [
           {
            "marker": {
             "colorbar": {
              "outlinewidth": 0,
              "ticks": ""
             }
            },
            "type": "scattermap"
           }
          ],
          "scattermapbox": [
           {
            "marker": {
             "colorbar": {
              "outlinewidth": 0,
              "ticks": ""
             }
            },
            "type": "scattermapbox"
           }
          ],
          "scatterpolar": [
           {
            "marker": {
             "colorbar": {
              "outlinewidth": 0,
              "ticks": ""
             }
            },
            "type": "scatterpolar"
           }
          ],
          "scatterpolargl": [
           {
            "marker": {
             "colorbar": {
              "outlinewidth": 0,
              "ticks": ""
             }
            },
            "type": "scatterpolargl"
           }
          ],
          "scatterternary": [
           {
            "marker": {
             "colorbar": {
              "outlinewidth": 0,
              "ticks": ""
             }
            },
            "type": "scatterternary"
           }
          ],
          "surface": [
           {
            "colorbar": {
             "outlinewidth": 0,
             "ticks": ""
            },
            "colorscale": [
             [
              0,
              "#0d0887"
             ],
             [
              0.1111111111111111,
              "#46039f"
             ],
             [
              0.2222222222222222,
              "#7201a8"
             ],
             [
              0.3333333333333333,
              "#9c179e"
             ],
             [
              0.4444444444444444,
              "#bd3786"
             ],
             [
              0.5555555555555556,
              "#d8576b"
             ],
             [
              0.6666666666666666,
              "#ed7953"
             ],
             [
              0.7777777777777778,
              "#fb9f3a"
             ],
             [
              0.8888888888888888,
              "#fdca26"
             ],
             [
              1,
              "#f0f921"
             ]
            ],
            "type": "surface"
           }
          ],
          "table": [
           {
            "cells": {
             "fill": {
              "color": "#EBF0F8"
             },
             "line": {
              "color": "white"
             }
            },
            "header": {
             "fill": {
              "color": "#C8D4E3"
             },
             "line": {
              "color": "white"
             }
            },
            "type": "table"
           }
          ]
         },
         "layout": {
          "annotationdefaults": {
           "arrowcolor": "#2a3f5f",
           "arrowhead": 0,
           "arrowwidth": 1
          },
          "autotypenumbers": "strict",
          "coloraxis": {
           "colorbar": {
            "outlinewidth": 0,
            "ticks": ""
           }
          },
          "colorscale": {
           "diverging": [
            [
             0,
             "#8e0152"
            ],
            [
             0.1,
             "#c51b7d"
            ],
            [
             0.2,
             "#de77ae"
            ],
            [
             0.3,
             "#f1b6da"
            ],
            [
             0.4,
             "#fde0ef"
            ],
            [
             0.5,
             "#f7f7f7"
            ],
            [
             0.6,
             "#e6f5d0"
            ],
            [
             0.7,
             "#b8e186"
            ],
            [
             0.8,
             "#7fbc41"
            ],
            [
             0.9,
             "#4d9221"
            ],
            [
             1,
             "#276419"
            ]
           ],
           "sequential": [
            [
             0,
             "#0d0887"
            ],
            [
             0.1111111111111111,
             "#46039f"
            ],
            [
             0.2222222222222222,
             "#7201a8"
            ],
            [
             0.3333333333333333,
             "#9c179e"
            ],
            [
             0.4444444444444444,
             "#bd3786"
            ],
            [
             0.5555555555555556,
             "#d8576b"
            ],
            [
             0.6666666666666666,
             "#ed7953"
            ],
            [
             0.7777777777777778,
             "#fb9f3a"
            ],
            [
             0.8888888888888888,
             "#fdca26"
            ],
            [
             1,
             "#f0f921"
            ]
           ],
           "sequentialminus": [
            [
             0,
             "#0d0887"
            ],
            [
             0.1111111111111111,
             "#46039f"
            ],
            [
             0.2222222222222222,
             "#7201a8"
            ],
            [
             0.3333333333333333,
             "#9c179e"
            ],
            [
             0.4444444444444444,
             "#bd3786"
            ],
            [
             0.5555555555555556,
             "#d8576b"
            ],
            [
             0.6666666666666666,
             "#ed7953"
            ],
            [
             0.7777777777777778,
             "#fb9f3a"
            ],
            [
             0.8888888888888888,
             "#fdca26"
            ],
            [
             1,
             "#f0f921"
            ]
           ]
          },
          "colorway": [
           "#636efa",
           "#EF553B",
           "#00cc96",
           "#ab63fa",
           "#FFA15A",
           "#19d3f3",
           "#FF6692",
           "#B6E880",
           "#FF97FF",
           "#FECB52"
          ],
          "font": {
           "color": "#2a3f5f"
          },
          "geo": {
           "bgcolor": "white",
           "lakecolor": "white",
           "landcolor": "#E5ECF6",
           "showlakes": true,
           "showland": true,
           "subunitcolor": "white"
          },
          "hoverlabel": {
           "align": "left"
          },
          "hovermode": "closest",
          "mapbox": {
           "style": "light"
          },
          "paper_bgcolor": "white",
          "plot_bgcolor": "#E5ECF6",
          "polar": {
           "angularaxis": {
            "gridcolor": "white",
            "linecolor": "white",
            "ticks": ""
           },
           "bgcolor": "#E5ECF6",
           "radialaxis": {
            "gridcolor": "white",
            "linecolor": "white",
            "ticks": ""
           }
          },
          "scene": {
           "xaxis": {
            "backgroundcolor": "#E5ECF6",
            "gridcolor": "white",
            "gridwidth": 2,
            "linecolor": "white",
            "showbackground": true,
            "ticks": "",
            "zerolinecolor": "white"
           },
           "yaxis": {
            "backgroundcolor": "#E5ECF6",
            "gridcolor": "white",
            "gridwidth": 2,
            "linecolor": "white",
            "showbackground": true,
            "ticks": "",
            "zerolinecolor": "white"
           },
           "zaxis": {
            "backgroundcolor": "#E5ECF6",
            "gridcolor": "white",
            "gridwidth": 2,
            "linecolor": "white",
            "showbackground": true,
            "ticks": "",
            "zerolinecolor": "white"
           }
          },
          "shapedefaults": {
           "line": {
            "color": "#2a3f5f"
           }
          },
          "ternary": {
           "aaxis": {
            "gridcolor": "white",
            "linecolor": "white",
            "ticks": ""
           },
           "baxis": {
            "gridcolor": "white",
            "linecolor": "white",
            "ticks": ""
           },
           "bgcolor": "#E5ECF6",
           "caxis": {
            "gridcolor": "white",
            "linecolor": "white",
            "ticks": ""
           }
          },
          "title": {
           "x": 0.05
          },
          "xaxis": {
           "automargin": true,
           "gridcolor": "white",
           "linecolor": "white",
           "ticks": "",
           "title": {
            "standoff": 15
           },
           "zerolinecolor": "white",
           "zerolinewidth": 2
          },
          "yaxis": {
           "automargin": true,
           "gridcolor": "white",
           "linecolor": "white",
           "ticks": "",
           "title": {
            "standoff": 15
           },
           "zerolinecolor": "white",
           "zerolinewidth": 2
          }
         }
        },
        "title": {
         "text": "Distribution of Description Word Count"
        },
        "width": 900,
        "xaxis": {
         "anchor": "y",
         "domain": [
          0,
          1
         ],
         "title": {
          "text": "Description Word Count"
         }
        },
        "xaxis2": {
         "anchor": "y2",
         "domain": [
          0,
          1
         ],
         "matches": "x",
         "showgrid": true,
         "showticklabels": false
        },
        "yaxis": {
         "anchor": "x",
         "domain": [
          0,
          0.8316
         ],
         "title": {
          "text": "Frequency"
         }
        },
        "yaxis2": {
         "anchor": "x2",
         "domain": [
          0.8416,
          1
         ],
         "matches": "y2",
         "showgrid": false,
         "showline": false,
         "showticklabels": false,
         "ticks": ""
        }
       }
      }
     },
     "metadata": {},
     "output_type": "display_data"
    },
    {
     "name": "stdout",
     "output_type": "stream",
     "text": [
      "Min word count: 1\n",
      "Max word count: 920\n",
      "Mean word count: 66.33\n",
      "Books with less than 10 words description: 133 (2.04%)\n"
     ]
    }
   ],
   "source": [
    "# Create a histogram of description word count\n",
    "import plotly.graph_objects as go\n",
    "\n",
    "# Create histogram using Plotly\n",
    "fig = px.histogram(\n",
    "\tcleaned_books, \n",
    "\tx='description_word_count',\n",
    "\tmarginal='box',\n",
    "\ttitle='Distribution of Description Word Count',\n",
    "\tlabels={'description_word_count': 'Word Count'},\n",
    "\tcolor_discrete_sequence=['#636EFA']\n",
    ")\n",
    "\n",
    "# Update layout\n",
    "fig.update_layout(\n",
    "\txaxis_title='Description Word Count',\n",
    "\tyaxis_title='Frequency',\n",
    "\twidth=900,\n",
    "\theight=500,\n",
    "\tbargap=0.05\n",
    ")\n",
    "\n",
    "fig.show()\n",
    "\n",
    "# Display summary statistics for description word count\n",
    "print(f\"Min word count: {cleaned_books['description_word_count'].min()}\")\n",
    "print(f\"Max word count: {cleaned_books['description_word_count'].max()}\")\n",
    "print(f\"Mean word count: {cleaned_books['description_word_count'].mean():.2f}\")\n",
    "print(f\"Books with less than 10 words description: {(cleaned_books['description_word_count'] < 10).sum()} ({(cleaned_books['description_word_count'] < 10).sum() / len(cleaned_books) * 100:.2f}%)\")"
   ]
  },
  {
   "cell_type": "code",
   "execution_count": 55,
   "metadata": {},
   "outputs": [
    {
     "data": {
      "application/vnd.microsoft.datawrangler.viewer.v0+json": {
       "columns": [
        {
         "name": "index",
         "rawType": "int64",
         "type": "integer"
        },
        {
         "name": "description",
         "rawType": "object",
         "type": "string"
        }
       ],
       "ref": "b204889a-b12e-4365-998b-6cae6dfb4087",
       "rows": [
        [
         "6",
         "Donation."
        ],
        [
         "11",
         "Fantasy-roman."
        ],
        [
         "748",
         "Includes bibliographical references."
        ],
        [
         "770",
         "Bound For Oregon (PB)"
        ],
        [
         "775",
         "No Marketing Blurb"
        ],
        [
         "812",
         "No Marketing Blurb"
        ],
        [
         "857",
         "First published in 1813."
        ],
        [
         "944",
         "Edited by Maurice Hindle."
        ],
        [
         "953",
         "DEFOE/ROBINSON CRUSOE (BC)"
        ],
        [
         "954",
         "Edited by John Carey."
        ],
        [
         "962",
         "ALLEN/GETTING THINGS DONE"
        ],
        [
         "1054",
         "GILBERT/EAT PRAY LOVE"
        ],
        [
         "1056",
         "\"Graham Greene centennial, 1904-2004\"--Cover."
        ],
        [
         "1060",
         "STEINBECK/GRAPES OF WRATH (BC)"
        ],
        [
         "1346",
         "Fantasy-roman."
        ],
        [
         "1546",
         "Winter 2003"
        ],
        [
         "1610",
         "Winter 1999"
        ],
        [
         "1813",
         "National bestseller."
        ],
        [
         "1981",
         "Romance."
        ],
        [
         "2089",
         "Oprah's Book Club."
        ],
        [
         "2372",
         "KANDEL/IN SEARCH OF MEMORY"
        ],
        [
         "2946",
         "FICTION-ROMANCE/GOTHIC"
        ],
        [
         "3064",
         "No Marketing Blurb"
        ],
        [
         "3364",
         "Fantasy-roman."
        ],
        [
         "3425",
         "A novel of Israel."
        ],
        [
         "3435",
         "Science fiction."
        ],
        [
         "3611",
         "Cast ages: adult."
        ],
        [
         "3641",
         "A Classic Robot novel."
        ],
        [
         "3645",
         "Science fiction-roman."
        ],
        [
         "3857",
         "Comprehensive Teacher's Guide available."
        ],
        [
         "3959",
         "Ketubot Part I"
        ],
        [
         "4262",
         "Issued in container."
        ],
        [
         "4898",
         "Fantasy roman."
        ],
        [
         "5015",
         "See:"
        ],
        [
         "5090",
         "?"
        ],
        [
         "5135",
         "(Autobiographical)."
        ],
        [
         "5161",
         "A classic rediscovered."
        ],
        [
         "5243",
         "."
        ],
        [
         "5245",
         "."
        ],
        [
         "5332",
         "No Marketing Blurb"
        ],
        [
         "5493",
         "Motion, Sound, and Heat."
        ],
        [
         "5505",
         "Eventyrroman."
        ],
        [
         "5599",
         "#48."
        ],
        [
         "5652",
         "see www.BloodMoonProductions.com"
        ],
        [
         "6066",
         "No Marketing Blurb"
        ],
        [
         "6144",
         "Dominion 3rd Edition"
        ],
        [
         "6180",
         "Revised edition"
        ],
        [
         "6368",
         "undefined"
        ],
        [
         "6402",
         "Meaning of life novel."
        ],
        [
         "6499",
         "Roman."
        ]
       ],
       "shape": {
        "columns": 1,
        "rows": 55
       }
      },
      "text/plain": [
       "6                                           Donation.\n",
       "11                                     Fantasy-roman.\n",
       "748              Includes bibliographical references.\n",
       "770                             Bound For Oregon (PB)\n",
       "775                                No Marketing Blurb\n",
       "812                                No Marketing Blurb\n",
       "857                          First published in 1813.\n",
       "944                         Edited by Maurice Hindle.\n",
       "953                        DEFOE/ROBINSON CRUSOE (BC)\n",
       "954                             Edited by John Carey.\n",
       "962                         ALLEN/GETTING THINGS DONE\n",
       "1054                            GILBERT/EAT PRAY LOVE\n",
       "1056    \"Graham Greene centennial, 1904-2004\"--Cover.\n",
       "1060                   STEINBECK/GRAPES OF WRATH (BC)\n",
       "1346                                   Fantasy-roman.\n",
       "1546                                      Winter 2003\n",
       "1610                                      Winter 1999\n",
       "1813                             National bestseller.\n",
       "1981                                         Romance.\n",
       "2089                               Oprah's Book Club.\n",
       "2372                       KANDEL/IN SEARCH OF MEMORY\n",
       "2946                           FICTION-ROMANCE/GOTHIC\n",
       "3064                               No Marketing Blurb\n",
       "3364                                   Fantasy-roman.\n",
       "3425                               A novel of Israel.\n",
       "3435                                 Science fiction.\n",
       "3611                                Cast ages: adult.\n",
       "3641                           A Classic Robot novel.\n",
       "3645                           Science fiction-roman.\n",
       "3857         Comprehensive Teacher's Guide available.\n",
       "3959                                   Ketubot Part I\n",
       "4262                             Issued in container.\n",
       "4898                                   Fantasy roman.\n",
       "5015                                             See:\n",
       "5090                                                ?\n",
       "5135                              (Autobiographical).\n",
       "5161                          A classic rediscovered.\n",
       "5243                                                .\n",
       "5245                                                .\n",
       "5332                               No Marketing Blurb\n",
       "5493                         Motion, Sound, and Heat.\n",
       "5505                                    Eventyrroman.\n",
       "5599                                             #48.\n",
       "5652                 see www.BloodMoonProductions.com\n",
       "6066                               No Marketing Blurb\n",
       "6144                             Dominion 3rd Edition\n",
       "6180                                  Revised edition\n",
       "6368                                        undefined\n",
       "6402                           Meaning of life novel.\n",
       "6499                                           Roman.\n",
       "6557                                 Kriminalromaner.\n",
       "6571                   Translated by Anthony Burgess.\n",
       "6695                               No Marketing Blurb\n",
       "6721                                          Horror.\n",
       "6794                             源氏物語54帖、「宮田切り絵」の真骨頂。\n",
       "Name: description, dtype: object"
      ]
     },
     "execution_count": 55,
     "metadata": {},
     "output_type": "execute_result"
    }
   ],
   "source": [
    "cleaned_books.loc[cleaned_books['description_word_count'].between(1,4), \"description\"]"
   ]
  },
  {
   "cell_type": "code",
   "execution_count": 56,
   "metadata": {},
   "outputs": [
    {
     "data": {
      "application/vnd.microsoft.datawrangler.viewer.v0+json": {
       "columns": [
        {
         "name": "index",
         "rawType": "int64",
         "type": "integer"
        },
        {
         "name": "description",
         "rawType": "object",
         "type": "string"
        }
       ],
       "ref": "6385d039-99f5-4389-b395-7baa4e045cab",
       "rows": [
        [
         "2",
         "Volume Two of Stephen Donaldson's acclaimed second trilogy featuing the compelling anti-hero Thomas Covenant."
        ],
        [
         "38",
         "Koko is Peter Straub's foray into the psychological horror of the Vietnam War."
        ],
        [
         "70",
         "A matter of life and death - and the Throne of England"
        ],
        [
         "77",
         "Nonsense rhyming story. 4 yrs+"
        ],
        [
         "83",
         "Tie your tongue in terrible knots as you try to read aloud. Nonsense rhyming story."
        ],
        [
         "84",
         "A study guide for the novel There's a Boy in the Girl's bathroom."
        ],
        [
         "90",
         "An epic narrative that takes a look at slavery in all of its moral complexities."
        ],
        [
         "94",
         "The title story in this collection of shorts now a film from Ang Lee."
        ],
        [
         "100",
         "Forty-nine stories reflect much of the intensity of Hemingway's own life and environment"
        ],
        [
         "104",
         "Library of Liberal Arts title."
        ],
        [
         "111",
         "Rabbit's schedule keeps him so busy his friends have to trick him into resting."
        ],
        [
         "133",
         "Provides daily reminders of the differences in behavior and communication styles of men and women"
        ],
        [
         "154",
         "A collection of humorous poems and drawings. Copyright © Libri GmbH. All rights reserved."
        ],
        [
         "241",
         "Originally published: [New York]: Clarion Books, 1994."
        ],
        [
         "259",
         "Presents three stories of teenagers beset by horrible curses and strange powers."
        ],
        [
         "333",
         "A stunning collection of Annie Dillard's most popular books in one volume."
        ],
        [
         "357",
         "The most eloquent translation of Homer's Odyssey into modern English."
        ],
        [
         "363",
         "A New York City chef and author of Gone Bamboo recounts his"
        ],
        [
         "472",
         "A study of the influence Romanticism exerts upon Western culture."
        ],
        [
         "475",
         "A novel about the active lives of two rather different high school freshmen in 1906."
        ],
        [
         "476",
         "A young pioneer couple homesteading in the Dakotas are beset with hardships and misfortune."
        ],
        [
         "532",
         "Translated by Alfred John Church and William Jackson Brodribb, Edited, with an Introduction, Moses Hadas"
        ],
        [
         "603",
         "An assistant police commissioner in a West African coastal town lets passion overrule his honor."
        ],
        [
         "639",
         "Suitable for introductory Social Psychology classes, this work presents a scientific approach to social psychology."
        ],
        [
         "643",
         "Storties included: The Visor, The Great Switcheroo, The Last Act, Bitch."
        ],
        [
         "668",
         "Traces the history of England from the end of Roman rule to the Norman Conquest"
        ],
        [
         "676",
         "After the war Irish emigre Darley becomes involved with Clea, a bisexual artist"
        ],
        [
         "682",
         "Biography of John Wesley Powell."
        ],
        [
         "688",
         "Explores the plight of the `Untouchables' in Hindu society in the 1930s."
        ],
        [
         "701",
         "A translation of the early document of Chinese philosophy with explanatory notes"
        ],
        [
         "713",
         "\"Earlier version copyright under title Those familiar spirits\"-- T.p. verso."
        ],
        [
         "719",
         "Describes the sea birds and sea creatures that inhabit the Eastern coasts of North America."
        ],
        [
         "761",
         "The further adventures of Pippi and her friends Tommy and Annika."
        ],
        [
         "771",
         "HINTON/THAT WAS THEN THIS IS NOW"
        ],
        [
         "772",
         "Contains all of Blake's poetry with full annotation and a glossary of proper names."
        ],
        [
         "786",
         "Portrays the brutal effects of the poverty and loneliness of slum life."
        ],
        [
         "805",
         "Offers translations of poems by the two Chinese writers."
        ],
        [
         "824",
         "Provides a translation of Aristotle's classic study of the nature of poetry."
        ],
        [
         "842",
         "The Award-Winning New Translation Of The Great Russian Novel."
        ],
        [
         "844",
         "New chronology and further reading Translated by R. J. Hollingdale Introduction by Michael Tanner."
        ],
        [
         "845",
         "Translated with an Introduction by David McDuff."
        ],
        [
         "903",
         "Erindringer om forfatterens nybyggertilværelse på familiens kaffefarm i Kenya i årene omkring 1. verdenskrig"
        ],
        [
         "923",
         "The eccentric behavior of a stranger brings excitement to a quiet Norwegian town."
        ],
        [
         "935",
         "Introduces teenagers to the adult short stories of Roald Dahl."
        ],
        [
         "945",
         "Professor Higgins succeeds in transforming an unkempt London flower girl into a society belle."
        ],
        [
         "948",
         "Edited with an Introduction and Notes by Richard Maxwell."
        ],
        [
         "949",
         "Edited with an Introduction and Notes by Matthew Sweet."
        ],
        [
         "950",
         "New chronology and updated further reading. Edited with an Introduction by A. S. Byatt."
        ],
        [
         "964",
         "Vividly depicts the colorful, sometimes disreputable, inhabitants of a run-down area in Monterey, California."
        ],
        [
         "965",
         "Steinbeck records his emotions and experiences during a journey of rediscovery in his native land."
        ]
       ],
       "shape": {
        "columns": 1,
        "rows": 395
       }
      },
      "text/plain": [
       "2       Volume Two of Stephen Donaldson's acclaimed second trilogy featuing the compelling anti-hero Thomas Covenant.\n",
       "38                                     Koko is Peter Straub's foray into the psychological horror of the Vietnam War.\n",
       "70                                                             A matter of life and death - and the Throne of England\n",
       "77                                                                                     Nonsense rhyming story. 4 yrs+\n",
       "83                                Tie your tongue in terrible knots as you try to read aloud. Nonsense rhyming story.\n",
       "                                                            ...                                                      \n",
       "6730                            Nineteen writers dig into the spaces between genres and bring up gems of new fiction.\n",
       "6757                                                                                      Audio Book- unabriged on CD\n",
       "6767                       Everything from the fingerprints of the gods through the hidden history of the human race.\n",
       "6776                                 Raymond Chandler meets The Exorcist. Classic novel in a signed, limited edition.\n",
       "6795                                                      Book Of Five Rings is a Kodansha International publication.\n",
       "Name: description, Length: 395, dtype: object"
      ]
     },
     "execution_count": 56,
     "metadata": {},
     "output_type": "execute_result"
    }
   ],
   "source": [
    "cleaned_books.loc[cleaned_books['description_word_count'].between(5,15), \"description\"]"
   ]
  },
  {
   "cell_type": "code",
   "execution_count": 57,
   "metadata": {},
   "outputs": [
    {
     "data": {
      "application/vnd.microsoft.datawrangler.viewer.v0+json": {
       "columns": [
        {
         "name": "index",
         "rawType": "int64",
         "type": "integer"
        },
        {
         "name": "description",
         "rawType": "object",
         "type": "string"
        }
       ],
       "ref": "c59f54d0-7b0c-403c-bd30-1840e69a075b",
       "rows": [
        [
         "9",
         "Kate Blackwell is an enigma and one of the most powerful women in the world. But at her ninetieth birthday celebrations there are ghosts of absent friends and absent enemies."
        ],
        [
         "14",
         "Available in the U.S. for the first time, this is the second volume in the exceptional Legends of the Riftwar series from \"New York Times\"-bestselling authors Feist and Rosenberg."
        ],
        [
         "20",
         "It is 1937, and Charles Ashworth, a Canon to the Archbishop of Canterbury, is sent to untangle a web of self-delusion and corruption at the episcopal palace of the charismatic Bishop of Starbridge."
        ],
        [
         "21",
         "Reissue of the author's most famous and well-loved work, the Starbridge series, six self-contained yet interconnected novels that explore the history of the Church of England through the 20th century."
        ],
        [
         "36",
         "A magical and fantastic collection of early stories by one of the most original children's authors of the 20th century. For 8-11 year olds."
        ],
        [
         "46",
         "No one believes a little girl when she insists that she has witnessed a murder until she herself turns up drowned, and Hercule Poirot sets out to catch the killer."
        ],
        [
         "57",
         "A young drifter finds more than he bargained for when he agrees to deliver a parcel to an English country house..."
        ],
        [
         "66",
         "When a dangerous necromancer threatens to unleash a long-buried evil, Lirael and Prince Sameth are drawn into a battle to save the Old Kingdom and reveal their true destinies. Suggested level: secondary."
        ],
        [
         "68",
         "A new 'The Doors of Perception' for the 21st century? A visionary journey from cynicism to shamanism by a brilliant young US writer."
        ],
        [
         "71",
         "It should be the most natural thing in the world. But in Tony Parsons' latest bestseller, three couples discover that Mother Nature can be one hell of a bitch."
        ],
        [
         "78",
         "From bang-ups and hang-ups to lurches and slumps. Dr. Seuss takes a hilarious look at the mishaps and misadventures that life may have in store for us."
        ],
        [
         "82",
         "A boy imagines what it would be like if he had such things as duck feet, a whale spout, and an elephant's trunk."
        ],
        [
         "103",
         "The only style manual ever to appear on the best-seller lists offers practical, fundamental advice on improving writing skills, promoting a style marked by simplicity, orderliness, and sincerity"
        ],
        [
         "107",
         "A Swedish boy long ago accompanies his ... [relatives] fromn their Scandinavian farm to ... Russia in an attempt to earn money by making unusual objects from human hair.\" - Book Buyer's Guide."
        ],
        [
         "109",
         "A blending of scholarly research and interviews with many of the figures who launched the civil rights movement in the 1960s and 1970s records the events of the movement's tumultuous first decade"
        ],
        [
         "112",
         "A young boy living in the Ozarks achieves his heart's desire when he becomes the owner of two redbone hounds and teaches them to be champion hunters."
        ],
        [
         "115",
         "An adaptation of the original story follows the activities of seven children in nineteenth-century New England as they prepare for the Thanksgiving holiday while Mother is away caring for Grandmother."
        ],
        [
         "129",
         "It's Christmas Eve, and Amelia Bedelia has to get the Rogers house ready for a visit from Aunt Myra. But with Amelia Bedelia in charge, this Christmas will be one of the funniest ever!"
        ],
        [
         "131",
         "After a mysterious stranger promises to end his boredom with a trip to the magical Holiday House, ten-year-old Harvey learns that his fun has a high price"
        ],
        [
         "132",
         "This fable aims teaches the reader to open their mind, listen to their heart and most importantly, follow their dreams."
        ],
        [
         "171",
         "Cross Damon, trapped within his own blackness, flees from Chicago's South Side to Harlem, where he joins the Communist Party."
        ],
        [
         "172",
         "Based on 15 years of in-depth research, \"1421\" traces the voyages of an extraordinary fleet of Chinese ships, whose crews actually charted America 70 years before Columbus. Four 8-page color inserts. 37 maps & diagrams."
        ],
        [
         "173",
         "A team of scientists struggles to define and contain a deadly bacteria brought back from outer space by a satellite."
        ],
        [
         "175",
         "After twelve-year-old Johnny Maxwell suddenly starts seeing and talking to ghosts, he and his friends become involved in a battle to save the local cemetery."
        ],
        [
         "177",
         "During a scarlet fever outbreak in 1906, thirteen-year-old Lizabeth must decide whether it is more important to be Strawberry Queen or to be at the bedside of her younger sister, who is ill."
        ],
        [
         "179",
         "The students of Miss Earth's class in rural Vermont experience an eventful spring when they become involved with a bullying new student, a competitive egg hunt, and genetically altered chicks."
        ],
        [
         "193",
         "Sabriel, daughter of the necromancer Abhorsen, must journey into the mysterious and magical Old Kingdom to rescue her father from the Land of the Dead."
        ],
        [
         "222",
         "The bestselling account of the martyrdom of Jim Elliot and four other missionaries at the hands of the Auca Indians in Ecuador. New introduction by the author."
        ],
        [
         "244",
         "A fledgling actress vacationing in Corfu, Lucy Waring witnesses the murder of one of England's theater luminaries and becomes embroiled in a dangerous offstage drama. Reprint."
        ],
        [
         "253",
         "At a Vermont elementary school, April Fools' Day takes on a sinister tone when a teacher goes missing and several suspects emerge, among them the teacher's fiance and a missing mutant chick."
        ],
        [
         "256",
         "Outlines steps to achieving overall physical health, addressing each area of the body in a series of chapters designed to challenge popular myths while informing readers on a range of dietary, exercise, and therapeutic concerns."
        ],
        [
         "271",
         "By the Pulitzer Prize-winning author of The Amazing Adventures of Kavalier & Clay This P.S. edition features an extra 16 pages of insights into the book, including author interviews, recommended reading, and more."
        ],
        [
         "284",
         "Traces the author's coming of age in the Jim Crow-era South, a period during which he struggled to survive while journeying from innocence to adulthood."
        ],
        [
         "294",
         "Four English school children enter the magic land of Narnia through the back of a wardrobe and assist Aslan, the golden lion, in defeating the White Witch who has cursed the land with eternal winter."
        ],
        [
         "305",
         "Sixteen-year-old Steph Landry finds an old book on how to be popular and decides to change her social status by following its advice, much to the bafflement of her two best friends."
        ],
        [
         "312",
         "After an October blizzard, Laura's family moves from the claim shanty into town for the winter, a winter that an Indian has predicted will be seven months of bad weather. A Newbery Honor Book. Reissue."
        ],
        [
         "314",
         "During their first four years of marriage, Laura and Almanzo Wilder have a child and fight a losing battle in their attempts to succeed at farming on the South Dakota prairie. Reissue."
        ],
        [
         "317",
         "An ambassador of the tenth-century Caliph of Bagdad is carried off by the Norsemen to endure, for three years, the harshness of their way of life and the creatures that terrorize them."
        ],
        [
         "321",
         "In a deepening of the thinking begun in The Myth of Analysis and Re-Visioning Psychology, James Hillman develops the first new view of dreams since Freud and Jung."
        ],
        [
         "322",
         "The highly original satire about Oedipa Maas, a woman who finds herself enmeshed in a worldwide conspiracy, meets some extremely interesting characters, and attains a not inconsiderable amount of self knowledge."
        ],
        [
         "323",
         "A book that instantly captured the hearts of readers across the country, An American Childhood is Pulitzer Prize-winning author Annie Dillard's poignant, vivid memoir of growing up in Pittsburgh in the 1950s."
        ],
        [
         "324",
         "Here, in this compelling assembly of writings, Pulitzer Prize-winning author Annie Dillard explores the world of natural facts and human meanings."
        ],
        [
         "329",
         "John Buddy Pearson, a young Black man who becomes a popular pastor at Zion Hope, is unable to reconcile his good intentions and his natural instincts"
        ],
        [
         "334",
         "The acclaimed author of A People's History of the United States presents an honest and piercing look at American political ideology."
        ],
        [
         "335",
         "A collection of short stories, most of which appeared in literary magazines during the author's lifetime, along with previously unpublished works, spans the career of one of the century's foremost African-American writers. Reprint."
        ],
        [
         "339",
         "An illuminating look at the monumental inventions of the Middle Ages, by the authors of Life in a Medieval Castle."
        ],
        [
         "340",
         "From the award-winning poet and novelist—a must-have collection of his four previous books of poetry plus a selection of new, unpublished work."
        ],
        [
         "345",
         "Tells the story of a man whose botched circumcision as a baby and subsequent surgical alteration to a female was mistakenly used as an argument for the success of such procedures."
        ],
        [
         "348",
         "Novelist George Webber is driven from his hometown when his successful autobiographical novel infuriates the family and friends he has depicted in it"
        ],
        [
         "355",
         "After learning that she is the executor of her ex-lover's will, Oedipa Maas starts a strange journey through Southern California in the 1960s."
        ]
       ],
       "shape": {
        "columns": 1,
        "rows": 1868
       }
      },
      "text/plain": [
       "9                                           Kate Blackwell is an enigma and one of the most powerful women in the world. But at her ninetieth birthday celebrations there are ghosts of absent friends and absent enemies.\n",
       "14                                     Available in the U.S. for the first time, this is the second volume in the exceptional Legends of the Riftwar series from \"New York Times\"-bestselling authors Feist and Rosenberg.\n",
       "20                   It is 1937, and Charles Ashworth, a Canon to the Archbishop of Canterbury, is sent to untangle a web of self-delusion and corruption at the episcopal palace of the charismatic Bishop of Starbridge.\n",
       "21                Reissue of the author's most famous and well-loved work, the Starbridge series, six self-contained yet interconnected novels that explore the history of the Church of England through the 20th century.\n",
       "36                                                                             A magical and fantastic collection of early stories by one of the most original children's authors of the 20th century. For 8-11 year olds.\n",
       "                                                                                                               ...                                                                                                        \n",
       "6779    Edited by the creator and executive producer of the teen detective show, a collection of essays address such varied subjects as Veronica's vigilante justice and Veronica and Loganâ€™s everchanging relationship.\n",
       "6782                                                                   Displays one of America's leading physicist's fascinating development of personal artistic sensitivity to line, form, and the moods of his subject.\n",
       "6789                                                Provides an introduction to the American artist's work, presenting examples of his works with a discussion of their historical background and critical interpretation.\n",
       "6799                                 This book is the story of a young girl obsessed by a childhood prophecy of disaster. The author builds up an atmosphere of tension and oppression, in the middle of an Indian summer.\n",
       "6809                                                                                           This is a jubilant and rewarding collection of Winterson scholarship--a superb group of essays from a host of fine authors.\n",
       "Name: description, Length: 1868, dtype: object"
      ]
     },
     "execution_count": 57,
     "metadata": {},
     "output_type": "execute_result"
    }
   ],
   "source": [
    "cleaned_books.loc[cleaned_books['description_word_count'].between(20,35), \"description\"]"
   ]
  },
  {
   "cell_type": "markdown",
   "metadata": {},
   "source": [
    "* As description with 20 words or more gives meaningful context, so we are going\n",
    "  to remove descriptions with less  then 20 words"
   ]
  },
  {
   "cell_type": "code",
   "execution_count": 58,
   "metadata": {},
   "outputs": [],
   "source": [
    "cleaned_books_20_words = cleaned_books[cleaned_books['description_word_count'] >= 20]"
   ]
  },
  {
   "cell_type": "code",
   "execution_count": 59,
   "metadata": {},
   "outputs": [
    {
     "data": {
      "text/plain": [
       "(5693, 15)"
      ]
     },
     "execution_count": 59,
     "metadata": {},
     "output_type": "execute_result"
    }
   ],
   "source": [
    "cleaned_books_20_words.shape"
   ]
  },
  {
   "cell_type": "markdown",
   "metadata": {},
   "source": [
    "* As observed earlier, `subtitle` column has more than 65% missing values, so we are combining it with\n",
    "\t`title` column\n",
    "\t"
   ]
  },
  {
   "cell_type": "code",
   "execution_count": 60,
   "metadata": {},
   "outputs": [
    {
     "name": "stderr",
     "output_type": "stream",
     "text": [
      "C:\\Users\\Administrator\\AppData\\Local\\Temp\\ipykernel_7836\\3053767846.py:3: SettingWithCopyWarning:\n",
      "\n",
      "\n",
      "A value is trying to be set on a copy of a slice from a DataFrame.\n",
      "Try using .loc[row_indexer,col_indexer] = value instead\n",
      "\n",
      "See the caveats in the documentation: https://pandas.pydata.org/pandas-docs/stable/user_guide/indexing.html#returning-a-view-versus-a-copy\n",
      "\n"
     ]
    }
   ],
   "source": [
    "# Combine title and subtitle columns\n",
    "# If subtitle is NaN, just use title; otherwise, combine them\n",
    "cleaned_books_20_words['full_title'] = cleaned_books_20_words.apply(\n",
    "\tlambda row: row['title'] if pd.isna(row['subtitle']) else f\"{row['title']}: {row['subtitle']}\",\n",
    "\taxis=1\n",
    ")\n"
   ]
  },
  {
   "cell_type": "code",
   "execution_count": 61,
   "metadata": {},
   "outputs": [
    {
     "data": {
      "application/vnd.microsoft.datawrangler.viewer.v0+json": {
       "columns": [
        {
         "name": "index",
         "rawType": "int64",
         "type": "integer"
        },
        {
         "name": "isbn13",
         "rawType": "int64",
         "type": "integer"
        },
        {
         "name": "isbn10",
         "rawType": "object",
         "type": "string"
        },
        {
         "name": "title",
         "rawType": "object",
         "type": "string"
        },
        {
         "name": "subtitle",
         "rawType": "object",
         "type": "unknown"
        },
        {
         "name": "authors",
         "rawType": "object",
         "type": "unknown"
        },
        {
         "name": "categories",
         "rawType": "object",
         "type": "unknown"
        },
        {
         "name": "thumbnail",
         "rawType": "object",
         "type": "unknown"
        },
        {
         "name": "description",
         "rawType": "object",
         "type": "string"
        },
        {
         "name": "published_year",
         "rawType": "float64",
         "type": "float"
        },
        {
         "name": "average_rating",
         "rawType": "float64",
         "type": "float"
        },
        {
         "name": "num_pages",
         "rawType": "float64",
         "type": "float"
        },
        {
         "name": "ratings_count",
         "rawType": "float64",
         "type": "float"
        },
        {
         "name": "missing_description",
         "rawType": "int64",
         "type": "integer"
        },
        {
         "name": "book_age",
         "rawType": "float64",
         "type": "float"
        },
        {
         "name": "description_word_count",
         "rawType": "int64",
         "type": "integer"
        },
        {
         "name": "full_title",
         "rawType": "object",
         "type": "string"
        }
       ],
       "ref": "6a6db695-5960-4eae-b765-a64d8c56ce3b",
       "rows": [
        [
         "0",
         "9780002005883",
         "0002005883",
         "Gilead",
         null,
         "Marilynne Robinson",
         "Fiction",
         "http://books.google.com/books/content?id=KQZCPgAACAAJ&printsec=frontcover&img=1&zoom=1&source=gbs_api",
         "A NOVEL THAT READERS and critics have been eagerly anticipating for over a decade, Gilead is an astonishingly imagined story of remarkable lives. John Ames is a preacher, the son of a preacher and the grandson (both maternal and paternal) of preachers. It’s 1956 in Gilead, Iowa, towards the end of the Reverend Ames’s life, and he is absorbed in recording his family’s story, a legacy for the young son he will never see grow up. Haunted by his grandfather’s presence, John tells of the rift between his grandfather and his father: the elder, an angry visionary who fought for the abolitionist cause, and his son, an ardent pacifist. He is troubled, too, by his prodigal namesake, Jack (John Ames) Boughton, his best friend’s lost son who returns to Gilead searching for forgiveness and redemption. Told in John Ames’s joyous, rambling voice that finds beauty, humour and truth in the smallest of life’s details, Gilead is a song of celebration and acceptance of the best and the worst the world has to offer. At its heart is a tale of the sacred bonds between fathers and sons, pitch-perfect in style and story, set to dazzle critics and readers alike.",
         "2004.0",
         "3.85",
         "247.0",
         "361.0",
         "0",
         "21.0",
         "199",
         "Gilead"
        ],
        [
         "1",
         "9780002261982",
         "0002261987",
         "Spider's Web",
         "A Novel",
         "Charles Osborne;Agatha Christie",
         "Detective and mystery stories",
         "http://books.google.com/books/content?id=gA5GPgAACAAJ&printsec=frontcover&img=1&zoom=1&source=gbs_api",
         "A new 'Christie for Christmas' -- a full-length novel adapted from her acclaimed play by Charles Osborne Following BLACK COFFEE and THE UNEXPECTED GUEST comes the final Agatha Christie play novelisation, bringing her superb storytelling to a new legion of fans. Clarissa, the wife of a Foreign Office diplomat, is given to daydreaming. 'Supposing I were to come down one morning and find a dead body in the library, what should I do?' she muses. Clarissa has her chance to find out when she discovers a body in the drawing-room of her house in Kent. Desperate to dispose of the body before her husband comes home with an important foreign politician, Clarissa persuades her three house guests to become accessories and accomplices. It seems that the murdered man was not unknown to certain members of the house party (but which ones?), and the search begins for the murderer and the motive, while at the same time trying to persuade a police inspector that there has been no murder at all... SPIDER'S WEB was written in 1954 specifically for Margaret Lockwood and opened first at the Theatre Royal Nottingham before moving to the Savoy Theatre in London on 14 December 1954. With THE MOUSETRAP and WI",
         "2000.0",
         "3.83",
         "241.0",
         "5164.0",
         "0",
         "25.0",
         "205",
         "Spider's Web: A Novel"
        ],
        [
         "3",
         "9780006178736",
         "0006178731",
         "Rage of angels",
         null,
         "Sidney Sheldon",
         "Fiction",
         "http://books.google.com/books/content?id=FKo2TgANz74C&printsec=frontcover&img=1&zoom=1&source=gbs_api",
         "A memorable, mesmerizing heroine Jennifer -- brilliant, beautiful, an attorney on the way up until the Mafia's schemes win her the hatred of an implacable enemy -- and a love more destructive than hate. A dangerous, dramatic world The Dark Arena of organized crime and flashbulb lit courtrooms where ambitious prosecutors begin their climb to political power.",
         "1993.0",
         "3.93",
         "512.0",
         "29532.0",
         "0",
         "32.0",
         "57",
         "Rage of angels"
        ],
        [
         "4",
         "9780006280897",
         "0006280897",
         "The Four Loves",
         null,
         "Clive Staples Lewis",
         "Christian life",
         "http://books.google.com/books/content?id=XhQ5XsFcpGIC&printsec=frontcover&img=1&zoom=1&source=gbs_api",
         "Lewis' work on the nature of love divides love into four categories; Affection, Friendship, Eros and Charity. The first three come naturally to humanity. Charity, however, the Gift-love of God, is divine, and without this supernatural love, the natural loves become distorted and even dangerous.",
         "2002.0",
         "4.15",
         "170.0",
         "33684.0",
         "0",
         "23.0",
         "45",
         "The Four Loves"
        ],
        [
         "5",
         "9780006280934",
         "0006280935",
         "The Problem of Pain",
         null,
         "Clive Staples Lewis",
         "Christian life",
         "http://books.google.com/books/content?id=Kk-uVe5QK-gC&printsec=frontcover&img=1&zoom=1&source=gbs_api",
         "\"In The Problem of Pain, C.S. Lewis, one of the most renowned Christian authors and thinkers, examines a universally applicable question within the human condition: If God is good and all-powerful, why does he allow his creatures to suffer pain? With his signature wealth of compassion and insight, C.S. Lewis offers answers to these crucial questions and shares his hope and wisdom to help heal a world hungering for a true understanding of human nature.\"--Amazon.",
         "2002.0",
         "4.09",
         "176.0",
         "37569.0",
         "0",
         "23.0",
         "75",
         "The Problem of Pain"
        ],
        [
         "7",
         "9780006380832",
         "0006380832",
         "Empires of the Monsoon",
         "A History of the Indian Ocean and Its Invaders",
         "Richard Hall",
         "Africa, East",
         "http://books.google.com/books/content?id=MuPEQgAACAAJ&printsec=frontcover&img=1&zoom=1&source=gbs_api",
         "Until Vasco da Gama discovered the sea-route to the East in 1497-9 almost nothing was known in the West of the exotic cultures and wealth of the Indian Ocean and its peoples. It is this civilization and its destruction at the hands of the West that Richard Hall recreates in this book. Hall's history of the exploration and exploitation by Chinese and Arab travellers, and by the Portuguese, Dutch and British alike is one of brutality, betrayal and colonial ambition.",
         "1998.0",
         "4.41",
         "608.0",
         "65.0",
         "0",
         "27.0",
         "80",
         "Empires of the Monsoon: A History of the Indian Ocean and Its Invaders"
        ],
        [
         "8",
         "9780006470229",
         "000647022X",
         "The Gap Into Madness",
         "Chaos and Order",
         "Stephen R. Donaldson",
         "Hyland, Morn (Fictitious character)",
         "http://books.google.com/books/content?id=4oXavLNDWocC&printsec=frontcover&img=1&zoom=1&source=gbs_api",
         "A new-cover reissue of the fourth book in the bestselling five-volume sf series created by the world-famous author of the Thomas Covenant chronicles -- and acclaimed as the 'best work of his career'. Events were not moving as the Amnion had intended. Once again humans had been false in their dealings with the aliens. As the planetoid Thanatos Minor exploded into atoms, the Trumpet hurtled into space only one step ahead of hostile pursuers. On board were Morn Hyland and her force-grown son Davies, cyborg Angus Thermopyle and Captain Nick Succorso -- old enemies thrown together in a desperate bid for survival. For both the Amnion and the UMCP, the immediate capture of the fleeing ship and the secrets it contained was imperative. But for Trumpet's exhausted crew the only hope lay in an illegal lab in the distant binary solar system of Valdor Industrial. It would be a journey of unpredictable danger -- from which not all would return...",
         "1994.0",
         "4.15",
         "743.0",
         "103.0",
         "0",
         "31.0",
         "160",
         "The Gap Into Madness: Chaos and Order"
        ],
        [
         "9",
         "9780006472612",
         "0006472613",
         "Master of the Game",
         null,
         "Sidney Sheldon",
         "Adventure stories",
         "http://books.google.com/books/content?id=TkTYp-Tp6_IC&printsec=frontcover&img=1&zoom=1&source=gbs_api",
         "Kate Blackwell is an enigma and one of the most powerful women in the world. But at her ninetieth birthday celebrations there are ghosts of absent friends and absent enemies.",
         "1982.0",
         "4.11",
         "489.0",
         "43540.0",
         "0",
         "43.0",
         "30",
         "Master of the Game"
        ],
        [
         "12",
         "9780006482079",
         "0006482074",
         "Warhost of Vastmark",
         null,
         "Janny Wurts",
         "Fiction",
         "http://books.google.com/books/content?id=uOL0fpS9WZkC&printsec=frontcover&img=1&zoom=1&source=gbs_api",
         "Tricked once more by his wily half-brother, Lysaer, Lord of Light, arrives at the tiny harbor town of Merior to find that Arithon's ship yards have been abandoned and meticulously destroyed, and that the Master of Shadow has disappeared as if into thin air. Meanwhile Arithon and the Mad Prophet Dakar are traveling on foot through the treacherous Kelhorn Mountains towards the Vastmark clans, there to raise further support for his cause. But raising a warhost is a costly business. Is it mere coincidence that Princess Talith—Lysaer's beautiful, headstrong wife—is taken captive and held for a vast ransom by a master brigand? The forces of light and shadow circle and feint, drawing ever closer to a huge conflict. And in the background the Fellowship of Seven Sorcerers and the Koriani Enchantresses watch and plan, and wait.",
         "1995.0",
         "4.03",
         "522.0",
         "2966.0",
         "0",
         "30.0",
         "136",
         "Warhost of Vastmark"
        ],
        [
         "13",
         "9780006483014",
         "0006483011",
         "The Once and Future King",
         null,
         "Terence Hanbury White",
         "Arthurian romances",
         "http://books.google.com/books/content?id=Jx6BvgEACAAJ&printsec=frontcover&img=1&zoom=1&source=gbs_api",
         "An omnibus volume of the author's complete story of the Arthurian epic which includes: \"The sword in the stone\" (1939), \"The witch in the wood\" (1939), \"The ill-made knight\" (1940), \"The candle in the wind\" (published for the first time), and \"The book of Merlyn.\" 1996.",
         "1996.0",
         "4.04",
         "823.0",
         "2805.0",
         "0",
         "29.0",
         "46",
         "The Once and Future King"
        ],
        [
         "14",
         "9780006483892",
         "0006483895",
         "Murder in LaMut",
         null,
         "Raymond E. Feist;Joel Rosenberg",
         "Adventure stories",
         "http://books.google.com/books/content?id=I2jbBlMHlAMC&printsec=frontcover&img=1&zoom=1&source=gbs_api",
         "Available in the U.S. for the first time, this is the second volume in the exceptional Legends of the Riftwar series from \"New York Times\"-bestselling authors Feist and Rosenberg.",
         "2003.0",
         "3.7",
         "337.0",
         "5083.0",
         "0",
         "22.0",
         "29",
         "Murder in LaMut"
        ],
        [
         "15",
         "9780006483908",
         "0006483909",
         "Jimmy the Hand",
         null,
         "Raymond E. Feist;S. M. Stirling",
         "Fantasy fiction",
         "http://books.google.com/books/content?id=hV4-oITYFN8C&printsec=frontcover&img=1&zoom=1&source=gbs_api",
         "Jimmy the Hand, boy thief of Krondor, lived in the shadows of the city. Though gifted beyond his peers, Jimmy is merely a pickpocket with potential--until he aids Prince Arutha in the rescue of Princess Anita from Duke Guy du Bas-Tyra, and runs afoul of \"Black Guy's\" secret police. Facing a choice between disappearing on his own or in a weighted barrel at the bottom of Krondor's harbor, Jimmy chooses the former. Forced to flee the only home he's ever known, Jimmy finds himself among the unsuspecting rural villagers of Land's End, where he hopes to prosper with his talents for con and thievery. But Land's End is home to many who tread the crooked path--and to a dark, dangerous presence even the local smugglers don't recognize. And suddenly Jimmy's youthful bravado and courage are leading him into the maw of chaos . . . and, quite possibly, to his doom.",
         "2003.0",
         "3.95",
         "368.0",
         "5579.0",
         "0",
         "22.0",
         "151",
         "Jimmy the Hand"
        ],
        [
         "16",
         "9780006486145",
         "0006486142",
         "Well of Darkness",
         null,
         "Margaret Weis;Tracy Hickman",
         null,
         "http://books.google.com/books/content?id=XrwaAAAACAAJ&printsec=frontcover&img=1&zoom=1&source=gbs_api",
         "Gareth is just a frightened young lad when he is drafted in to be the whipping-boy for the unruly Prince Dagnarus. Yet as they grow to be men, an unshakable bond is formed. And it is their destiny for them to become the two most powerful - and feared - men in the kingdom. But when Dagnarus decides to become a knight himself, he begins a chain of evil events that threaten to destroy the entire kingdom. Only by uniting the Sovereign Stone can peace be restored, and it is up to Dagnarus' brother Helmos to try to achieve this impossible task, using his father's soldiers against his brother's army. All the while, Gareth is gaining mastery over the sinister Void magic, and he is devoted to helping his childhood companion.. This gripping story of magical power and corruption takes the unique viewpoint of focusing on the evil characters, as we follow them from boys to men. Filled with action, suspense and wonderfully imaginative characters, Water From the Well of Darkness is set to elevate the careers of bestselling authors Weis & Hickman to spectacular new heights.",
         "2001.0",
         "3.66",
         "599.0",
         "68.0",
         "0",
         "24.0",
         "187",
         "Well of Darkness"
        ],
        [
         "17",
         "9780006490456",
         "000649045X",
         "Witness for the Prosecution & Selected Plays",
         null,
         "Agatha Christie",
         "English drama",
         "http://books.google.com/books/content?id=_9u7AAAACAAJ&printsec=frontcover&img=1&zoom=1&source=gbs_api",
         "Newly-Jacketed Edition Designed To Celebrate The 50Th Anniversary Of Christie S Faultlessly Plotted Witness For The Prosecution And Other Outstanding Plays. The Perfect Complement To The Latest Edition Of The Mousetrap And Selected Plays (50Th Aniversary Edition). Headlining This Book Is Witness For The Prosecution Christie S Highly Successful Stage Play Which Won The New York Drama Critics Circle Award For Best Foreign Play. A Stunning Courtroom Drama, It Tells The Story Of A Scheming Wife Testifying Against Her Husband In A Shocking Murder Trial. The Wild Beauty Of A Seaside House Perched High On The Devonshire River Tern Provides A Stunning Back-Drop In Towards Zero As A Psychopathic Murderer Homes In On The Unsuspecting Victims. Passion, Murder And Love Are The Deadly Ingredients In Verdict, Making It One Of Christie S More Unusual Thrillers And Prompting Her To Label It The Best Play I Have Written With The Exception Of Witness For The Prosecution . Go Back For Murder Tells The Story Of The Young And Feisty Carla Who, Orphaned At The Tender Age Of Five, Discovers Her Mother Was Imprisioned For Murdering Her Father And Determines To Prove Her Innocence.",
         "1995.0",
         "4.05",
         "352.0",
         "3908.0",
         "0",
         "30.0",
         "192",
         "Witness for the Prosecution & Selected Plays"
        ],
        [
         "18",
         "9780006496434",
         "0006496431",
         "The Little House",
         null,
         "Philippa Gregory",
         "Country life",
         "http://books.google.com/books/content?id=rbvUPps9vKsC&printsec=frontcover&img=1&zoom=1&source=gbs_api",
         "It was easy for Elizabeth. She married the man she loved. It was harder for Ruth. She married Elizabeth's son and then found that, somehow, she could never quite measure up. This thriller examines what women want and what they fear, as Ruth confronts the shifting borders of her own sanity.",
         "1998.0",
         "3.66",
         "368.0",
         "1832.0",
         "0",
         "27.0",
         "51",
         "The Little House"
        ],
        [
         "19",
         "9780006496878",
         "0006496873",
         "Mystical Paths",
         null,
         "Susan Howatch",
         "English fiction",
         "http://books.google.com/books/content?id=by4ytBy63o0C&printsec=frontcover&img=1&zoom=1&source=gbs_api",
         "1968 finds Nicholas Darrow wrestling with personal problems. How can he marry Rosalind when he is unable to avoid promiscuity? How can he become a priest when he finds it so difficult to live as one? And can he break his dangerous dependence on his father?",
         "1996.0",
         "4.23",
         "576.0",
         "1023.0",
         "0",
         "29.0",
         "46",
         "Mystical Paths"
        ],
        [
         "20",
         "9780006496892",
         "000649689X",
         "Glittering Images",
         null,
         "Susan Howatch",
         "English fiction",
         "http://books.google.com/books/content?id=rDHbn0ORKhQC&printsec=frontcover&img=1&zoom=1&source=gbs_api",
         "It is 1937, and Charles Ashworth, a Canon to the Archbishop of Canterbury, is sent to untangle a web of self-delusion and corruption at the episcopal palace of the charismatic Bishop of Starbridge.",
         "1996.0",
         "4.07",
         "512.0",
         "2045.0",
         "0",
         "29.0",
         "33",
         "Glittering Images"
        ],
        [
         "21",
         "9780006496922",
         "000649692X",
         "Glamorous Powers",
         null,
         "Susan Howatch",
         "Clergy",
         "http://books.google.com/books/content?id=_bhPYWs6RrYC&printsec=frontcover&img=1&zoom=1&source=gbs_api",
         "Reissue of the author's most famous and well-loved work, the Starbridge series, six self-contained yet interconnected novels that explore the history of the Church of England through the 20th century.",
         "1996.0",
         "4.2",
         "512.0",
         "1441.0",
         "0",
         "29.0",
         "30",
         "Glamorous Powers"
        ],
        [
         "22",
         "9780006498865",
         "0006498868",
         "The Mad Ship",
         null,
         "Robin Hobb",
         "Fantasy fiction",
         "http://books.google.com/books/content?id=2iWezkfdBE8C&printsec=frontcover&img=1&zoom=1&source=gbs_api",
         "Fantasy master Robin Hobb delivers the stunning second volume of her Liveship Traders trilogy, returning to the timeless city of Bingtown, where pirates now plague the coasts and the dreaded slave trade flourishes. Althea Vestrit doesnt have time to be afraid, for her familys newly awakened Liveship, Vivacia, has been seized by the ruthless pirate Kennit. So Althea hatches a bold plan. But to carry it out, she must recruit a Liveship that has already slain two crews -- and is said to be insane.",
         "2000.0",
         "4.24",
         "906.0",
         "36101.0",
         "0",
         "25.0",
         "85",
         "The Mad Ship"
        ],
        [
         "23",
         "9780006499169",
         "0006499163",
         "Post Captain",
         null,
         "Patrick O'Brian",
         "Aubrey, Jack (Fictitious character)",
         "http://books.google.com/books/content?id=S761k-z51Q4C&printsec=frontcover&img=1&zoom=1&source=gbs_api",
         "This tale begins with Jack Aubrey arriving home from his exploits in the Mediterranean to find England at peace following the Treaty of Amiens. He and his friend Stephen Maturin, surgeon and secret agent, begin to live the lives of country gentlemen, hunting, entertaining and enjoying more amorous adventures. Their comfortable existence, however, is cut short when Jack is overnight reduced to a pauper with enough debts to keep him in prison for life. He flees to the continent to seek refuge: instead he finds himself a hunted fugitive as Napoleon has ordered the internment of all Englishmen in France. Aubrey's adventures in escaping from France and the debtors' prison will grip the reader as fast as his unequalled actions at sea.",
         "1996.0",
         "4.29",
         "474.0",
         "7815.0",
         "0",
         "29.0",
         "122",
         "Post Captain"
        ],
        [
         "24",
         "9780006499268",
         "0006499260",
         "The Reverse of the Medal",
         null,
         "Patrick O'Brian",
         "Adventure stories",
         "http://books.google.com/books/content?id=YtjxFRb39Z4C&printsec=frontcover&img=1&zoom=1&source=gbs_api",
         "In this book, Jack Aubrey returns from his duties protecting whalers off the South American coast and is persuaded by a casual acquaintance to make investments in the City on the strength of supposedly certain information. From there he is led into the half-worlds of the London criminal underground and of government espionage - the province of his friend, Stephen Maturin.",
         "1997.0",
         "4.41",
         "261.0",
         "177.0",
         "0",
         "28.0",
         "61",
         "The Reverse of the Medal"
        ],
        [
         "25",
         "9780006499626",
         "0006499627",
         "Miss Marple",
         "The Complete Short Stories",
         "Agatha Christie",
         "Detective and mystery stories, English",
         "http://books.google.com/books/content?id=a96qPwAACAAJ&printsec=frontcover&img=1&zoom=1&source=gbs_api",
         "Miss Marple featured in 20 short stories, published in a number of different collections in Britain and America. Presented here in their order of publication, Miss Marple uses her unique insight to deduce the truth about a series of unsolved crimes.",
         "1997.0",
         "4.2",
         "359.0",
         "6235.0",
         "0",
         "28.0",
         "41",
         "Miss Marple: The Complete Short Stories"
        ],
        [
         "26",
         "9780006511489",
         "0006511481",
         "The Years of Rice and Salt",
         null,
         "Kim Stanley Robinson",
         "Black Death",
         "http://books.google.com/books/content?id=I38CFD1RnmsC&printsec=frontcover&img=1&zoom=1&source=gbs_api",
         "Hailed by \"The New York Times Book Review\" as \"eye-opening, \" this alternative history of the last 600 years begins as the Black Death kills nearly everyone in Europe, and China, India, and the nations of Islam now control the world.",
         "2003.0",
         "3.73",
         "772.0",
         "194.0",
         "0",
         "22.0",
         "41",
         "The Years of Rice and Salt"
        ],
        [
         "27",
         "9780006512677",
         "0006512674",
         "Spares",
         null,
         "Michael Marshall Smith",
         "Human cloning",
         "http://books.google.com/books/content?id=83RrAdP9y5UC&printsec=frontcover&img=1&zoom=1&source=gbs_api",
         "Spares - human clones, the ultimate health insurance. An eye for an eye - but some people are doing all the taking. The story of Jack Randall: burnt-out, dropped out, and way overdrawn at the luck bank. But as caretaker on a Spares Farm, he still has a choice, and it might make a difference.",
         "1998.0",
         "4.13",
         "317.0",
         "2481.0",
         "0",
         "27.0",
         "55",
         "Spares"
        ],
        [
         "28",
         "9780006513087",
         "0006513085",
         "Gravity",
         null,
         "Tess Gerritsen",
         "Science fiction",
         "http://books.google.com/books/content?id=KI66cH39n6sC&printsec=frontcover&img=1&zoom=1&source=gbs_api",
         "Emma Watson a research physician has been training for the mission of a lifetime: to study living organisms in the microgravity of space. But the true and lethal nature of the experiment has not been revealed to NASA and once aboard the space station things start to go wrong. A culture of single-celled Archaeons, gathered from the deep sea, begin to rapidly multiply and infect the crew - with deadly and agonising results. As her estranged husband and ground crew at NASA work against the clock to launch a rescue Emma stuggles to contain the lethal microbe. But with the contagion threatening Earth's population, there are those who would leave the astronauts stranded in orbit, quarantined aboard the station.",
         "2004.0",
         "4.04",
         "342.0",
         "8024.0",
         "0",
         "21.0",
         "119",
         "Gravity"
        ],
        [
         "29",
         "9780006514640",
         "0006514642",
         "The Wise Woman",
         null,
         "Philippa Gregory",
         "Great Britain",
         "http://books.google.com/books/content?id=BEr9wAEACAAJ&printsec=frontcover&img=1&zoom=1&source=gbs_api",
         "Alone and vulnerable, Alys joins a nunnery in an attempt to escape poverty but finds herself thrown back into the outside world when Henry VIII's wreckers destroy her sanctuary. With nothing but her looks, her magic and her own instinctive cunning, Alys has to tread a perilous path between the faith of her childhood and her own female power. When she falls in love with Hugo, the feudal lord and another woman's husband, she dips into witchcraft to defeat her rival and to win her lover, only to find that magic makes a poor servant but a dominant master. Since heresy against the new church means the stake, and witchcraft the rope, Alys's danger is mortal. A woman's powers are not longer safe to use...",
         "2002.0",
         "3.31",
         "640.0",
         "6583.0",
         "0",
         "23.0",
         "125",
         "The Wise Woman"
        ],
        [
         "30",
         "9780006514855",
         "0006514855",
         "Girls' Night in",
         null,
         "Jessica Adams;Chris Manby;Fiona Walker",
         "American fiction",
         "http://books.google.com/books/content?id=xLwHHQAACAAJ&printsec=frontcover&img=1&zoom=1&source=gbs_api",
         "'Girls' Night In' features stories about growing up, growing out of, moving out, moving on, falling apart and getting it all together. So turn off your cell phone and curl up on the couch: this is one 'Girls' Night In' you won't want to miss.",
         "2000.0",
         "3.26",
         "586.0",
         "140.0",
         "0",
         "25.0",
         "45",
         "Girls' Night in"
        ],
        [
         "31",
         "9780006545866",
         "0006545866",
         "The White Album",
         null,
         "Joan Didion",
         "American essays",
         "http://books.google.com/books/content?id=qauOPwAACAAJ&printsec=frontcover&img=1&zoom=1&source=gbs_api",
         "This collection of essays recounts what took place on the long morning after the 1960s, when everyone was coming down from their particular bad trip. Didion observes the dramas that explode as America goes into collective detox: the mother abandoning her five-year-old daughter on the central reservation of Interstate 5; Huey Newton and the Black Panthers preaching from their cells; students, in unconscious parody, simulating the disaffection of the 1960s.",
         "1993.0",
         "4.17",
         "224.0",
         "91.0",
         "0",
         "32.0",
         "70",
         "The White Album"
        ],
        [
         "33",
         "9780006551393",
         "0006551394",
         "The Lexus and the Olive Tree",
         null,
         "Thomas L. Friedman",
         "Capitalism",
         "http://books.google.com/books/content?id=u8zxpq6o7HYC&printsec=frontcover&img=1&zoom=1&source=gbs_api",
         "Half of this new, post-Cold War world is intent on building a better Lexus, on streamlining their societies and economies for the global marketplace, while the other half is locked in elemental struggles over who owns which olive tree, which strip of land.",
         "2000.0",
         "3.59",
         "352.0",
         "87.0",
         "0",
         "25.0",
         "43",
         "The Lexus and the Olive Tree"
        ],
        [
         "34",
         "9780006551812",
         "0006551815",
         "'Tis",
         "A Memoir",
         "Frank McCourt",
         "Ireland",
         "http://books.google.com/books/content?id=Q3BhQgAACAAJ&printsec=frontcover&img=1&zoom=1&source=gbs_api",
         "FROM THE PULIZER PRIZE-WINNING AUTHOR OF THE #1 \"NEW YORK TIMES\" BESTSELLER \"ANGELA'S ASHES\" Frank McCourt's glorious childhood memoir, \"Angela's Ashes, \" has been loved and celebrated by readers everywhere. It won the National Book Critics Circle Award, the \"Los Angeles Times\" Book Award and the Pulitzer Prize. Rarely has a book so swiftly found its place on the literary landscape. And now we have \"'Tis, \" the story of Frank's American journey from impoverished immigrant to brilliant teacher and raconteur. Frank lands in New York at age nineteen and gets a job at the Biltmore Hotel, where he immediately encounters the vivid hierarchies of this \"classless country,\" and then is drafted into the army and is sent to Germany to train dogs and type reports. It is Frank's incomparable voice that renders these experiences spellbinding. When Frank returns to America in 1953, he works on the docks, always resisting what everyone tells him. He knows that he should be getting an education, and though he left school at fourteen, he talks his way into New York University. There, he falls in love with the quintessential Yankee and tries to live his dream. But it is not until he starts to teach that Frank finds his place in the world.",
         "2000.0",
         "3.68",
         "495.0",
         "44179.0",
         "0",
         "25.0",
         "210",
         "'Tis: A Memoir"
        ],
        [
         "35",
         "9780006646006",
         "000664600X",
         "Ocean Star Express",
         null,
         "Mark Haddon;Peter Sutton",
         "Juvenile Fiction",
         "http://books.google.com/books/content?id=I2QZAAAACAAJ&printsec=frontcover&img=1&zoom=1&source=gbs_api",
         "Joe and his parents are enjoying a summer holiday by the sea at the Ocean Star Hotel. The sky is bright blue, the sun shines and Joe loves all that the seaside has to offer. But when the fog rolls in and rain falls Joe begins to wish that he was back at home again. Things change, however, when the owner of the hotel invites Joe to share in a magical world, only a few steps away. The loft is black as night but then above Joe's head a thousand tiny stars begin to sparkle and in the distance he hears the chug-chug-chug of a model train. A whole world is soon to open up before Joe's eyes, a world of snow-capped mountains, great deserts, and rocking fishing boats.",
         "2002.0",
         "3.5",
         "32.0",
         "1.0",
         "0",
         "23.0",
         "129",
         "Ocean Star Express"
        ],
        [
         "36",
         "9780006754893",
         "0006754899",
         "A Small Pinch of Weather",
         "And Other Stories",
         "Joan Aiken",
         "Children's stories, English",
         "http://books.google.com/books/content?id=QiFhOBpYZoYC&printsec=frontcover&img=1&zoom=1&source=gbs_api",
         "A magical and fantastic collection of early stories by one of the most original children's authors of the 20th century. For 8-11 year olds.",
         "2000.0",
         "4.27",
         "239.0",
         "116.0",
         "0",
         "25.0",
         "24",
         "A Small Pinch of Weather: And Other Stories"
        ],
        [
         "39",
         "9780007105045",
         "0007105045",
         "Tree and Leaf",
         "The Homecoming of Beorhtnoth : Beorhthelm's Son",
         "John Ronald Reuel Tolkien",
         "Literary Collections",
         "http://books.google.com/books/content?id=aPb_AAIcwZ0C&printsec=frontcover&img=1&zoom=1&source=gbs_api",
         "\"The two works 'On fairy-stories' and 'Leaf by Niggle' were first brought together to form the book 'Tree and leaf' in 1964. In this new edition a third element is added: the poem Mythopoeia, the making of myths...\"--Preface.",
         "2001.0",
         "4.09",
         "176.0",
         "2245.0",
         "0",
         "24.0",
         "38",
         "Tree and Leaf: The Homecoming of Beorhtnoth : Beorhthelm's Son"
        ],
        [
         "40",
         "9780007111503",
         "0007111509",
         "Partners in Crime",
         null,
         "Agatha Christie",
         "Beresford, Tommy (Fictitious character)",
         "http://books.google.com/books/content?id=L0bfy0zgkegC&printsec=frontcover&img=1&zoom=1&source=gbs_api",
         "The Famous Volume Of Tommy & Tuppence Linked Short Stories, Reissued In A New Look To Coincide With The Brand New Series Of Tommy & Tuppence Bbc Movies. Tommy And Tuppence Beresford Were Restless For Adventure, So When They Were Asked To Take Over Blunt S International Detective Agency, They Leapt At The Chance. After Their Triumphant Recovery Of A Pink Pearl, Intriguing Cases Kept On Coming Their Way: A Stabbing On Sunningdale Golf Course; Cryptic Messages In The Personal Columns Of Newspapers; And Even A Box Of Poisoned Chocolates.",
         "2001.0",
         "3.77",
         "347.0",
         "9506.0",
         "0",
         "24.0",
         "90",
         "Partners in Crime"
        ],
        [
         "41",
         "9780007113804",
         "0007113803",
         "Murder in Mesopotamia",
         null,
         "Agatha Christie",
         "Detective and mystery stories",
         "http://books.google.com/books/content?id=oFkbc7BbYN0C&printsec=frontcover&img=1&zoom=1&source=gbs_api",
         "An archaeologist's wife is murdered on the shores of the River Tigris in Iraq... It was clear to Amy Leatheran that something sinister was going on at the Hassanieh dig in Iraq; something associated with the presence of 'Lovely Louise', wife of celebrated archaeologist Dr Leidner. In a few days' time Hercule Poirot was due to drop in at the excavation site. But with Louise suffering from terrifying hallucinations, and tension within the group becoming almost unbearable, Poirot might just be too late...",
         "2001.0",
         "3.89",
         "264.0",
         "25692.0",
         "0",
         "24.0",
         "83",
         "Murder in Mesopotamia"
        ],
        [
         "42",
         "9780007116263",
         "0007116268",
         "The Lord of the Rings, the Return of the King",
         "Visual Companion",
         "Jude Fisher",
         "Imaginary wars and battles",
         "http://books.google.com/books/content?id=kNBnQgAACAAJ&printsec=frontcover&img=1&zoom=1&source=gbs_api",
         "A visual guide to the third in the Lord of the Rings movie trilogy. A large-format, full-colour guide to the characters, places, landscapes, artefacts, battles, and costumes as seen in the film, it features images, informative text and specially commissioned extras.",
         "2003.0",
         "4.59",
         "72.0",
         "22.0",
         "0",
         "22.0",
         "41",
         "The Lord of the Rings, the Return of the King: Visual Companion"
        ],
        [
         "43",
         "9780007117536",
         "0007117531",
         "All Families are Psychotic",
         null,
         "Douglas Coupland",
         "Dysfunctional families",
         "http://books.google.com/books/content?id=jYBsNp6NPVoC&printsec=frontcover&img=1&zoom=1&source=gbs_api",
         "On the eve of the next Space Shuttle mission, a divided family comes together... Warm, witty and wise, All Families Are Psychotic is Coupland at the very top of his form: 'Irresistibly hilarious, unique and wonderful' Independent on Sunday In a cheap motel an hour from Cape Canaveral, Janet Drummond takes her medication, and does a rapid tally of the whereabouts of her children. Wade has spent the night in jail; suicidal Bryan is due to arrive at any moment with his vowel-free girlfriend, Shw; and then there is Sarah, 'a bolt of lightning frozen in midflash' -- here in Orlando to be the star of Friday's shuttle mission. With Janet's ex-husband and his trophy wife also in town, Janet spends a moment contemplating her family, and where it all went wrong. Or did it?",
         "2002.0",
         "3.69",
         "279.0",
         "350.0",
         "0",
         "23.0",
         "135",
         "All Families are Psychotic"
        ],
        [
         "44",
         "9780007119332",
         "000711933X",
         "Death in the Clouds",
         null,
         "Agatha Christie",
         "Detective and mystery stories",
         "http://books.google.com/books/content?id=M8iyckq4GQ0C&printsec=frontcover&img=1&zoom=1&source=gbs_api",
         "A woman is killed by a poisoned dart in the enclosed confines of a commercial passenger plane... From seat No.9, Hercule Poirot was ideally placed to observe his fellow air passengers. Over to his right sat a pretty young woman, clearly infatuated with the man opposite; ahead, in seat No.13, sat a Countess with a poorly-concealed cocaine habit; across the gangway in seat No.8, a detective writer was being troubled by an aggressive wasp. What Poirot did not yet realize was that behind him, in seat No.2, sat the slumped, lifeless body of a woman.",
         "2001.0",
         "3.8",
         "333.0",
         "21123.0",
         "0",
         "24.0",
         "95",
         "Death in the Clouds"
        ],
        [
         "45",
         "9780007119356",
         "0007119356",
         "Appointment with Death",
         null,
         "Agatha Christie",
         "Detective and mystery stories",
         "http://books.google.com/books/content?id=lSYwsRkcw4YC&printsec=frontcover&img=1&zoom=1&source=gbs_api",
         "A repugnant Amercian widow is killed during a trip to Petra... Among the towering red cliffs of Petra, like some monstrous swollen Buddha, sat the corpse of Mrs Boynton. A tiny puncture mark on her wrist was the only sign of the fatal injection that had killed her. With only 24 hours available to solve the mystery, Hercule Poirot recalled a chance remark he'd overheard back in Jerusalem: 'You see, don't you, that she's got to be killed?' Mrs Boynton was, indeed, the most detestable woman he'd ever met...",
         "2001.0",
         "3.86",
         "303.0",
         "24859.0",
         "0",
         "24.0",
         "89",
         "Appointment with Death"
        ],
        [
         "46",
         "9780007120680",
         "0007120680",
         "Hallowe'en Party",
         null,
         "Agatha Christie",
         "Poirot, Hercule (Fictitious character)",
         "http://books.google.com/books/content?id=Qlx98EGK_jMC&printsec=frontcover&img=1&zoom=1&source=gbs_api",
         "No one believes a little girl when she insists that she has witnessed a murder until she herself turns up drowned, and Hercule Poirot sets out to catch the killer.",
         "2001.0",
         "3.66",
         "336.0",
         "18820.0",
         "0",
         "24.0",
         "30",
         "Hallowe'en Party"
        ],
        [
         "47",
         "9780007120697",
         "0007120699",
         "Hercule Poirot's Christmas",
         null,
         "Agatha Christie",
         "Christmas stories",
         "http://books.google.com/books/content?id=EA0j4Jzn4vAC&printsec=frontcover&img=1&zoom=1&source=gbs_api",
         "On the night before Christmas, cruel, tyrannical, filthy-rich Simeon Lee is found in his locked bedroom with his throat cut. Now Hercule Poirot must put his deductive powers to the test to solve one of his most chilling cases--and to prevent a clever killer from spilling more blood.",
         "2001.0",
         "3.93",
         "335.0",
         "23113.0",
         "0",
         "24.0",
         "48",
         "Hercule Poirot's Christmas"
        ],
        [
         "48",
         "9780007120819",
         "0007120818",
         "The Big Four",
         null,
         "Agatha Christie",
         "Detective and mystery stories",
         "http://books.google.com/books/content?id=wcOQUSWQEdUC&printsec=frontcover&img=1&zoom=1&source=gbs_api",
         "A ruthless international cartel seeks world domination... Framed in the doorway of Poirot's bedroom stood an uninvited guest, coated from head to foot in dust. The man's gaunt face stared for a moment, then he swayed and fell. Who was he? Was he suffering from shock or just exhaustion? Above all, what was the significance of the figure 4, scribbled over and over again on a sheet of paper? Poirot finds himself plunged into a world of international intrigue, risking his life to uncover the truth about 'Number Four'.",
         "2002.0",
         "3.59",
         "272.0",
         "22155.0",
         "0",
         "23.0",
         "89",
         "The Big Four"
        ],
        [
         "49",
         "9780007120864",
         "0007120869",
         "The Thirteen Problems",
         null,
         "Agatha Christie",
         "Detective and mystery stories, English",
         "http://books.google.com/books/content?id=MK9JNwoZAncC&printsec=frontcover&img=1&zoom=1&source=gbs_api",
         "The Tuesday Night Club is a venue where locals challenge Miss Marple to solve recent crimes... One Tuesday evening a group gathers at Miss Marple's house and the conversation turns to unsolved crimes... The case of the disappearing bloodstains; the thief who committed his crime twice over; the message on the death-bed of a poisoned man which read 'heap of fish'; the strange case of the invisible will; a spiritualist who warned that 'Blue Geranium' meant death... Now pit your wits against the powers of deduction of the 'Tuesday Night Club'.",
         "2002.0",
         "3.89",
         "315.0",
         "12840.0",
         "0",
         "23.0",
         "91",
         "The Thirteen Problems"
        ],
        [
         "50",
         "9780007120871",
         "0007120877",
         "They Do it with Mirrors",
         null,
         "Agatha Christie",
         "American fiction",
         "http://books.google.com/books/content?id=HUuQYGppZi8C&printsec=frontcover&img=1&zoom=1&source=gbs_api",
         "A man is shot at in a juvenile reform home - but someone else dies... Miss Marple senses danger when she visits a friend living in a Victorian mansion which doubles as a rehabilitiation centre for delinquents. Her fears are confirmed when a youth fires a revolver at the administrator, Lewis Serrocold. Neither is injured. But a mysterious visitor, Mr Gilbrandsen, is less fortunate - shot dead simultaneously in another part of the building. Pure coincidence? Miss Marple thinks not, and vows to discover the real reason for Mr Gilbrandsen's visit.",
         "2002.0",
         "3.75",
         "284.0",
         "415.0",
         "0",
         "23.0",
         "91",
         "They Do it with Mirrors"
        ],
        [
         "51",
         "9780007120963",
         "0007120966",
         "A Murder is Announced",
         null,
         "Agatha Christie",
         "Detective and mystery stories, English",
         "http://books.google.com/books/content?id=QEEvzeAkdzoC&printsec=frontcover&img=1&zoom=1&source=gbs_api",
         "The villagers of Chipping Cleghorn are amazed by an advertisement in the local paper which reads \"A murder is announced and will take place on Friday October 29th, at Little Paddocks at 6.30pm. Unable to resist, a crowd begins to gather at the house at the appointed time. But when a man is killed in what looks like an attempted robbery, Miss Marple becomes involved.",
         "2002.0",
         "3.98",
         "382.0",
         "680.0",
         "0",
         "23.0",
         "65",
         "A Murder is Announced"
        ],
        [
         "52",
         "9780007120987",
         "0007120982",
         "The Mirror Crack'd from Side to Side",
         null,
         "Agatha Christie",
         "Marple, Jane (Fictitious character)",
         "http://books.google.com/books/content?id=lTYId7FIJEsC&printsec=frontcover&img=1&zoom=1&source=gbs_api",
         "One Minute, Silly Heather Badcock Had Been Gabbling On At Her Movie Idol, The Glamorous Marina Gregg. The Next, Heather Suffered A Massive Seizure. But For Whom Was The Deadly Poison Really Intended? Marina S Frozen Expression Suggested She Had Witnessed Something Horrific. But, While Others Searched For Material Evidence, Jane Marple Conducted A Very Different Investigation Into Human Nature.",
         "2002.0",
         "3.91",
         "351.0",
         "23249.0",
         "0",
         "23.0",
         "60",
         "The Mirror Crack'd from Side to Side"
        ],
        [
         "53",
         "9780007121007",
         "0007121008",
         "Mrs McGinty's Dead",
         null,
         "Agatha Christie",
         "Belgians",
         "http://books.google.com/books/content?id=gcS0d5HhGEEC&printsec=frontcover&img=1&zoom=1&source=gbs_api",
         "An old widow is brutally killed in the parlour of her cottage... Mrs McGinty died from a brutal blow to the back of her head. Suspicion fell immediately on her shifty lodger, James Bentley, whose clothes revealed traces of the victim's blood and hair. Yet something was amiss: Bentley just didn't look like a murderer. Poirot believed he could save the man from the gallows - what he didn't realise was that his own life was now in great danger...",
         "2002.0",
         "3.83",
         "328.0",
         "525.0",
         "0",
         "23.0",
         "80",
         "Mrs McGinty's Dead"
        ],
        [
         "54",
         "9780007121014",
         "0007121016",
         "Taken at the Flood",
         null,
         "Agatha Christie",
         "Fiction",
         "http://books.google.com/books/content?id=3gWlxIFlMEwC&printsec=frontcover&img=1&zoom=1&source=gbs_api",
         "A Few Weeks After Marrying An Attractive Young Widow, Gordon Cloade Is Tragically Killed By A Bomb Blast In The London Blitz. Overnight, The Former Mrs Underhay Finds Herself In Sole Possession Of The Cloade Family Fortune. Shortly Afterwards, Hercule Poirot Receives A Visit From The Dead Man S Sister-In-Law Who Claims She Has Been Warned By Spirits That Mrs Underhay S First Husband Is Still Alive. Poirot Has His Suspicions When He Is Asked To Find A Missing Person Guided Only By The Spirit World. Yet What Mystifies Poirot Most Is The Woman S True Motive For Approaching Him&",
         "2002.0",
         "3.71",
         "352.0",
         "8852.0",
         "0",
         "23.0",
         "100",
         "Taken at the Flood"
        ],
        [
         "55",
         "9780007121021",
         "0007121024",
         "The Hollow",
         null,
         "Agatha Christie",
         "Detective and mystery stories",
         "http://books.google.com/books/content?id=-f1h4e0hl0oC&printsec=frontcover&img=1&zoom=1&source=gbs_api",
         "Lucy Angkatell Invited Hercule Poirot To Lunch. To Tease The Great Detective, Her Guests Stage A Mock Murder Beside The Swimming Pool. Unfortunately, The Victim Plays The Scene For Real. As His Blood Drips Into The Water, John Christow Gasps One Final Word: Henrietta . In The Confusion, A Gun Sinks To The Bottom Of The Pool. Poirot S Enquiries Reveal A Complex Web Of Romantic Attachments. It Seems Everyone In The Drama Is A Suspect And Each A Victim Of Love.",
         "2002.0",
         "3.79",
         "384.0",
         "13022.0",
         "0",
         "23.0",
         "82",
         "The Hollow"
        ],
        [
         "56",
         "9780007121106",
         "0007121105",
         "Third Girl",
         null,
         "Agatha Christie",
         "Belgians",
         "http://books.google.com/books/content?id=Dbh7nUkG_6cC&printsec=frontcover&img=1&zoom=1&source=gbs_api",
         "A perplexed girl thinks she might have killed someone... Three single girls shared the same London flat. The first worked as a secretary; the second was an artist; the third who came to Poirot for help, disappeared convinced she was a murderer. Now there were rumours of revolvers, flick-knives and blood stains. But, without hard evidence, it would take all Poirot's tenacity to establish whether the third girl was guilty innocent or insane...",
         "2002.0",
         "3.62",
         "365.0",
         "13705.0",
         "0",
         "23.0",
         "73",
         "Third Girl"
        ]
       ],
       "shape": {
        "columns": 16,
        "rows": 5693
       }
      },
      "text/html": [
       "<div>\n",
       "<style scoped>\n",
       "    .dataframe tbody tr th:only-of-type {\n",
       "        vertical-align: middle;\n",
       "    }\n",
       "\n",
       "    .dataframe tbody tr th {\n",
       "        vertical-align: top;\n",
       "    }\n",
       "\n",
       "    .dataframe thead th {\n",
       "        text-align: right;\n",
       "    }\n",
       "</style>\n",
       "<table border=\"1\" class=\"dataframe\">\n",
       "  <thead>\n",
       "    <tr style=\"text-align: right;\">\n",
       "      <th></th>\n",
       "      <th>isbn13</th>\n",
       "      <th>isbn10</th>\n",
       "      <th>title</th>\n",
       "      <th>subtitle</th>\n",
       "      <th>authors</th>\n",
       "      <th>categories</th>\n",
       "      <th>thumbnail</th>\n",
       "      <th>description</th>\n",
       "      <th>published_year</th>\n",
       "      <th>average_rating</th>\n",
       "      <th>num_pages</th>\n",
       "      <th>ratings_count</th>\n",
       "      <th>missing_description</th>\n",
       "      <th>book_age</th>\n",
       "      <th>description_word_count</th>\n",
       "      <th>full_title</th>\n",
       "    </tr>\n",
       "  </thead>\n",
       "  <tbody>\n",
       "    <tr>\n",
       "      <th>0</th>\n",
       "      <td>9780002005883</td>\n",
       "      <td>0002005883</td>\n",
       "      <td>Gilead</td>\n",
       "      <td>NaN</td>\n",
       "      <td>Marilynne Robinson</td>\n",
       "      <td>Fiction</td>\n",
       "      <td>http://books.google.com/books/content?id=KQZCPgAACAAJ&amp;printsec=frontcover&amp;img=1&amp;zoom=1&amp;source=gbs_api</td>\n",
       "      <td>A NOVEL THAT READERS and critics have been eagerly anticipating for over a decade, Gilead is an astonishingly imagined story of remarkable lives. John Ames is a preacher, the son of a preacher and the grandson (both maternal and paternal) of preachers. It’s 1956 in Gilead, Iowa, towards the end of the Reverend Ames’s life, and he is absorbed in recording his family’s story, a legacy for the young son he will never see grow up. Haunted by his grandfather’s presence, John tells of the rift between his grandfather and his father: the elder, an angry visionary who fought for the abolitionist cause, and his son, an ardent pacifist. He is troubled, too, by his prodigal namesake, Jack (John Ames) Boughton, his best friend’s lost son who returns to Gilead searching for forgiveness and redemption. Told in John Ames’s joyous, rambling voice that finds beauty, humour and truth in the smallest of life’s details, Gilead is a song of celebration and acceptance of the best and the worst the world...</td>\n",
       "      <td>2004.0</td>\n",
       "      <td>3.85</td>\n",
       "      <td>247.0</td>\n",
       "      <td>361.0</td>\n",
       "      <td>0</td>\n",
       "      <td>21.0</td>\n",
       "      <td>199</td>\n",
       "      <td>Gilead</td>\n",
       "    </tr>\n",
       "    <tr>\n",
       "      <th>1</th>\n",
       "      <td>9780002261982</td>\n",
       "      <td>0002261987</td>\n",
       "      <td>Spider's Web</td>\n",
       "      <td>A Novel</td>\n",
       "      <td>Charles Osborne;Agatha Christie</td>\n",
       "      <td>Detective and mystery stories</td>\n",
       "      <td>http://books.google.com/books/content?id=gA5GPgAACAAJ&amp;printsec=frontcover&amp;img=1&amp;zoom=1&amp;source=gbs_api</td>\n",
       "      <td>A new 'Christie for Christmas' -- a full-length novel adapted from her acclaimed play by Charles Osborne Following BLACK COFFEE and THE UNEXPECTED GUEST comes the final Agatha Christie play novelisation, bringing her superb storytelling to a new legion of fans. Clarissa, the wife of a Foreign Office diplomat, is given to daydreaming. 'Supposing I were to come down one morning and find a dead body in the library, what should I do?' she muses. Clarissa has her chance to find out when she discovers a body in the drawing-room of her house in Kent. Desperate to dispose of the body before her husband comes home with an important foreign politician, Clarissa persuades her three house guests to become accessories and accomplices. It seems that the murdered man was not unknown to certain members of the house party (but which ones?), and the search begins for the murderer and the motive, while at the same time trying to persuade a police inspector that there has been no murder at all... SPID...</td>\n",
       "      <td>2000.0</td>\n",
       "      <td>3.83</td>\n",
       "      <td>241.0</td>\n",
       "      <td>5164.0</td>\n",
       "      <td>0</td>\n",
       "      <td>25.0</td>\n",
       "      <td>205</td>\n",
       "      <td>Spider's Web: A Novel</td>\n",
       "    </tr>\n",
       "    <tr>\n",
       "      <th>3</th>\n",
       "      <td>9780006178736</td>\n",
       "      <td>0006178731</td>\n",
       "      <td>Rage of angels</td>\n",
       "      <td>NaN</td>\n",
       "      <td>Sidney Sheldon</td>\n",
       "      <td>Fiction</td>\n",
       "      <td>http://books.google.com/books/content?id=FKo2TgANz74C&amp;printsec=frontcover&amp;img=1&amp;zoom=1&amp;source=gbs_api</td>\n",
       "      <td>A memorable, mesmerizing heroine Jennifer -- brilliant, beautiful, an attorney on the way up until the Mafia's schemes win her the hatred of an implacable enemy -- and a love more destructive than hate. A dangerous, dramatic world The Dark Arena of organized crime and flashbulb lit courtrooms where ambitious prosecutors begin their climb to political power.</td>\n",
       "      <td>1993.0</td>\n",
       "      <td>3.93</td>\n",
       "      <td>512.0</td>\n",
       "      <td>29532.0</td>\n",
       "      <td>0</td>\n",
       "      <td>32.0</td>\n",
       "      <td>57</td>\n",
       "      <td>Rage of angels</td>\n",
       "    </tr>\n",
       "    <tr>\n",
       "      <th>4</th>\n",
       "      <td>9780006280897</td>\n",
       "      <td>0006280897</td>\n",
       "      <td>The Four Loves</td>\n",
       "      <td>NaN</td>\n",
       "      <td>Clive Staples Lewis</td>\n",
       "      <td>Christian life</td>\n",
       "      <td>http://books.google.com/books/content?id=XhQ5XsFcpGIC&amp;printsec=frontcover&amp;img=1&amp;zoom=1&amp;source=gbs_api</td>\n",
       "      <td>Lewis' work on the nature of love divides love into four categories; Affection, Friendship, Eros and Charity. The first three come naturally to humanity. Charity, however, the Gift-love of God, is divine, and without this supernatural love, the natural loves become distorted and even dangerous.</td>\n",
       "      <td>2002.0</td>\n",
       "      <td>4.15</td>\n",
       "      <td>170.0</td>\n",
       "      <td>33684.0</td>\n",
       "      <td>0</td>\n",
       "      <td>23.0</td>\n",
       "      <td>45</td>\n",
       "      <td>The Four Loves</td>\n",
       "    </tr>\n",
       "    <tr>\n",
       "      <th>5</th>\n",
       "      <td>9780006280934</td>\n",
       "      <td>0006280935</td>\n",
       "      <td>The Problem of Pain</td>\n",
       "      <td>NaN</td>\n",
       "      <td>Clive Staples Lewis</td>\n",
       "      <td>Christian life</td>\n",
       "      <td>http://books.google.com/books/content?id=Kk-uVe5QK-gC&amp;printsec=frontcover&amp;img=1&amp;zoom=1&amp;source=gbs_api</td>\n",
       "      <td>\"In The Problem of Pain, C.S. Lewis, one of the most renowned Christian authors and thinkers, examines a universally applicable question within the human condition: If God is good and all-powerful, why does he allow his creatures to suffer pain? With his signature wealth of compassion and insight, C.S. Lewis offers answers to these crucial questions and shares his hope and wisdom to help heal a world hungering for a true understanding of human nature.\"--Amazon.</td>\n",
       "      <td>2002.0</td>\n",
       "      <td>4.09</td>\n",
       "      <td>176.0</td>\n",
       "      <td>37569.0</td>\n",
       "      <td>0</td>\n",
       "      <td>23.0</td>\n",
       "      <td>75</td>\n",
       "      <td>The Problem of Pain</td>\n",
       "    </tr>\n",
       "    <tr>\n",
       "      <th>...</th>\n",
       "      <td>...</td>\n",
       "      <td>...</td>\n",
       "      <td>...</td>\n",
       "      <td>...</td>\n",
       "      <td>...</td>\n",
       "      <td>...</td>\n",
       "      <td>...</td>\n",
       "      <td>...</td>\n",
       "      <td>...</td>\n",
       "      <td>...</td>\n",
       "      <td>...</td>\n",
       "      <td>...</td>\n",
       "      <td>...</td>\n",
       "      <td>...</td>\n",
       "      <td>...</td>\n",
       "      <td>...</td>\n",
       "    </tr>\n",
       "    <tr>\n",
       "      <th>6803</th>\n",
       "      <td>9788173031014</td>\n",
       "      <td>8173031010</td>\n",
       "      <td>Journey to the East</td>\n",
       "      <td>NaN</td>\n",
       "      <td>Hermann Hesse</td>\n",
       "      <td>Adventure stories</td>\n",
       "      <td>http://books.google.com/books/content?id=rq6JPwAACAAJ&amp;printsec=frontcover&amp;img=1&amp;zoom=1&amp;source=gbs_api</td>\n",
       "      <td>This book tells the tale of a man who goes on a wonderful and amazing journey through Asia. His travels can also be seen as a parable of one person's search for enlightenment. Ever since this book's first publication in 1932, it has influenced generations of readers with its ideas on Eastern religion and Jungian psychology and its criticism of Western middleclass values.</td>\n",
       "      <td>2002.0</td>\n",
       "      <td>3.70</td>\n",
       "      <td>175.0</td>\n",
       "      <td>24.0</td>\n",
       "      <td>0</td>\n",
       "      <td>23.0</td>\n",
       "      <td>63</td>\n",
       "      <td>Journey to the East</td>\n",
       "    </tr>\n",
       "    <tr>\n",
       "      <th>6804</th>\n",
       "      <td>9788179921623</td>\n",
       "      <td>817992162X</td>\n",
       "      <td>The Monk Who Sold His Ferrari: A Fable About Fulfilling Your Dreams &amp; Reaching Your Destiny</td>\n",
       "      <td>NaN</td>\n",
       "      <td>Robin Sharma</td>\n",
       "      <td>Health &amp; Fitness</td>\n",
       "      <td>http://books.google.com/books/content?id=c_7mf7bAe6YC&amp;printsec=frontcover&amp;img=1&amp;zoom=1&amp;source=gbs_api</td>\n",
       "      <td>Wisdom to Create a Life of Passion, Purpose, and Peace This inspiring tale provides a step-by-step approach to living with greater courage, balance, abundance, and joy. A wonderfully crafted fable, The Monk Who Sold His Ferrari tells the extraordinary story of Julian Mantle, a lawyer forced to confront the spiritual crisis of his out-of-balance life. On a life-changing odyssey to an ancient culture, he discovers powerful, wise, and practical lessons that teach us to: Develop joyful thoughts Follow our life's mission and calling Cultivate self-discipline and act courageously Value time as our most important commodity Nourish our relationships, and – live fully, one day at a time A FABLE ABOUT FULFILLING YOUR DREAMS AND REACHING YOUR DESTINY</td>\n",
       "      <td>2003.0</td>\n",
       "      <td>3.82</td>\n",
       "      <td>198.0</td>\n",
       "      <td>1568.0</td>\n",
       "      <td>0</td>\n",
       "      <td>22.0</td>\n",
       "      <td>117</td>\n",
       "      <td>The Monk Who Sold His Ferrari: A Fable About Fulfilling Your Dreams &amp; Reaching Your Destiny</td>\n",
       "    </tr>\n",
       "    <tr>\n",
       "      <th>6805</th>\n",
       "      <td>9788185300535</td>\n",
       "      <td>8185300534</td>\n",
       "      <td>I Am that</td>\n",
       "      <td>Talks with Sri Nisargadatta Maharaj</td>\n",
       "      <td>Sri Nisargadatta Maharaj;Sudhakar S. Dikshit</td>\n",
       "      <td>Philosophy</td>\n",
       "      <td>http://books.google.com/books/content?id=Fv_JPQAACAAJ&amp;printsec=frontcover&amp;img=1&amp;zoom=1&amp;source=gbs_api</td>\n",
       "      <td>This collection of the timeless teachings of one of the greatest sages of India, is a testament to the uniqueness of the seer's life and work. The book (now in its ninth printing) continues to draw new audiences and to enlighten anxious seekers for self-realisation. Sri Nisargadatta Maharaj was a teacher who did not propound any ideology or religion but gently unwrapped the mystery of the self. His message is simple, direct and yet sublime. The book preserves his dialogues with the followers who came from around the world seeking guidance in destroying false identities. The sage's sole concern was with human suffering and the ending of suffering. It was his mission to guide the individual to an understanding of his true nature and the timelessness of being. He taught that mind must recognise and penetrate its own state of being, not 'being this or that, here or there, then or now', but just timeless being. This is a legacy from a unique teacher who helps the reader to a clearer und...</td>\n",
       "      <td>1999.0</td>\n",
       "      <td>4.51</td>\n",
       "      <td>531.0</td>\n",
       "      <td>104.0</td>\n",
       "      <td>0</td>\n",
       "      <td>26.0</td>\n",
       "      <td>174</td>\n",
       "      <td>I Am that: Talks with Sri Nisargadatta Maharaj</td>\n",
       "    </tr>\n",
       "    <tr>\n",
       "      <th>6808</th>\n",
       "      <td>9789027712059</td>\n",
       "      <td>9027712050</td>\n",
       "      <td>The Berlin Phenomenology</td>\n",
       "      <td>NaN</td>\n",
       "      <td>Georg Wilhelm Friedrich Hegel</td>\n",
       "      <td>History</td>\n",
       "      <td>http://books.google.com/books/content?id=Vy7SkjvmfLMC&amp;printsec=frontcover&amp;img=1&amp;zoom=1&amp;edge=curl&amp;source=gbs_api</td>\n",
       "      <td>Since the three volume edition ofHegel's Philosophy of Subjective Spirit (1978, 19792) has been so well received, I have been encouraged to select that part of it most suitable for teaching purposes, and to publish it here as a separate work. As a teaching text, the Berlin Phenomenology has several important advan­ tages. Unlike so many ofHegel's writings, must notably theJena Phenomeno­ logy of 1807, it is concise and to the point, and concemed with issues already familiar to most students of philosophy. Since it consists for the most part of a searching and radical analysis of Kant's epistemology, Fichte's ethics and Schelling's system-building, it provides tirst-rate insight into Hegel's assessment of his immedi~te predecessors. When considered in context, as part of the Encyclopaedia if the Philosophical Sciences, it enables us to distinguish dearly between the systematic, the logical and the psychological aspects of Hegelianism, and is therefore also relevant to some of the ce...</td>\n",
       "      <td>1981.0</td>\n",
       "      <td>0.00</td>\n",
       "      <td>210.0</td>\n",
       "      <td>0.0</td>\n",
       "      <td>0</td>\n",
       "      <td>44.0</td>\n",
       "      <td>245</td>\n",
       "      <td>The Berlin Phenomenology</td>\n",
       "    </tr>\n",
       "    <tr>\n",
       "      <th>6809</th>\n",
       "      <td>9789042003408</td>\n",
       "      <td>9042003405</td>\n",
       "      <td>'I'm Telling You Stories'</td>\n",
       "      <td>Jeanette Winterson and the Politics of Reading</td>\n",
       "      <td>Helena Grice;Tim Woods</td>\n",
       "      <td>Literary Criticism</td>\n",
       "      <td>http://books.google.com/books/content?id=2lVyRH0TWugC&amp;printsec=frontcover&amp;img=1&amp;zoom=1&amp;edge=curl&amp;source=gbs_api</td>\n",
       "      <td>This is a jubilant and rewarding collection of Winterson scholarship--a superb group of essays from a host of fine authors.</td>\n",
       "      <td>1998.0</td>\n",
       "      <td>3.70</td>\n",
       "      <td>136.0</td>\n",
       "      <td>10.0</td>\n",
       "      <td>0</td>\n",
       "      <td>27.0</td>\n",
       "      <td>20</td>\n",
       "      <td>'I'm Telling You Stories': Jeanette Winterson and the Politics of Reading</td>\n",
       "    </tr>\n",
       "  </tbody>\n",
       "</table>\n",
       "<p>5693 rows × 16 columns</p>\n",
       "</div>"
      ],
      "text/plain": [
       "             isbn13      isbn10  \\\n",
       "0     9780002005883  0002005883   \n",
       "1     9780002261982  0002261987   \n",
       "3     9780006178736  0006178731   \n",
       "4     9780006280897  0006280897   \n",
       "5     9780006280934  0006280935   \n",
       "...             ...         ...   \n",
       "6803  9788173031014  8173031010   \n",
       "6804  9788179921623  817992162X   \n",
       "6805  9788185300535  8185300534   \n",
       "6808  9789027712059  9027712050   \n",
       "6809  9789042003408  9042003405   \n",
       "\n",
       "                                                                                            title  \\\n",
       "0                                                                                          Gilead   \n",
       "1                                                                                    Spider's Web   \n",
       "3                                                                                  Rage of angels   \n",
       "4                                                                                  The Four Loves   \n",
       "5                                                                             The Problem of Pain   \n",
       "...                                                                                           ...   \n",
       "6803                                                                          Journey to the East   \n",
       "6804  The Monk Who Sold His Ferrari: A Fable About Fulfilling Your Dreams & Reaching Your Destiny   \n",
       "6805                                                                                    I Am that   \n",
       "6808                                                                     The Berlin Phenomenology   \n",
       "6809                                                                    'I'm Telling You Stories'   \n",
       "\n",
       "                                            subtitle  \\\n",
       "0                                                NaN   \n",
       "1                                            A Novel   \n",
       "3                                                NaN   \n",
       "4                                                NaN   \n",
       "5                                                NaN   \n",
       "...                                              ...   \n",
       "6803                                             NaN   \n",
       "6804                                             NaN   \n",
       "6805             Talks with Sri Nisargadatta Maharaj   \n",
       "6808                                             NaN   \n",
       "6809  Jeanette Winterson and the Politics of Reading   \n",
       "\n",
       "                                           authors  \\\n",
       "0                               Marilynne Robinson   \n",
       "1                  Charles Osborne;Agatha Christie   \n",
       "3                                   Sidney Sheldon   \n",
       "4                              Clive Staples Lewis   \n",
       "5                              Clive Staples Lewis   \n",
       "...                                            ...   \n",
       "6803                                 Hermann Hesse   \n",
       "6804                                  Robin Sharma   \n",
       "6805  Sri Nisargadatta Maharaj;Sudhakar S. Dikshit   \n",
       "6808                 Georg Wilhelm Friedrich Hegel   \n",
       "6809                        Helena Grice;Tim Woods   \n",
       "\n",
       "                         categories  \\\n",
       "0                           Fiction   \n",
       "1     Detective and mystery stories   \n",
       "3                           Fiction   \n",
       "4                    Christian life   \n",
       "5                    Christian life   \n",
       "...                             ...   \n",
       "6803              Adventure stories   \n",
       "6804               Health & Fitness   \n",
       "6805                     Philosophy   \n",
       "6808                        History   \n",
       "6809             Literary Criticism   \n",
       "\n",
       "                                                                                                            thumbnail  \\\n",
       "0               http://books.google.com/books/content?id=KQZCPgAACAAJ&printsec=frontcover&img=1&zoom=1&source=gbs_api   \n",
       "1               http://books.google.com/books/content?id=gA5GPgAACAAJ&printsec=frontcover&img=1&zoom=1&source=gbs_api   \n",
       "3               http://books.google.com/books/content?id=FKo2TgANz74C&printsec=frontcover&img=1&zoom=1&source=gbs_api   \n",
       "4               http://books.google.com/books/content?id=XhQ5XsFcpGIC&printsec=frontcover&img=1&zoom=1&source=gbs_api   \n",
       "5               http://books.google.com/books/content?id=Kk-uVe5QK-gC&printsec=frontcover&img=1&zoom=1&source=gbs_api   \n",
       "...                                                                                                               ...   \n",
       "6803            http://books.google.com/books/content?id=rq6JPwAACAAJ&printsec=frontcover&img=1&zoom=1&source=gbs_api   \n",
       "6804            http://books.google.com/books/content?id=c_7mf7bAe6YC&printsec=frontcover&img=1&zoom=1&source=gbs_api   \n",
       "6805            http://books.google.com/books/content?id=Fv_JPQAACAAJ&printsec=frontcover&img=1&zoom=1&source=gbs_api   \n",
       "6808  http://books.google.com/books/content?id=Vy7SkjvmfLMC&printsec=frontcover&img=1&zoom=1&edge=curl&source=gbs_api   \n",
       "6809  http://books.google.com/books/content?id=2lVyRH0TWugC&printsec=frontcover&img=1&zoom=1&edge=curl&source=gbs_api   \n",
       "\n",
       "                                                                                                                                                                                                                                                                                                                                                                                                                                                                                                                                                                                                                                                                                                                                                                                                                                                                                                                                                                                                                                  description  \\\n",
       "0     A NOVEL THAT READERS and critics have been eagerly anticipating for over a decade, Gilead is an astonishingly imagined story of remarkable lives. John Ames is a preacher, the son of a preacher and the grandson (both maternal and paternal) of preachers. It’s 1956 in Gilead, Iowa, towards the end of the Reverend Ames’s life, and he is absorbed in recording his family’s story, a legacy for the young son he will never see grow up. Haunted by his grandfather’s presence, John tells of the rift between his grandfather and his father: the elder, an angry visionary who fought for the abolitionist cause, and his son, an ardent pacifist. He is troubled, too, by his prodigal namesake, Jack (John Ames) Boughton, his best friend’s lost son who returns to Gilead searching for forgiveness and redemption. Told in John Ames’s joyous, rambling voice that finds beauty, humour and truth in the smallest of life’s details, Gilead is a song of celebration and acceptance of the best and the worst the world...   \n",
       "1     A new 'Christie for Christmas' -- a full-length novel adapted from her acclaimed play by Charles Osborne Following BLACK COFFEE and THE UNEXPECTED GUEST comes the final Agatha Christie play novelisation, bringing her superb storytelling to a new legion of fans. Clarissa, the wife of a Foreign Office diplomat, is given to daydreaming. 'Supposing I were to come down one morning and find a dead body in the library, what should I do?' she muses. Clarissa has her chance to find out when she discovers a body in the drawing-room of her house in Kent. Desperate to dispose of the body before her husband comes home with an important foreign politician, Clarissa persuades her three house guests to become accessories and accomplices. It seems that the murdered man was not unknown to certain members of the house party (but which ones?), and the search begins for the murderer and the motive, while at the same time trying to persuade a police inspector that there has been no murder at all... SPID...   \n",
       "3                                                                                                                                                                                                                                                                                                                                                                                                                                                                                                                                                                                                                                                                     A memorable, mesmerizing heroine Jennifer -- brilliant, beautiful, an attorney on the way up until the Mafia's schemes win her the hatred of an implacable enemy -- and a love more destructive than hate. A dangerous, dramatic world The Dark Arena of organized crime and flashbulb lit courtrooms where ambitious prosecutors begin their climb to political power.   \n",
       "4                                                                                                                                                                                                                                                                                                                                                                                                                                                                                                                                                                                                                                                                                                                                     Lewis' work on the nature of love divides love into four categories; Affection, Friendship, Eros and Charity. The first three come naturally to humanity. Charity, however, the Gift-love of God, is divine, and without this supernatural love, the natural loves become distorted and even dangerous.   \n",
       "5                                                                                                                                                                                                                                                                                                                                                                                                                                                                                                                                                           \"In The Problem of Pain, C.S. Lewis, one of the most renowned Christian authors and thinkers, examines a universally applicable question within the human condition: If God is good and all-powerful, why does he allow his creatures to suffer pain? With his signature wealth of compassion and insight, C.S. Lewis offers answers to these crucial questions and shares his hope and wisdom to help heal a world hungering for a true understanding of human nature.\"--Amazon.   \n",
       "...                                                                                                                                                                                                                                                                                                                                                                                                                                                                                                                                                                                                                                                                                                                                                                                                                                                                                                                                                                                                                                       ...   \n",
       "6803                                                                                                                                                                                                                                                                                                                                                                                                                                                                                                                                                                                                                                                    This book tells the tale of a man who goes on a wonderful and amazing journey through Asia. His travels can also be seen as a parable of one person's search for enlightenment. Ever since this book's first publication in 1932, it has influenced generations of readers with its ideas on Eastern religion and Jungian psychology and its criticism of Western middleclass values.   \n",
       "6804                                                                                                                                                                                                                                                            Wisdom to Create a Life of Passion, Purpose, and Peace This inspiring tale provides a step-by-step approach to living with greater courage, balance, abundance, and joy. A wonderfully crafted fable, The Monk Who Sold His Ferrari tells the extraordinary story of Julian Mantle, a lawyer forced to confront the spiritual crisis of his out-of-balance life. On a life-changing odyssey to an ancient culture, he discovers powerful, wise, and practical lessons that teach us to: Develop joyful thoughts Follow our life's mission and calling Cultivate self-discipline and act courageously Value time as our most important commodity Nourish our relationships, and – live fully, one day at a time A FABLE ABOUT FULFILLING YOUR DREAMS AND REACHING YOUR DESTINY   \n",
       "6805  This collection of the timeless teachings of one of the greatest sages of India, is a testament to the uniqueness of the seer's life and work. The book (now in its ninth printing) continues to draw new audiences and to enlighten anxious seekers for self-realisation. Sri Nisargadatta Maharaj was a teacher who did not propound any ideology or religion but gently unwrapped the mystery of the self. His message is simple, direct and yet sublime. The book preserves his dialogues with the followers who came from around the world seeking guidance in destroying false identities. The sage's sole concern was with human suffering and the ending of suffering. It was his mission to guide the individual to an understanding of his true nature and the timelessness of being. He taught that mind must recognise and penetrate its own state of being, not 'being this or that, here or there, then or now', but just timeless being. This is a legacy from a unique teacher who helps the reader to a clearer und...   \n",
       "6808  Since the three volume edition ofHegel's Philosophy of Subjective Spirit (1978, 19792) has been so well received, I have been encouraged to select that part of it most suitable for teaching purposes, and to publish it here as a separate work. As a teaching text, the Berlin Phenomenology has several important advan­ tages. Unlike so many ofHegel's writings, must notably theJena Phenomeno­ logy of 1807, it is concise and to the point, and concemed with issues already familiar to most students of philosophy. Since it consists for the most part of a searching and radical analysis of Kant's epistemology, Fichte's ethics and Schelling's system-building, it provides tirst-rate insight into Hegel's assessment of his immedi~te predecessors. When considered in context, as part of the Encyclopaedia if the Philosophical Sciences, it enables us to distinguish dearly between the systematic, the logical and the psychological aspects of Hegelianism, and is therefore also relevant to some of the ce...   \n",
       "6809                                                                                                                                                                                                                                                                                                                                                                                                                                                                                                                                                                                                                                                                                                                                                                                                                                                                                                              This is a jubilant and rewarding collection of Winterson scholarship--a superb group of essays from a host of fine authors.   \n",
       "\n",
       "      published_year  average_rating  num_pages  ratings_count  \\\n",
       "0             2004.0            3.85      247.0          361.0   \n",
       "1             2000.0            3.83      241.0         5164.0   \n",
       "3             1993.0            3.93      512.0        29532.0   \n",
       "4             2002.0            4.15      170.0        33684.0   \n",
       "5             2002.0            4.09      176.0        37569.0   \n",
       "...              ...             ...        ...            ...   \n",
       "6803          2002.0            3.70      175.0           24.0   \n",
       "6804          2003.0            3.82      198.0         1568.0   \n",
       "6805          1999.0            4.51      531.0          104.0   \n",
       "6808          1981.0            0.00      210.0            0.0   \n",
       "6809          1998.0            3.70      136.0           10.0   \n",
       "\n",
       "      missing_description  book_age  description_word_count  \\\n",
       "0                       0      21.0                     199   \n",
       "1                       0      25.0                     205   \n",
       "3                       0      32.0                      57   \n",
       "4                       0      23.0                      45   \n",
       "5                       0      23.0                      75   \n",
       "...                   ...       ...                     ...   \n",
       "6803                    0      23.0                      63   \n",
       "6804                    0      22.0                     117   \n",
       "6805                    0      26.0                     174   \n",
       "6808                    0      44.0                     245   \n",
       "6809                    0      27.0                      20   \n",
       "\n",
       "                                                                                       full_title  \n",
       "0                                                                                          Gilead  \n",
       "1                                                                           Spider's Web: A Novel  \n",
       "3                                                                                  Rage of angels  \n",
       "4                                                                                  The Four Loves  \n",
       "5                                                                             The Problem of Pain  \n",
       "...                                                                                           ...  \n",
       "6803                                                                          Journey to the East  \n",
       "6804  The Monk Who Sold His Ferrari: A Fable About Fulfilling Your Dreams & Reaching Your Destiny  \n",
       "6805                                               I Am that: Talks with Sri Nisargadatta Maharaj  \n",
       "6808                                                                     The Berlin Phenomenology  \n",
       "6809                    'I'm Telling You Stories': Jeanette Winterson and the Politics of Reading  \n",
       "\n",
       "[5693 rows x 16 columns]"
      ]
     },
     "execution_count": 61,
     "metadata": {},
     "output_type": "execute_result"
    }
   ],
   "source": [
    "cleaned_books_20_words"
   ]
  },
  {
   "cell_type": "markdown",
   "metadata": {},
   "source": [
    "### We are combining `isbn13` with `description` to use it later for efficient vector search"
   ]
  },
  {
   "cell_type": "code",
   "execution_count": 62,
   "metadata": {},
   "outputs": [
    {
     "name": "stderr",
     "output_type": "stream",
     "text": [
      "C:\\Users\\Administrator\\AppData\\Local\\Temp\\ipykernel_7836\\716248206.py:2: SettingWithCopyWarning:\n",
      "\n",
      "\n",
      "A value is trying to be set on a copy of a slice from a DataFrame.\n",
      "Try using .loc[row_indexer,col_indexer] = value instead\n",
      "\n",
      "See the caveats in the documentation: https://pandas.pydata.org/pandas-docs/stable/user_guide/indexing.html#returning-a-view-versus-a-copy\n",
      "\n"
     ]
    },
    {
     "data": {
      "application/vnd.microsoft.datawrangler.viewer.v0+json": {
       "columns": [
        {
         "name": "index",
         "rawType": "int64",
         "type": "integer"
        },
        {
         "name": "isbn13",
         "rawType": "int64",
         "type": "integer"
        },
        {
         "name": "isbn10",
         "rawType": "object",
         "type": "string"
        },
        {
         "name": "title",
         "rawType": "object",
         "type": "string"
        },
        {
         "name": "subtitle",
         "rawType": "object",
         "type": "unknown"
        },
        {
         "name": "authors",
         "rawType": "object",
         "type": "unknown"
        },
        {
         "name": "categories",
         "rawType": "object",
         "type": "unknown"
        },
        {
         "name": "thumbnail",
         "rawType": "object",
         "type": "unknown"
        },
        {
         "name": "description",
         "rawType": "object",
         "type": "string"
        },
        {
         "name": "published_year",
         "rawType": "float64",
         "type": "float"
        },
        {
         "name": "average_rating",
         "rawType": "float64",
         "type": "float"
        },
        {
         "name": "num_pages",
         "rawType": "float64",
         "type": "float"
        },
        {
         "name": "ratings_count",
         "rawType": "float64",
         "type": "float"
        },
        {
         "name": "missing_description",
         "rawType": "int64",
         "type": "integer"
        },
        {
         "name": "book_age",
         "rawType": "float64",
         "type": "float"
        },
        {
         "name": "description_word_count",
         "rawType": "int64",
         "type": "integer"
        },
        {
         "name": "full_title",
         "rawType": "object",
         "type": "string"
        },
        {
         "name": "tagged_description",
         "rawType": "object",
         "type": "string"
        }
       ],
       "ref": "10cfe9b1-796f-421c-93b1-a47db716f742",
       "rows": [
        [
         "0",
         "9780002005883",
         "0002005883",
         "Gilead",
         null,
         "Marilynne Robinson",
         "Fiction",
         "http://books.google.com/books/content?id=KQZCPgAACAAJ&printsec=frontcover&img=1&zoom=1&source=gbs_api",
         "A NOVEL THAT READERS and critics have been eagerly anticipating for over a decade, Gilead is an astonishingly imagined story of remarkable lives. John Ames is a preacher, the son of a preacher and the grandson (both maternal and paternal) of preachers. It’s 1956 in Gilead, Iowa, towards the end of the Reverend Ames’s life, and he is absorbed in recording his family’s story, a legacy for the young son he will never see grow up. Haunted by his grandfather’s presence, John tells of the rift between his grandfather and his father: the elder, an angry visionary who fought for the abolitionist cause, and his son, an ardent pacifist. He is troubled, too, by his prodigal namesake, Jack (John Ames) Boughton, his best friend’s lost son who returns to Gilead searching for forgiveness and redemption. Told in John Ames’s joyous, rambling voice that finds beauty, humour and truth in the smallest of life’s details, Gilead is a song of celebration and acceptance of the best and the worst the world has to offer. At its heart is a tale of the sacred bonds between fathers and sons, pitch-perfect in style and story, set to dazzle critics and readers alike.",
         "2004.0",
         "3.85",
         "247.0",
         "361.0",
         "0",
         "21.0",
         "199",
         "Gilead",
         "9780002005883, A NOVEL THAT READERS and critics have been eagerly anticipating for over a decade, Gilead is an astonishingly imagined story of remarkable lives. John Ames is a preacher, the son of a preacher and the grandson (both maternal and paternal) of preachers. It’s 1956 in Gilead, Iowa, towards the end of the Reverend Ames’s life, and he is absorbed in recording his family’s story, a legacy for the young son he will never see grow up. Haunted by his grandfather’s presence, John tells of the rift between his grandfather and his father: the elder, an angry visionary who fought for the abolitionist cause, and his son, an ardent pacifist. He is troubled, too, by his prodigal namesake, Jack (John Ames) Boughton, his best friend’s lost son who returns to Gilead searching for forgiveness and redemption. Told in John Ames’s joyous, rambling voice that finds beauty, humour and truth in the smallest of life’s details, Gilead is a song of celebration and acceptance of the best and the worst the world has to offer. At its heart is a tale of the sacred bonds between fathers and sons, pitch-perfect in style and story, set to dazzle critics and readers alike."
        ],
        [
         "1",
         "9780002261982",
         "0002261987",
         "Spider's Web",
         "A Novel",
         "Charles Osborne;Agatha Christie",
         "Detective and mystery stories",
         "http://books.google.com/books/content?id=gA5GPgAACAAJ&printsec=frontcover&img=1&zoom=1&source=gbs_api",
         "A new 'Christie for Christmas' -- a full-length novel adapted from her acclaimed play by Charles Osborne Following BLACK COFFEE and THE UNEXPECTED GUEST comes the final Agatha Christie play novelisation, bringing her superb storytelling to a new legion of fans. Clarissa, the wife of a Foreign Office diplomat, is given to daydreaming. 'Supposing I were to come down one morning and find a dead body in the library, what should I do?' she muses. Clarissa has her chance to find out when she discovers a body in the drawing-room of her house in Kent. Desperate to dispose of the body before her husband comes home with an important foreign politician, Clarissa persuades her three house guests to become accessories and accomplices. It seems that the murdered man was not unknown to certain members of the house party (but which ones?), and the search begins for the murderer and the motive, while at the same time trying to persuade a police inspector that there has been no murder at all... SPIDER'S WEB was written in 1954 specifically for Margaret Lockwood and opened first at the Theatre Royal Nottingham before moving to the Savoy Theatre in London on 14 December 1954. With THE MOUSETRAP and WI",
         "2000.0",
         "3.83",
         "241.0",
         "5164.0",
         "0",
         "25.0",
         "205",
         "Spider's Web: A Novel",
         "9780002261982, A new 'Christie for Christmas' -- a full-length novel adapted from her acclaimed play by Charles Osborne Following BLACK COFFEE and THE UNEXPECTED GUEST comes the final Agatha Christie play novelisation, bringing her superb storytelling to a new legion of fans. Clarissa, the wife of a Foreign Office diplomat, is given to daydreaming. 'Supposing I were to come down one morning and find a dead body in the library, what should I do?' she muses. Clarissa has her chance to find out when she discovers a body in the drawing-room of her house in Kent. Desperate to dispose of the body before her husband comes home with an important foreign politician, Clarissa persuades her three house guests to become accessories and accomplices. It seems that the murdered man was not unknown to certain members of the house party (but which ones?), and the search begins for the murderer and the motive, while at the same time trying to persuade a police inspector that there has been no murder at all... SPIDER'S WEB was written in 1954 specifically for Margaret Lockwood and opened first at the Theatre Royal Nottingham before moving to the Savoy Theatre in London on 14 December 1954. With THE MOUSETRAP and WI"
        ],
        [
         "3",
         "9780006178736",
         "0006178731",
         "Rage of angels",
         null,
         "Sidney Sheldon",
         "Fiction",
         "http://books.google.com/books/content?id=FKo2TgANz74C&printsec=frontcover&img=1&zoom=1&source=gbs_api",
         "A memorable, mesmerizing heroine Jennifer -- brilliant, beautiful, an attorney on the way up until the Mafia's schemes win her the hatred of an implacable enemy -- and a love more destructive than hate. A dangerous, dramatic world The Dark Arena of organized crime and flashbulb lit courtrooms where ambitious prosecutors begin their climb to political power.",
         "1993.0",
         "3.93",
         "512.0",
         "29532.0",
         "0",
         "32.0",
         "57",
         "Rage of angels",
         "9780006178736, A memorable, mesmerizing heroine Jennifer -- brilliant, beautiful, an attorney on the way up until the Mafia's schemes win her the hatred of an implacable enemy -- and a love more destructive than hate. A dangerous, dramatic world The Dark Arena of organized crime and flashbulb lit courtrooms where ambitious prosecutors begin their climb to political power."
        ],
        [
         "4",
         "9780006280897",
         "0006280897",
         "The Four Loves",
         null,
         "Clive Staples Lewis",
         "Christian life",
         "http://books.google.com/books/content?id=XhQ5XsFcpGIC&printsec=frontcover&img=1&zoom=1&source=gbs_api",
         "Lewis' work on the nature of love divides love into four categories; Affection, Friendship, Eros and Charity. The first three come naturally to humanity. Charity, however, the Gift-love of God, is divine, and without this supernatural love, the natural loves become distorted and even dangerous.",
         "2002.0",
         "4.15",
         "170.0",
         "33684.0",
         "0",
         "23.0",
         "45",
         "The Four Loves",
         "9780006280897, Lewis' work on the nature of love divides love into four categories; Affection, Friendship, Eros and Charity. The first three come naturally to humanity. Charity, however, the Gift-love of God, is divine, and without this supernatural love, the natural loves become distorted and even dangerous."
        ],
        [
         "5",
         "9780006280934",
         "0006280935",
         "The Problem of Pain",
         null,
         "Clive Staples Lewis",
         "Christian life",
         "http://books.google.com/books/content?id=Kk-uVe5QK-gC&printsec=frontcover&img=1&zoom=1&source=gbs_api",
         "\"In The Problem of Pain, C.S. Lewis, one of the most renowned Christian authors and thinkers, examines a universally applicable question within the human condition: If God is good and all-powerful, why does he allow his creatures to suffer pain? With his signature wealth of compassion and insight, C.S. Lewis offers answers to these crucial questions and shares his hope and wisdom to help heal a world hungering for a true understanding of human nature.\"--Amazon.",
         "2002.0",
         "4.09",
         "176.0",
         "37569.0",
         "0",
         "23.0",
         "75",
         "The Problem of Pain",
         "9780006280934, \"In The Problem of Pain, C.S. Lewis, one of the most renowned Christian authors and thinkers, examines a universally applicable question within the human condition: If God is good and all-powerful, why does he allow his creatures to suffer pain? With his signature wealth of compassion and insight, C.S. Lewis offers answers to these crucial questions and shares his hope and wisdom to help heal a world hungering for a true understanding of human nature.\"--Amazon."
        ],
        [
         "7",
         "9780006380832",
         "0006380832",
         "Empires of the Monsoon",
         "A History of the Indian Ocean and Its Invaders",
         "Richard Hall",
         "Africa, East",
         "http://books.google.com/books/content?id=MuPEQgAACAAJ&printsec=frontcover&img=1&zoom=1&source=gbs_api",
         "Until Vasco da Gama discovered the sea-route to the East in 1497-9 almost nothing was known in the West of the exotic cultures and wealth of the Indian Ocean and its peoples. It is this civilization and its destruction at the hands of the West that Richard Hall recreates in this book. Hall's history of the exploration and exploitation by Chinese and Arab travellers, and by the Portuguese, Dutch and British alike is one of brutality, betrayal and colonial ambition.",
         "1998.0",
         "4.41",
         "608.0",
         "65.0",
         "0",
         "27.0",
         "80",
         "Empires of the Monsoon: A History of the Indian Ocean and Its Invaders",
         "9780006380832, Until Vasco da Gama discovered the sea-route to the East in 1497-9 almost nothing was known in the West of the exotic cultures and wealth of the Indian Ocean and its peoples. It is this civilization and its destruction at the hands of the West that Richard Hall recreates in this book. Hall's history of the exploration and exploitation by Chinese and Arab travellers, and by the Portuguese, Dutch and British alike is one of brutality, betrayal and colonial ambition."
        ],
        [
         "8",
         "9780006470229",
         "000647022X",
         "The Gap Into Madness",
         "Chaos and Order",
         "Stephen R. Donaldson",
         "Hyland, Morn (Fictitious character)",
         "http://books.google.com/books/content?id=4oXavLNDWocC&printsec=frontcover&img=1&zoom=1&source=gbs_api",
         "A new-cover reissue of the fourth book in the bestselling five-volume sf series created by the world-famous author of the Thomas Covenant chronicles -- and acclaimed as the 'best work of his career'. Events were not moving as the Amnion had intended. Once again humans had been false in their dealings with the aliens. As the planetoid Thanatos Minor exploded into atoms, the Trumpet hurtled into space only one step ahead of hostile pursuers. On board were Morn Hyland and her force-grown son Davies, cyborg Angus Thermopyle and Captain Nick Succorso -- old enemies thrown together in a desperate bid for survival. For both the Amnion and the UMCP, the immediate capture of the fleeing ship and the secrets it contained was imperative. But for Trumpet's exhausted crew the only hope lay in an illegal lab in the distant binary solar system of Valdor Industrial. It would be a journey of unpredictable danger -- from which not all would return...",
         "1994.0",
         "4.15",
         "743.0",
         "103.0",
         "0",
         "31.0",
         "160",
         "The Gap Into Madness: Chaos and Order",
         "9780006470229, A new-cover reissue of the fourth book in the bestselling five-volume sf series created by the world-famous author of the Thomas Covenant chronicles -- and acclaimed as the 'best work of his career'. Events were not moving as the Amnion had intended. Once again humans had been false in their dealings with the aliens. As the planetoid Thanatos Minor exploded into atoms, the Trumpet hurtled into space only one step ahead of hostile pursuers. On board were Morn Hyland and her force-grown son Davies, cyborg Angus Thermopyle and Captain Nick Succorso -- old enemies thrown together in a desperate bid for survival. For both the Amnion and the UMCP, the immediate capture of the fleeing ship and the secrets it contained was imperative. But for Trumpet's exhausted crew the only hope lay in an illegal lab in the distant binary solar system of Valdor Industrial. It would be a journey of unpredictable danger -- from which not all would return..."
        ],
        [
         "9",
         "9780006472612",
         "0006472613",
         "Master of the Game",
         null,
         "Sidney Sheldon",
         "Adventure stories",
         "http://books.google.com/books/content?id=TkTYp-Tp6_IC&printsec=frontcover&img=1&zoom=1&source=gbs_api",
         "Kate Blackwell is an enigma and one of the most powerful women in the world. But at her ninetieth birthday celebrations there are ghosts of absent friends and absent enemies.",
         "1982.0",
         "4.11",
         "489.0",
         "43540.0",
         "0",
         "43.0",
         "30",
         "Master of the Game",
         "9780006472612, Kate Blackwell is an enigma and one of the most powerful women in the world. But at her ninetieth birthday celebrations there are ghosts of absent friends and absent enemies."
        ],
        [
         "12",
         "9780006482079",
         "0006482074",
         "Warhost of Vastmark",
         null,
         "Janny Wurts",
         "Fiction",
         "http://books.google.com/books/content?id=uOL0fpS9WZkC&printsec=frontcover&img=1&zoom=1&source=gbs_api",
         "Tricked once more by his wily half-brother, Lysaer, Lord of Light, arrives at the tiny harbor town of Merior to find that Arithon's ship yards have been abandoned and meticulously destroyed, and that the Master of Shadow has disappeared as if into thin air. Meanwhile Arithon and the Mad Prophet Dakar are traveling on foot through the treacherous Kelhorn Mountains towards the Vastmark clans, there to raise further support for his cause. But raising a warhost is a costly business. Is it mere coincidence that Princess Talith—Lysaer's beautiful, headstrong wife—is taken captive and held for a vast ransom by a master brigand? The forces of light and shadow circle and feint, drawing ever closer to a huge conflict. And in the background the Fellowship of Seven Sorcerers and the Koriani Enchantresses watch and plan, and wait.",
         "1995.0",
         "4.03",
         "522.0",
         "2966.0",
         "0",
         "30.0",
         "136",
         "Warhost of Vastmark",
         "9780006482079, Tricked once more by his wily half-brother, Lysaer, Lord of Light, arrives at the tiny harbor town of Merior to find that Arithon's ship yards have been abandoned and meticulously destroyed, and that the Master of Shadow has disappeared as if into thin air. Meanwhile Arithon and the Mad Prophet Dakar are traveling on foot through the treacherous Kelhorn Mountains towards the Vastmark clans, there to raise further support for his cause. But raising a warhost is a costly business. Is it mere coincidence that Princess Talith—Lysaer's beautiful, headstrong wife—is taken captive and held for a vast ransom by a master brigand? The forces of light and shadow circle and feint, drawing ever closer to a huge conflict. And in the background the Fellowship of Seven Sorcerers and the Koriani Enchantresses watch and plan, and wait."
        ],
        [
         "13",
         "9780006483014",
         "0006483011",
         "The Once and Future King",
         null,
         "Terence Hanbury White",
         "Arthurian romances",
         "http://books.google.com/books/content?id=Jx6BvgEACAAJ&printsec=frontcover&img=1&zoom=1&source=gbs_api",
         "An omnibus volume of the author's complete story of the Arthurian epic which includes: \"The sword in the stone\" (1939), \"The witch in the wood\" (1939), \"The ill-made knight\" (1940), \"The candle in the wind\" (published for the first time), and \"The book of Merlyn.\" 1996.",
         "1996.0",
         "4.04",
         "823.0",
         "2805.0",
         "0",
         "29.0",
         "46",
         "The Once and Future King",
         "9780006483014, An omnibus volume of the author's complete story of the Arthurian epic which includes: \"The sword in the stone\" (1939), \"The witch in the wood\" (1939), \"The ill-made knight\" (1940), \"The candle in the wind\" (published for the first time), and \"The book of Merlyn.\" 1996."
        ],
        [
         "14",
         "9780006483892",
         "0006483895",
         "Murder in LaMut",
         null,
         "Raymond E. Feist;Joel Rosenberg",
         "Adventure stories",
         "http://books.google.com/books/content?id=I2jbBlMHlAMC&printsec=frontcover&img=1&zoom=1&source=gbs_api",
         "Available in the U.S. for the first time, this is the second volume in the exceptional Legends of the Riftwar series from \"New York Times\"-bestselling authors Feist and Rosenberg.",
         "2003.0",
         "3.7",
         "337.0",
         "5083.0",
         "0",
         "22.0",
         "29",
         "Murder in LaMut",
         "9780006483892, Available in the U.S. for the first time, this is the second volume in the exceptional Legends of the Riftwar series from \"New York Times\"-bestselling authors Feist and Rosenberg."
        ],
        [
         "15",
         "9780006483908",
         "0006483909",
         "Jimmy the Hand",
         null,
         "Raymond E. Feist;S. M. Stirling",
         "Fantasy fiction",
         "http://books.google.com/books/content?id=hV4-oITYFN8C&printsec=frontcover&img=1&zoom=1&source=gbs_api",
         "Jimmy the Hand, boy thief of Krondor, lived in the shadows of the city. Though gifted beyond his peers, Jimmy is merely a pickpocket with potential--until he aids Prince Arutha in the rescue of Princess Anita from Duke Guy du Bas-Tyra, and runs afoul of \"Black Guy's\" secret police. Facing a choice between disappearing on his own or in a weighted barrel at the bottom of Krondor's harbor, Jimmy chooses the former. Forced to flee the only home he's ever known, Jimmy finds himself among the unsuspecting rural villagers of Land's End, where he hopes to prosper with his talents for con and thievery. But Land's End is home to many who tread the crooked path--and to a dark, dangerous presence even the local smugglers don't recognize. And suddenly Jimmy's youthful bravado and courage are leading him into the maw of chaos . . . and, quite possibly, to his doom.",
         "2003.0",
         "3.95",
         "368.0",
         "5579.0",
         "0",
         "22.0",
         "151",
         "Jimmy the Hand",
         "9780006483908, Jimmy the Hand, boy thief of Krondor, lived in the shadows of the city. Though gifted beyond his peers, Jimmy is merely a pickpocket with potential--until he aids Prince Arutha in the rescue of Princess Anita from Duke Guy du Bas-Tyra, and runs afoul of \"Black Guy's\" secret police. Facing a choice between disappearing on his own or in a weighted barrel at the bottom of Krondor's harbor, Jimmy chooses the former. Forced to flee the only home he's ever known, Jimmy finds himself among the unsuspecting rural villagers of Land's End, where he hopes to prosper with his talents for con and thievery. But Land's End is home to many who tread the crooked path--and to a dark, dangerous presence even the local smugglers don't recognize. And suddenly Jimmy's youthful bravado and courage are leading him into the maw of chaos . . . and, quite possibly, to his doom."
        ],
        [
         "16",
         "9780006486145",
         "0006486142",
         "Well of Darkness",
         null,
         "Margaret Weis;Tracy Hickman",
         null,
         "http://books.google.com/books/content?id=XrwaAAAACAAJ&printsec=frontcover&img=1&zoom=1&source=gbs_api",
         "Gareth is just a frightened young lad when he is drafted in to be the whipping-boy for the unruly Prince Dagnarus. Yet as they grow to be men, an unshakable bond is formed. And it is their destiny for them to become the two most powerful - and feared - men in the kingdom. But when Dagnarus decides to become a knight himself, he begins a chain of evil events that threaten to destroy the entire kingdom. Only by uniting the Sovereign Stone can peace be restored, and it is up to Dagnarus' brother Helmos to try to achieve this impossible task, using his father's soldiers against his brother's army. All the while, Gareth is gaining mastery over the sinister Void magic, and he is devoted to helping his childhood companion.. This gripping story of magical power and corruption takes the unique viewpoint of focusing on the evil characters, as we follow them from boys to men. Filled with action, suspense and wonderfully imaginative characters, Water From the Well of Darkness is set to elevate the careers of bestselling authors Weis & Hickman to spectacular new heights.",
         "2001.0",
         "3.66",
         "599.0",
         "68.0",
         "0",
         "24.0",
         "187",
         "Well of Darkness",
         "9780006486145, Gareth is just a frightened young lad when he is drafted in to be the whipping-boy for the unruly Prince Dagnarus. Yet as they grow to be men, an unshakable bond is formed. And it is their destiny for them to become the two most powerful - and feared - men in the kingdom. But when Dagnarus decides to become a knight himself, he begins a chain of evil events that threaten to destroy the entire kingdom. Only by uniting the Sovereign Stone can peace be restored, and it is up to Dagnarus' brother Helmos to try to achieve this impossible task, using his father's soldiers against his brother's army. All the while, Gareth is gaining mastery over the sinister Void magic, and he is devoted to helping his childhood companion.. This gripping story of magical power and corruption takes the unique viewpoint of focusing on the evil characters, as we follow them from boys to men. Filled with action, suspense and wonderfully imaginative characters, Water From the Well of Darkness is set to elevate the careers of bestselling authors Weis & Hickman to spectacular new heights."
        ],
        [
         "17",
         "9780006490456",
         "000649045X",
         "Witness for the Prosecution & Selected Plays",
         null,
         "Agatha Christie",
         "English drama",
         "http://books.google.com/books/content?id=_9u7AAAACAAJ&printsec=frontcover&img=1&zoom=1&source=gbs_api",
         "Newly-Jacketed Edition Designed To Celebrate The 50Th Anniversary Of Christie S Faultlessly Plotted Witness For The Prosecution And Other Outstanding Plays. The Perfect Complement To The Latest Edition Of The Mousetrap And Selected Plays (50Th Aniversary Edition). Headlining This Book Is Witness For The Prosecution Christie S Highly Successful Stage Play Which Won The New York Drama Critics Circle Award For Best Foreign Play. A Stunning Courtroom Drama, It Tells The Story Of A Scheming Wife Testifying Against Her Husband In A Shocking Murder Trial. The Wild Beauty Of A Seaside House Perched High On The Devonshire River Tern Provides A Stunning Back-Drop In Towards Zero As A Psychopathic Murderer Homes In On The Unsuspecting Victims. Passion, Murder And Love Are The Deadly Ingredients In Verdict, Making It One Of Christie S More Unusual Thrillers And Prompting Her To Label It The Best Play I Have Written With The Exception Of Witness For The Prosecution . Go Back For Murder Tells The Story Of The Young And Feisty Carla Who, Orphaned At The Tender Age Of Five, Discovers Her Mother Was Imprisioned For Murdering Her Father And Determines To Prove Her Innocence.",
         "1995.0",
         "4.05",
         "352.0",
         "3908.0",
         "0",
         "30.0",
         "192",
         "Witness for the Prosecution & Selected Plays",
         "9780006490456, Newly-Jacketed Edition Designed To Celebrate The 50Th Anniversary Of Christie S Faultlessly Plotted Witness For The Prosecution And Other Outstanding Plays. The Perfect Complement To The Latest Edition Of The Mousetrap And Selected Plays (50Th Aniversary Edition). Headlining This Book Is Witness For The Prosecution Christie S Highly Successful Stage Play Which Won The New York Drama Critics Circle Award For Best Foreign Play. A Stunning Courtroom Drama, It Tells The Story Of A Scheming Wife Testifying Against Her Husband In A Shocking Murder Trial. The Wild Beauty Of A Seaside House Perched High On The Devonshire River Tern Provides A Stunning Back-Drop In Towards Zero As A Psychopathic Murderer Homes In On The Unsuspecting Victims. Passion, Murder And Love Are The Deadly Ingredients In Verdict, Making It One Of Christie S More Unusual Thrillers And Prompting Her To Label It The Best Play I Have Written With The Exception Of Witness For The Prosecution . Go Back For Murder Tells The Story Of The Young And Feisty Carla Who, Orphaned At The Tender Age Of Five, Discovers Her Mother Was Imprisioned For Murdering Her Father And Determines To Prove Her Innocence."
        ],
        [
         "18",
         "9780006496434",
         "0006496431",
         "The Little House",
         null,
         "Philippa Gregory",
         "Country life",
         "http://books.google.com/books/content?id=rbvUPps9vKsC&printsec=frontcover&img=1&zoom=1&source=gbs_api",
         "It was easy for Elizabeth. She married the man she loved. It was harder for Ruth. She married Elizabeth's son and then found that, somehow, she could never quite measure up. This thriller examines what women want and what they fear, as Ruth confronts the shifting borders of her own sanity.",
         "1998.0",
         "3.66",
         "368.0",
         "1832.0",
         "0",
         "27.0",
         "51",
         "The Little House",
         "9780006496434, It was easy for Elizabeth. She married the man she loved. It was harder for Ruth. She married Elizabeth's son and then found that, somehow, she could never quite measure up. This thriller examines what women want and what they fear, as Ruth confronts the shifting borders of her own sanity."
        ],
        [
         "19",
         "9780006496878",
         "0006496873",
         "Mystical Paths",
         null,
         "Susan Howatch",
         "English fiction",
         "http://books.google.com/books/content?id=by4ytBy63o0C&printsec=frontcover&img=1&zoom=1&source=gbs_api",
         "1968 finds Nicholas Darrow wrestling with personal problems. How can he marry Rosalind when he is unable to avoid promiscuity? How can he become a priest when he finds it so difficult to live as one? And can he break his dangerous dependence on his father?",
         "1996.0",
         "4.23",
         "576.0",
         "1023.0",
         "0",
         "29.0",
         "46",
         "Mystical Paths",
         "9780006496878, 1968 finds Nicholas Darrow wrestling with personal problems. How can he marry Rosalind when he is unable to avoid promiscuity? How can he become a priest when he finds it so difficult to live as one? And can he break his dangerous dependence on his father?"
        ],
        [
         "20",
         "9780006496892",
         "000649689X",
         "Glittering Images",
         null,
         "Susan Howatch",
         "English fiction",
         "http://books.google.com/books/content?id=rDHbn0ORKhQC&printsec=frontcover&img=1&zoom=1&source=gbs_api",
         "It is 1937, and Charles Ashworth, a Canon to the Archbishop of Canterbury, is sent to untangle a web of self-delusion and corruption at the episcopal palace of the charismatic Bishop of Starbridge.",
         "1996.0",
         "4.07",
         "512.0",
         "2045.0",
         "0",
         "29.0",
         "33",
         "Glittering Images",
         "9780006496892, It is 1937, and Charles Ashworth, a Canon to the Archbishop of Canterbury, is sent to untangle a web of self-delusion and corruption at the episcopal palace of the charismatic Bishop of Starbridge."
        ],
        [
         "21",
         "9780006496922",
         "000649692X",
         "Glamorous Powers",
         null,
         "Susan Howatch",
         "Clergy",
         "http://books.google.com/books/content?id=_bhPYWs6RrYC&printsec=frontcover&img=1&zoom=1&source=gbs_api",
         "Reissue of the author's most famous and well-loved work, the Starbridge series, six self-contained yet interconnected novels that explore the history of the Church of England through the 20th century.",
         "1996.0",
         "4.2",
         "512.0",
         "1441.0",
         "0",
         "29.0",
         "30",
         "Glamorous Powers",
         "9780006496922, Reissue of the author's most famous and well-loved work, the Starbridge series, six self-contained yet interconnected novels that explore the history of the Church of England through the 20th century."
        ],
        [
         "22",
         "9780006498865",
         "0006498868",
         "The Mad Ship",
         null,
         "Robin Hobb",
         "Fantasy fiction",
         "http://books.google.com/books/content?id=2iWezkfdBE8C&printsec=frontcover&img=1&zoom=1&source=gbs_api",
         "Fantasy master Robin Hobb delivers the stunning second volume of her Liveship Traders trilogy, returning to the timeless city of Bingtown, where pirates now plague the coasts and the dreaded slave trade flourishes. Althea Vestrit doesnt have time to be afraid, for her familys newly awakened Liveship, Vivacia, has been seized by the ruthless pirate Kennit. So Althea hatches a bold plan. But to carry it out, she must recruit a Liveship that has already slain two crews -- and is said to be insane.",
         "2000.0",
         "4.24",
         "906.0",
         "36101.0",
         "0",
         "25.0",
         "85",
         "The Mad Ship",
         "9780006498865, Fantasy master Robin Hobb delivers the stunning second volume of her Liveship Traders trilogy, returning to the timeless city of Bingtown, where pirates now plague the coasts and the dreaded slave trade flourishes. Althea Vestrit doesnt have time to be afraid, for her familys newly awakened Liveship, Vivacia, has been seized by the ruthless pirate Kennit. So Althea hatches a bold plan. But to carry it out, she must recruit a Liveship that has already slain two crews -- and is said to be insane."
        ],
        [
         "23",
         "9780006499169",
         "0006499163",
         "Post Captain",
         null,
         "Patrick O'Brian",
         "Aubrey, Jack (Fictitious character)",
         "http://books.google.com/books/content?id=S761k-z51Q4C&printsec=frontcover&img=1&zoom=1&source=gbs_api",
         "This tale begins with Jack Aubrey arriving home from his exploits in the Mediterranean to find England at peace following the Treaty of Amiens. He and his friend Stephen Maturin, surgeon and secret agent, begin to live the lives of country gentlemen, hunting, entertaining and enjoying more amorous adventures. Their comfortable existence, however, is cut short when Jack is overnight reduced to a pauper with enough debts to keep him in prison for life. He flees to the continent to seek refuge: instead he finds himself a hunted fugitive as Napoleon has ordered the internment of all Englishmen in France. Aubrey's adventures in escaping from France and the debtors' prison will grip the reader as fast as his unequalled actions at sea.",
         "1996.0",
         "4.29",
         "474.0",
         "7815.0",
         "0",
         "29.0",
         "122",
         "Post Captain",
         "9780006499169, This tale begins with Jack Aubrey arriving home from his exploits in the Mediterranean to find England at peace following the Treaty of Amiens. He and his friend Stephen Maturin, surgeon and secret agent, begin to live the lives of country gentlemen, hunting, entertaining and enjoying more amorous adventures. Their comfortable existence, however, is cut short when Jack is overnight reduced to a pauper with enough debts to keep him in prison for life. He flees to the continent to seek refuge: instead he finds himself a hunted fugitive as Napoleon has ordered the internment of all Englishmen in France. Aubrey's adventures in escaping from France and the debtors' prison will grip the reader as fast as his unequalled actions at sea."
        ],
        [
         "24",
         "9780006499268",
         "0006499260",
         "The Reverse of the Medal",
         null,
         "Patrick O'Brian",
         "Adventure stories",
         "http://books.google.com/books/content?id=YtjxFRb39Z4C&printsec=frontcover&img=1&zoom=1&source=gbs_api",
         "In this book, Jack Aubrey returns from his duties protecting whalers off the South American coast and is persuaded by a casual acquaintance to make investments in the City on the strength of supposedly certain information. From there he is led into the half-worlds of the London criminal underground and of government espionage - the province of his friend, Stephen Maturin.",
         "1997.0",
         "4.41",
         "261.0",
         "177.0",
         "0",
         "28.0",
         "61",
         "The Reverse of the Medal",
         "9780006499268, In this book, Jack Aubrey returns from his duties protecting whalers off the South American coast and is persuaded by a casual acquaintance to make investments in the City on the strength of supposedly certain information. From there he is led into the half-worlds of the London criminal underground and of government espionage - the province of his friend, Stephen Maturin."
        ],
        [
         "25",
         "9780006499626",
         "0006499627",
         "Miss Marple",
         "The Complete Short Stories",
         "Agatha Christie",
         "Detective and mystery stories, English",
         "http://books.google.com/books/content?id=a96qPwAACAAJ&printsec=frontcover&img=1&zoom=1&source=gbs_api",
         "Miss Marple featured in 20 short stories, published in a number of different collections in Britain and America. Presented here in their order of publication, Miss Marple uses her unique insight to deduce the truth about a series of unsolved crimes.",
         "1997.0",
         "4.2",
         "359.0",
         "6235.0",
         "0",
         "28.0",
         "41",
         "Miss Marple: The Complete Short Stories",
         "9780006499626, Miss Marple featured in 20 short stories, published in a number of different collections in Britain and America. Presented here in their order of publication, Miss Marple uses her unique insight to deduce the truth about a series of unsolved crimes."
        ],
        [
         "26",
         "9780006511489",
         "0006511481",
         "The Years of Rice and Salt",
         null,
         "Kim Stanley Robinson",
         "Black Death",
         "http://books.google.com/books/content?id=I38CFD1RnmsC&printsec=frontcover&img=1&zoom=1&source=gbs_api",
         "Hailed by \"The New York Times Book Review\" as \"eye-opening, \" this alternative history of the last 600 years begins as the Black Death kills nearly everyone in Europe, and China, India, and the nations of Islam now control the world.",
         "2003.0",
         "3.73",
         "772.0",
         "194.0",
         "0",
         "22.0",
         "41",
         "The Years of Rice and Salt",
         "9780006511489, Hailed by \"The New York Times Book Review\" as \"eye-opening, \" this alternative history of the last 600 years begins as the Black Death kills nearly everyone in Europe, and China, India, and the nations of Islam now control the world."
        ],
        [
         "27",
         "9780006512677",
         "0006512674",
         "Spares",
         null,
         "Michael Marshall Smith",
         "Human cloning",
         "http://books.google.com/books/content?id=83RrAdP9y5UC&printsec=frontcover&img=1&zoom=1&source=gbs_api",
         "Spares - human clones, the ultimate health insurance. An eye for an eye - but some people are doing all the taking. The story of Jack Randall: burnt-out, dropped out, and way overdrawn at the luck bank. But as caretaker on a Spares Farm, he still has a choice, and it might make a difference.",
         "1998.0",
         "4.13",
         "317.0",
         "2481.0",
         "0",
         "27.0",
         "55",
         "Spares",
         "9780006512677, Spares - human clones, the ultimate health insurance. An eye for an eye - but some people are doing all the taking. The story of Jack Randall: burnt-out, dropped out, and way overdrawn at the luck bank. But as caretaker on a Spares Farm, he still has a choice, and it might make a difference."
        ],
        [
         "28",
         "9780006513087",
         "0006513085",
         "Gravity",
         null,
         "Tess Gerritsen",
         "Science fiction",
         "http://books.google.com/books/content?id=KI66cH39n6sC&printsec=frontcover&img=1&zoom=1&source=gbs_api",
         "Emma Watson a research physician has been training for the mission of a lifetime: to study living organisms in the microgravity of space. But the true and lethal nature of the experiment has not been revealed to NASA and once aboard the space station things start to go wrong. A culture of single-celled Archaeons, gathered from the deep sea, begin to rapidly multiply and infect the crew - with deadly and agonising results. As her estranged husband and ground crew at NASA work against the clock to launch a rescue Emma stuggles to contain the lethal microbe. But with the contagion threatening Earth's population, there are those who would leave the astronauts stranded in orbit, quarantined aboard the station.",
         "2004.0",
         "4.04",
         "342.0",
         "8024.0",
         "0",
         "21.0",
         "119",
         "Gravity",
         "9780006513087, Emma Watson a research physician has been training for the mission of a lifetime: to study living organisms in the microgravity of space. But the true and lethal nature of the experiment has not been revealed to NASA and once aboard the space station things start to go wrong. A culture of single-celled Archaeons, gathered from the deep sea, begin to rapidly multiply and infect the crew - with deadly and agonising results. As her estranged husband and ground crew at NASA work against the clock to launch a rescue Emma stuggles to contain the lethal microbe. But with the contagion threatening Earth's population, there are those who would leave the astronauts stranded in orbit, quarantined aboard the station."
        ],
        [
         "29",
         "9780006514640",
         "0006514642",
         "The Wise Woman",
         null,
         "Philippa Gregory",
         "Great Britain",
         "http://books.google.com/books/content?id=BEr9wAEACAAJ&printsec=frontcover&img=1&zoom=1&source=gbs_api",
         "Alone and vulnerable, Alys joins a nunnery in an attempt to escape poverty but finds herself thrown back into the outside world when Henry VIII's wreckers destroy her sanctuary. With nothing but her looks, her magic and her own instinctive cunning, Alys has to tread a perilous path between the faith of her childhood and her own female power. When she falls in love with Hugo, the feudal lord and another woman's husband, she dips into witchcraft to defeat her rival and to win her lover, only to find that magic makes a poor servant but a dominant master. Since heresy against the new church means the stake, and witchcraft the rope, Alys's danger is mortal. A woman's powers are not longer safe to use...",
         "2002.0",
         "3.31",
         "640.0",
         "6583.0",
         "0",
         "23.0",
         "125",
         "The Wise Woman",
         "9780006514640, Alone and vulnerable, Alys joins a nunnery in an attempt to escape poverty but finds herself thrown back into the outside world when Henry VIII's wreckers destroy her sanctuary. With nothing but her looks, her magic and her own instinctive cunning, Alys has to tread a perilous path between the faith of her childhood and her own female power. When she falls in love with Hugo, the feudal lord and another woman's husband, she dips into witchcraft to defeat her rival and to win her lover, only to find that magic makes a poor servant but a dominant master. Since heresy against the new church means the stake, and witchcraft the rope, Alys's danger is mortal. A woman's powers are not longer safe to use..."
        ],
        [
         "30",
         "9780006514855",
         "0006514855",
         "Girls' Night in",
         null,
         "Jessica Adams;Chris Manby;Fiona Walker",
         "American fiction",
         "http://books.google.com/books/content?id=xLwHHQAACAAJ&printsec=frontcover&img=1&zoom=1&source=gbs_api",
         "'Girls' Night In' features stories about growing up, growing out of, moving out, moving on, falling apart and getting it all together. So turn off your cell phone and curl up on the couch: this is one 'Girls' Night In' you won't want to miss.",
         "2000.0",
         "3.26",
         "586.0",
         "140.0",
         "0",
         "25.0",
         "45",
         "Girls' Night in",
         "9780006514855, 'Girls' Night In' features stories about growing up, growing out of, moving out, moving on, falling apart and getting it all together. So turn off your cell phone and curl up on the couch: this is one 'Girls' Night In' you won't want to miss."
        ],
        [
         "31",
         "9780006545866",
         "0006545866",
         "The White Album",
         null,
         "Joan Didion",
         "American essays",
         "http://books.google.com/books/content?id=qauOPwAACAAJ&printsec=frontcover&img=1&zoom=1&source=gbs_api",
         "This collection of essays recounts what took place on the long morning after the 1960s, when everyone was coming down from their particular bad trip. Didion observes the dramas that explode as America goes into collective detox: the mother abandoning her five-year-old daughter on the central reservation of Interstate 5; Huey Newton and the Black Panthers preaching from their cells; students, in unconscious parody, simulating the disaffection of the 1960s.",
         "1993.0",
         "4.17",
         "224.0",
         "91.0",
         "0",
         "32.0",
         "70",
         "The White Album",
         "9780006545866, This collection of essays recounts what took place on the long morning after the 1960s, when everyone was coming down from their particular bad trip. Didion observes the dramas that explode as America goes into collective detox: the mother abandoning her five-year-old daughter on the central reservation of Interstate 5; Huey Newton and the Black Panthers preaching from their cells; students, in unconscious parody, simulating the disaffection of the 1960s."
        ],
        [
         "33",
         "9780006551393",
         "0006551394",
         "The Lexus and the Olive Tree",
         null,
         "Thomas L. Friedman",
         "Capitalism",
         "http://books.google.com/books/content?id=u8zxpq6o7HYC&printsec=frontcover&img=1&zoom=1&source=gbs_api",
         "Half of this new, post-Cold War world is intent on building a better Lexus, on streamlining their societies and economies for the global marketplace, while the other half is locked in elemental struggles over who owns which olive tree, which strip of land.",
         "2000.0",
         "3.59",
         "352.0",
         "87.0",
         "0",
         "25.0",
         "43",
         "The Lexus and the Olive Tree",
         "9780006551393, Half of this new, post-Cold War world is intent on building a better Lexus, on streamlining their societies and economies for the global marketplace, while the other half is locked in elemental struggles over who owns which olive tree, which strip of land."
        ],
        [
         "34",
         "9780006551812",
         "0006551815",
         "'Tis",
         "A Memoir",
         "Frank McCourt",
         "Ireland",
         "http://books.google.com/books/content?id=Q3BhQgAACAAJ&printsec=frontcover&img=1&zoom=1&source=gbs_api",
         "FROM THE PULIZER PRIZE-WINNING AUTHOR OF THE #1 \"NEW YORK TIMES\" BESTSELLER \"ANGELA'S ASHES\" Frank McCourt's glorious childhood memoir, \"Angela's Ashes, \" has been loved and celebrated by readers everywhere. It won the National Book Critics Circle Award, the \"Los Angeles Times\" Book Award and the Pulitzer Prize. Rarely has a book so swiftly found its place on the literary landscape. And now we have \"'Tis, \" the story of Frank's American journey from impoverished immigrant to brilliant teacher and raconteur. Frank lands in New York at age nineteen and gets a job at the Biltmore Hotel, where he immediately encounters the vivid hierarchies of this \"classless country,\" and then is drafted into the army and is sent to Germany to train dogs and type reports. It is Frank's incomparable voice that renders these experiences spellbinding. When Frank returns to America in 1953, he works on the docks, always resisting what everyone tells him. He knows that he should be getting an education, and though he left school at fourteen, he talks his way into New York University. There, he falls in love with the quintessential Yankee and tries to live his dream. But it is not until he starts to teach that Frank finds his place in the world.",
         "2000.0",
         "3.68",
         "495.0",
         "44179.0",
         "0",
         "25.0",
         "210",
         "'Tis: A Memoir",
         "9780006551812, FROM THE PULIZER PRIZE-WINNING AUTHOR OF THE #1 \"NEW YORK TIMES\" BESTSELLER \"ANGELA'S ASHES\" Frank McCourt's glorious childhood memoir, \"Angela's Ashes, \" has been loved and celebrated by readers everywhere. It won the National Book Critics Circle Award, the \"Los Angeles Times\" Book Award and the Pulitzer Prize. Rarely has a book so swiftly found its place on the literary landscape. And now we have \"'Tis, \" the story of Frank's American journey from impoverished immigrant to brilliant teacher and raconteur. Frank lands in New York at age nineteen and gets a job at the Biltmore Hotel, where he immediately encounters the vivid hierarchies of this \"classless country,\" and then is drafted into the army and is sent to Germany to train dogs and type reports. It is Frank's incomparable voice that renders these experiences spellbinding. When Frank returns to America in 1953, he works on the docks, always resisting what everyone tells him. He knows that he should be getting an education, and though he left school at fourteen, he talks his way into New York University. There, he falls in love with the quintessential Yankee and tries to live his dream. But it is not until he starts to teach that Frank finds his place in the world."
        ],
        [
         "35",
         "9780006646006",
         "000664600X",
         "Ocean Star Express",
         null,
         "Mark Haddon;Peter Sutton",
         "Juvenile Fiction",
         "http://books.google.com/books/content?id=I2QZAAAACAAJ&printsec=frontcover&img=1&zoom=1&source=gbs_api",
         "Joe and his parents are enjoying a summer holiday by the sea at the Ocean Star Hotel. The sky is bright blue, the sun shines and Joe loves all that the seaside has to offer. But when the fog rolls in and rain falls Joe begins to wish that he was back at home again. Things change, however, when the owner of the hotel invites Joe to share in a magical world, only a few steps away. The loft is black as night but then above Joe's head a thousand tiny stars begin to sparkle and in the distance he hears the chug-chug-chug of a model train. A whole world is soon to open up before Joe's eyes, a world of snow-capped mountains, great deserts, and rocking fishing boats.",
         "2002.0",
         "3.5",
         "32.0",
         "1.0",
         "0",
         "23.0",
         "129",
         "Ocean Star Express",
         "9780006646006, Joe and his parents are enjoying a summer holiday by the sea at the Ocean Star Hotel. The sky is bright blue, the sun shines and Joe loves all that the seaside has to offer. But when the fog rolls in and rain falls Joe begins to wish that he was back at home again. Things change, however, when the owner of the hotel invites Joe to share in a magical world, only a few steps away. The loft is black as night but then above Joe's head a thousand tiny stars begin to sparkle and in the distance he hears the chug-chug-chug of a model train. A whole world is soon to open up before Joe's eyes, a world of snow-capped mountains, great deserts, and rocking fishing boats."
        ],
        [
         "36",
         "9780006754893",
         "0006754899",
         "A Small Pinch of Weather",
         "And Other Stories",
         "Joan Aiken",
         "Children's stories, English",
         "http://books.google.com/books/content?id=QiFhOBpYZoYC&printsec=frontcover&img=1&zoom=1&source=gbs_api",
         "A magical and fantastic collection of early stories by one of the most original children's authors of the 20th century. For 8-11 year olds.",
         "2000.0",
         "4.27",
         "239.0",
         "116.0",
         "0",
         "25.0",
         "24",
         "A Small Pinch of Weather: And Other Stories",
         "9780006754893, A magical and fantastic collection of early stories by one of the most original children's authors of the 20th century. For 8-11 year olds."
        ],
        [
         "39",
         "9780007105045",
         "0007105045",
         "Tree and Leaf",
         "The Homecoming of Beorhtnoth : Beorhthelm's Son",
         "John Ronald Reuel Tolkien",
         "Literary Collections",
         "http://books.google.com/books/content?id=aPb_AAIcwZ0C&printsec=frontcover&img=1&zoom=1&source=gbs_api",
         "\"The two works 'On fairy-stories' and 'Leaf by Niggle' were first brought together to form the book 'Tree and leaf' in 1964. In this new edition a third element is added: the poem Mythopoeia, the making of myths...\"--Preface.",
         "2001.0",
         "4.09",
         "176.0",
         "2245.0",
         "0",
         "24.0",
         "38",
         "Tree and Leaf: The Homecoming of Beorhtnoth : Beorhthelm's Son",
         "9780007105045, \"The two works 'On fairy-stories' and 'Leaf by Niggle' were first brought together to form the book 'Tree and leaf' in 1964. In this new edition a third element is added: the poem Mythopoeia, the making of myths...\"--Preface."
        ],
        [
         "40",
         "9780007111503",
         "0007111509",
         "Partners in Crime",
         null,
         "Agatha Christie",
         "Beresford, Tommy (Fictitious character)",
         "http://books.google.com/books/content?id=L0bfy0zgkegC&printsec=frontcover&img=1&zoom=1&source=gbs_api",
         "The Famous Volume Of Tommy & Tuppence Linked Short Stories, Reissued In A New Look To Coincide With The Brand New Series Of Tommy & Tuppence Bbc Movies. Tommy And Tuppence Beresford Were Restless For Adventure, So When They Were Asked To Take Over Blunt S International Detective Agency, They Leapt At The Chance. After Their Triumphant Recovery Of A Pink Pearl, Intriguing Cases Kept On Coming Their Way: A Stabbing On Sunningdale Golf Course; Cryptic Messages In The Personal Columns Of Newspapers; And Even A Box Of Poisoned Chocolates.",
         "2001.0",
         "3.77",
         "347.0",
         "9506.0",
         "0",
         "24.0",
         "90",
         "Partners in Crime",
         "9780007111503, The Famous Volume Of Tommy & Tuppence Linked Short Stories, Reissued In A New Look To Coincide With The Brand New Series Of Tommy & Tuppence Bbc Movies. Tommy And Tuppence Beresford Were Restless For Adventure, So When They Were Asked To Take Over Blunt S International Detective Agency, They Leapt At The Chance. After Their Triumphant Recovery Of A Pink Pearl, Intriguing Cases Kept On Coming Their Way: A Stabbing On Sunningdale Golf Course; Cryptic Messages In The Personal Columns Of Newspapers; And Even A Box Of Poisoned Chocolates."
        ],
        [
         "41",
         "9780007113804",
         "0007113803",
         "Murder in Mesopotamia",
         null,
         "Agatha Christie",
         "Detective and mystery stories",
         "http://books.google.com/books/content?id=oFkbc7BbYN0C&printsec=frontcover&img=1&zoom=1&source=gbs_api",
         "An archaeologist's wife is murdered on the shores of the River Tigris in Iraq... It was clear to Amy Leatheran that something sinister was going on at the Hassanieh dig in Iraq; something associated with the presence of 'Lovely Louise', wife of celebrated archaeologist Dr Leidner. In a few days' time Hercule Poirot was due to drop in at the excavation site. But with Louise suffering from terrifying hallucinations, and tension within the group becoming almost unbearable, Poirot might just be too late...",
         "2001.0",
         "3.89",
         "264.0",
         "25692.0",
         "0",
         "24.0",
         "83",
         "Murder in Mesopotamia",
         "9780007113804, An archaeologist's wife is murdered on the shores of the River Tigris in Iraq... It was clear to Amy Leatheran that something sinister was going on at the Hassanieh dig in Iraq; something associated with the presence of 'Lovely Louise', wife of celebrated archaeologist Dr Leidner. In a few days' time Hercule Poirot was due to drop in at the excavation site. But with Louise suffering from terrifying hallucinations, and tension within the group becoming almost unbearable, Poirot might just be too late..."
        ],
        [
         "42",
         "9780007116263",
         "0007116268",
         "The Lord of the Rings, the Return of the King",
         "Visual Companion",
         "Jude Fisher",
         "Imaginary wars and battles",
         "http://books.google.com/books/content?id=kNBnQgAACAAJ&printsec=frontcover&img=1&zoom=1&source=gbs_api",
         "A visual guide to the third in the Lord of the Rings movie trilogy. A large-format, full-colour guide to the characters, places, landscapes, artefacts, battles, and costumes as seen in the film, it features images, informative text and specially commissioned extras.",
         "2003.0",
         "4.59",
         "72.0",
         "22.0",
         "0",
         "22.0",
         "41",
         "The Lord of the Rings, the Return of the King: Visual Companion",
         "9780007116263, A visual guide to the third in the Lord of the Rings movie trilogy. A large-format, full-colour guide to the characters, places, landscapes, artefacts, battles, and costumes as seen in the film, it features images, informative text and specially commissioned extras."
        ],
        [
         "43",
         "9780007117536",
         "0007117531",
         "All Families are Psychotic",
         null,
         "Douglas Coupland",
         "Dysfunctional families",
         "http://books.google.com/books/content?id=jYBsNp6NPVoC&printsec=frontcover&img=1&zoom=1&source=gbs_api",
         "On the eve of the next Space Shuttle mission, a divided family comes together... Warm, witty and wise, All Families Are Psychotic is Coupland at the very top of his form: 'Irresistibly hilarious, unique and wonderful' Independent on Sunday In a cheap motel an hour from Cape Canaveral, Janet Drummond takes her medication, and does a rapid tally of the whereabouts of her children. Wade has spent the night in jail; suicidal Bryan is due to arrive at any moment with his vowel-free girlfriend, Shw; and then there is Sarah, 'a bolt of lightning frozen in midflash' -- here in Orlando to be the star of Friday's shuttle mission. With Janet's ex-husband and his trophy wife also in town, Janet spends a moment contemplating her family, and where it all went wrong. Or did it?",
         "2002.0",
         "3.69",
         "279.0",
         "350.0",
         "0",
         "23.0",
         "135",
         "All Families are Psychotic",
         "9780007117536, On the eve of the next Space Shuttle mission, a divided family comes together... Warm, witty and wise, All Families Are Psychotic is Coupland at the very top of his form: 'Irresistibly hilarious, unique and wonderful' Independent on Sunday In a cheap motel an hour from Cape Canaveral, Janet Drummond takes her medication, and does a rapid tally of the whereabouts of her children. Wade has spent the night in jail; suicidal Bryan is due to arrive at any moment with his vowel-free girlfriend, Shw; and then there is Sarah, 'a bolt of lightning frozen in midflash' -- here in Orlando to be the star of Friday's shuttle mission. With Janet's ex-husband and his trophy wife also in town, Janet spends a moment contemplating her family, and where it all went wrong. Or did it?"
        ],
        [
         "44",
         "9780007119332",
         "000711933X",
         "Death in the Clouds",
         null,
         "Agatha Christie",
         "Detective and mystery stories",
         "http://books.google.com/books/content?id=M8iyckq4GQ0C&printsec=frontcover&img=1&zoom=1&source=gbs_api",
         "A woman is killed by a poisoned dart in the enclosed confines of a commercial passenger plane... From seat No.9, Hercule Poirot was ideally placed to observe his fellow air passengers. Over to his right sat a pretty young woman, clearly infatuated with the man opposite; ahead, in seat No.13, sat a Countess with a poorly-concealed cocaine habit; across the gangway in seat No.8, a detective writer was being troubled by an aggressive wasp. What Poirot did not yet realize was that behind him, in seat No.2, sat the slumped, lifeless body of a woman.",
         "2001.0",
         "3.8",
         "333.0",
         "21123.0",
         "0",
         "24.0",
         "95",
         "Death in the Clouds",
         "9780007119332, A woman is killed by a poisoned dart in the enclosed confines of a commercial passenger plane... From seat No.9, Hercule Poirot was ideally placed to observe his fellow air passengers. Over to his right sat a pretty young woman, clearly infatuated with the man opposite; ahead, in seat No.13, sat a Countess with a poorly-concealed cocaine habit; across the gangway in seat No.8, a detective writer was being troubled by an aggressive wasp. What Poirot did not yet realize was that behind him, in seat No.2, sat the slumped, lifeless body of a woman."
        ],
        [
         "45",
         "9780007119356",
         "0007119356",
         "Appointment with Death",
         null,
         "Agatha Christie",
         "Detective and mystery stories",
         "http://books.google.com/books/content?id=lSYwsRkcw4YC&printsec=frontcover&img=1&zoom=1&source=gbs_api",
         "A repugnant Amercian widow is killed during a trip to Petra... Among the towering red cliffs of Petra, like some monstrous swollen Buddha, sat the corpse of Mrs Boynton. A tiny puncture mark on her wrist was the only sign of the fatal injection that had killed her. With only 24 hours available to solve the mystery, Hercule Poirot recalled a chance remark he'd overheard back in Jerusalem: 'You see, don't you, that she's got to be killed?' Mrs Boynton was, indeed, the most detestable woman he'd ever met...",
         "2001.0",
         "3.86",
         "303.0",
         "24859.0",
         "0",
         "24.0",
         "89",
         "Appointment with Death",
         "9780007119356, A repugnant Amercian widow is killed during a trip to Petra... Among the towering red cliffs of Petra, like some monstrous swollen Buddha, sat the corpse of Mrs Boynton. A tiny puncture mark on her wrist was the only sign of the fatal injection that had killed her. With only 24 hours available to solve the mystery, Hercule Poirot recalled a chance remark he'd overheard back in Jerusalem: 'You see, don't you, that she's got to be killed?' Mrs Boynton was, indeed, the most detestable woman he'd ever met..."
        ],
        [
         "46",
         "9780007120680",
         "0007120680",
         "Hallowe'en Party",
         null,
         "Agatha Christie",
         "Poirot, Hercule (Fictitious character)",
         "http://books.google.com/books/content?id=Qlx98EGK_jMC&printsec=frontcover&img=1&zoom=1&source=gbs_api",
         "No one believes a little girl when she insists that she has witnessed a murder until she herself turns up drowned, and Hercule Poirot sets out to catch the killer.",
         "2001.0",
         "3.66",
         "336.0",
         "18820.0",
         "0",
         "24.0",
         "30",
         "Hallowe'en Party",
         "9780007120680, No one believes a little girl when she insists that she has witnessed a murder until she herself turns up drowned, and Hercule Poirot sets out to catch the killer."
        ],
        [
         "47",
         "9780007120697",
         "0007120699",
         "Hercule Poirot's Christmas",
         null,
         "Agatha Christie",
         "Christmas stories",
         "http://books.google.com/books/content?id=EA0j4Jzn4vAC&printsec=frontcover&img=1&zoom=1&source=gbs_api",
         "On the night before Christmas, cruel, tyrannical, filthy-rich Simeon Lee is found in his locked bedroom with his throat cut. Now Hercule Poirot must put his deductive powers to the test to solve one of his most chilling cases--and to prevent a clever killer from spilling more blood.",
         "2001.0",
         "3.93",
         "335.0",
         "23113.0",
         "0",
         "24.0",
         "48",
         "Hercule Poirot's Christmas",
         "9780007120697, On the night before Christmas, cruel, tyrannical, filthy-rich Simeon Lee is found in his locked bedroom with his throat cut. Now Hercule Poirot must put his deductive powers to the test to solve one of his most chilling cases--and to prevent a clever killer from spilling more blood."
        ],
        [
         "48",
         "9780007120819",
         "0007120818",
         "The Big Four",
         null,
         "Agatha Christie",
         "Detective and mystery stories",
         "http://books.google.com/books/content?id=wcOQUSWQEdUC&printsec=frontcover&img=1&zoom=1&source=gbs_api",
         "A ruthless international cartel seeks world domination... Framed in the doorway of Poirot's bedroom stood an uninvited guest, coated from head to foot in dust. The man's gaunt face stared for a moment, then he swayed and fell. Who was he? Was he suffering from shock or just exhaustion? Above all, what was the significance of the figure 4, scribbled over and over again on a sheet of paper? Poirot finds himself plunged into a world of international intrigue, risking his life to uncover the truth about 'Number Four'.",
         "2002.0",
         "3.59",
         "272.0",
         "22155.0",
         "0",
         "23.0",
         "89",
         "The Big Four",
         "9780007120819, A ruthless international cartel seeks world domination... Framed in the doorway of Poirot's bedroom stood an uninvited guest, coated from head to foot in dust. The man's gaunt face stared for a moment, then he swayed and fell. Who was he? Was he suffering from shock or just exhaustion? Above all, what was the significance of the figure 4, scribbled over and over again on a sheet of paper? Poirot finds himself plunged into a world of international intrigue, risking his life to uncover the truth about 'Number Four'."
        ],
        [
         "49",
         "9780007120864",
         "0007120869",
         "The Thirteen Problems",
         null,
         "Agatha Christie",
         "Detective and mystery stories, English",
         "http://books.google.com/books/content?id=MK9JNwoZAncC&printsec=frontcover&img=1&zoom=1&source=gbs_api",
         "The Tuesday Night Club is a venue where locals challenge Miss Marple to solve recent crimes... One Tuesday evening a group gathers at Miss Marple's house and the conversation turns to unsolved crimes... The case of the disappearing bloodstains; the thief who committed his crime twice over; the message on the death-bed of a poisoned man which read 'heap of fish'; the strange case of the invisible will; a spiritualist who warned that 'Blue Geranium' meant death... Now pit your wits against the powers of deduction of the 'Tuesday Night Club'.",
         "2002.0",
         "3.89",
         "315.0",
         "12840.0",
         "0",
         "23.0",
         "91",
         "The Thirteen Problems",
         "9780007120864, The Tuesday Night Club is a venue where locals challenge Miss Marple to solve recent crimes... One Tuesday evening a group gathers at Miss Marple's house and the conversation turns to unsolved crimes... The case of the disappearing bloodstains; the thief who committed his crime twice over; the message on the death-bed of a poisoned man which read 'heap of fish'; the strange case of the invisible will; a spiritualist who warned that 'Blue Geranium' meant death... Now pit your wits against the powers of deduction of the 'Tuesday Night Club'."
        ],
        [
         "50",
         "9780007120871",
         "0007120877",
         "They Do it with Mirrors",
         null,
         "Agatha Christie",
         "American fiction",
         "http://books.google.com/books/content?id=HUuQYGppZi8C&printsec=frontcover&img=1&zoom=1&source=gbs_api",
         "A man is shot at in a juvenile reform home - but someone else dies... Miss Marple senses danger when she visits a friend living in a Victorian mansion which doubles as a rehabilitiation centre for delinquents. Her fears are confirmed when a youth fires a revolver at the administrator, Lewis Serrocold. Neither is injured. But a mysterious visitor, Mr Gilbrandsen, is less fortunate - shot dead simultaneously in another part of the building. Pure coincidence? Miss Marple thinks not, and vows to discover the real reason for Mr Gilbrandsen's visit.",
         "2002.0",
         "3.75",
         "284.0",
         "415.0",
         "0",
         "23.0",
         "91",
         "They Do it with Mirrors",
         "9780007120871, A man is shot at in a juvenile reform home - but someone else dies... Miss Marple senses danger when she visits a friend living in a Victorian mansion which doubles as a rehabilitiation centre for delinquents. Her fears are confirmed when a youth fires a revolver at the administrator, Lewis Serrocold. Neither is injured. But a mysterious visitor, Mr Gilbrandsen, is less fortunate - shot dead simultaneously in another part of the building. Pure coincidence? Miss Marple thinks not, and vows to discover the real reason for Mr Gilbrandsen's visit."
        ],
        [
         "51",
         "9780007120963",
         "0007120966",
         "A Murder is Announced",
         null,
         "Agatha Christie",
         "Detective and mystery stories, English",
         "http://books.google.com/books/content?id=QEEvzeAkdzoC&printsec=frontcover&img=1&zoom=1&source=gbs_api",
         "The villagers of Chipping Cleghorn are amazed by an advertisement in the local paper which reads \"A murder is announced and will take place on Friday October 29th, at Little Paddocks at 6.30pm. Unable to resist, a crowd begins to gather at the house at the appointed time. But when a man is killed in what looks like an attempted robbery, Miss Marple becomes involved.",
         "2002.0",
         "3.98",
         "382.0",
         "680.0",
         "0",
         "23.0",
         "65",
         "A Murder is Announced",
         "9780007120963, The villagers of Chipping Cleghorn are amazed by an advertisement in the local paper which reads \"A murder is announced and will take place on Friday October 29th, at Little Paddocks at 6.30pm. Unable to resist, a crowd begins to gather at the house at the appointed time. But when a man is killed in what looks like an attempted robbery, Miss Marple becomes involved."
        ],
        [
         "52",
         "9780007120987",
         "0007120982",
         "The Mirror Crack'd from Side to Side",
         null,
         "Agatha Christie",
         "Marple, Jane (Fictitious character)",
         "http://books.google.com/books/content?id=lTYId7FIJEsC&printsec=frontcover&img=1&zoom=1&source=gbs_api",
         "One Minute, Silly Heather Badcock Had Been Gabbling On At Her Movie Idol, The Glamorous Marina Gregg. The Next, Heather Suffered A Massive Seizure. But For Whom Was The Deadly Poison Really Intended? Marina S Frozen Expression Suggested She Had Witnessed Something Horrific. But, While Others Searched For Material Evidence, Jane Marple Conducted A Very Different Investigation Into Human Nature.",
         "2002.0",
         "3.91",
         "351.0",
         "23249.0",
         "0",
         "23.0",
         "60",
         "The Mirror Crack'd from Side to Side",
         "9780007120987, One Minute, Silly Heather Badcock Had Been Gabbling On At Her Movie Idol, The Glamorous Marina Gregg. The Next, Heather Suffered A Massive Seizure. But For Whom Was The Deadly Poison Really Intended? Marina S Frozen Expression Suggested She Had Witnessed Something Horrific. But, While Others Searched For Material Evidence, Jane Marple Conducted A Very Different Investigation Into Human Nature."
        ],
        [
         "53",
         "9780007121007",
         "0007121008",
         "Mrs McGinty's Dead",
         null,
         "Agatha Christie",
         "Belgians",
         "http://books.google.com/books/content?id=gcS0d5HhGEEC&printsec=frontcover&img=1&zoom=1&source=gbs_api",
         "An old widow is brutally killed in the parlour of her cottage... Mrs McGinty died from a brutal blow to the back of her head. Suspicion fell immediately on her shifty lodger, James Bentley, whose clothes revealed traces of the victim's blood and hair. Yet something was amiss: Bentley just didn't look like a murderer. Poirot believed he could save the man from the gallows - what he didn't realise was that his own life was now in great danger...",
         "2002.0",
         "3.83",
         "328.0",
         "525.0",
         "0",
         "23.0",
         "80",
         "Mrs McGinty's Dead",
         "9780007121007, An old widow is brutally killed in the parlour of her cottage... Mrs McGinty died from a brutal blow to the back of her head. Suspicion fell immediately on her shifty lodger, James Bentley, whose clothes revealed traces of the victim's blood and hair. Yet something was amiss: Bentley just didn't look like a murderer. Poirot believed he could save the man from the gallows - what he didn't realise was that his own life was now in great danger..."
        ],
        [
         "54",
         "9780007121014",
         "0007121016",
         "Taken at the Flood",
         null,
         "Agatha Christie",
         "Fiction",
         "http://books.google.com/books/content?id=3gWlxIFlMEwC&printsec=frontcover&img=1&zoom=1&source=gbs_api",
         "A Few Weeks After Marrying An Attractive Young Widow, Gordon Cloade Is Tragically Killed By A Bomb Blast In The London Blitz. Overnight, The Former Mrs Underhay Finds Herself In Sole Possession Of The Cloade Family Fortune. Shortly Afterwards, Hercule Poirot Receives A Visit From The Dead Man S Sister-In-Law Who Claims She Has Been Warned By Spirits That Mrs Underhay S First Husband Is Still Alive. Poirot Has His Suspicions When He Is Asked To Find A Missing Person Guided Only By The Spirit World. Yet What Mystifies Poirot Most Is The Woman S True Motive For Approaching Him&",
         "2002.0",
         "3.71",
         "352.0",
         "8852.0",
         "0",
         "23.0",
         "100",
         "Taken at the Flood",
         "9780007121014, A Few Weeks After Marrying An Attractive Young Widow, Gordon Cloade Is Tragically Killed By A Bomb Blast In The London Blitz. Overnight, The Former Mrs Underhay Finds Herself In Sole Possession Of The Cloade Family Fortune. Shortly Afterwards, Hercule Poirot Receives A Visit From The Dead Man S Sister-In-Law Who Claims She Has Been Warned By Spirits That Mrs Underhay S First Husband Is Still Alive. Poirot Has His Suspicions When He Is Asked To Find A Missing Person Guided Only By The Spirit World. Yet What Mystifies Poirot Most Is The Woman S True Motive For Approaching Him&"
        ],
        [
         "55",
         "9780007121021",
         "0007121024",
         "The Hollow",
         null,
         "Agatha Christie",
         "Detective and mystery stories",
         "http://books.google.com/books/content?id=-f1h4e0hl0oC&printsec=frontcover&img=1&zoom=1&source=gbs_api",
         "Lucy Angkatell Invited Hercule Poirot To Lunch. To Tease The Great Detective, Her Guests Stage A Mock Murder Beside The Swimming Pool. Unfortunately, The Victim Plays The Scene For Real. As His Blood Drips Into The Water, John Christow Gasps One Final Word: Henrietta . In The Confusion, A Gun Sinks To The Bottom Of The Pool. Poirot S Enquiries Reveal A Complex Web Of Romantic Attachments. It Seems Everyone In The Drama Is A Suspect And Each A Victim Of Love.",
         "2002.0",
         "3.79",
         "384.0",
         "13022.0",
         "0",
         "23.0",
         "82",
         "The Hollow",
         "9780007121021, Lucy Angkatell Invited Hercule Poirot To Lunch. To Tease The Great Detective, Her Guests Stage A Mock Murder Beside The Swimming Pool. Unfortunately, The Victim Plays The Scene For Real. As His Blood Drips Into The Water, John Christow Gasps One Final Word: Henrietta . In The Confusion, A Gun Sinks To The Bottom Of The Pool. Poirot S Enquiries Reveal A Complex Web Of Romantic Attachments. It Seems Everyone In The Drama Is A Suspect And Each A Victim Of Love."
        ],
        [
         "56",
         "9780007121106",
         "0007121105",
         "Third Girl",
         null,
         "Agatha Christie",
         "Belgians",
         "http://books.google.com/books/content?id=Dbh7nUkG_6cC&printsec=frontcover&img=1&zoom=1&source=gbs_api",
         "A perplexed girl thinks she might have killed someone... Three single girls shared the same London flat. The first worked as a secretary; the second was an artist; the third who came to Poirot for help, disappeared convinced she was a murderer. Now there were rumours of revolvers, flick-knives and blood stains. But, without hard evidence, it would take all Poirot's tenacity to establish whether the third girl was guilty innocent or insane...",
         "2002.0",
         "3.62",
         "365.0",
         "13705.0",
         "0",
         "23.0",
         "73",
         "Third Girl",
         "9780007121106, A perplexed girl thinks she might have killed someone... Three single girls shared the same London flat. The first worked as a secretary; the second was an artist; the third who came to Poirot for help, disappeared convinced she was a murderer. Now there were rumours of revolvers, flick-knives and blood stains. But, without hard evidence, it would take all Poirot's tenacity to establish whether the third girl was guilty innocent or insane..."
        ]
       ],
       "shape": {
        "columns": 17,
        "rows": 5693
       }
      },
      "text/html": [
       "<div>\n",
       "<style scoped>\n",
       "    .dataframe tbody tr th:only-of-type {\n",
       "        vertical-align: middle;\n",
       "    }\n",
       "\n",
       "    .dataframe tbody tr th {\n",
       "        vertical-align: top;\n",
       "    }\n",
       "\n",
       "    .dataframe thead th {\n",
       "        text-align: right;\n",
       "    }\n",
       "</style>\n",
       "<table border=\"1\" class=\"dataframe\">\n",
       "  <thead>\n",
       "    <tr style=\"text-align: right;\">\n",
       "      <th></th>\n",
       "      <th>isbn13</th>\n",
       "      <th>isbn10</th>\n",
       "      <th>title</th>\n",
       "      <th>subtitle</th>\n",
       "      <th>authors</th>\n",
       "      <th>categories</th>\n",
       "      <th>thumbnail</th>\n",
       "      <th>description</th>\n",
       "      <th>published_year</th>\n",
       "      <th>average_rating</th>\n",
       "      <th>num_pages</th>\n",
       "      <th>ratings_count</th>\n",
       "      <th>missing_description</th>\n",
       "      <th>book_age</th>\n",
       "      <th>description_word_count</th>\n",
       "      <th>full_title</th>\n",
       "      <th>tagged_description</th>\n",
       "    </tr>\n",
       "  </thead>\n",
       "  <tbody>\n",
       "    <tr>\n",
       "      <th>0</th>\n",
       "      <td>9780002005883</td>\n",
       "      <td>0002005883</td>\n",
       "      <td>Gilead</td>\n",
       "      <td>NaN</td>\n",
       "      <td>Marilynne Robinson</td>\n",
       "      <td>Fiction</td>\n",
       "      <td>http://books.google.com/books/content?id=KQZCPgAACAAJ&amp;printsec=frontcover&amp;img=1&amp;zoom=1&amp;source=gbs_api</td>\n",
       "      <td>A NOVEL THAT READERS and critics have been eagerly anticipating for over a decade, Gilead is an astonishingly imagined story of remarkable lives. John Ames is a preacher, the son of a preacher and the grandson (both maternal and paternal) of preachers. It’s 1956 in Gilead, Iowa, towards the end of the Reverend Ames’s life, and he is absorbed in recording his family’s story, a legacy for the young son he will never see grow up. Haunted by his grandfather’s presence, John tells of the rift between his grandfather and his father: the elder, an angry visionary who fought for the abolitionist cause, and his son, an ardent pacifist. He is troubled, too, by his prodigal namesake, Jack (John Ames) Boughton, his best friend’s lost son who returns to Gilead searching for forgiveness and redemption. Told in John Ames’s joyous, rambling voice that finds beauty, humour and truth in the smallest of life’s details, Gilead is a song of celebration and acceptance of the best and the worst the world...</td>\n",
       "      <td>2004.0</td>\n",
       "      <td>3.85</td>\n",
       "      <td>247.0</td>\n",
       "      <td>361.0</td>\n",
       "      <td>0</td>\n",
       "      <td>21.0</td>\n",
       "      <td>199</td>\n",
       "      <td>Gilead</td>\n",
       "      <td>9780002005883, A NOVEL THAT READERS and critics have been eagerly anticipating for over a decade, Gilead is an astonishingly imagined story of remarkable lives. John Ames is a preacher, the son of a preacher and the grandson (both maternal and paternal) of preachers. It’s 1956 in Gilead, Iowa, towards the end of the Reverend Ames’s life, and he is absorbed in recording his family’s story, a legacy for the young son he will never see grow up. Haunted by his grandfather’s presence, John tells of the rift between his grandfather and his father: the elder, an angry visionary who fought for the abolitionist cause, and his son, an ardent pacifist. He is troubled, too, by his prodigal namesake, Jack (John Ames) Boughton, his best friend’s lost son who returns to Gilead searching for forgiveness and redemption. Told in John Ames’s joyous, rambling voice that finds beauty, humour and truth in the smallest of life’s details, Gilead is a song of celebration and acceptance of the best and the ...</td>\n",
       "    </tr>\n",
       "    <tr>\n",
       "      <th>1</th>\n",
       "      <td>9780002261982</td>\n",
       "      <td>0002261987</td>\n",
       "      <td>Spider's Web</td>\n",
       "      <td>A Novel</td>\n",
       "      <td>Charles Osborne;Agatha Christie</td>\n",
       "      <td>Detective and mystery stories</td>\n",
       "      <td>http://books.google.com/books/content?id=gA5GPgAACAAJ&amp;printsec=frontcover&amp;img=1&amp;zoom=1&amp;source=gbs_api</td>\n",
       "      <td>A new 'Christie for Christmas' -- a full-length novel adapted from her acclaimed play by Charles Osborne Following BLACK COFFEE and THE UNEXPECTED GUEST comes the final Agatha Christie play novelisation, bringing her superb storytelling to a new legion of fans. Clarissa, the wife of a Foreign Office diplomat, is given to daydreaming. 'Supposing I were to come down one morning and find a dead body in the library, what should I do?' she muses. Clarissa has her chance to find out when she discovers a body in the drawing-room of her house in Kent. Desperate to dispose of the body before her husband comes home with an important foreign politician, Clarissa persuades her three house guests to become accessories and accomplices. It seems that the murdered man was not unknown to certain members of the house party (but which ones?), and the search begins for the murderer and the motive, while at the same time trying to persuade a police inspector that there has been no murder at all... SPID...</td>\n",
       "      <td>2000.0</td>\n",
       "      <td>3.83</td>\n",
       "      <td>241.0</td>\n",
       "      <td>5164.0</td>\n",
       "      <td>0</td>\n",
       "      <td>25.0</td>\n",
       "      <td>205</td>\n",
       "      <td>Spider's Web: A Novel</td>\n",
       "      <td>9780002261982, A new 'Christie for Christmas' -- a full-length novel adapted from her acclaimed play by Charles Osborne Following BLACK COFFEE and THE UNEXPECTED GUEST comes the final Agatha Christie play novelisation, bringing her superb storytelling to a new legion of fans. Clarissa, the wife of a Foreign Office diplomat, is given to daydreaming. 'Supposing I were to come down one morning and find a dead body in the library, what should I do?' she muses. Clarissa has her chance to find out when she discovers a body in the drawing-room of her house in Kent. Desperate to dispose of the body before her husband comes home with an important foreign politician, Clarissa persuades her three house guests to become accessories and accomplices. It seems that the murdered man was not unknown to certain members of the house party (but which ones?), and the search begins for the murderer and the motive, while at the same time trying to persuade a police inspector that there has been no murder...</td>\n",
       "    </tr>\n",
       "    <tr>\n",
       "      <th>3</th>\n",
       "      <td>9780006178736</td>\n",
       "      <td>0006178731</td>\n",
       "      <td>Rage of angels</td>\n",
       "      <td>NaN</td>\n",
       "      <td>Sidney Sheldon</td>\n",
       "      <td>Fiction</td>\n",
       "      <td>http://books.google.com/books/content?id=FKo2TgANz74C&amp;printsec=frontcover&amp;img=1&amp;zoom=1&amp;source=gbs_api</td>\n",
       "      <td>A memorable, mesmerizing heroine Jennifer -- brilliant, beautiful, an attorney on the way up until the Mafia's schemes win her the hatred of an implacable enemy -- and a love more destructive than hate. A dangerous, dramatic world The Dark Arena of organized crime and flashbulb lit courtrooms where ambitious prosecutors begin their climb to political power.</td>\n",
       "      <td>1993.0</td>\n",
       "      <td>3.93</td>\n",
       "      <td>512.0</td>\n",
       "      <td>29532.0</td>\n",
       "      <td>0</td>\n",
       "      <td>32.0</td>\n",
       "      <td>57</td>\n",
       "      <td>Rage of angels</td>\n",
       "      <td>9780006178736, A memorable, mesmerizing heroine Jennifer -- brilliant, beautiful, an attorney on the way up until the Mafia's schemes win her the hatred of an implacable enemy -- and a love more destructive than hate. A dangerous, dramatic world The Dark Arena of organized crime and flashbulb lit courtrooms where ambitious prosecutors begin their climb to political power.</td>\n",
       "    </tr>\n",
       "    <tr>\n",
       "      <th>4</th>\n",
       "      <td>9780006280897</td>\n",
       "      <td>0006280897</td>\n",
       "      <td>The Four Loves</td>\n",
       "      <td>NaN</td>\n",
       "      <td>Clive Staples Lewis</td>\n",
       "      <td>Christian life</td>\n",
       "      <td>http://books.google.com/books/content?id=XhQ5XsFcpGIC&amp;printsec=frontcover&amp;img=1&amp;zoom=1&amp;source=gbs_api</td>\n",
       "      <td>Lewis' work on the nature of love divides love into four categories; Affection, Friendship, Eros and Charity. The first three come naturally to humanity. Charity, however, the Gift-love of God, is divine, and without this supernatural love, the natural loves become distorted and even dangerous.</td>\n",
       "      <td>2002.0</td>\n",
       "      <td>4.15</td>\n",
       "      <td>170.0</td>\n",
       "      <td>33684.0</td>\n",
       "      <td>0</td>\n",
       "      <td>23.0</td>\n",
       "      <td>45</td>\n",
       "      <td>The Four Loves</td>\n",
       "      <td>9780006280897, Lewis' work on the nature of love divides love into four categories; Affection, Friendship, Eros and Charity. The first three come naturally to humanity. Charity, however, the Gift-love of God, is divine, and without this supernatural love, the natural loves become distorted and even dangerous.</td>\n",
       "    </tr>\n",
       "    <tr>\n",
       "      <th>5</th>\n",
       "      <td>9780006280934</td>\n",
       "      <td>0006280935</td>\n",
       "      <td>The Problem of Pain</td>\n",
       "      <td>NaN</td>\n",
       "      <td>Clive Staples Lewis</td>\n",
       "      <td>Christian life</td>\n",
       "      <td>http://books.google.com/books/content?id=Kk-uVe5QK-gC&amp;printsec=frontcover&amp;img=1&amp;zoom=1&amp;source=gbs_api</td>\n",
       "      <td>\"In The Problem of Pain, C.S. Lewis, one of the most renowned Christian authors and thinkers, examines a universally applicable question within the human condition: If God is good and all-powerful, why does he allow his creatures to suffer pain? With his signature wealth of compassion and insight, C.S. Lewis offers answers to these crucial questions and shares his hope and wisdom to help heal a world hungering for a true understanding of human nature.\"--Amazon.</td>\n",
       "      <td>2002.0</td>\n",
       "      <td>4.09</td>\n",
       "      <td>176.0</td>\n",
       "      <td>37569.0</td>\n",
       "      <td>0</td>\n",
       "      <td>23.0</td>\n",
       "      <td>75</td>\n",
       "      <td>The Problem of Pain</td>\n",
       "      <td>9780006280934, \"In The Problem of Pain, C.S. Lewis, one of the most renowned Christian authors and thinkers, examines a universally applicable question within the human condition: If God is good and all-powerful, why does he allow his creatures to suffer pain? With his signature wealth of compassion and insight, C.S. Lewis offers answers to these crucial questions and shares his hope and wisdom to help heal a world hungering for a true understanding of human nature.\"--Amazon.</td>\n",
       "    </tr>\n",
       "    <tr>\n",
       "      <th>...</th>\n",
       "      <td>...</td>\n",
       "      <td>...</td>\n",
       "      <td>...</td>\n",
       "      <td>...</td>\n",
       "      <td>...</td>\n",
       "      <td>...</td>\n",
       "      <td>...</td>\n",
       "      <td>...</td>\n",
       "      <td>...</td>\n",
       "      <td>...</td>\n",
       "      <td>...</td>\n",
       "      <td>...</td>\n",
       "      <td>...</td>\n",
       "      <td>...</td>\n",
       "      <td>...</td>\n",
       "      <td>...</td>\n",
       "      <td>...</td>\n",
       "    </tr>\n",
       "    <tr>\n",
       "      <th>6803</th>\n",
       "      <td>9788173031014</td>\n",
       "      <td>8173031010</td>\n",
       "      <td>Journey to the East</td>\n",
       "      <td>NaN</td>\n",
       "      <td>Hermann Hesse</td>\n",
       "      <td>Adventure stories</td>\n",
       "      <td>http://books.google.com/books/content?id=rq6JPwAACAAJ&amp;printsec=frontcover&amp;img=1&amp;zoom=1&amp;source=gbs_api</td>\n",
       "      <td>This book tells the tale of a man who goes on a wonderful and amazing journey through Asia. His travels can also be seen as a parable of one person's search for enlightenment. Ever since this book's first publication in 1932, it has influenced generations of readers with its ideas on Eastern religion and Jungian psychology and its criticism of Western middleclass values.</td>\n",
       "      <td>2002.0</td>\n",
       "      <td>3.70</td>\n",
       "      <td>175.0</td>\n",
       "      <td>24.0</td>\n",
       "      <td>0</td>\n",
       "      <td>23.0</td>\n",
       "      <td>63</td>\n",
       "      <td>Journey to the East</td>\n",
       "      <td>9788173031014, This book tells the tale of a man who goes on a wonderful and amazing journey through Asia. His travels can also be seen as a parable of one person's search for enlightenment. Ever since this book's first publication in 1932, it has influenced generations of readers with its ideas on Eastern religion and Jungian psychology and its criticism of Western middleclass values.</td>\n",
       "    </tr>\n",
       "    <tr>\n",
       "      <th>6804</th>\n",
       "      <td>9788179921623</td>\n",
       "      <td>817992162X</td>\n",
       "      <td>The Monk Who Sold His Ferrari: A Fable About Fulfilling Your Dreams &amp; Reaching Your Destiny</td>\n",
       "      <td>NaN</td>\n",
       "      <td>Robin Sharma</td>\n",
       "      <td>Health &amp; Fitness</td>\n",
       "      <td>http://books.google.com/books/content?id=c_7mf7bAe6YC&amp;printsec=frontcover&amp;img=1&amp;zoom=1&amp;source=gbs_api</td>\n",
       "      <td>Wisdom to Create a Life of Passion, Purpose, and Peace This inspiring tale provides a step-by-step approach to living with greater courage, balance, abundance, and joy. A wonderfully crafted fable, The Monk Who Sold His Ferrari tells the extraordinary story of Julian Mantle, a lawyer forced to confront the spiritual crisis of his out-of-balance life. On a life-changing odyssey to an ancient culture, he discovers powerful, wise, and practical lessons that teach us to: Develop joyful thoughts Follow our life's mission and calling Cultivate self-discipline and act courageously Value time as our most important commodity Nourish our relationships, and – live fully, one day at a time A FABLE ABOUT FULFILLING YOUR DREAMS AND REACHING YOUR DESTINY</td>\n",
       "      <td>2003.0</td>\n",
       "      <td>3.82</td>\n",
       "      <td>198.0</td>\n",
       "      <td>1568.0</td>\n",
       "      <td>0</td>\n",
       "      <td>22.0</td>\n",
       "      <td>117</td>\n",
       "      <td>The Monk Who Sold His Ferrari: A Fable About Fulfilling Your Dreams &amp; Reaching Your Destiny</td>\n",
       "      <td>9788179921623, Wisdom to Create a Life of Passion, Purpose, and Peace This inspiring tale provides a step-by-step approach to living with greater courage, balance, abundance, and joy. A wonderfully crafted fable, The Monk Who Sold His Ferrari tells the extraordinary story of Julian Mantle, a lawyer forced to confront the spiritual crisis of his out-of-balance life. On a life-changing odyssey to an ancient culture, he discovers powerful, wise, and practical lessons that teach us to: Develop joyful thoughts Follow our life's mission and calling Cultivate self-discipline and act courageously Value time as our most important commodity Nourish our relationships, and – live fully, one day at a time A FABLE ABOUT FULFILLING YOUR DREAMS AND REACHING YOUR DESTINY</td>\n",
       "    </tr>\n",
       "    <tr>\n",
       "      <th>6805</th>\n",
       "      <td>9788185300535</td>\n",
       "      <td>8185300534</td>\n",
       "      <td>I Am that</td>\n",
       "      <td>Talks with Sri Nisargadatta Maharaj</td>\n",
       "      <td>Sri Nisargadatta Maharaj;Sudhakar S. Dikshit</td>\n",
       "      <td>Philosophy</td>\n",
       "      <td>http://books.google.com/books/content?id=Fv_JPQAACAAJ&amp;printsec=frontcover&amp;img=1&amp;zoom=1&amp;source=gbs_api</td>\n",
       "      <td>This collection of the timeless teachings of one of the greatest sages of India, is a testament to the uniqueness of the seer's life and work. The book (now in its ninth printing) continues to draw new audiences and to enlighten anxious seekers for self-realisation. Sri Nisargadatta Maharaj was a teacher who did not propound any ideology or religion but gently unwrapped the mystery of the self. His message is simple, direct and yet sublime. The book preserves his dialogues with the followers who came from around the world seeking guidance in destroying false identities. The sage's sole concern was with human suffering and the ending of suffering. It was his mission to guide the individual to an understanding of his true nature and the timelessness of being. He taught that mind must recognise and penetrate its own state of being, not 'being this or that, here or there, then or now', but just timeless being. This is a legacy from a unique teacher who helps the reader to a clearer und...</td>\n",
       "      <td>1999.0</td>\n",
       "      <td>4.51</td>\n",
       "      <td>531.0</td>\n",
       "      <td>104.0</td>\n",
       "      <td>0</td>\n",
       "      <td>26.0</td>\n",
       "      <td>174</td>\n",
       "      <td>I Am that: Talks with Sri Nisargadatta Maharaj</td>\n",
       "      <td>9788185300535, This collection of the timeless teachings of one of the greatest sages of India, is a testament to the uniqueness of the seer's life and work. The book (now in its ninth printing) continues to draw new audiences and to enlighten anxious seekers for self-realisation. Sri Nisargadatta Maharaj was a teacher who did not propound any ideology or religion but gently unwrapped the mystery of the self. His message is simple, direct and yet sublime. The book preserves his dialogues with the followers who came from around the world seeking guidance in destroying false identities. The sage's sole concern was with human suffering and the ending of suffering. It was his mission to guide the individual to an understanding of his true nature and the timelessness of being. He taught that mind must recognise and penetrate its own state of being, not 'being this or that, here or there, then or now', but just timeless being. This is a legacy from a unique teacher who helps the reader t...</td>\n",
       "    </tr>\n",
       "    <tr>\n",
       "      <th>6808</th>\n",
       "      <td>9789027712059</td>\n",
       "      <td>9027712050</td>\n",
       "      <td>The Berlin Phenomenology</td>\n",
       "      <td>NaN</td>\n",
       "      <td>Georg Wilhelm Friedrich Hegel</td>\n",
       "      <td>History</td>\n",
       "      <td>http://books.google.com/books/content?id=Vy7SkjvmfLMC&amp;printsec=frontcover&amp;img=1&amp;zoom=1&amp;edge=curl&amp;source=gbs_api</td>\n",
       "      <td>Since the three volume edition ofHegel's Philosophy of Subjective Spirit (1978, 19792) has been so well received, I have been encouraged to select that part of it most suitable for teaching purposes, and to publish it here as a separate work. As a teaching text, the Berlin Phenomenology has several important advan­ tages. Unlike so many ofHegel's writings, must notably theJena Phenomeno­ logy of 1807, it is concise and to the point, and concemed with issues already familiar to most students of philosophy. Since it consists for the most part of a searching and radical analysis of Kant's epistemology, Fichte's ethics and Schelling's system-building, it provides tirst-rate insight into Hegel's assessment of his immedi~te predecessors. When considered in context, as part of the Encyclopaedia if the Philosophical Sciences, it enables us to distinguish dearly between the systematic, the logical and the psychological aspects of Hegelianism, and is therefore also relevant to some of the ce...</td>\n",
       "      <td>1981.0</td>\n",
       "      <td>0.00</td>\n",
       "      <td>210.0</td>\n",
       "      <td>0.0</td>\n",
       "      <td>0</td>\n",
       "      <td>44.0</td>\n",
       "      <td>245</td>\n",
       "      <td>The Berlin Phenomenology</td>\n",
       "      <td>9789027712059, Since the three volume edition ofHegel's Philosophy of Subjective Spirit (1978, 19792) has been so well received, I have been encouraged to select that part of it most suitable for teaching purposes, and to publish it here as a separate work. As a teaching text, the Berlin Phenomenology has several important advan­ tages. Unlike so many ofHegel's writings, must notably theJena Phenomeno­ logy of 1807, it is concise and to the point, and concemed with issues already familiar to most students of philosophy. Since it consists for the most part of a searching and radical analysis of Kant's epistemology, Fichte's ethics and Schelling's system-building, it provides tirst-rate insight into Hegel's assessment of his immedi~te predecessors. When considered in context, as part of the Encyclopaedia if the Philosophical Sciences, it enables us to distinguish dearly between the systematic, the logical and the psychological aspects of Hegelianism, and is therefore also relevant to...</td>\n",
       "    </tr>\n",
       "    <tr>\n",
       "      <th>6809</th>\n",
       "      <td>9789042003408</td>\n",
       "      <td>9042003405</td>\n",
       "      <td>'I'm Telling You Stories'</td>\n",
       "      <td>Jeanette Winterson and the Politics of Reading</td>\n",
       "      <td>Helena Grice;Tim Woods</td>\n",
       "      <td>Literary Criticism</td>\n",
       "      <td>http://books.google.com/books/content?id=2lVyRH0TWugC&amp;printsec=frontcover&amp;img=1&amp;zoom=1&amp;edge=curl&amp;source=gbs_api</td>\n",
       "      <td>This is a jubilant and rewarding collection of Winterson scholarship--a superb group of essays from a host of fine authors.</td>\n",
       "      <td>1998.0</td>\n",
       "      <td>3.70</td>\n",
       "      <td>136.0</td>\n",
       "      <td>10.0</td>\n",
       "      <td>0</td>\n",
       "      <td>27.0</td>\n",
       "      <td>20</td>\n",
       "      <td>'I'm Telling You Stories': Jeanette Winterson and the Politics of Reading</td>\n",
       "      <td>9789042003408, This is a jubilant and rewarding collection of Winterson scholarship--a superb group of essays from a host of fine authors.</td>\n",
       "    </tr>\n",
       "  </tbody>\n",
       "</table>\n",
       "<p>5693 rows × 17 columns</p>\n",
       "</div>"
      ],
      "text/plain": [
       "             isbn13      isbn10  \\\n",
       "0     9780002005883  0002005883   \n",
       "1     9780002261982  0002261987   \n",
       "3     9780006178736  0006178731   \n",
       "4     9780006280897  0006280897   \n",
       "5     9780006280934  0006280935   \n",
       "...             ...         ...   \n",
       "6803  9788173031014  8173031010   \n",
       "6804  9788179921623  817992162X   \n",
       "6805  9788185300535  8185300534   \n",
       "6808  9789027712059  9027712050   \n",
       "6809  9789042003408  9042003405   \n",
       "\n",
       "                                                                                            title  \\\n",
       "0                                                                                          Gilead   \n",
       "1                                                                                    Spider's Web   \n",
       "3                                                                                  Rage of angels   \n",
       "4                                                                                  The Four Loves   \n",
       "5                                                                             The Problem of Pain   \n",
       "...                                                                                           ...   \n",
       "6803                                                                          Journey to the East   \n",
       "6804  The Monk Who Sold His Ferrari: A Fable About Fulfilling Your Dreams & Reaching Your Destiny   \n",
       "6805                                                                                    I Am that   \n",
       "6808                                                                     The Berlin Phenomenology   \n",
       "6809                                                                    'I'm Telling You Stories'   \n",
       "\n",
       "                                            subtitle  \\\n",
       "0                                                NaN   \n",
       "1                                            A Novel   \n",
       "3                                                NaN   \n",
       "4                                                NaN   \n",
       "5                                                NaN   \n",
       "...                                              ...   \n",
       "6803                                             NaN   \n",
       "6804                                             NaN   \n",
       "6805             Talks with Sri Nisargadatta Maharaj   \n",
       "6808                                             NaN   \n",
       "6809  Jeanette Winterson and the Politics of Reading   \n",
       "\n",
       "                                           authors  \\\n",
       "0                               Marilynne Robinson   \n",
       "1                  Charles Osborne;Agatha Christie   \n",
       "3                                   Sidney Sheldon   \n",
       "4                              Clive Staples Lewis   \n",
       "5                              Clive Staples Lewis   \n",
       "...                                            ...   \n",
       "6803                                 Hermann Hesse   \n",
       "6804                                  Robin Sharma   \n",
       "6805  Sri Nisargadatta Maharaj;Sudhakar S. Dikshit   \n",
       "6808                 Georg Wilhelm Friedrich Hegel   \n",
       "6809                        Helena Grice;Tim Woods   \n",
       "\n",
       "                         categories  \\\n",
       "0                           Fiction   \n",
       "1     Detective and mystery stories   \n",
       "3                           Fiction   \n",
       "4                    Christian life   \n",
       "5                    Christian life   \n",
       "...                             ...   \n",
       "6803              Adventure stories   \n",
       "6804               Health & Fitness   \n",
       "6805                     Philosophy   \n",
       "6808                        History   \n",
       "6809             Literary Criticism   \n",
       "\n",
       "                                                                                                            thumbnail  \\\n",
       "0               http://books.google.com/books/content?id=KQZCPgAACAAJ&printsec=frontcover&img=1&zoom=1&source=gbs_api   \n",
       "1               http://books.google.com/books/content?id=gA5GPgAACAAJ&printsec=frontcover&img=1&zoom=1&source=gbs_api   \n",
       "3               http://books.google.com/books/content?id=FKo2TgANz74C&printsec=frontcover&img=1&zoom=1&source=gbs_api   \n",
       "4               http://books.google.com/books/content?id=XhQ5XsFcpGIC&printsec=frontcover&img=1&zoom=1&source=gbs_api   \n",
       "5               http://books.google.com/books/content?id=Kk-uVe5QK-gC&printsec=frontcover&img=1&zoom=1&source=gbs_api   \n",
       "...                                                                                                               ...   \n",
       "6803            http://books.google.com/books/content?id=rq6JPwAACAAJ&printsec=frontcover&img=1&zoom=1&source=gbs_api   \n",
       "6804            http://books.google.com/books/content?id=c_7mf7bAe6YC&printsec=frontcover&img=1&zoom=1&source=gbs_api   \n",
       "6805            http://books.google.com/books/content?id=Fv_JPQAACAAJ&printsec=frontcover&img=1&zoom=1&source=gbs_api   \n",
       "6808  http://books.google.com/books/content?id=Vy7SkjvmfLMC&printsec=frontcover&img=1&zoom=1&edge=curl&source=gbs_api   \n",
       "6809  http://books.google.com/books/content?id=2lVyRH0TWugC&printsec=frontcover&img=1&zoom=1&edge=curl&source=gbs_api   \n",
       "\n",
       "                                                                                                                                                                                                                                                                                                                                                                                                                                                                                                                                                                                                                                                                                                                                                                                                                                                                                                                                                                                                                                  description  \\\n",
       "0     A NOVEL THAT READERS and critics have been eagerly anticipating for over a decade, Gilead is an astonishingly imagined story of remarkable lives. John Ames is a preacher, the son of a preacher and the grandson (both maternal and paternal) of preachers. It’s 1956 in Gilead, Iowa, towards the end of the Reverend Ames’s life, and he is absorbed in recording his family’s story, a legacy for the young son he will never see grow up. Haunted by his grandfather’s presence, John tells of the rift between his grandfather and his father: the elder, an angry visionary who fought for the abolitionist cause, and his son, an ardent pacifist. He is troubled, too, by his prodigal namesake, Jack (John Ames) Boughton, his best friend’s lost son who returns to Gilead searching for forgiveness and redemption. Told in John Ames’s joyous, rambling voice that finds beauty, humour and truth in the smallest of life’s details, Gilead is a song of celebration and acceptance of the best and the worst the world...   \n",
       "1     A new 'Christie for Christmas' -- a full-length novel adapted from her acclaimed play by Charles Osborne Following BLACK COFFEE and THE UNEXPECTED GUEST comes the final Agatha Christie play novelisation, bringing her superb storytelling to a new legion of fans. Clarissa, the wife of a Foreign Office diplomat, is given to daydreaming. 'Supposing I were to come down one morning and find a dead body in the library, what should I do?' she muses. Clarissa has her chance to find out when she discovers a body in the drawing-room of her house in Kent. Desperate to dispose of the body before her husband comes home with an important foreign politician, Clarissa persuades her three house guests to become accessories and accomplices. It seems that the murdered man was not unknown to certain members of the house party (but which ones?), and the search begins for the murderer and the motive, while at the same time trying to persuade a police inspector that there has been no murder at all... SPID...   \n",
       "3                                                                                                                                                                                                                                                                                                                                                                                                                                                                                                                                                                                                                                                                     A memorable, mesmerizing heroine Jennifer -- brilliant, beautiful, an attorney on the way up until the Mafia's schemes win her the hatred of an implacable enemy -- and a love more destructive than hate. A dangerous, dramatic world The Dark Arena of organized crime and flashbulb lit courtrooms where ambitious prosecutors begin their climb to political power.   \n",
       "4                                                                                                                                                                                                                                                                                                                                                                                                                                                                                                                                                                                                                                                                                                                                     Lewis' work on the nature of love divides love into four categories; Affection, Friendship, Eros and Charity. The first three come naturally to humanity. Charity, however, the Gift-love of God, is divine, and without this supernatural love, the natural loves become distorted and even dangerous.   \n",
       "5                                                                                                                                                                                                                                                                                                                                                                                                                                                                                                                                                           \"In The Problem of Pain, C.S. Lewis, one of the most renowned Christian authors and thinkers, examines a universally applicable question within the human condition: If God is good and all-powerful, why does he allow his creatures to suffer pain? With his signature wealth of compassion and insight, C.S. Lewis offers answers to these crucial questions and shares his hope and wisdom to help heal a world hungering for a true understanding of human nature.\"--Amazon.   \n",
       "...                                                                                                                                                                                                                                                                                                                                                                                                                                                                                                                                                                                                                                                                                                                                                                                                                                                                                                                                                                                                                                       ...   \n",
       "6803                                                                                                                                                                                                                                                                                                                                                                                                                                                                                                                                                                                                                                                    This book tells the tale of a man who goes on a wonderful and amazing journey through Asia. His travels can also be seen as a parable of one person's search for enlightenment. Ever since this book's first publication in 1932, it has influenced generations of readers with its ideas on Eastern religion and Jungian psychology and its criticism of Western middleclass values.   \n",
       "6804                                                                                                                                                                                                                                                            Wisdom to Create a Life of Passion, Purpose, and Peace This inspiring tale provides a step-by-step approach to living with greater courage, balance, abundance, and joy. A wonderfully crafted fable, The Monk Who Sold His Ferrari tells the extraordinary story of Julian Mantle, a lawyer forced to confront the spiritual crisis of his out-of-balance life. On a life-changing odyssey to an ancient culture, he discovers powerful, wise, and practical lessons that teach us to: Develop joyful thoughts Follow our life's mission and calling Cultivate self-discipline and act courageously Value time as our most important commodity Nourish our relationships, and – live fully, one day at a time A FABLE ABOUT FULFILLING YOUR DREAMS AND REACHING YOUR DESTINY   \n",
       "6805  This collection of the timeless teachings of one of the greatest sages of India, is a testament to the uniqueness of the seer's life and work. The book (now in its ninth printing) continues to draw new audiences and to enlighten anxious seekers for self-realisation. Sri Nisargadatta Maharaj was a teacher who did not propound any ideology or religion but gently unwrapped the mystery of the self. His message is simple, direct and yet sublime. The book preserves his dialogues with the followers who came from around the world seeking guidance in destroying false identities. The sage's sole concern was with human suffering and the ending of suffering. It was his mission to guide the individual to an understanding of his true nature and the timelessness of being. He taught that mind must recognise and penetrate its own state of being, not 'being this or that, here or there, then or now', but just timeless being. This is a legacy from a unique teacher who helps the reader to a clearer und...   \n",
       "6808  Since the three volume edition ofHegel's Philosophy of Subjective Spirit (1978, 19792) has been so well received, I have been encouraged to select that part of it most suitable for teaching purposes, and to publish it here as a separate work. As a teaching text, the Berlin Phenomenology has several important advan­ tages. Unlike so many ofHegel's writings, must notably theJena Phenomeno­ logy of 1807, it is concise and to the point, and concemed with issues already familiar to most students of philosophy. Since it consists for the most part of a searching and radical analysis of Kant's epistemology, Fichte's ethics and Schelling's system-building, it provides tirst-rate insight into Hegel's assessment of his immedi~te predecessors. When considered in context, as part of the Encyclopaedia if the Philosophical Sciences, it enables us to distinguish dearly between the systematic, the logical and the psychological aspects of Hegelianism, and is therefore also relevant to some of the ce...   \n",
       "6809                                                                                                                                                                                                                                                                                                                                                                                                                                                                                                                                                                                                                                                                                                                                                                                                                                                                                                              This is a jubilant and rewarding collection of Winterson scholarship--a superb group of essays from a host of fine authors.   \n",
       "\n",
       "      published_year  average_rating  num_pages  ratings_count  \\\n",
       "0             2004.0            3.85      247.0          361.0   \n",
       "1             2000.0            3.83      241.0         5164.0   \n",
       "3             1993.0            3.93      512.0        29532.0   \n",
       "4             2002.0            4.15      170.0        33684.0   \n",
       "5             2002.0            4.09      176.0        37569.0   \n",
       "...              ...             ...        ...            ...   \n",
       "6803          2002.0            3.70      175.0           24.0   \n",
       "6804          2003.0            3.82      198.0         1568.0   \n",
       "6805          1999.0            4.51      531.0          104.0   \n",
       "6808          1981.0            0.00      210.0            0.0   \n",
       "6809          1998.0            3.70      136.0           10.0   \n",
       "\n",
       "      missing_description  book_age  description_word_count  \\\n",
       "0                       0      21.0                     199   \n",
       "1                       0      25.0                     205   \n",
       "3                       0      32.0                      57   \n",
       "4                       0      23.0                      45   \n",
       "5                       0      23.0                      75   \n",
       "...                   ...       ...                     ...   \n",
       "6803                    0      23.0                      63   \n",
       "6804                    0      22.0                     117   \n",
       "6805                    0      26.0                     174   \n",
       "6808                    0      44.0                     245   \n",
       "6809                    0      27.0                      20   \n",
       "\n",
       "                                                                                       full_title  \\\n",
       "0                                                                                          Gilead   \n",
       "1                                                                           Spider's Web: A Novel   \n",
       "3                                                                                  Rage of angels   \n",
       "4                                                                                  The Four Loves   \n",
       "5                                                                             The Problem of Pain   \n",
       "...                                                                                           ...   \n",
       "6803                                                                          Journey to the East   \n",
       "6804  The Monk Who Sold His Ferrari: A Fable About Fulfilling Your Dreams & Reaching Your Destiny   \n",
       "6805                                               I Am that: Talks with Sri Nisargadatta Maharaj   \n",
       "6808                                                                     The Berlin Phenomenology   \n",
       "6809                    'I'm Telling You Stories': Jeanette Winterson and the Politics of Reading   \n",
       "\n",
       "                                                                                                                                                                                                                                                                                                                                                                                                                                                                                                                                                                                                                                                                                                                                                                                                                                                                                                                                                                                                                           tagged_description  \n",
       "0     9780002005883, A NOVEL THAT READERS and critics have been eagerly anticipating for over a decade, Gilead is an astonishingly imagined story of remarkable lives. John Ames is a preacher, the son of a preacher and the grandson (both maternal and paternal) of preachers. It’s 1956 in Gilead, Iowa, towards the end of the Reverend Ames’s life, and he is absorbed in recording his family’s story, a legacy for the young son he will never see grow up. Haunted by his grandfather’s presence, John tells of the rift between his grandfather and his father: the elder, an angry visionary who fought for the abolitionist cause, and his son, an ardent pacifist. He is troubled, too, by his prodigal namesake, Jack (John Ames) Boughton, his best friend’s lost son who returns to Gilead searching for forgiveness and redemption. Told in John Ames’s joyous, rambling voice that finds beauty, humour and truth in the smallest of life’s details, Gilead is a song of celebration and acceptance of the best and the ...  \n",
       "1     9780002261982, A new 'Christie for Christmas' -- a full-length novel adapted from her acclaimed play by Charles Osborne Following BLACK COFFEE and THE UNEXPECTED GUEST comes the final Agatha Christie play novelisation, bringing her superb storytelling to a new legion of fans. Clarissa, the wife of a Foreign Office diplomat, is given to daydreaming. 'Supposing I were to come down one morning and find a dead body in the library, what should I do?' she muses. Clarissa has her chance to find out when she discovers a body in the drawing-room of her house in Kent. Desperate to dispose of the body before her husband comes home with an important foreign politician, Clarissa persuades her three house guests to become accessories and accomplices. It seems that the murdered man was not unknown to certain members of the house party (but which ones?), and the search begins for the murderer and the motive, while at the same time trying to persuade a police inspector that there has been no murder...  \n",
       "3                                                                                                                                                                                                                                                                                                                                                                                                                                                                                                                                                                                                                                                      9780006178736, A memorable, mesmerizing heroine Jennifer -- brilliant, beautiful, an attorney on the way up until the Mafia's schemes win her the hatred of an implacable enemy -- and a love more destructive than hate. A dangerous, dramatic world The Dark Arena of organized crime and flashbulb lit courtrooms where ambitious prosecutors begin their climb to political power.  \n",
       "4                                                                                                                                                                                                                                                                                                                                                                                                                                                                                                                                                                                                                                                                                                                      9780006280897, Lewis' work on the nature of love divides love into four categories; Affection, Friendship, Eros and Charity. The first three come naturally to humanity. Charity, however, the Gift-love of God, is divine, and without this supernatural love, the natural loves become distorted and even dangerous.  \n",
       "5                                                                                                                                                                                                                                                                                                                                                                                                                                                                                                                                            9780006280934, \"In The Problem of Pain, C.S. Lewis, one of the most renowned Christian authors and thinkers, examines a universally applicable question within the human condition: If God is good and all-powerful, why does he allow his creatures to suffer pain? With his signature wealth of compassion and insight, C.S. Lewis offers answers to these crucial questions and shares his hope and wisdom to help heal a world hungering for a true understanding of human nature.\"--Amazon.  \n",
       "...                                                                                                                                                                                                                                                                                                                                                                                                                                                                                                                                                                                                                                                                                                                                                                                                                                                                                                                                                                                                                                       ...  \n",
       "6803                                                                                                                                                                                                                                                                                                                                                                                                                                                                                                                                                                                                                                     9788173031014, This book tells the tale of a man who goes on a wonderful and amazing journey through Asia. His travels can also be seen as a parable of one person's search for enlightenment. Ever since this book's first publication in 1932, it has influenced generations of readers with its ideas on Eastern religion and Jungian psychology and its criticism of Western middleclass values.  \n",
       "6804                                                                                                                                                                                                                                             9788179921623, Wisdom to Create a Life of Passion, Purpose, and Peace This inspiring tale provides a step-by-step approach to living with greater courage, balance, abundance, and joy. A wonderfully crafted fable, The Monk Who Sold His Ferrari tells the extraordinary story of Julian Mantle, a lawyer forced to confront the spiritual crisis of his out-of-balance life. On a life-changing odyssey to an ancient culture, he discovers powerful, wise, and practical lessons that teach us to: Develop joyful thoughts Follow our life's mission and calling Cultivate self-discipline and act courageously Value time as our most important commodity Nourish our relationships, and – live fully, one day at a time A FABLE ABOUT FULFILLING YOUR DREAMS AND REACHING YOUR DESTINY  \n",
       "6805  9788185300535, This collection of the timeless teachings of one of the greatest sages of India, is a testament to the uniqueness of the seer's life and work. The book (now in its ninth printing) continues to draw new audiences and to enlighten anxious seekers for self-realisation. Sri Nisargadatta Maharaj was a teacher who did not propound any ideology or religion but gently unwrapped the mystery of the self. His message is simple, direct and yet sublime. The book preserves his dialogues with the followers who came from around the world seeking guidance in destroying false identities. The sage's sole concern was with human suffering and the ending of suffering. It was his mission to guide the individual to an understanding of his true nature and the timelessness of being. He taught that mind must recognise and penetrate its own state of being, not 'being this or that, here or there, then or now', but just timeless being. This is a legacy from a unique teacher who helps the reader t...  \n",
       "6808  9789027712059, Since the three volume edition ofHegel's Philosophy of Subjective Spirit (1978, 19792) has been so well received, I have been encouraged to select that part of it most suitable for teaching purposes, and to publish it here as a separate work. As a teaching text, the Berlin Phenomenology has several important advan­ tages. Unlike so many ofHegel's writings, must notably theJena Phenomeno­ logy of 1807, it is concise and to the point, and concemed with issues already familiar to most students of philosophy. Since it consists for the most part of a searching and radical analysis of Kant's epistemology, Fichte's ethics and Schelling's system-building, it provides tirst-rate insight into Hegel's assessment of his immedi~te predecessors. When considered in context, as part of the Encyclopaedia if the Philosophical Sciences, it enables us to distinguish dearly between the systematic, the logical and the psychological aspects of Hegelianism, and is therefore also relevant to...  \n",
       "6809                                                                                                                                                                                                                                                                                                                                                                                                                                                                                                                                                                                                                                                                                                                                                                                                                                                                                               9789042003408, This is a jubilant and rewarding collection of Winterson scholarship--a superb group of essays from a host of fine authors.  \n",
       "\n",
       "[5693 rows x 17 columns]"
      ]
     },
     "execution_count": 62,
     "metadata": {},
     "output_type": "execute_result"
    }
   ],
   "source": [
    "# Add a tagged description column by combining isbn13 and description\n",
    "cleaned_books_20_words['tagged_description'] = cleaned_books_20_words['isbn13'].astype(str) + ', ' + cleaned_books_20_words['description']\n",
    "\n",
    "cleaned_books_20_words"
   ]
  },
  {
   "cell_type": "markdown",
   "metadata": {},
   "source": [
    "### Dropping Unnecessary Column"
   ]
  },
  {
   "cell_type": "code",
   "execution_count": 63,
   "metadata": {},
   "outputs": [],
   "source": [
    "cleaned_books_20_words.drop(\n",
    "  \t\t\t\t\t\t\t\t\t\t\t\tcolumns=['subtitle', 'missing_description', 'book_age', 'description_word_count'],\n",
    "              \t\t\t\t\t\taxis=1).to_csv('cleaned_books_data.csv', index=False)"
   ]
  },
  {
   "cell_type": "markdown",
   "metadata": {},
   "source": [
    "### Now, our dataset is ready for NLP Task.\n",
    "<hr>"
   ]
  }
 ],
 "metadata": {
  "kernelspec": {
   "display_name": "gen_agentic_ai",
   "language": "python",
   "name": "python3"
  },
  "language_info": {
   "codemirror_mode": {
    "name": "ipython",
    "version": 3
   },
   "file_extension": ".py",
   "mimetype": "text/x-python",
   "name": "python",
   "nbconvert_exporter": "python",
   "pygments_lexer": "ipython3",
   "version": "3.13.5"
  }
 },
 "nbformat": 4,
 "nbformat_minor": 2
}
